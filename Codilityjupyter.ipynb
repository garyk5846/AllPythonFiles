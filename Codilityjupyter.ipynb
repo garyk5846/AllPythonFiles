{
 "cells": [
  {
   "cell_type": "code",
   "execution_count": 12,
   "metadata": {},
   "outputs": [],
   "source": [
    "def solution(A):\n",
    "    B=set(A)\n",
    "    i=1\n",
    "    while i:\n",
    "        if i in B:\n",
    "            i+=1\n",
    "        else:\n",
    "            return i"
   ]
  },
  {
   "cell_type": "code",
   "execution_count": 37,
   "metadata": {},
   "outputs": [],
   "source": [
    "A=[0,1,3,5,2,4,5,7,9]"
   ]
  },
  {
   "cell_type": "code",
   "execution_count": 38,
   "metadata": {},
   "outputs": [
    {
     "data": {
      "text/plain": [
       "6"
      ]
     },
     "execution_count": 38,
     "metadata": {},
     "output_type": "execute_result"
    }
   ],
   "source": [
    "solution(A)"
   ]
  },
  {
   "cell_type": "code",
   "execution_count": 60,
   "metadata": {},
   "outputs": [],
   "source": [
    "import pandas as pd\n",
    "framp=pd.read_csv(\"C:/Users/garyp/Desktop/framp.csv\")\n",
    "gnyned=pd.read_csv(\"C:/Users/garyp/Desktop/gnyned.csv\")\n",
    "gwoomed=pd.read_csv(\"C:/Users/garyp/Desktop/gwoomed.csv\")\n",
    "hoilled=pd.read_csv(\"C:/Users/garyp/Desktop/hoilled.csv\")\n",
    "throwsh=pd.read_csv(\"C:/Users/garyp/Desktop/throwsh.csv\")\n",
    "twerche=pd.read_csv(\"C:/Users/garyp/Desktop/twerche.csv\")\n",
    "veeme=pd.read_csv(\"C:/Users/garyp/Desktop/veeme.csv\")\n",
    "stocks =[framp,gnyned,gwoomed,hoilled,throwsh,twerche,veeme]"
   ]
  },
  {
   "cell_type": "code",
   "execution_count": 61,
   "metadata": {},
   "outputs": [
    {
     "ename": "SyntaxError",
     "evalue": "invalid syntax (<ipython-input-61-f739b4b6371d>, line 1)",
     "output_type": "error",
     "traceback": [
      "\u001b[1;36m  File \u001b[1;32m\"<ipython-input-61-f739b4b6371d>\"\u001b[1;36m, line \u001b[1;32m1\u001b[0m\n\u001b[1;33m    framp['date'].loc[['2014-01-01':'2014-02-01']]\u001b[0m\n\u001b[1;37m                                   ^\u001b[0m\n\u001b[1;31mSyntaxError\u001b[0m\u001b[1;31m:\u001b[0m invalid syntax\n"
     ]
    }
   ],
   "source": []
  },
  {
   "cell_type": "code",
   "execution_count": 77,
   "metadata": {},
   "outputs": [
    {
     "data": {
      "text/plain": [
       "0       2005-09-23\n",
       "1       2005-09-26\n",
       "2       2005-09-27\n",
       "3       2005-09-28\n",
       "4       2005-09-29\n",
       "           ...    \n",
       "3330    2019-01-17\n",
       "3331    2019-01-18\n",
       "3332    2019-01-21\n",
       "3333    2019-01-22\n",
       "3334    2019-01-23\n",
       "Name: date, Length: 3335, dtype: object"
      ]
     },
     "execution_count": 77,
     "metadata": {},
     "output_type": "execute_result"
    }
   ],
   "source": [
    "framp['date']."
   ]
  },
  {
   "cell_type": "code",
   "execution_count": 76,
   "metadata": {},
   "outputs": [
    {
     "ename": "SyntaxError",
     "evalue": "invalid syntax (<ipython-input-76-b3be751d89fa>, line 1)",
     "output_type": "error",
     "traceback": [
      "\u001b[1;36m  File \u001b[1;32m\"<ipython-input-76-b3be751d89fa>\"\u001b[1;36m, line \u001b[1;32m1\u001b[0m\n\u001b[1;33m    [[framp['date']]:4]\u001b[0m\n\u001b[1;37m                    ^\u001b[0m\n\u001b[1;31mSyntaxError\u001b[0m\u001b[1;31m:\u001b[0m invalid syntax\n"
     ]
    }
   ],
   "source": [
    "[[framp['date']]:4]"
   ]
  },
  {
   "cell_type": "code",
   "execution_count": 39,
   "metadata": {},
   "outputs": [],
   "source": [
    "###** Tests ** - Must pass each of these before submitting\n",
    "# Does it work for negative values(if it should)\n",
    "# Does it work for empty sets/arrays (if it should)\n",
    "# Does it work for a single Zero\n",
    "# Does it work for multiple zero's\n",
    "# Does it work for 10 chosen inputs of your choice, sanity check\n",
    "# Lastly, speed, try it for 100,000 cases below. does it get done within 5 seconds? if not you should fix it"
   ]
  },
  {
   "cell_type": "code",
   "execution_count": null,
   "metadata": {},
   "outputs": [],
   "source": [
    "import random\n",
    "#1000 random numbers 0,1000\n",
    "A=[]\n",
    "for i in range(1,1000):    \n",
    "    A.append(random.randint(0,1000))\n",
    "\n",
    "print(A)"
   ]
  },
  {
   "cell_type": "code",
   "execution_count": null,
   "metadata": {},
   "outputs": [],
   "source": [
    "#10000 random numbers -5000,5000\n",
    "A=[]\n",
    "for i in range(1,100000):    \n",
    "    A.append(random.randint(-500000,500000))\n",
    "\n",
    "print(A)"
   ]
  },
  {
   "cell_type": "code",
   "execution_count": 21,
   "metadata": {},
   "outputs": [],
   "source": [
    "def testfunction(x):\n",
    "    summing = 0\n",
    "    for i in x:\n",
    "        if x.count(i) >1:\n",
    "            summing +=1\n",
    "    return summing"
   ]
  },
  {
   "cell_type": "code",
   "execution_count": 21,
   "metadata": {},
   "outputs": [
    {
     "data": {
      "text/plain": [
       "99999"
      ]
     },
     "execution_count": 21,
     "metadata": {},
     "output_type": "execute_result"
    }
   ],
   "source": [
    "len(A)"
   ]
  },
  {
   "cell_type": "code",
   "execution_count": 11,
   "metadata": {},
   "outputs": [],
   "source": [
    "****** Time******"
   ]
  },
  {
   "cell_type": "code",
   "execution_count": 22,
   "metadata": {},
   "outputs": [
    {
     "name": "stdout",
     "output_type": "stream",
     "text": [
      "0.008820200000002387\n"
     ]
    }
   ],
   "source": [
    "from timeit import default_timer as timer\n",
    "start=timer()\n",
    "solution(A)\n",
    "end = timer()\n",
    "print(end - start)"
   ]
  },
  {
   "cell_type": "code",
   "execution_count": null,
   "metadata": {},
   "outputs": [],
   "source": []
  },
  {
   "cell_type": "code",
   "execution_count": null,
   "metadata": {},
   "outputs": [],
   "source": []
  },
  {
   "cell_type": "code",
   "execution_count": 63,
   "metadata": {},
   "outputs": [],
   "source": [
    "s='2020-32,2'"
   ]
  },
  {
   "cell_type": "code",
   "execution_count": 66,
   "metadata": {},
   "outputs": [
    {
     "data": {
      "text/plain": [
       "'2020'"
      ]
     },
     "execution_count": 66,
     "metadata": {},
     "output_type": "execute_result"
    }
   ],
   "source": [
    "s[:4]"
   ]
  },
  {
   "cell_type": "code",
   "execution_count": null,
   "metadata": {},
   "outputs": [],
   "source": []
  }
 ],
 "metadata": {
  "kernelspec": {
   "display_name": "Python 3",
   "language": "python",
   "name": "python3"
  },
  "language_info": {
   "codemirror_mode": {
    "name": "ipython",
    "version": 3
   },
   "file_extension": ".py",
   "mimetype": "text/x-python",
   "name": "python",
   "nbconvert_exporter": "python",
   "pygments_lexer": "ipython3",
   "version": "3.8.3"
  }
 },
 "nbformat": 4,
 "nbformat_minor": 4
}
