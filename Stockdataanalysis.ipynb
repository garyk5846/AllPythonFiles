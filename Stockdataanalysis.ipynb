{
 "cells": [
  {
   "cell_type": "code",
   "execution_count": 1,
   "metadata": {},
   "outputs": [],
   "source": [
    "import pandas as pd\n",
    "#GLE NESN SAP seperated by commas, BMW, DAI seperated by ;\n",
    "bmw=pd.read_csv('C:/Users/garyp\\Desktop/Python/Stock Files/BMW.DE.csv',sep=';')\n",
    "dai=pd.read_csv('C:/Users/garyp\\Desktop/Python/Stock Files/DAI.DE.csv',sep=';')\n",
    "gle=pd.read_csv('C:/Users/garyp\\Desktop/Python/Stock Files/GLE.PA.csv',sep=',')\n",
    "nesn=pd.read_csv('C:/Users/garyp\\Desktop/Python/Stock Files/NESN.SW.csv',sep=',')\n",
    "sap=pd.read_csv('C:/Users/garyp\\Desktop/Python/Stock Files/SAP.DE.csv',sep=',')\n",
    "stocks=[bmw,dai,gle,nesn,sap]\n",
    "index=[\"BMW\",\"DAI\",\"GLE\",\"NESN\",\"SAP\"]"
   ]
  },
  {
   "cell_type": "code",
   "execution_count": 9,
   "metadata": {},
   "outputs": [
    {
     "data": {
      "text/plain": [
       "0       2000-03-01\n",
       "1       2000-03-02\n",
       "2       2000-03-03\n",
       "3       2000-03-06\n",
       "4       2000-03-07\n",
       "           ...    \n",
       "5384    2021-03-23\n",
       "5385    2021-03-24\n",
       "5386    2021-03-25\n",
       "5387    2021-03-26\n",
       "5388    2021-03-29\n",
       "Name: Date, Length: 5389, dtype: object"
      ]
     },
     "execution_count": 9,
     "metadata": {},
     "output_type": "execute_result"
    }
   ],
   "source": [
    "bmw.Date"
   ]
  },
  {
   "cell_type": "code",
   "execution_count": 10,
   "metadata": {},
   "outputs": [
    {
     "data": {
      "text/plain": [
       "DatetimeIndex(['2000-03-01', '2000-03-02', '2000-03-03', '2000-03-06',\n",
       "               '2000-03-07', '2000-03-08', '2000-03-09', '2000-03-10',\n",
       "               '2000-03-13', '2000-03-14',\n",
       "               ...\n",
       "               '2021-03-16', '2021-03-17', '2021-03-18', '2021-03-19',\n",
       "               '2021-03-22', '2021-03-23', '2021-03-24', '2021-03-25',\n",
       "               '2021-03-26', '2021-03-29'],\n",
       "              dtype='datetime64[ns]', name='Date', length=5389, freq=None)"
      ]
     },
     "execution_count": 10,
     "metadata": {},
     "output_type": "execute_result"
    }
   ],
   "source": [
    "pd.DatetimeIndex(bmw.Date)"
   ]
  },
  {
   "cell_type": "code",
   "execution_count": 86,
   "metadata": {},
   "outputs": [
    {
     "data": {
      "text/plain": [
       "0       1452926\n",
       "1       1201261\n",
       "4       1126066\n",
       "5       1344057\n",
       "6       1129814\n",
       "         ...   \n",
       "5384    1747435\n",
       "5385    2021024\n",
       "5386    1331719\n",
       "5387    1423694\n",
       "5388    1633417\n",
       "Name: Volume, Length: 4980, dtype: int64"
      ]
     },
     "execution_count": 86,
     "metadata": {},
     "output_type": "execute_result"
    }
   ],
   "source": [
    "#Volume >1,000,000\n",
    "bmw.Volume[bmw.Volume>1000000]"
   ]
  },
  {
   "cell_type": "code",
   "execution_count": 87,
   "metadata": {},
   "outputs": [
    {
     "data": {
      "text/plain": [
       "10      10337143\n",
       "11       9502690\n",
       "12      28719542\n",
       "13       3251350\n",
       "14       3723320\n",
       "          ...   \n",
       "5370     2754934\n",
       "5379     2736407\n",
       "5380     3793318\n",
       "5381     3290237\n",
       "5382     4996797\n",
       "Name: Volume, Length: 2068, dtype: int64"
      ]
     },
     "execution_count": 87,
     "metadata": {},
     "output_type": "execute_result"
    }
   ],
   "source": [
    "#Volume >=average volume\n",
    "bmw.Volume[bmw.Volume>=bmw.Volume.mean()]"
   ]
  },
  {
   "cell_type": "code",
   "execution_count": 88,
   "metadata": {},
   "outputs": [
    {
     "data": {
      "text/plain": [
       "10      10337143\n",
       "11       9502690\n",
       "12      28719542\n",
       "42       6052846\n",
       "77      10205373\n",
       "          ...   \n",
       "5140     4331430\n",
       "5175     4266200\n",
       "5181     4307916\n",
       "5292     4097264\n",
       "5382     4996797\n",
       "Name: Volume, Length: 539, dtype: int64"
      ]
     },
     "execution_count": 88,
     "metadata": {},
     "output_type": "execute_result"
    }
   ],
   "source": [
    "#Upper 90%ile of volume\n",
    "bmw.Volume[bmw.Volume>=bmw.Volume.quantile(0.9)]"
   ]
  },
  {
   "cell_type": "code",
   "execution_count": 89,
   "metadata": {},
   "outputs": [
    {
     "data": {
      "text/html": [
       "<div>\n",
       "<style scoped>\n",
       "    .dataframe tbody tr th:only-of-type {\n",
       "        vertical-align: middle;\n",
       "    }\n",
       "\n",
       "    .dataframe tbody tr th {\n",
       "        vertical-align: top;\n",
       "    }\n",
       "\n",
       "    .dataframe thead th {\n",
       "        text-align: right;\n",
       "    }\n",
       "</style>\n",
       "<table border=\"1\" class=\"dataframe\">\n",
       "  <thead>\n",
       "    <tr style=\"text-align: right;\">\n",
       "      <th></th>\n",
       "      <th>Date</th>\n",
       "      <th>Volume</th>\n",
       "    </tr>\n",
       "  </thead>\n",
       "  <tbody>\n",
       "    <tr>\n",
       "      <th>10</th>\n",
       "      <td>2000-03-15</td>\n",
       "      <td>10337143</td>\n",
       "    </tr>\n",
       "    <tr>\n",
       "      <th>11</th>\n",
       "      <td>2000-03-16</td>\n",
       "      <td>9502690</td>\n",
       "    </tr>\n",
       "    <tr>\n",
       "      <th>12</th>\n",
       "      <td>2000-03-17</td>\n",
       "      <td>28719542</td>\n",
       "    </tr>\n",
       "    <tr>\n",
       "      <th>42</th>\n",
       "      <td>2000-04-28</td>\n",
       "      <td>6052846</td>\n",
       "    </tr>\n",
       "    <tr>\n",
       "      <th>77</th>\n",
       "      <td>2000-06-16</td>\n",
       "      <td>10205373</td>\n",
       "    </tr>\n",
       "    <tr>\n",
       "      <th>...</th>\n",
       "      <td>...</td>\n",
       "      <td>...</td>\n",
       "    </tr>\n",
       "    <tr>\n",
       "      <th>5140</th>\n",
       "      <td>2020-04-03</td>\n",
       "      <td>4331430</td>\n",
       "    </tr>\n",
       "    <tr>\n",
       "      <th>5175</th>\n",
       "      <td>2020-05-27</td>\n",
       "      <td>4266200</td>\n",
       "    </tr>\n",
       "    <tr>\n",
       "      <th>5181</th>\n",
       "      <td>2020-06-05</td>\n",
       "      <td>4307916</td>\n",
       "    </tr>\n",
       "    <tr>\n",
       "      <th>5292</th>\n",
       "      <td>2020-11-09</td>\n",
       "      <td>4097264</td>\n",
       "    </tr>\n",
       "    <tr>\n",
       "      <th>5382</th>\n",
       "      <td>2021-03-19</td>\n",
       "      <td>4996797</td>\n",
       "    </tr>\n",
       "  </tbody>\n",
       "</table>\n",
       "<p>539 rows × 2 columns</p>\n",
       "</div>"
      ],
      "text/plain": [
       "            Date    Volume\n",
       "10    2000-03-15  10337143\n",
       "11    2000-03-16   9502690\n",
       "12    2000-03-17  28719542\n",
       "42    2000-04-28   6052846\n",
       "77    2000-06-16  10205373\n",
       "...          ...       ...\n",
       "5140  2020-04-03   4331430\n",
       "5175  2020-05-27   4266200\n",
       "5181  2020-06-05   4307916\n",
       "5292  2020-11-09   4097264\n",
       "5382  2021-03-19   4996797\n",
       "\n",
       "[539 rows x 2 columns]"
      ]
     },
     "execution_count": 89,
     "metadata": {},
     "output_type": "execute_result"
    }
   ],
   "source": [
    "#corresponding date\n",
    "bmw[['Date','Volume']][bmw.Volume>=bmw.Volume.quantile(0.9)]"
   ]
  },
  {
   "cell_type": "code",
   "execution_count": 221,
   "metadata": {},
   "outputs": [
    {
     "data": {
      "text/html": [
       "<div>\n",
       "<style scoped>\n",
       "    .dataframe tbody tr th:only-of-type {\n",
       "        vertical-align: middle;\n",
       "    }\n",
       "\n",
       "    .dataframe tbody tr th {\n",
       "        vertical-align: top;\n",
       "    }\n",
       "\n",
       "    .dataframe thead th {\n",
       "        text-align: right;\n",
       "    }\n",
       "</style>\n",
       "<table border=\"1\" class=\"dataframe\">\n",
       "  <thead>\n",
       "    <tr style=\"text-align: right;\">\n",
       "      <th></th>\n",
       "      <th>Date</th>\n",
       "      <th>Max Adj Close</th>\n",
       "    </tr>\n",
       "  </thead>\n",
       "  <tbody>\n",
       "    <tr>\n",
       "      <th>BMW</th>\n",
       "      <td>2015-03-16</td>\n",
       "      <td>94.470192</td>\n",
       "    </tr>\n",
       "    <tr>\n",
       "      <th>DAI</th>\n",
       "      <td>2021-03-18</td>\n",
       "      <td>74.330002</td>\n",
       "    </tr>\n",
       "    <tr>\n",
       "      <th>GLE</th>\n",
       "      <td>2007-05-04</td>\n",
       "      <td>72.824318</td>\n",
       "    </tr>\n",
       "    <tr>\n",
       "      <th>NESN</th>\n",
       "      <td>2020-07-23</td>\n",
       "      <td>111.279999</td>\n",
       "    </tr>\n",
       "    <tr>\n",
       "      <th>SAP</th>\n",
       "      <td>2020-08-26</td>\n",
       "      <td>142.259995</td>\n",
       "    </tr>\n",
       "  </tbody>\n",
       "</table>\n",
       "</div>"
      ],
      "text/plain": [
       "            Date  Max Adj Close\n",
       "BMW   2015-03-16      94.470192\n",
       "DAI   2021-03-18      74.330002\n",
       "GLE   2007-05-04      72.824318\n",
       "NESN  2020-07-23     111.279999\n",
       "SAP   2020-08-26     142.259995"
      ]
     },
     "execution_count": 221,
     "metadata": {},
     "output_type": "execute_result"
    }
   ],
   "source": [
    "#getting the max adj close for each\n",
    "maxadj=pd.DataFrame()\n",
    "for stock in stocks:\n",
    "    maxadj=pd.concat([maxadj,stock[['Date','Adj Close']][stock['Adj Close']==max(stock['Adj Close'])]])\n",
    "maxadj.index=index\n",
    "maxadj.columns = ['Date', 'Max Adj Close']\n",
    "maxadj"
   ]
  },
  {
   "cell_type": "code",
   "execution_count": 199,
   "metadata": {},
   "outputs": [],
   "source": [
    "#save to excel\n",
    "axadj.to_excel('C:/Users/garyp\\Desktop/Python/Stock Files/MaxAdj.xlsx')"
   ]
  },
  {
   "cell_type": "code",
   "execution_count": 446,
   "metadata": {},
   "outputs": [],
   "source": [
    "#Same for min\n",
    "minadj=pd.DataFrame()\n",
    "for stock in stocks:\n",
    "    minadj=pd.concat([minadj,stock[['Date','Adj Close']][stock['Adj Close']==min(stock['Adj Close'])]])\n",
    "minadj.index=index\n",
    "minadj.columns = ['Date', 'Min Adj Close']"
   ]
  },
  {
   "cell_type": "code",
   "execution_count": 453,
   "metadata": {},
   "outputs": [
    {
     "data": {
      "text/plain": [
       "pandas.core.series.Series"
      ]
     },
     "execution_count": 453,
     "metadata": {},
     "output_type": "execute_result"
    }
   ],
   "source": [
    "type(stock[['Date','Adj Close']].loc[20])"
   ]
  },
  {
   "cell_type": "code",
   "execution_count": 203,
   "metadata": {},
   "outputs": [],
   "source": [
    "minadj.to_excel('C:/Users/garyp\\Desktop/Python/Stock Files/MinAdj.xlsx')"
   ]
  },
  {
   "cell_type": "code",
   "execution_count": null,
   "metadata": {},
   "outputs": [],
   "source": [
    "#concat them side by side and save to excel\n",
    "#axis=1 puts side to side, axis=0 has them stacked with NaN values\n",
    "pd.concat([maxadj,minadj],axis=1).to_excel('C:/Users/garyp\\Desktop/Python/Stock Files/MinandMaxAdj.xlsx')"
   ]
  },
  {
   "cell_type": "code",
   "execution_count": 498,
   "metadata": {},
   "outputs": [],
   "source": [
    "#making a year column\n",
    "#extracting year from datetime string\n",
    "for stock in stocks:\n",
    "    stock['Year'] =pd.DatetimeIndex(stock.Date).year\n",
    "    stock['month'] =pd.DatetimeIndex(stock.Date).month\n",
    "    stock['day'] =pd.DatetimeIndex(stock.Date).day\n"
   ]
  },
  {
   "cell_type": "code",
   "execution_count": null,
   "metadata": {},
   "outputs": [],
   "source": []
  },
  {
   "cell_type": "code",
   "execution_count": null,
   "metadata": {},
   "outputs": [],
   "source": [
    "#max closing for year 2000\n",
    "#I create X here just to save a ton of typing\n",
    "# instead of now having a short named df like bmw.Date, we now have \n",
    "# bmw[['Date','Low','Adj Close']][bmw.Year==2000] so to save me after this again writing\n",
    "# bmw[['Date','Low','Adj Close']][bmw.Year==2000] == bmw[['Date','Low','Adj Close']][bmw.Year==2000].max()\n",
    "# I just save it as x and say x[x['Adj Close']==x['Adj Close'].max()]\n",
    "x=bmw[['Date','Adj Close']][bmw.Year==2000]\n",
    "x[x['Adj Close']==x['Adj Close'].max()]"
   ]
  },
  {
   "cell_type": "code",
   "execution_count": 471,
   "metadata": {},
   "outputs": [
    {
     "data": {
      "text/html": [
       "<div>\n",
       "<style scoped>\n",
       "    .dataframe tbody tr th:only-of-type {\n",
       "        vertical-align: middle;\n",
       "    }\n",
       "\n",
       "    .dataframe tbody tr th {\n",
       "        vertical-align: top;\n",
       "    }\n",
       "\n",
       "    .dataframe thead th {\n",
       "        text-align: right;\n",
       "    }\n",
       "</style>\n",
       "<table border=\"1\" class=\"dataframe\">\n",
       "  <thead>\n",
       "    <tr style=\"text-align: right;\">\n",
       "      <th></th>\n",
       "      <th>Date</th>\n",
       "      <th>Adj Close</th>\n",
       "    </tr>\n",
       "  </thead>\n",
       "  <tbody>\n",
       "    <tr>\n",
       "      <th>156</th>\n",
       "      <td>2000-10-05</td>\n",
       "      <td>24.368061</td>\n",
       "    </tr>\n",
       "  </tbody>\n",
       "</table>\n",
       "</div>"
      ],
      "text/plain": [
       "           Date  Adj Close\n",
       "156  2000-10-05  24.368061"
      ]
     },
     "execution_count": 471,
     "metadata": {},
     "output_type": "execute_result"
    }
   ],
   "source": [
    "#Doing this again using idxmax (the index of the max) and then using ilo\n",
    "# ********************VERY IMPORTANT***** iloc[] returns series. iloc[[]] returns dataframe\n",
    "#It avoids duplicates in year 2002 when same adj close was achieved twice\n",
    "#Also my smaller subtables x might produce an idx max around 4000 so we have to refer back to original table to iloc, not x\n",
    "x=bmw[['Date','Adj Close']][bmw.Year==2000]\n",
    "bmw[['Date','Adj Close']].iloc[[x['Adj Close'].idxmax()]]"
   ]
  },
  {
   "cell_type": "code",
   "execution_count": 509,
   "metadata": {},
   "outputs": [],
   "source": [
    "#max for all years\n",
    "maxyear=pd.DataFrame()\n",
    "years = list(range(2000,2022))\n",
    "for i in years:\n",
    "    x=bmw[['Date','Adj Close']][bmw['Year']==i]\n",
    "    maxyear= pd.concat([maxyear,bmw[['Date','Adj Close']].iloc[[x['Adj Close'].idxmax()]]])\n",
    "maxyear.index=years"
   ]
  },
  {
   "cell_type": "code",
   "execution_count": 479,
   "metadata": {},
   "outputs": [
    {
     "data": {
      "text/html": [
       "<div>\n",
       "<style scoped>\n",
       "    .dataframe tbody tr th:only-of-type {\n",
       "        vertical-align: middle;\n",
       "    }\n",
       "\n",
       "    .dataframe tbody tr th {\n",
       "        vertical-align: top;\n",
       "    }\n",
       "\n",
       "    .dataframe thead th {\n",
       "        text-align: right;\n",
       "    }\n",
       "</style>\n",
       "<table border=\"1\" class=\"dataframe\">\n",
       "  <thead>\n",
       "    <tr style=\"text-align: right;\">\n",
       "      <th></th>\n",
       "      <th>Date</th>\n",
       "      <th>Adj Close</th>\n",
       "    </tr>\n",
       "  </thead>\n",
       "  <tbody>\n",
       "    <tr>\n",
       "      <th>2000</th>\n",
       "      <td>2000-10-05</td>\n",
       "      <td>24.368061</td>\n",
       "    </tr>\n",
       "    <tr>\n",
       "      <th>2001</th>\n",
       "      <td>2001-11-15</td>\n",
       "      <td>25.094532</td>\n",
       "    </tr>\n",
       "    <tr>\n",
       "      <th>2002</th>\n",
       "      <td>2002-05-17</td>\n",
       "      <td>28.489334</td>\n",
       "    </tr>\n",
       "    <tr>\n",
       "      <th>2003</th>\n",
       "      <td>2003-09-03</td>\n",
       "      <td>23.514353</td>\n",
       "    </tr>\n",
       "    <tr>\n",
       "      <th>2004</th>\n",
       "      <td>2004-07-29</td>\n",
       "      <td>23.031839</td>\n",
       "    </tr>\n",
       "    <tr>\n",
       "      <th>2005</th>\n",
       "      <td>2005-10-04</td>\n",
       "      <td>25.252371</td>\n",
       "    </tr>\n",
       "    <tr>\n",
       "      <th>2006</th>\n",
       "      <td>2006-04-03</td>\n",
       "      <td>29.112560</td>\n",
       "    </tr>\n",
       "    <tr>\n",
       "      <th>2007</th>\n",
       "      <td>2007-06-01</td>\n",
       "      <td>33.015263</td>\n",
       "    </tr>\n",
       "    <tr>\n",
       "      <th>2008</th>\n",
       "      <td>2008-01-02</td>\n",
       "      <td>27.808836</td>\n",
       "    </tr>\n",
       "    <tr>\n",
       "      <th>2009</th>\n",
       "      <td>2009-10-23</td>\n",
       "      <td>24.361410</td>\n",
       "    </tr>\n",
       "    <tr>\n",
       "      <th>2010</th>\n",
       "      <td>2010-12-21</td>\n",
       "      <td>44.258614</td>\n",
       "    </tr>\n",
       "    <tr>\n",
       "      <th>2011</th>\n",
       "      <td>2011-07-25</td>\n",
       "      <td>51.268814</td>\n",
       "    </tr>\n",
       "    <tr>\n",
       "      <th>2012</th>\n",
       "      <td>2012-12-27</td>\n",
       "      <td>53.061352</td>\n",
       "    </tr>\n",
       "    <tr>\n",
       "      <th>2013</th>\n",
       "      <td>2013-12-27</td>\n",
       "      <td>63.878632</td>\n",
       "    </tr>\n",
       "    <tr>\n",
       "      <th>2014</th>\n",
       "      <td>2014-07-24</td>\n",
       "      <td>73.595825</td>\n",
       "    </tr>\n",
       "    <tr>\n",
       "      <th>2015</th>\n",
       "      <td>2015-03-16</td>\n",
       "      <td>94.470192</td>\n",
       "    </tr>\n",
       "    <tr>\n",
       "      <th>2016</th>\n",
       "      <td>2016-12-20</td>\n",
       "      <td>74.675758</td>\n",
       "    </tr>\n",
       "    <tr>\n",
       "      <th>2017</th>\n",
       "      <td>2017-11-06</td>\n",
       "      <td>77.451401</td>\n",
       "    </tr>\n",
       "    <tr>\n",
       "      <th>2018</th>\n",
       "      <td>2018-01-22</td>\n",
       "      <td>82.866203</td>\n",
       "    </tr>\n",
       "    <tr>\n",
       "      <th>2019</th>\n",
       "      <td>2019-12-16</td>\n",
       "      <td>71.860153</td>\n",
       "    </tr>\n",
       "    <tr>\n",
       "      <th>2020</th>\n",
       "      <td>2020-11-24</td>\n",
       "      <td>76.680000</td>\n",
       "    </tr>\n",
       "    <tr>\n",
       "      <th>2021</th>\n",
       "      <td>2021-03-18</td>\n",
       "      <td>86.120003</td>\n",
       "    </tr>\n",
       "  </tbody>\n",
       "</table>\n",
       "</div>"
      ],
      "text/plain": [
       "            Date  Adj Close\n",
       "2000  2000-10-05  24.368061\n",
       "2001  2001-11-15  25.094532\n",
       "2002  2002-05-17  28.489334\n",
       "2003  2003-09-03  23.514353\n",
       "2004  2004-07-29  23.031839\n",
       "2005  2005-10-04  25.252371\n",
       "2006  2006-04-03  29.112560\n",
       "2007  2007-06-01  33.015263\n",
       "2008  2008-01-02  27.808836\n",
       "2009  2009-10-23  24.361410\n",
       "2010  2010-12-21  44.258614\n",
       "2011  2011-07-25  51.268814\n",
       "2012  2012-12-27  53.061352\n",
       "2013  2013-12-27  63.878632\n",
       "2014  2014-07-24  73.595825\n",
       "2015  2015-03-16  94.470192\n",
       "2016  2016-12-20  74.675758\n",
       "2017  2017-11-06  77.451401\n",
       "2018  2018-01-22  82.866203\n",
       "2019  2019-12-16  71.860153\n",
       "2020  2020-11-24  76.680000\n",
       "2021  2021-03-18  86.120003"
      ]
     },
     "execution_count": 479,
     "metadata": {},
     "output_type": "execute_result"
    }
   ],
   "source": [
    "maxyear"
   ]
  },
  {
   "cell_type": "code",
   "execution_count": 514,
   "metadata": {},
   "outputs": [
    {
     "name": "stdout",
     "output_type": "stream",
     "text": [
      "***********BMW**********\n",
      "            Date  Adj Close\n",
      "2000  2000-10-05  24.368061\n",
      "2001  2001-11-15  25.094532\n",
      "2002  2002-05-17  28.489334\n",
      "2003  2003-09-03  23.514353\n",
      "2004  2004-07-29  23.031839\n",
      "2005  2005-10-04  25.252371\n",
      "2006  2006-04-03  29.112560\n",
      "2007  2007-06-01  33.015263\n",
      "2008  2008-01-02  27.808836\n",
      "2009  2009-10-23  24.361410\n",
      "2010  2010-12-21  44.258614\n",
      "2011  2011-07-25  51.268814\n",
      "2012  2012-12-27  53.061352\n",
      "2013  2013-12-27  63.878632\n",
      "2014  2014-07-24  73.595825\n",
      "2015  2015-03-16  94.470192\n",
      "2016  2016-12-20  74.675758\n",
      "2017  2017-11-06  77.451401\n",
      "2018  2018-01-22  82.866203\n",
      "2019  2019-12-16  71.860153\n",
      "2020  2020-11-24  76.680000\n",
      "2021  2021-03-18  86.120003\n",
      "***********DAI**********\n",
      "            Date  Adj Close\n",
      "2000  2000-04-05  30.640865\n",
      "2001  2001-07-20  27.084585\n",
      "2002  2002-05-27  26.258757\n",
      "2003  2003-12-29  18.760519\n",
      "2004  2004-04-27  20.567005\n",
      "2005  2005-09-28  25.036842\n",
      "2006  2006-02-15  27.471968\n",
      "2007  2007-10-25  45.148529\n",
      "2008  2008-01-02  37.554108\n",
      "2009  2009-12-28  23.297266\n",
      "2010  2010-12-10  33.952744\n",
      "2011  2011-01-18  36.174187\n",
      "2012  2012-03-15  31.103096\n",
      "2013  2013-12-27  44.961613\n",
      "2014  2014-07-03  51.807007\n",
      "2015  2015-03-16  70.451347\n",
      "2016  2016-12-21  56.821384\n",
      "2017  2017-11-03  61.163486\n",
      "2018  2018-01-23  63.200882\n",
      "2019  2019-04-18  52.264107\n",
      "2020  2020-12-16  58.770000\n",
      "2021  2021-03-18  74.330002\n",
      "***********GLE**********\n",
      "            Date  Adj Close\n",
      "2000  2000-09-12  24.933645\n",
      "2001  2001-05-22  27.022835\n",
      "2002  2002-05-14  30.361513\n",
      "2003  2003-12-31  27.614462\n",
      "2004  2004-12-14  31.484034\n",
      "2005  2005-12-23  46.476372\n",
      "2006  2006-10-12  61.695103\n",
      "2007  2007-05-04  72.824318\n",
      "2008  2008-01-14  46.927940\n",
      "2009  2009-08-28  30.698698\n",
      "2010  2010-01-11  29.792707\n",
      "2011  2011-02-17  29.914762\n",
      "2012  2012-12-18  17.845179\n",
      "2013  2013-10-18  25.845943\n",
      "2014  2014-02-28  29.432615\n",
      "2015  2015-08-10  30.936800\n",
      "2016  2016-12-15  32.159748\n",
      "2017  2017-07-27  35.648781\n",
      "2018  2018-01-29  33.458385\n",
      "2019  2019-12-20  25.892984\n",
      "2020  2020-02-17  26.334154\n",
      "2021  2021-03-18  22.809999\n",
      "***********NESN**********\n",
      "            Date   Adj Close\n",
      "2000  2000-12-25   21.971289\n",
      "2001  2001-07-02   22.711693\n",
      "2002  2002-05-06   23.547968\n",
      "2003  2003-09-19   19.210268\n",
      "2004  2004-05-05   21.222914\n",
      "2005  2005-11-18   25.651785\n",
      "2006  2006-11-15   29.447512\n",
      "2007  2007-11-15   36.945724\n",
      "2008  2008-06-03   35.808441\n",
      "2009  2009-12-22   36.400581\n",
      "2010  2010-11-26   41.653793\n",
      "2011  2011-05-19   41.784279\n",
      "2012  2012-10-17   49.098274\n",
      "2013  2013-05-15   55.275238\n",
      "2014  2014-12-29   61.542522\n",
      "2015  2015-12-02   66.406693\n",
      "2016  2016-08-15   71.300140\n",
      "2017  2017-11-28   79.162384\n",
      "2018  2018-12-04   81.671242\n",
      "2019  2019-09-06  110.331757\n",
      "2020  2020-07-23  111.279999\n",
      "2021  2021-03-29  105.220001\n",
      "***********SAP**********\n",
      "            Date   Adj Close\n",
      "2000  2000-03-07   48.972084\n",
      "2001  2001-05-24   31.758064\n",
      "2002  2002-03-19   30.687180\n",
      "2003  2003-11-07   24.575577\n",
      "2004  2004-11-17   26.249081\n",
      "2005  2005-12-02   30.361973\n",
      "2006  2006-04-10   36.527908\n",
      "2007  2007-09-21   34.112770\n",
      "2008  2008-09-19   33.083725\n",
      "2009  2009-09-11   29.690952\n",
      "2010  2010-12-29   32.791782\n",
      "2011  2011-04-26   39.201527\n",
      "2012  2012-12-11   53.601696\n",
      "2013  2013-03-15   56.542244\n",
      "2014  2014-01-08   55.384808\n",
      "2015  2015-11-20   68.583595\n",
      "2016  2016-12-30   77.172775\n",
      "2017  2017-11-01   94.765144\n",
      "2018  2018-09-26  103.292114\n",
      "2019  2019-12-16  121.112823\n",
      "2020  2020-08-26  142.259995\n",
      "2021  2021-02-04  110.279999\n"
     ]
    }
   ],
   "source": [
    "#max for all years-All stocks\n",
    "#added in a count feature too to name the titles at the top\n",
    "years = list(range(2000,2022))\n",
    "indcount=0\n",
    "for stock in stocks:\n",
    "    maxyear=pd.DataFrame()\n",
    "    for i in years:\n",
    "        x=stock[['Date','Adj Close']][stock['Year']==i]\n",
    "        maxyear= pd.concat([maxyear,stock[['Date','Adj Close']].iloc[[x['Adj Close'].idxmax()]]])\n",
    "    maxyear.index=years\n",
    "    print(\"***********\"+index[indcount]+\"**********\")\n",
    "    indcount+=1\n",
    "    print(maxyear)"
   ]
  },
  {
   "cell_type": "code",
   "execution_count": 517,
   "metadata": {},
   "outputs": [],
   "source": [
    "#Save - added in anoter concat\n",
    "years = list(range(2000,2022))\n",
    "indcount=0\n",
    "maxyearmerge=pd.DataFrame()\n",
    "for stock in stocks:\n",
    "    maxyear=pd.DataFrame()\n",
    "    for i in years:\n",
    "        x=stock[['Date','Adj Close']][stock['Year']==i]\n",
    "        maxyear= pd.concat([maxyear,stock[['Date','Adj Close']].iloc[[x['Adj Close'].idxmax()]]])\n",
    "    maxyear.index=years\n",
    "    maxyearmerge=pd.concat([maxyearmerge,maxyear])"
   ]
  },
  {
   "cell_type": "code",
   "execution_count": 519,
   "metadata": {},
   "outputs": [],
   "source": [
    "maxyearmerge.to_excel('C:/Users/garyp\\Desktop/Python/Stock Files/maxyearallstocks.xlsx')"
   ]
  },
  {
   "cell_type": "code",
   "execution_count": 487,
   "metadata": {},
   "outputs": [
    {
     "name": "stdout",
     "output_type": "stream",
     "text": [
      "0\n",
      "1\n",
      "2\n",
      "3\n",
      "4\n"
     ]
    }
   ],
   "source": []
  },
  {
   "cell_type": "code",
   "execution_count": null,
   "metadata": {},
   "outputs": [],
   "source": []
  },
  {
   "cell_type": "code",
   "execution_count": 485,
   "metadata": {},
   "outputs": [
    {
     "data": {
      "text/plain": [
       "[            Date       Open       High        Low      Close  Adj Close  \\\n",
       " 0     2000-03-01  27.010000  27.360001  26.200001  26.910000  15.574872   \n",
       " 1     2000-03-02  27.049999  27.129999  25.650000  26.900000  15.569084   \n",
       " 2     2000-03-03  26.250000  26.799999  25.750000  26.000000  15.048185   \n",
       " 3     2000-03-06  25.760000  26.270000  25.400000  25.799999  14.932431   \n",
       " 4     2000-03-07  25.250000  25.500000  24.900000  25.330000  14.660405   \n",
       " ...          ...        ...        ...        ...        ...        ...   \n",
       " 5384  2021-03-23  84.220001  85.250000  83.360001  83.430000  83.430000   \n",
       " 5385  2021-03-24  81.949997  83.230003  81.220001  82.589996  82.589996   \n",
       " 5386  2021-03-25  81.910004  83.580002  81.550003  83.500000  83.500000   \n",
       " 5387  2021-03-26  84.139999  84.500000  83.470001  83.790001  83.790001   \n",
       " 5388  2021-03-29  84.500000  85.709999  83.959999  85.599998  85.599998   \n",
       " \n",
       "        Volume  Year  month  day  \n",
       " 0     1452926  2000      3    1  \n",
       " 1     1201261  2000      3    2  \n",
       " 2      965563  2000      3    3  \n",
       " 3      941155  2000      3    6  \n",
       " 4     1126066  2000      3    7  \n",
       " ...       ...   ...    ...  ...  \n",
       " 5384  1747435  2021      3   23  \n",
       " 5385  2021024  2021      3   24  \n",
       " 5386  1331719  2021      3   25  \n",
       " 5387  1423694  2021      3   26  \n",
       " 5388  1633417  2021      3   29  \n",
       " \n",
       " [5389 rows x 10 columns],\n",
       "             Date       Open       High        Low      Close  Adj Close  \\\n",
       " 0     2000-03-01  70.599998  71.199997  66.760002  68.199997  29.536497   \n",
       " 1     2000-03-02  68.000000  68.000000  65.250000  67.260002  29.129398   \n",
       " 2     2000-03-03  66.500000  66.900002  64.870003  65.949997  28.562052   \n",
       " 3     2000-03-06  66.500000  66.559998  65.300003  65.750000  28.475437   \n",
       " 4     2000-03-07  64.849998  65.349998  63.419998  63.779999  27.622255   \n",
       " ...          ...        ...        ...        ...        ...        ...   \n",
       " 5384  2021-03-23  73.610001  73.699997  71.820000  72.610001  72.610001   \n",
       " 5385  2021-03-24  71.900002  71.989998  70.930000  71.650002  71.650002   \n",
       " 5386  2021-03-25  71.099998  72.610001  70.980003  72.500000  72.500000   \n",
       " 5387  2021-03-26  73.000000  73.480003  72.610001  73.269997  73.269997   \n",
       " 5388  2021-03-29  73.489998  74.019997  72.800003  73.709999  73.709999   \n",
       " \n",
       "        Volume  \n",
       " 0     4011217  \n",
       " 1     3341125  \n",
       " 2     2948107  \n",
       " 3     1253672  \n",
       " 4     2405787  \n",
       " ...       ...  \n",
       " 5384  4078744  \n",
       " 5385  4231876  \n",
       " 5386  3418622  \n",
       " 5387  3131053  \n",
       " 5388  2720886  \n",
       " \n",
       " [5389 rows x 7 columns],\n",
       "             Date       Open       High        Low      Close  Adj Close  \\\n",
       " 0     2000-03-01  48.491062  49.585518  47.820988  47.910328  16.926823   \n",
       " 1     2000-03-02  48.022011  48.893097  46.793537  47.575291  16.808447   \n",
       " 2     2000-03-03  46.927551  48.022011  46.681858  46.681858  16.492800   \n",
       " 3     2000-03-06  47.128574  47.552948  45.788425  47.061569  16.626949   \n",
       " 4     2000-03-07  47.463612  48.692081  46.592518  46.860546  16.555927   \n",
       " ...          ...        ...        ...        ...        ...        ...   \n",
       " 5414  2021-03-23  22.010000  22.055000  21.660000  22.025000  22.025000   \n",
       " 5415  2021-03-24  21.650000  22.150000  21.450001  22.110001  22.110001   \n",
       " 5416  2021-03-25  22.000000  22.000000  21.480000  21.844999  21.844999   \n",
       " 5417  2021-03-26  22.049999  22.379999  21.980000  22.240000  22.240000   \n",
       " 5418  2021-03-29  22.120001  22.150000  21.674999  21.705000  21.705000   \n",
       " \n",
       "          Volume  \n",
       " 0     1737048.0  \n",
       " 1      785585.0  \n",
       " 2     2020812.0  \n",
       " 3      907340.0  \n",
       " 4     1680986.0  \n",
       " ...         ...  \n",
       " 5414  3140341.0  \n",
       " 5415  2971946.0  \n",
       " 5416  3724935.0  \n",
       " 5417  2961487.0  \n",
       " 5418  2900125.0  \n",
       " \n",
       " [5419 rows x 7 columns],\n",
       "             Date        Open        High         Low       Close   Adj Close  \\\n",
       " 0     2000-04-21   29.980000   29.980000   29.980000   29.980000   17.616993   \n",
       " 1     2000-04-24   29.980000   29.980000   29.980000   29.980000   17.616993   \n",
       " 2     2000-04-25         NaN         NaN         NaN         NaN         NaN   \n",
       " 3     2000-04-26         NaN         NaN         NaN         NaN         NaN   \n",
       " 4     2000-04-27         NaN         NaN         NaN         NaN         NaN   \n",
       " ...          ...         ...         ...         ...         ...         ...   \n",
       " 5319  2021-03-23  102.919998  104.639999  102.639999  104.480003  104.480003   \n",
       " 5320  2021-03-24  104.480003  104.940002  103.779999  104.059998  104.059998   \n",
       " 5321  2021-03-25  104.199997  105.260002  103.980003  104.500000  104.500000   \n",
       " 5322  2021-03-26  104.279999  104.400002  103.480003  104.139999  104.139999   \n",
       " 5323  2021-03-29  104.720001  105.680000  104.639999  105.220001  105.220001   \n",
       " \n",
       "          Volume  \n",
       " 0           0.0  \n",
       " 1           0.0  \n",
       " 2           NaN  \n",
       " 3           NaN  \n",
       " 4           NaN  \n",
       " ...         ...  \n",
       " 5319  4740961.0  \n",
       " 5320  4602492.0  \n",
       " 5321  4793705.0  \n",
       " 5322  5462736.0  \n",
       " 5323  3852204.0  \n",
       " \n",
       " [5324 rows x 7 columns],\n",
       "             Date        Open        High         Low       Close   Adj Close  \\\n",
       " 0     2000-03-01   56.166672   57.983330   55.500000   57.904171   39.613804   \n",
       " 1     2000-03-02   57.500000   58.500000   56.916672   57.941669   39.639458   \n",
       " 2     2000-03-03   58.316669   62.291672   58.012501   60.916672   41.674728   \n",
       " 3     2000-03-06   62.424999   69.333344   62.424999   68.324997   46.742966   \n",
       " 4     2000-03-07   68.158333   71.583344   66.250000   71.583344   48.972084   \n",
       " ...          ...         ...         ...         ...         ...         ...   \n",
       " 5384  2021-03-23  102.000000  103.699997  101.419998  103.059998  103.059998   \n",
       " 5385  2021-03-24  103.239998  104.180000  102.440002  102.820000  102.820000   \n",
       " 5386  2021-03-25  102.400002  103.139999  101.800003  102.459999  102.459999   \n",
       " 5387  2021-03-26  102.779999  103.379997  102.320000  102.879997  102.879997   \n",
       " 5388  2021-03-29  103.480003  104.339996  102.980003  104.300003  104.300003   \n",
       " \n",
       "        Volume  \n",
       " 0     2804616  \n",
       " 1     2340432  \n",
       " 2     3152304  \n",
       " 3     8724924  \n",
       " 4     4824072  \n",
       " ...       ...  \n",
       " 5384  3066444  \n",
       " 5385  2270733  \n",
       " 5386  2657133  \n",
       " 5387  1856833  \n",
       " 5388  2363532  \n",
       " \n",
       " [5389 rows x 7 columns]]"
      ]
     },
     "execution_count": 485,
     "metadata": {},
     "output_type": "execute_result"
    }
   ],
   "source": [
    "stocks"
   ]
  },
  {
   "cell_type": "code",
   "execution_count": null,
   "metadata": {},
   "outputs": [],
   "source": [
    "\n"
   ]
  },
  {
   "cell_type": "code",
   "execution_count": null,
   "metadata": {},
   "outputs": [],
   "source": []
  },
  {
   "cell_type": "code",
   "execution_count": null,
   "metadata": {},
   "outputs": [],
   "source": []
  },
  {
   "cell_type": "code",
   "execution_count": null,
   "metadata": {},
   "outputs": [],
   "source": []
  },
  {
   "cell_type": "code",
   "execution_count": 369,
   "metadata": {},
   "outputs": [
    {
     "data": {
      "text/plain": [
       "A     7\n",
       "B    11\n",
       "Name: 2, dtype: int64"
      ]
     },
     "execution_count": 369,
     "metadata": {},
     "output_type": "execute_result"
    }
   ],
   "source": [
    "a.iloc[2]"
   ]
  },
  {
   "cell_type": "code",
   "execution_count": null,
   "metadata": {},
   "outputs": [],
   "source": []
  }
 ],
 "metadata": {
  "kernelspec": {
   "display_name": "Python 3",
   "language": "python",
   "name": "python3"
  },
  "language_info": {
   "codemirror_mode": {
    "name": "ipython",
    "version": 3
   },
   "file_extension": ".py",
   "mimetype": "text/x-python",
   "name": "python",
   "nbconvert_exporter": "python",
   "pygments_lexer": "ipython3",
   "version": "3.8.3"
  }
 },
 "nbformat": 4,
 "nbformat_minor": 4
}
