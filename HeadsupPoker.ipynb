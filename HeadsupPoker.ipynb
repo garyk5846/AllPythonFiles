{
 "cells": [
  {
   "cell_type": "code",
   "execution_count": 1,
   "metadata": {},
   "outputs": [],
   "source": [
    "#Listing suits, ranks, values and importing shuffle\n",
    "suits = ('h', 'd', 's', 'c')\n",
    "ranks = ('2', '3', '4', '5', '6', '7', '8', '9', 'T', 'J', 'Q', 'K', 'A')\n",
    "values = {'2':2, '3':3, '4':4, '5':5, '6':6, '7':7, '8':8, \n",
    "            '9':9, 'T':10, 'J':11, 'Q':12, 'K':13, 'A':14}\n",
    "import random\n",
    "def shuffle(self):\n",
    "        random.shuffle(self.all_cards)\n",
    "\n",
    "#Defining what a card is\n",
    "class Card:  \n",
    "    def __init__(self,suit,rank):\n",
    "        self.suit=suit\n",
    "        self.rank=rank\n",
    "        self.value=values[rank]  \n",
    "    def __str__(self):\n",
    "        return self.rank +self.suit\n",
    "    \n",
    "\n",
    "#Making a deck\n",
    "class Deck:\n",
    "    def __init__(self):\n",
    "        self.all_cards = []\n",
    "        for suit in suits:\n",
    "            for rank in ranks:\n",
    "                # Create the Card Object\n",
    "                created_card= Card(suit,rank)\n",
    "                self.all_cards.append(created_card)\n",
    "new_deck=Deck()"
   ]
  },
  {
   "cell_type": "code",
   "execution_count": 2,
   "metadata": {},
   "outputs": [],
   "source": [
    "#Shuffle\n",
    "shuffle(new_deck)\n",
    "#Dealing out the hands,flop,turn and river\n",
    "player1=[]\n",
    "player1.append(new_deck.all_cards[0])\n",
    "player1.append(new_deck.all_cards[1])\n",
    "player2=[]\n",
    "player2.append(new_deck.all_cards[2])\n",
    "player2.append(new_deck.all_cards[3])\n",
    "flop=[]\n",
    "flop.append(new_deck.all_cards[4])\n",
    "flop.append(new_deck.all_cards[5])\n",
    "flop.append(new_deck.all_cards[6])\n",
    "turn=[]\n",
    "turn.append(new_deck.all_cards[7])\n",
    "river=[]\n",
    "river.append(new_deck.all_cards[8])\n",
    "\n",
    "def deal_flop(flop):\n",
    "    print(f\"Pot €{pot}\")\n",
    "    print(\"Flop\")\n",
    "    print(flop[0],flop[1],flop[2])"
   ]
  },
  {
   "cell_type": "code",
   "execution_count": 3,
   "metadata": {},
   "outputs": [
    {
     "name": "stdout",
     "output_type": "stream",
     "text": [
      "Player 1 Hand:\n",
      "Ac Js\n"
     ]
    }
   ],
   "source": [
    "print(\"Player 1 Hand:\")\n",
    "if player1[1].value>player1[0].value:\n",
    "    print(player1[1],player1[0])\n",
    "else:\n",
    "    print(player1[0],player1[1])"
   ]
  },
  {
   "cell_type": "code",
   "execution_count": 4,
   "metadata": {},
   "outputs": [
    {
     "name": "stdout",
     "output_type": "stream",
     "text": [
      "Player 2 Hand:\n",
      "Ks Kc\n"
     ]
    }
   ],
   "source": [
    "print(\"Player 2 Hand:\")\n",
    "if player2[1].value>player2[0].value:\n",
    "    print(player2[1],player2[0])\n",
    "else:\n",
    "    print(player2[0],player2[1])"
   ]
  },
  {
   "cell_type": "code",
   "execution_count": 5,
   "metadata": {},
   "outputs": [
    {
     "name": "stdout",
     "output_type": "stream",
     "text": [
      "Pot €1.5\n",
      "Player 1: Raise(R), Call(C), or Fold(F)?R\n",
      "Pot €3.0\n",
      "Player 2: Call €1(C), or Fold(F)?C\n",
      "Pot €4.0\n",
      "Flop\n",
      "7d 8h Ts\n"
     ]
    }
   ],
   "source": [
    "pot=1.5\n",
    "print(f\"Pot €{pot}\")\n",
    "pf_p1 = input(\"Player 1: Raise(R), Call(C), or Fold(F)?\")\n",
    "if pf_p1==\"R\":\n",
    "    pot=pot+1.5\n",
    "    print(f\"Pot €{pot}\")\n",
    "    pf_p2 = input(\"Player 2: Call €1(C), or Fold(F)?\")\n",
    "    if pf_p2==\"F\":\n",
    "        print(\"Player1 Wins\")\n",
    "    else:\n",
    "        pot=pot+1\n",
    "        deal_flop(flop)\n",
    "elif pf_p1==\"C\":\n",
    "    pot=pot+0.5\n",
    "    print(f\"Pot €{pot}\")\n",
    "    pf_p2 = input(\"Player2: Raise €2(R) or Check(X)?\")\n",
    "    if pf_p2==\"R\":\n",
    "        pot=pot+1\n",
    "        print(f\"Pot €{pot}\")\n",
    "        pf_p1 = input(\"Player 1: Call €1(C), or Fold(F)?\")\n",
    "        if pf_p1==\"F\":\n",
    "            print(\"Player2 Wins\")\n",
    "        else:\n",
    "            pot=pot+1\n",
    "            deal_flop(flop)\n",
    "    else:\n",
    "        deal_flop(flop)\n",
    "else:\n",
    "    print(\"Player 2 Wins\")"
   ]
  },
  {
   "cell_type": "code",
   "execution_count": 14,
   "metadata": {},
   "outputs": [
    {
     "name": "stdout",
     "output_type": "stream",
     "text": [
      "Pot €2.0\n",
      "Flop\n",
      "Jh Ah Qs\n"
     ]
    }
   ],
   "source": [
    "deal_flop(flop)"
   ]
  },
  {
   "cell_type": "code",
   "execution_count": null,
   "metadata": {},
   "outputs": [],
   "source": []
  }
 ],
 "metadata": {
  "kernelspec": {
   "display_name": "Python 3",
   "language": "python",
   "name": "python3"
  },
  "language_info": {
   "codemirror_mode": {
    "name": "ipython",
    "version": 3
   },
   "file_extension": ".py",
   "mimetype": "text/x-python",
   "name": "python",
   "nbconvert_exporter": "python",
   "pygments_lexer": "ipython3",
   "version": "3.7.1"
  },
  "varInspector": {
   "cols": {
    "lenName": 16,
    "lenType": 16,
    "lenVar": 40
   },
   "kernels_config": {
    "python": {
     "delete_cmd_postfix": "",
     "delete_cmd_prefix": "del ",
     "library": "var_list.py",
     "varRefreshCmd": "print(var_dic_list())"
    },
    "r": {
     "delete_cmd_postfix": ") ",
     "delete_cmd_prefix": "rm(",
     "library": "var_list.r",
     "varRefreshCmd": "cat(var_dic_list()) "
    }
   },
   "types_to_exclude": [
    "module",
    "function",
    "builtin_function_or_method",
    "instance",
    "_Feature"
   ],
   "window_display": false
  }
 },
 "nbformat": 4,
 "nbformat_minor": 2
}
