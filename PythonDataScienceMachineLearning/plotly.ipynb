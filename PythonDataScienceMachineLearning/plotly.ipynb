{
 "cells": [
  {
   "cell_type": "code",
   "execution_count": 20,
   "metadata": {},
   "outputs": [],
   "source": [
    "import pandas as pd\n",
    "import numpy as np\n",
    "%matplotlib inline"
   ]
  },
  {
   "cell_type": "code",
   "execution_count": 8,
   "metadata": {},
   "outputs": [
    {
     "name": "stdout",
     "output_type": "stream",
     "text": [
      "4.14.3\n"
     ]
    }
   ],
   "source": [
    "from plotly import __version__\n",
    "print(__version__)"
   ]
  },
  {
   "cell_type": "code",
   "execution_count": 9,
   "metadata": {},
   "outputs": [],
   "source": [
    "import cufflinks as cf\n",
    "from plotly.offline import download_plotlyjs,init_notebook_mode,plot,iplot"
   ]
  },
  {
   "cell_type": "code",
   "execution_count": 10,
   "metadata": {},
   "outputs": [
    {
     "data": {
      "text/html": [
       "        <script type=\"text/javascript\">\n",
       "        window.PlotlyConfig = {MathJaxConfig: 'local'};\n",
       "        if (window.MathJax) {MathJax.Hub.Config({SVG: {font: \"STIX-Web\"}});}\n",
       "        if (typeof require !== 'undefined') {\n",
       "        require.undef(\"plotly\");\n",
       "        requirejs.config({\n",
       "            paths: {\n",
       "                'plotly': ['https://cdn.plot.ly/plotly-latest.min']\n",
       "            }\n",
       "        });\n",
       "        require(['plotly'], function(Plotly) {\n",
       "            window._Plotly = Plotly;\n",
       "        });\n",
       "        }\n",
       "        </script>\n",
       "        "
      ]
     },
     "metadata": {},
     "output_type": "display_data"
    }
   ],
   "source": [
    "#this connects javascript to your notebook\n",
    "init_notebook_mode(connected=True)"
   ]
  },
  {
   "cell_type": "code",
   "execution_count": 11,
   "metadata": {},
   "outputs": [
    {
     "data": {
      "text/html": [
       "        <script type=\"text/javascript\">\n",
       "        window.PlotlyConfig = {MathJaxConfig: 'local'};\n",
       "        if (window.MathJax) {MathJax.Hub.Config({SVG: {font: \"STIX-Web\"}});}\n",
       "        if (typeof require !== 'undefined') {\n",
       "        require.undef(\"plotly\");\n",
       "        requirejs.config({\n",
       "            paths: {\n",
       "                'plotly': ['https://cdn.plot.ly/plotly-latest.min']\n",
       "            }\n",
       "        });\n",
       "        require(['plotly'], function(Plotly) {\n",
       "            window._Plotly = Plotly;\n",
       "        });\n",
       "        }\n",
       "        </script>\n",
       "        "
      ]
     },
     "metadata": {},
     "output_type": "display_data"
    }
   ],
   "source": [
    "#allows us to use cufflinks offline\n",
    "cf.go_offline()"
   ]
  },
  {
   "cell_type": "code",
   "execution_count": 16,
   "metadata": {},
   "outputs": [
    {
     "data": {
      "text/html": [
       "<div>\n",
       "<style scoped>\n",
       "    .dataframe tbody tr th:only-of-type {\n",
       "        vertical-align: middle;\n",
       "    }\n",
       "\n",
       "    .dataframe tbody tr th {\n",
       "        vertical-align: top;\n",
       "    }\n",
       "\n",
       "    .dataframe thead th {\n",
       "        text-align: right;\n",
       "    }\n",
       "</style>\n",
       "<table border=\"1\" class=\"dataframe\">\n",
       "  <thead>\n",
       "    <tr style=\"text-align: right;\">\n",
       "      <th></th>\n",
       "      <th>A</th>\n",
       "      <th>B</th>\n",
       "      <th>C</th>\n",
       "      <th>D</th>\n",
       "    </tr>\n",
       "  </thead>\n",
       "  <tbody>\n",
       "    <tr>\n",
       "      <th>0</th>\n",
       "      <td>-0.315508</td>\n",
       "      <td>-0.742187</td>\n",
       "      <td>-1.207852</td>\n",
       "      <td>1.702656</td>\n",
       "    </tr>\n",
       "    <tr>\n",
       "      <th>1</th>\n",
       "      <td>0.379703</td>\n",
       "      <td>1.213411</td>\n",
       "      <td>1.647806</td>\n",
       "      <td>1.559422</td>\n",
       "    </tr>\n",
       "    <tr>\n",
       "      <th>2</th>\n",
       "      <td>0.130825</td>\n",
       "      <td>-1.702571</td>\n",
       "      <td>0.867425</td>\n",
       "      <td>1.440324</td>\n",
       "    </tr>\n",
       "    <tr>\n",
       "      <th>3</th>\n",
       "      <td>-2.212536</td>\n",
       "      <td>1.107771</td>\n",
       "      <td>0.766978</td>\n",
       "      <td>-2.239037</td>\n",
       "    </tr>\n",
       "    <tr>\n",
       "      <th>4</th>\n",
       "      <td>0.695990</td>\n",
       "      <td>0.245027</td>\n",
       "      <td>0.818521</td>\n",
       "      <td>0.164677</td>\n",
       "    </tr>\n",
       "  </tbody>\n",
       "</table>\n",
       "</div>"
      ],
      "text/plain": [
       "          A         B         C         D\n",
       "0 -0.315508 -0.742187 -1.207852  1.702656\n",
       "1  0.379703  1.213411  1.647806  1.559422\n",
       "2  0.130825 -1.702571  0.867425  1.440324\n",
       "3 -2.212536  1.107771  0.766978 -2.239037\n",
       "4  0.695990  0.245027  0.818521  0.164677"
      ]
     },
     "execution_count": 16,
     "metadata": {},
     "output_type": "execute_result"
    }
   ],
   "source": [
    "df=pd.DataFrame(np.random.randn(100,4),columns='A B C D'.split())\n",
    "df.head()"
   ]
  },
  {
   "cell_type": "code",
   "execution_count": 19,
   "metadata": {},
   "outputs": [
    {
     "data": {
      "text/html": [
       "<div>\n",
       "<style scoped>\n",
       "    .dataframe tbody tr th:only-of-type {\n",
       "        vertical-align: middle;\n",
       "    }\n",
       "\n",
       "    .dataframe tbody tr th {\n",
       "        vertical-align: top;\n",
       "    }\n",
       "\n",
       "    .dataframe thead th {\n",
       "        text-align: right;\n",
       "    }\n",
       "</style>\n",
       "<table border=\"1\" class=\"dataframe\">\n",
       "  <thead>\n",
       "    <tr style=\"text-align: right;\">\n",
       "      <th></th>\n",
       "      <th>Category</th>\n",
       "      <th>Values</th>\n",
       "    </tr>\n",
       "  </thead>\n",
       "  <tbody>\n",
       "    <tr>\n",
       "      <th>0</th>\n",
       "      <td>A</td>\n",
       "      <td>32</td>\n",
       "    </tr>\n",
       "    <tr>\n",
       "      <th>1</th>\n",
       "      <td>B</td>\n",
       "      <td>43</td>\n",
       "    </tr>\n",
       "    <tr>\n",
       "      <th>2</th>\n",
       "      <td>C</td>\n",
       "      <td>50</td>\n",
       "    </tr>\n",
       "  </tbody>\n",
       "</table>\n",
       "</div>"
      ],
      "text/plain": [
       "  Category  Values\n",
       "0        A      32\n",
       "1        B      43\n",
       "2        C      50"
      ]
     },
     "execution_count": 19,
     "metadata": {},
     "output_type": "execute_result"
    }
   ],
   "source": [
    "df2=pd.DataFrame({'Category':['A','B','C'],'Values':[32,43,50]})\n",
    "df2"
   ]
  },
  {
   "cell_type": "code",
   "execution_count": 21,
   "metadata": {},
   "outputs": [
    {
     "data": {
      "text/plain": [
       "<matplotlib.axes._subplots.AxesSubplot at 0x1b2ddaa64c0>"
      ]
     },
     "execution_count": 21,
     "metadata": {},
     "output_type": "execute_result"
    },
    {
     "data": {
      "image/png": "[encoded data removed]",
      "text/plain": [
       "<Figure size 432x288 with 1 Axes>"
      ]
     },
     "metadata": {
      "needs_background": "light"
     },
     "output_type": "display_data"
    }
   ],
   "source": [
    "#standard pandas plot\n",
    "df.plot()"
   ]
  },
  {
   "cell_type": "code",
   "execution_count": 22,
   "metadata": {},
   "outputs": [
    {
     "data": {
      "application/vnd.plotly.v1+json": {
       "config": {
        "linkText": "Export to plot.ly",
        "plotlyServerURL": "https://plot.ly",
        "showLink": true
       },
       "data": [
        {
         "line": {
          "color": "rgba(255, 153, 51, 1.0)",
          "dash": "solid",
          "shape": "linear",
          "width": 1.3
         },
         "mode": "lines",
         "name": "A",
         "text": "",
         "type": "scatter",
         "x": [
          0,
          1,
          2,
          3,
          4,
          5,
          6,
          7,
          8,
          9,
          10,
          11,
          12,
          13,
          14,
          15,
          16,
          17,
          18,
          19,
          20,
          21,
          22,
          23,
          24,
          25,
          26,
          27,
          28,
          29,
          30,
          31,
          32,
          33,
          34,
          35,
          36,
          37,
          38,
          39,
          40,
          41,
          42,
          43,
          44,
          45,
          46,
          47,
          48,
          49,
          50,
          51,
          52,
          53,
          54,
          55,
          56,
          57,
          58,
          59,
          60,
          61,
          62,
          63,
          64,
          65,
          66,
          67,
          68,
          69,
          70,
          71,
          72,
          73,
          74,
          75,
          76,
          77,
          78,
          79,
          80,
          81,
          82,
          83,
          84,
          85,
          86,
          87,
          88,
          89,
          90,
          91,
          92,
          93,
          94,
          95,
          96,
          97,
          98,
          99
         ],
         "y": [
          -0.3155077874583621,
          0.3797030900663316,
          0.13082536129896652,
          -2.2125362027707243,
          0.6959899932604471,
          -0.6651688342182054,
          0.3392751939560983,
          -0.06426101581698589,
          0.9363722872087246,
          1.2876798208715128,
          -0.8196844023398393,
          0.10550574634716345,
          0.984281215420857,
          -0.6480877371964813,
          -1.0196895799590036,
          0.03905274891226861,
          1.5089599192845327,
          1.3158362494688813,
          -0.3925680163977808,
          2.1593895399262033,
          -0.9277739001087258,
          -1.8101984688606385,
          1.1051035037837664,
          -1.9118969941429562,
          0.5506036681161965,
          -2.0808993092408583,
          -0.17650866762141137,
          0.2632788163547951,
          -0.6182340559844405,
          1.7529663918088312,
          1.1406246805389066,
          0.7590908403416821,
          -1.4817193890130869,
          0.16014759977799178,
          -1.1411833455404845,
          -0.27451731196969403,
          0.9712894693061355,
          0.8776435538970953,
          -0.9255622764713449,
          -0.15646200077681197,
          0.12895762865690136,
          0.013382331274075478,
          0.008946199293052778,
          1.0855960400891453,
          -0.9989079444164698,
          -0.9197301339026103,
          -0.510708790885548,
          -0.5881182748390118,
          -0.870030337560292,
          -1.855747922112066,
          -0.39039164081373884,
          1.1694539604739602,
          -1.3832385950425616,
          -0.5338808546528805,
          0.6274205428990312,
          0.7377221968558098,
          0.2104629902769848,
          1.0332701707296545,
          1.1773014071136858,
          -3.003363732106316,
          -0.6367581114030771,
          -0.9849507362072155,
          1.172889971084506,
          1.4049919559413808,
          -1.0665120136345716,
          -0.4927786792902122,
          -0.4287735889544915,
          2.1301691553569584,
          0.10248865395219325,
          -0.673713112327333,
          -0.2774788826539322,
          -0.9845092147425413,
          -1.494775948560315,
          -0.1590858026848481,
          0.4245146132867722,
          -1.0527070551758853,
          -0.6271225927724591,
          -0.0932018672644432,
          -1.688083990261239,
          -0.1782681183091389,
          -0.47899491072394434,
          0.6428012794627598,
          1.4776959120729736,
          -0.6652938373848085,
          1.352182236487618,
          -0.7313750627525646,
          0.14174316018181848,
          1.6692898036380026,
          1.2245434297403823,
          -0.7160280045468996,
          1.8260580823033306,
          1.6250393454014014,
          -1.498852738752117,
          0.527366459397921,
          -0.37994599350941144,
          -0.889761094168913,
          -0.6175950575590283,
          0.8291700376647222,
          0.052524725240034126,
          -0.38017490909113333
         ]
        },
        {
         "line": {
          "color": "rgba(55, 128, 191, 1.0)",
          "dash": "solid",
          "shape": "linear",
          "width": 1.3
         },
         "mode": "lines",
         "name": "B",
         "text": "",
         "type": "scatter",
         "x": [
          0,
          1,
          2,
          3,
          4,
          5,
          6,
          7,
          8,
          9,
          10,
          11,
          12,
          13,
          14,
          15,
          16,
          17,
          18,
          19,
          20,
          21,
          22,
          23,
          24,
          25,
          26,
          27,
          28,
          29,
          30,
          31,
          32,
          33,
          34,
          35,
          36,
          37,
          38,
          39,
          40,
          41,
          42,
          43,
          44,
          45,
          46,
          47,
          48,
          49,
          50,
          51,
          52,
          53,
          54,
          55,
          56,
          57,
          58,
          59,
          60,
          61,
          62,
          63,
          64,
          65,
          66,
          67,
          68,
          69,
          70,
          71,
          72,
          73,
          74,
          75,
          76,
          77,
          78,
          79,
          80,
          81,
          82,
          83,
          84,
          85,
          86,
          87,
          88,
          89,
          90,
          91,
          92,
          93,
          94,
          95,
          96,
          97,
          98,
          99
         ],
         "y": [
          -0.742187179415621,
          1.2134107925533075,
          -1.7025709041072157,
          1.1077712761245098,
          0.2450268665699058,
          0.03385606567073771,
          -1.0293155394884315,
          -0.6351817072975786,
          1.208253857927379,
          0.2029117802982394,
          -0.6799122973866606,
          -0.08803443897233985,
          0.5758098646913065,
          2.3902431728879696,
          2.322309790667226,
          -2.053897477260906,
          -0.36181402898944065,
          -0.49557665247321375,
          -0.4951736765103893,
          0.37178527931536326,
          -0.3682043275108212,
          -0.5047798875636234,
          1.379355997986373,
          0.13616493155165393,
          0.49318325140623254,
          -1.5175410018180038,
          1.1547435470274139,
          0.6050117379633767,
          -0.6996344079126486,
          -1.4817646470214914,
          0.18752169065501145,
          0.8066387082368147,
          -1.1959799329299963,
          -1.4170206981119036,
          -0.5800184256741695,
          0.49349150837889405,
          -1.2519802476741586,
          -0.12630538029101265,
          0.5713795406605309,
          0.33842867331585463,
          0.9276612042481814,
          0.004692158094001177,
          0.9607895275269087,
          -0.10436431125521162,
          0.19500506072408932,
          0.143619040803998,
          0.24846269290696457,
          -1.1992336266022514,
          0.7719922880483462,
          -1.7107148568858963,
          -1.1515543208452308,
          -0.4577740846020255,
          0.009834139054455184,
          -0.9013706274525457,
          -1.35055050964298,
          0.2636316222136694,
          -1.2117197793433805,
          0.7298801493900917,
          0.5123712500991467,
          -0.9682940983285426,
          0.4561713613886814,
          -1.005662369358284,
          0.3471944906337027,
          0.1589370880209759,
          0.6209089271516771,
          -0.8626092465711424,
          0.7291717621580838,
          -0.9247316157756699,
          0.048935049402674256,
          -1.1589530826492762,
          -0.11538883632037497,
          -2.5490296011198748,
          -0.40073928870507336,
          1.8938769192769815,
          -0.06177218824813722,
          -0.3126294223162608,
          -1.5306645065803304,
          -0.5912941570519058,
          0.8109286932495376,
          2.1950748662015487,
          -1.2866497815909261,
          -0.04497568412693477,
          1.481450499023565,
          0.663621173996275,
          -0.8882298892774952,
          -2.4824878621979,
          -0.02457183461218704,
          -0.039755112888196234,
          -0.5727714919382593,
          0.6308537624751678,
          0.22301238943458415,
          -0.3747561570544337,
          -1.6649265559053648,
          1.7760400884476781,
          0.09799518810159046,
          0.5757701404841383,
          1.161331427062505,
          0.1137451273646778,
          0.41018929002830706,
          -0.8698503917579509
         ]
        },
        {
         "line": {
          "color": "rgba(50, 171, 96, 1.0)",
          "dash": "solid",
          "shape": "linear",
          "width": 1.3
         },
         "mode": "lines",
         "name": "C",
         "text": "",
         "type": "scatter",
         "x": [
          0,
          1,
          2,
          3,
          4,
          5,
          6,
          7,
          8,
          9,
          10,
          11,
          12,
          13,
          14,
          15,
          16,
          17,
          18,
          19,
          20,
          21,
          22,
          23,
          24,
          25,
          26,
          27,
          28,
          29,
          30,
          31,
          32,
          33,
          34,
          35,
          36,
          37,
          38,
          39,
          40,
          41,
          42,
          43,
          44,
          45,
          46,
          47,
          48,
          49,
          50,
          51,
          52,
          53,
          54,
          55,
          56,
          57,
          58,
          59,
          60,
          61,
          62,
          63,
          64,
          65,
          66,
          67,
          68,
          69,
          70,
          71,
          72,
          73,
          74,
          75,
          76,
          77,
          78,
          79,
          80,
          81,
          82,
          83,
          84,
          85,
          86,
          87,
          88,
          89,
          90,
          91,
          92,
          93,
          94,
          95,
          96,
          97,
          98,
          99
         ],
         "y": [
          -1.2078524061832343,
          1.647806384601327,
          0.867424872152327,
          0.7669777110713896,
          0.818520999225426,
          -0.48320967186024133,
          0.35396243357211826,
          -0.8479124671901214,
          0.13457107379341118,
          -1.5782654987525453,
          -0.024899038746018128,
          -0.9661302530011148,
          0.10786866146194769,
          -1.029408787668984,
          -0.551551586968485,
          0.7478338033100305,
          0.32212826393082283,
          -0.07981914124646398,
          -1.7345386630444235,
          0.940856042038223,
          -0.893802996297651,
          -1.6838191488701428,
          -0.8193949520436961,
          -0.6986978023236927,
          0.9484716043906775,
          -2.4729774481529536,
          -0.5184931813506506,
          1.2944947036141494,
          1.6518965347606518,
          -0.27097369670413435,
          0.6607100884259512,
          0.38996016296846236,
          0.6894118859018167,
          -0.8632209729940418,
          -0.5171083610114836,
          0.6018600888172007,
          -0.8457311592941562,
          0.59764909067985,
          -0.059718166023163995,
          0.4020361989483813,
          -0.6843729666514186,
          -0.5242962066773789,
          -0.9377796468920861,
          -0.2094071465163398,
          -0.6004287234619048,
          -1.1654165511468466,
          0.552071633160766,
          2.294425554654729,
          0.9840253882237323,
          1.532463975726437,
          -2.0965363642856185,
          -0.027778544002653505,
          -1.2592610118032257,
          -0.4940128214479949,
          -0.9603470186202026,
          -0.8771390346804705,
          1.997699888499699,
          0.6984735539398365,
          -1.5234038797937803,
          -0.40855022070663927,
          0.7077209690843312,
          1.3804789004634803,
          1.0428083128544448,
          0.25439927354969954,
          0.43481566187872217,
          0.5020740992240665,
          1.9118308644715627,
          -1.1631204064945873,
          0.2444948577104291,
          0.30624170731256933,
          -0.646460226151218,
          1.2532514420256606,
          -0.48520205356676244,
          0.4214967889186345,
          0.7229831685011271,
          -0.05929358539847693,
          0.26748616985900747,
          0.2873558919730922,
          0.5109451119502947,
          -1.273673762305818,
          -0.12156207954094937,
          0.665416255241936,
          -0.3855498693882793,
          0.6556997917497112,
          1.083962308875982,
          1.051193036773326,
          -0.16569352007058658,
          1.445267284777046,
          0.7339791857623821,
          -0.8844229099045823,
          0.5934768649818013,
          0.30832968316289466,
          2.6337128110926913,
          0.054701840278038164,
          0.43980988188662745,
          0.54351591766071,
          0.9283251404799931,
          0.09876115894398224,
          -1.2533514262488898,
          2.1524972165590093
         ]
        },
        {
         "line": {
          "color": "rgba(128, 0, 128, 1.0)",
          "dash": "solid",
          "shape": "linear",
          "width": 1.3
         },
         "mode": "lines",
         "name": "D",
         "text": "",
         "type": "scatter",
         "x": [
          0,
          1,
          2,
          3,
          4,
          5,
          6,
          7,
          8,
          9,
          10,
          11,
          12,
          13,
          14,
          15,
          16,
          17,
          18,
          19,
          20,
          21,
          22,
          23,
          24,
          25,
          26,
          27,
          28,
          29,
          30,
          31,
          32,
          33,
          34,
          35,
          36,
          37,
          38,
          39,
          40,
          41,
          42,
          43,
          44,
          45,
          46,
          47,
          48,
          49,
          50,
          51,
          52,
          53,
          54,
          55,
          56,
          57,
          58,
          59,
          60,
          61,
          62,
          63,
          64,
          65,
          66,
          67,
          68,
          69,
          70,
          71,
          72,
          73,
          74,
          75,
          76,
          77,
          78,
          79,
          80,
          81,
          82,
          83,
          84,
          85,
          86,
          87,
          88,
          89,
          90,
          91,
          92,
          93,
          94,
          95,
          96,
          97,
          98,
          99
         ],
         "y": [
          1.7026558454303116,
          1.5594219269692025,
          1.4403235877899048,
          -2.2390370525507115,
          0.16467710599817323,
          -0.9218258259100182,
          -0.2611907139315378,
          1.0977798698411936,
          0.37977150377533847,
          0.678930562576309,
          0.24027033970707695,
          -1.134130511030025,
          0.28086292437562704,
          0.8503726898773861,
          0.9055947656818857,
          -0.7918153524806373,
          -1.2086934500885222,
          -1.3335624922189502,
          -0.32424765208188006,
          -0.11862208797272265,
          0.07067805408788083,
          -1.0783026149841517,
          1.2151290995336135,
          -1.9090316261587466,
          0.7698743059492738,
          1.4226846925724372,
          -0.38905961689902124,
          -0.3890691908653827,
          -1.138098162318478,
          1.5286657168142626,
          -1.5256697797380405,
          -0.6517541801020447,
          0.6651618792751028,
          0.042148395695265156,
          0.8037912030554389,
          -1.2340590432062606,
          1.1138802032482642,
          0.24272962949614557,
          -1.0897845546442384,
          -0.1861118730117989,
          -0.28506025348328085,
          -0.577405630427034,
          0.9629284792942532,
          0.8642435985066734,
          -2.1158255595742577,
          0.9961250193213448,
          0.559105232995064,
          2.3677036955966857,
          0.30853192592085305,
          0.31965857680337983,
          -0.5789125493559564,
          -0.38674738312959595,
          1.75609531876379,
          -0.3335211959389353,
          -0.09548124952105416,
          -1.5095801851776736,
          -0.50414646443317,
          -0.3874310487330894,
          0.960662750189629,
          -0.42162185528459656,
          -1.1383848115226616,
          0.39497549251283326,
          -1.0588751065242445,
          -1.0819417784228555,
          -1.1208476331280686,
          0.548769582600236,
          -1.4957479220462382,
          -0.9123343605142379,
          -0.5407420132543753,
          -0.0030139030991650174,
          0.9181096233801954,
          -0.3682788361733208,
          -0.2944575717906814,
          -0.44024326113832996,
          0.22636349352905413,
          -0.09082428904754525,
          2.8711765900811588,
          -0.9151438925202213,
          0.3043595561190293,
          0.7625528301828641,
          -0.3890199468582452,
          0.45888215375476715,
          1.5323600237489465,
          -0.3188006834231324,
          -0.7476326812212825,
          0.8562325819537043,
          -1.3959940222047766,
          -0.0861929617313064,
          -0.9274887709992322,
          -1.0259843591608262,
          1.7701086138228979,
          0.5539931463352439,
          -0.735673032801025,
          0.5077288161248946,
          -0.2789899201810933,
          0.5197571423652604,
          2.7190894240091414,
          -0.7411929584172913,
          -0.22795472975730985,
          -0.2906902789780266
         ]
        }
       ],
       "layout": {
        "legend": {
         "bgcolor": "#F5F6F9",
         "font": {
          "color": "#4D5663"
         }
        },
        "paper_bgcolor": "#F5F6F9",
        "plot_bgcolor": "#F5F6F9",
        "template": {
         "data": {
          "bar": [
           {
            "error_x": {
             "color": "#2a3f5f"
            },
            "error_y": {
             "color": "#2a3f5f"
            },
            "marker": {
             "line": {
              "color": "#E5ECF6",
              "width": 0.5
             }
            },
            "type": "bar"
           }
          ],
          "barpolar": [
           {
            "marker": {
             "line": {
              "color": "#E5ECF6",
              "width": 0.5
             }
            },
            "type": "barpolar"
           }
          ],
          "carpet": [
           {
            "aaxis": {
             "endlinecolor": "#2a3f5f",
             "gridcolor": "white",
             "linecolor": "white",
             "minorgridcolor": "white",
             "startlinecolor": "#2a3f5f"
            },
            "baxis": {
             "endlinecolor": "#2a3f5f",
             "gridcolor": "white",
             "linecolor": "white",
             "minorgridcolor": "white",
             "startlinecolor": "#2a3f5f"
            },
            "type": "carpet"
           }
          ],
          "choropleth": [
           {
            "colorbar": {
             "outlinewidth": 0,
             "ticks": ""
            },
            "type": "choropleth"
           }
          ],
          "contour": [
           {
            "colorbar": {
             "outlinewidth": 0,
             "ticks": ""
            },
            "colorscale": [
             [
              0,
              "#0d0887"
             ],
             [
              0.1111111111111111,
              "#46039f"
             ],
             [
              0.2222222222222222,
              "#7201a8"
             ],
             [
              0.3333333333333333,
              "#9c179e"
             ],
             [
              0.4444444444444444,
              "#bd3786"
             ],
             [
              0.5555555555555556,
              "#d8576b"
             ],
             [
              0.6666666666666666,
              "#ed7953"
             ],
             [
              0.7777777777777778,
              "#fb9f3a"
             ],
             [
              0.8888888888888888,
              "#fdca26"
             ],
             [
              1,
              "#f0f921"
             ]
            ],
            "type": "contour"
           }
          ],
          "contourcarpet": [
           {
            "colorbar": {
             "outlinewidth": 0,
             "ticks": ""
            },
            "type": "contourcarpet"
           }
          ],
          "heatmap": [
           {
            "colorbar": {
             "outlinewidth": 0,
             "ticks": ""
            },
            "colorscale": [
             [
              0,
              "#0d0887"
             ],
             [
              0.1111111111111111,
              "#46039f"
             ],
             [
              0.2222222222222222,
              "#7201a8"
             ],
             [
              0.3333333333333333,
              "#9c179e"
             ],
             [
              0.4444444444444444,
              "#bd3786"
             ],
             [
              0.5555555555555556,
              "#d8576b"
             ],
             [
              0.6666666666666666,
              "#ed7953"
             ],
             [
              0.7777777777777778,
              "#fb9f3a"
             ],
             [
              0.8888888888888888,
              "#fdca26"
             ],
             [
              1,
              "#f0f921"
             ]
            ],
            "type": "heatmap"
           }
          ],
          "heatmapgl": [
           {
            "colorbar": {
             "outlinewidth": 0,
             "ticks": ""
            },
            "colorscale": [
             [
              0,
              "#0d0887"
             ],
             [
              0.1111111111111111,
              "#46039f"
             ],
             [
              0.2222222222222222,
              "#7201a8"
             ],
             [
              0.3333333333333333,
              "#9c179e"
             ],
             [
              0.4444444444444444,
              "#bd3786"
             ],
             [
              0.5555555555555556,
              "#d8576b"
             ],
             [
              0.6666666666666666,
              "#ed7953"
             ],
             [
              0.7777777777777778,
              "#fb9f3a"
             ],
             [
              0.8888888888888888,
              "#fdca26"
             ],
             [
              1,
              "#f0f921"
             ]
            ],
            "type": "heatmapgl"
           }
          ],
          "histogram": [
           {
            "marker": {
             "colorbar": {
              "outlinewidth": 0,
              "ticks": ""
             }
            },
            "type": "histogram"
           }
          ],
          "histogram2d": [
           {
            "colorbar": {
             "outlinewidth": 0,
             "ticks": ""
            },
            "colorscale": [
             [
              0,
              "#0d0887"
             ],
             [
              0.1111111111111111,
              "#46039f"
             ],
             [
              0.2222222222222222,
              "#7201a8"
             ],
             [
              0.3333333333333333,
              "#9c179e"
             ],
             [
              0.4444444444444444,
              "#bd3786"
             ],
             [
              0.5555555555555556,
              "#d8576b"
             ],
             [
              0.6666666666666666,
              "#ed7953"
             ],
             [
              0.7777777777777778,
              "#fb9f3a"
             ],
             [
              0.8888888888888888,
              "#fdca26"
             ],
             [
              1,
              "#f0f921"
             ]
            ],
            "type": "histogram2d"
           }
          ],
          "histogram2dcontour": [
           {
            "colorbar": {
             "outlinewidth": 0,
             "ticks": ""
            },
            "colorscale": [
             [
              0,
              "#0d0887"
             ],
             [
              0.1111111111111111,
              "#46039f"
             ],
             [
              0.2222222222222222,
              "#7201a8"
             ],
             [
              0.3333333333333333,
              "#9c179e"
             ],
             [
              0.4444444444444444,
              "#bd3786"
             ],
             [
              0.5555555555555556,
              "#d8576b"
             ],
             [
              0.6666666666666666,
              "#ed7953"
             ],
             [
              0.7777777777777778,
              "#fb9f3a"
             ],
             [
              0.8888888888888888,
              "#fdca26"
             ],
             [
              1,
              "#f0f921"
             ]
            ],
            "type": "histogram2dcontour"
           }
          ],
          "mesh3d": [
           {
            "colorbar": {
             "outlinewidth": 0,
             "ticks": ""
            },
            "type": "mesh3d"
           }
          ],
          "parcoords": [
           {
            "line": {
             "colorbar": {
              "outlinewidth": 0,
              "ticks": ""
             }
            },
            "type": "parcoords"
           }
          ],
          "pie": [
           {
            "automargin": true,
            "type": "pie"
           }
          ],
          "scatter": [
           {
            "marker": {
             "colorbar": {
              "outlinewidth": 0,
              "ticks": ""
             }
            },
            "type": "scatter"
           }
          ],
          "scatter3d": [
           {
            "line": {
             "colorbar": {
              "outlinewidth": 0,
              "ticks": ""
             }
            },
            "marker": {
             "colorbar": {
              "outlinewidth": 0,
              "ticks": ""
             }
            },
            "type": "scatter3d"
           }
          ],
          "scattercarpet": [
           {
            "marker": {
             "colorbar": {
              "outlinewidth": 0,
              "ticks": ""
             }
            },
            "type": "scattercarpet"
           }
          ],
          "scattergeo": [
           {
            "marker": {
             "colorbar": {
              "outlinewidth": 0,
              "ticks": ""
             }
            },
            "type": "scattergeo"
           }
          ],
          "scattergl": [
           {
            "marker": {
             "colorbar": {
              "outlinewidth": 0,
              "ticks": ""
             }
            },
            "type": "scattergl"
           }
          ],
          "scattermapbox": [
           {
            "marker": {
             "colorbar": {
              "outlinewidth": 0,
              "ticks": ""
             }
            },
            "type": "scattermapbox"
           }
          ],
          "scatterpolar": [
           {
            "marker": {
             "colorbar": {
              "outlinewidth": 0,
              "ticks": ""
             }
            },
            "type": "scatterpolar"
           }
          ],
          "scatterpolargl": [
           {
            "marker": {
             "colorbar": {
              "outlinewidth": 0,
              "ticks": ""
             }
            },
            "type": "scatterpolargl"
           }
          ],
          "scatterternary": [
           {
            "marker": {
             "colorbar": {
              "outlinewidth": 0,
              "ticks": ""
             }
            },
            "type": "scatterternary"
           }
          ],
          "surface": [
           {
            "colorbar": {
             "outlinewidth": 0,
             "ticks": ""
            },
            "colorscale": [
             [
              0,
              "#0d0887"
             ],
             [
              0.1111111111111111,
              "#46039f"
             ],
             [
              0.2222222222222222,
              "#7201a8"
             ],
             [
              0.3333333333333333,
              "#9c179e"
             ],
             [
              0.4444444444444444,
              "#bd3786"
             ],
             [
              0.5555555555555556,
              "#d8576b"
             ],
             [
              0.6666666666666666,
              "#ed7953"
             ],
             [
              0.7777777777777778,
              "#fb9f3a"
             ],
             [
              0.8888888888888888,
              "#fdca26"
             ],
             [
              1,
              "#f0f921"
             ]
            ],
            "type": "surface"
           }
          ],
          "table": [
           {
            "cells": {
             "fill": {
              "color": "#EBF0F8"
             },
             "line": {
              "color": "white"
             }
            },
            "header": {
             "fill": {
              "color": "#C8D4E3"
             },
             "line": {
              "color": "white"
             }
            },
            "type": "table"
           }
          ]
         },
         "layout": {
          "annotationdefaults": {
           "arrowcolor": "#2a3f5f",
           "arrowhead": 0,
           "arrowwidth": 1
          },
          "autotypenumbers": "strict",
          "coloraxis": {
           "colorbar": {
            "outlinewidth": 0,
            "ticks": ""
           }
          },
          "colorscale": {
           "diverging": [
            [
             0,
             "#8e0152"
            ],
            [
             0.1,
             "#c51b7d"
            ],
            [
             0.2,
             "#de77ae"
            ],
            [
             0.3,
             "#f1b6da"
            ],
            [
             0.4,
             "#fde0ef"
            ],
            [
             0.5,
             "#f7f7f7"
            ],
            [
             0.6,
             "#e6f5d0"
            ],
            [
             0.7,
             "#b8e186"
            ],
            [
             0.8,
             "#7fbc41"
            ],
            [
             0.9,
             "#4d9221"
            ],
            [
             1,
             "#276419"
            ]
           ],
           "sequential": [
            [
             0,
             "#0d0887"
            ],
            [
             0.1111111111111111,
             "#46039f"
            ],
            [
             0.2222222222222222,
             "#7201a8"
            ],
            [
             0.3333333333333333,
             "#9c179e"
            ],
            [
             0.4444444444444444,
             "#bd3786"
            ],
            [
             0.5555555555555556,
             "#d8576b"
            ],
            [
             0.6666666666666666,
             "#ed7953"
            ],
            [
             0.7777777777777778,
             "#fb9f3a"
            ],
            [
             0.8888888888888888,
             "#fdca26"
            ],
            [
             1,
             "#f0f921"
            ]
           ],
           "sequentialminus": [
            [
             0,
             "#0d0887"
            ],
            [
             0.1111111111111111,
             "#46039f"
            ],
            [
             0.2222222222222222,
             "#7201a8"
            ],
            [
             0.3333333333333333,
             "#9c179e"
            ],
            [
             0.4444444444444444,
             "#bd3786"
            ],
            [
             0.5555555555555556,
             "#d8576b"
            ],
            [
             0.6666666666666666,
             "#ed7953"
            ],
            [
             0.7777777777777778,
             "#fb9f3a"
            ],
            [
             0.8888888888888888,
             "#fdca26"
            ],
            [
             1,
             "#f0f921"
            ]
           ]
          },
          "colorway": [
           "#636efa",
           "#EF553B",
           "#00cc96",
           "#ab63fa",
           "#FFA15A",
           "#19d3f3",
           "#FF6692",
           "#B6E880",
           "#FF97FF",
           "#FECB52"
          ],
          "font": {
           "color": "#2a3f5f"
          },
          "geo": {
           "bgcolor": "white",
           "lakecolor": "white",
           "landcolor": "#E5ECF6",
           "showlakes": true,
           "showland": true,
           "subunitcolor": "white"
          },
          "hoverlabel": {
           "align": "left"
          },
          "hovermode": "closest",
          "mapbox": {
           "style": "light"
          },
          "paper_bgcolor": "white",
          "plot_bgcolor": "#E5ECF6",
          "polar": {
           "angularaxis": {
            "gridcolor": "white",
            "linecolor": "white",
            "ticks": ""
           },
           "bgcolor": "#E5ECF6",
           "radialaxis": {
            "gridcolor": "white",
            "linecolor": "white",
            "ticks": ""
           }
          },
          "scene": {
           "xaxis": {
            "backgroundcolor": "#E5ECF6",
            "gridcolor": "white",
            "gridwidth": 2,
            "linecolor": "white",
            "showbackground": true,
            "ticks": "",
            "zerolinecolor": "white"
           },
           "yaxis": {
            "backgroundcolor": "#E5ECF6",
            "gridcolor": "white",
            "gridwidth": 2,
            "linecolor": "white",
            "showbackground": true,
            "ticks": "",
            "zerolinecolor": "white"
           },
           "zaxis": {
            "backgroundcolor": "#E5ECF6",
            "gridcolor": "white",
            "gridwidth": 2,
            "linecolor": "white",
            "showbackground": true,
            "ticks": "",
            "zerolinecolor": "white"
           }
          },
          "shapedefaults": {
           "line": {
            "color": "#2a3f5f"
           }
          },
          "ternary": {
           "aaxis": {
            "gridcolor": "white",
            "linecolor": "white",
            "ticks": ""
           },
           "baxis": {
            "gridcolor": "white",
            "linecolor": "white",
            "ticks": ""
           },
           "bgcolor": "#E5ECF6",
           "caxis": {
            "gridcolor": "white",
            "linecolor": "white",
            "ticks": ""
           }
          },
          "title": {
           "x": 0.05
          },
          "xaxis": {
           "automargin": true,
           "gridcolor": "white",
           "linecolor": "white",
           "ticks": "",
           "title": {
            "standoff": 15
           },
           "zerolinecolor": "white",
           "zerolinewidth": 2
          },
          "yaxis": {
           "automargin": true,
           "gridcolor": "white",
           "linecolor": "white",
           "ticks": "",
           "title": {
            "standoff": 15
           },
           "zerolinecolor": "white",
           "zerolinewidth": 2
          }
         }
        },
        "title": {
         "font": {
          "color": "#4D5663"
         }
        },
        "xaxis": {
         "gridcolor": "#E1E5ED",
         "showgrid": true,
         "tickfont": {
          "color": "#4D5663"
         },
         "title": {
          "font": {
           "color": "#4D5663"
          },
          "text": ""
         },
         "zerolinecolor": "#E1E5ED"
        },
        "yaxis": {
         "gridcolor": "#E1E5ED",
         "showgrid": true,
         "tickfont": {
          "color": "#4D5663"
         },
         "title": {
          "font": {
           "color": "#4D5663"
          },
          "text": ""
         },
         "zerolinecolor": "#E1E5ED"
        }
       }
      },
      "text/html": [
       "<div>                            <div id=\"511febf8-e82d-4a67-9212-1966f38876e1\" class=\"plotly-graph-div\" style=\"height:525px; width:100%;\"></div>            <script type=\"text/javascript\">                require([\"plotly\"], function(Plotly) {                    window.PLOTLYENV=window.PLOTLYENV || {};\n",
       "                    window.PLOTLYENV.BASE_URL='https://plot.ly';                                    if (document.getElementById(\"511febf8-e82d-4a67-9212-1966f38876e1\")) {                    Plotly.newPlot(                        \"511febf8-e82d-4a67-9212-1966f38876e1\",                        [{\"line\": {\"color\": \"rgba(255, 153, 51, 1.0)\", \"dash\": \"solid\", \"shape\": \"linear\", \"width\": 1.3}, \"mode\": \"lines\", \"name\": \"A\", \"text\": \"\", \"type\": \"scatter\", \"x\": [0, 1, 2, 3, 4, 5, 6, 7, 8, 9, 10, 11, 12, 13, 14, 15, 16, 17, 18, 19, 20, 21, 22, 23, 24, 25, 26, 27, 28, 29, 30, 31, 32, 33, 34, 35, 36, 37, 38, 39, 40, 41, 42, 43, 44, 45, 46, 47, 48, 49, 50, 51, 52, 53, 54, 55, 56, 57, 58, 59, 60, 61, 62, 63, 64, 65, 66, 67, 68, 69, 70, 71, 72, 73, 74, 75, 76, 77, 78, 79, 80, 81, 82, 83, 84, 85, 86, 87, 88, 89, 90, 91, 92, 93, 94, 95, 96, 97, 98, 99], \"y\": [-0.3155077874583621, 0.3797030900663316, 0.13082536129896652, -2.2125362027707243, 0.6959899932604471, -0.6651688342182054, 0.3392751939560983, -0.06426101581698589, 0.9363722872087246, 1.2876798208715128, -0.8196844023398393, 0.10550574634716345, 0.984281215420857, -0.6480877371964813, -1.0196895799590036, 0.03905274891226861, 1.5089599192845327, 1.3158362494688813, -0.3925680163977808, 2.1593895399262033, -0.9277739001087258, -1.8101984688606385, 1.1051035037837664, -1.9118969941429562, 0.5506036681161965, -2.0808993092408583, -0.17650866762141137, 0.2632788163547951, -0.6182340559844405, 1.7529663918088312, 1.1406246805389066, 0.7590908403416821, -1.4817193890130869, 0.16014759977799178, -1.1411833455404845, -0.27451731196969403, 0.9712894693061355, 0.8776435538970953, -0.9255622764713449, -0.15646200077681197, 0.12895762865690136, 0.013382331274075478, 0.008946199293052778, 1.0855960400891453, -0.9989079444164698, -0.9197301339026103, -0.510708790885548, -0.5881182748390118, -0.870030337560292, -1.855747922112066, -0.39039164081373884, 1.1694539604739602, -1.3832385950425616, -0.5338808546528805, 0.6274205428990312, 0.7377221968558098, 0.2104629902769848, 1.0332701707296545, 1.1773014071136858, -3.003363732106316, -0.6367581114030771, -0.9849507362072155, 1.172889971084506, 1.4049919559413808, -1.0665120136345716, -0.4927786792902122, -0.4287735889544915, 2.1301691553569584, 0.10248865395219325, -0.673713112327333, -0.2774788826539322, -0.9845092147425413, -1.494775948560315, -0.1590858026848481, 0.4245146132867722, -1.0527070551758853, -0.6271225927724591, -0.0932018672644432, -1.688083990261239, -0.1782681183091389, -0.47899491072394434, 0.6428012794627598, 1.4776959120729736, -0.6652938373848085, 1.352182236487618, -0.7313750627525646, 0.14174316018181848, 1.6692898036380026, 1.2245434297403823, -0.7160280045468996, 1.8260580823033306, 1.6250393454014014, -1.498852738752117, 0.527366459397921, -0.37994599350941144, -0.889761094168913, -0.6175950575590283, 0.8291700376647222, 0.052524725240034126, -0.38017490909113333]}, {\"line\": {\"color\": \"rgba(55, 128, 191, 1.0)\", \"dash\": \"solid\", \"shape\": \"linear\", \"width\": 1.3}, \"mode\": \"lines\", \"name\": \"B\", \"text\": \"\", \"type\": \"scatter\", \"x\": [0, 1, 2, 3, 4, 5, 6, 7, 8, 9, 10, 11, 12, 13, 14, 15, 16, 17, 18, 19, 20, 21, 22, 23, 24, 25, 26, 27, 28, 29, 30, 31, 32, 33, 34, 35, 36, 37, 38, 39, 40, 41, 42, 43, 44, 45, 46, 47, 48, 49, 50, 51, 52, 53, 54, 55, 56, 57, 58, 59, 60, 61, 62, 63, 64, 65, 66, 67, 68, 69, 70, 71, 72, 73, 74, 75, 76, 77, 78, 79, 80, 81, 82, 83, 84, 85, 86, 87, 88, 89, 90, 91, 92, 93, 94, 95, 96, 97, 98, 99], \"y\": [-0.742187179415621, 1.2134107925533075, -1.7025709041072157, 1.1077712761245098, 0.2450268665699058, 0.03385606567073771, -1.0293155394884315, -0.6351817072975786, 1.208253857927379, 0.2029117802982394, -0.6799122973866606, -0.08803443897233985, 0.5758098646913065, 2.3902431728879696, 2.322309790667226, -2.053897477260906, -0.36181402898944065, -0.49557665247321375, -0.4951736765103893, 0.37178527931536326, -0.3682043275108212, -0.5047798875636234, 1.379355997986373, 0.13616493155165393, 0.49318325140623254, -1.5175410018180038, 1.1547435470274139, 0.6050117379633767, -0.6996344079126486, -1.4817646470214914, 0.18752169065501145, 0.8066387082368147, -1.1959799329299963, -1.4170206981119036, -0.5800184256741695, 0.49349150837889405, -1.2519802476741586, -0.12630538029101265, 0.5713795406605309, 0.33842867331585463, 0.9276612042481814, 0.004692158094001177, 0.9607895275269087, -0.10436431125521162, 0.19500506072408932, 0.143619040803998, 0.24846269290696457, -1.1992336266022514, 0.7719922880483462, -1.7107148568858963, -1.1515543208452308, -0.4577740846020255, 0.009834139054455184, -0.9013706274525457, -1.35055050964298, 0.2636316222136694, -1.2117197793433805, 0.7298801493900917, 0.5123712500991467, -0.9682940983285426, 0.4561713613886814, -1.005662369358284, 0.3471944906337027, 0.1589370880209759, 0.6209089271516771, -0.8626092465711424, 0.7291717621580838, -0.9247316157756699, 0.048935049402674256, -1.1589530826492762, -0.11538883632037497, -2.5490296011198748, -0.40073928870507336, 1.8938769192769815, -0.06177218824813722, -0.3126294223162608, -1.5306645065803304, -0.5912941570519058, 0.8109286932495376, 2.1950748662015487, -1.2866497815909261, -0.04497568412693477, 1.481450499023565, 0.663621173996275, -0.8882298892774952, -2.4824878621979, -0.02457183461218704, -0.039755112888196234, -0.5727714919382593, 0.6308537624751678, 0.22301238943458415, -0.3747561570544337, -1.6649265559053648, 1.7760400884476781, 0.09799518810159046, 0.5757701404841383, 1.161331427062505, 0.1137451273646778, 0.41018929002830706, -0.8698503917579509]}, {\"line\": {\"color\": \"rgba(50, 171, 96, 1.0)\", \"dash\": \"solid\", \"shape\": \"linear\", \"width\": 1.3}, \"mode\": \"lines\", \"name\": \"C\", \"text\": \"\", \"type\": \"scatter\", \"x\": [0, 1, 2, 3, 4, 5, 6, 7, 8, 9, 10, 11, 12, 13, 14, 15, 16, 17, 18, 19, 20, 21, 22, 23, 24, 25, 26, 27, 28, 29, 30, 31, 32, 33, 34, 35, 36, 37, 38, 39, 40, 41, 42, 43, 44, 45, 46, 47, 48, 49, 50, 51, 52, 53, 54, 55, 56, 57, 58, 59, 60, 61, 62, 63, 64, 65, 66, 67, 68, 69, 70, 71, 72, 73, 74, 75, 76, 77, 78, 79, 80, 81, 82, 83, 84, 85, 86, 87, 88, 89, 90, 91, 92, 93, 94, 95, 96, 97, 98, 99], \"y\": [-1.2078524061832343, 1.647806384601327, 0.867424872152327, 0.7669777110713896, 0.818520999225426, -0.48320967186024133, 0.35396243357211826, -0.8479124671901214, 0.13457107379341118, -1.5782654987525453, -0.024899038746018128, -0.9661302530011148, 0.10786866146194769, -1.029408787668984, -0.551551586968485, 0.7478338033100305, 0.32212826393082283, -0.07981914124646398, -1.7345386630444235, 0.940856042038223, -0.893802996297651, -1.6838191488701428, -0.8193949520436961, -0.6986978023236927, 0.9484716043906775, -2.4729774481529536, -0.5184931813506506, 1.2944947036141494, 1.6518965347606518, -0.27097369670413435, 0.6607100884259512, 0.38996016296846236, 0.6894118859018167, -0.8632209729940418, -0.5171083610114836, 0.6018600888172007, -0.8457311592941562, 0.59764909067985, -0.059718166023163995, 0.4020361989483813, -0.6843729666514186, -0.5242962066773789, -0.9377796468920861, -0.2094071465163398, -0.6004287234619048, -1.1654165511468466, 0.552071633160766, 2.294425554654729, 0.9840253882237323, 1.532463975726437, -2.0965363642856185, -0.027778544002653505, -1.2592610118032257, -0.4940128214479949, -0.9603470186202026, -0.8771390346804705, 1.997699888499699, 0.6984735539398365, -1.5234038797937803, -0.40855022070663927, 0.7077209690843312, 1.3804789004634803, 1.0428083128544448, 0.25439927354969954, 0.43481566187872217, 0.5020740992240665, 1.9118308644715627, -1.1631204064945873, 0.2444948577104291, 0.30624170731256933, -0.646460226151218, 1.2532514420256606, -0.48520205356676244, 0.4214967889186345, 0.7229831685011271, -0.05929358539847693, 0.26748616985900747, 0.2873558919730922, 0.5109451119502947, -1.273673762305818, -0.12156207954094937, 0.665416255241936, -0.3855498693882793, 0.6556997917497112, 1.083962308875982, 1.051193036773326, -0.16569352007058658, 1.445267284777046, 0.7339791857623821, -0.8844229099045823, 0.5934768649818013, 0.30832968316289466, 2.6337128110926913, 0.054701840278038164, 0.43980988188662745, 0.54351591766071, 0.9283251404799931, 0.09876115894398224, -1.2533514262488898, 2.1524972165590093]}, {\"line\": {\"color\": \"rgba(128, 0, 128, 1.0)\", \"dash\": \"solid\", \"shape\": \"linear\", \"width\": 1.3}, \"mode\": \"lines\", \"name\": \"D\", \"text\": \"\", \"type\": \"scatter\", \"x\": [0, 1, 2, 3, 4, 5, 6, 7, 8, 9, 10, 11, 12, 13, 14, 15, 16, 17, 18, 19, 20, 21, 22, 23, 24, 25, 26, 27, 28, 29, 30, 31, 32, 33, 34, 35, 36, 37, 38, 39, 40, 41, 42, 43, 44, 45, 46, 47, 48, 49, 50, 51, 52, 53, 54, 55, 56, 57, 58, 59, 60, 61, 62, 63, 64, 65, 66, 67, 68, 69, 70, 71, 72, 73, 74, 75, 76, 77, 78, 79, 80, 81, 82, 83, 84, 85, 86, 87, 88, 89, 90, 91, 92, 93, 94, 95, 96, 97, 98, 99], \"y\": [1.7026558454303116, 1.5594219269692025, 1.4403235877899048, -2.2390370525507115, 0.16467710599817323, -0.9218258259100182, -0.2611907139315378, 1.0977798698411936, 0.37977150377533847, 0.678930562576309, 0.24027033970707695, -1.134130511030025, 0.28086292437562704, 0.8503726898773861, 0.9055947656818857, -0.7918153524806373, -1.2086934500885222, -1.3335624922189502, -0.32424765208188006, -0.11862208797272265, 0.07067805408788083, -1.0783026149841517, 1.2151290995336135, -1.9090316261587466, 0.7698743059492738, 1.4226846925724372, -0.38905961689902124, -0.3890691908653827, -1.138098162318478, 1.5286657168142626, -1.5256697797380405, -0.6517541801020447, 0.6651618792751028, 0.042148395695265156, 0.8037912030554389, -1.2340590432062606, 1.1138802032482642, 0.24272962949614557, -1.0897845546442384, -0.1861118730117989, -0.28506025348328085, -0.577405630427034, 0.9629284792942532, 0.8642435985066734, -2.1158255595742577, 0.9961250193213448, 0.559105232995064, 2.3677036955966857, 0.30853192592085305, 0.31965857680337983, -0.5789125493559564, -0.38674738312959595, 1.75609531876379, -0.3335211959389353, -0.09548124952105416, -1.5095801851776736, -0.50414646443317, -0.3874310487330894, 0.960662750189629, -0.42162185528459656, -1.1383848115226616, 0.39497549251283326, -1.0588751065242445, -1.0819417784228555, -1.1208476331280686, 0.548769582600236, -1.4957479220462382, -0.9123343605142379, -0.5407420132543753, -0.0030139030991650174, 0.9181096233801954, -0.3682788361733208, -0.2944575717906814, -0.44024326113832996, 0.22636349352905413, -0.09082428904754525, 2.8711765900811588, -0.9151438925202213, 0.3043595561190293, 0.7625528301828641, -0.3890199468582452, 0.45888215375476715, 1.5323600237489465, -0.3188006834231324, -0.7476326812212825, 0.8562325819537043, -1.3959940222047766, -0.0861929617313064, -0.9274887709992322, -1.0259843591608262, 1.7701086138228979, 0.5539931463352439, -0.735673032801025, 0.5077288161248946, -0.2789899201810933, 0.5197571423652604, 2.7190894240091414, -0.7411929584172913, -0.22795472975730985, -0.2906902789780266]}],                        {\"legend\": {\"bgcolor\": \"#F5F6F9\", \"font\": {\"color\": \"#4D5663\"}}, \"paper_bgcolor\": \"#F5F6F9\", \"plot_bgcolor\": \"#F5F6F9\", \"template\": {\"data\": {\"bar\": [{\"error_x\": {\"color\": \"#2a3f5f\"}, \"error_y\": {\"color\": \"#2a3f5f\"}, \"marker\": {\"line\": {\"color\": \"#E5ECF6\", \"width\": 0.5}}, \"type\": \"bar\"}], \"barpolar\": [{\"marker\": {\"line\": {\"color\": \"#E5ECF6\", \"width\": 0.5}}, \"type\": \"barpolar\"}], \"carpet\": [{\"aaxis\": {\"endlinecolor\": \"#2a3f5f\", \"gridcolor\": \"white\", \"linecolor\": \"white\", \"minorgridcolor\": \"white\", \"startlinecolor\": \"#2a3f5f\"}, \"baxis\": {\"endlinecolor\": \"#2a3f5f\", \"gridcolor\": \"white\", \"linecolor\": \"white\", \"minorgridcolor\": \"white\", \"startlinecolor\": \"#2a3f5f\"}, \"type\": \"carpet\"}], \"choropleth\": [{\"colorbar\": {\"outlinewidth\": 0, \"ticks\": \"\"}, \"type\": \"choropleth\"}], \"contour\": [{\"colorbar\": {\"outlinewidth\": 0, \"ticks\": \"\"}, \"colorscale\": [[0.0, \"#0d0887\"], [0.1111111111111111, \"#46039f\"], [0.2222222222222222, \"#7201a8\"], [0.3333333333333333, \"#9c179e\"], [0.4444444444444444, \"#bd3786\"], [0.5555555555555556, \"#d8576b\"], [0.6666666666666666, \"#ed7953\"], [0.7777777777777778, \"#fb9f3a\"], [0.8888888888888888, \"#fdca26\"], [1.0, \"#f0f921\"]], \"type\": \"contour\"}], \"contourcarpet\": [{\"colorbar\": {\"outlinewidth\": 0, \"ticks\": \"\"}, \"type\": \"contourcarpet\"}], \"heatmap\": [{\"colorbar\": {\"outlinewidth\": 0, \"ticks\": \"\"}, \"colorscale\": [[0.0, \"#0d0887\"], [0.1111111111111111, \"#46039f\"], [0.2222222222222222, \"#7201a8\"], [0.3333333333333333, \"#9c179e\"], [0.4444444444444444, \"#bd3786\"], [0.5555555555555556, \"#d8576b\"], [0.6666666666666666, \"#ed7953\"], [0.7777777777777778, \"#fb9f3a\"], [0.8888888888888888, \"#fdca26\"], [1.0, \"#f0f921\"]], \"type\": \"heatmap\"}], \"heatmapgl\": [{\"colorbar\": {\"outlinewidth\": 0, \"ticks\": \"\"}, \"colorscale\": [[0.0, \"#0d0887\"], [0.1111111111111111, \"#46039f\"], [0.2222222222222222, \"#7201a8\"], [0.3333333333333333, \"#9c179e\"], [0.4444444444444444, \"#bd3786\"], [0.5555555555555556, \"#d8576b\"], [0.6666666666666666, \"#ed7953\"], [0.7777777777777778, \"#fb9f3a\"], [0.8888888888888888, \"#fdca26\"], [1.0, \"#f0f921\"]], \"type\": \"heatmapgl\"}], \"histogram\": [{\"marker\": {\"colorbar\": {\"outlinewidth\": 0, \"ticks\": \"\"}}, \"type\": \"histogram\"}], \"histogram2d\": [{\"colorbar\": {\"outlinewidth\": 0, \"ticks\": \"\"}, \"colorscale\": [[0.0, \"#0d0887\"], [0.1111111111111111, \"#46039f\"], [0.2222222222222222, \"#7201a8\"], [0.3333333333333333, \"#9c179e\"], [0.4444444444444444, \"#bd3786\"], [0.5555555555555556, \"#d8576b\"], [0.6666666666666666, \"#ed7953\"], [0.7777777777777778, \"#fb9f3a\"], [0.8888888888888888, \"#fdca26\"], [1.0, \"#f0f921\"]], \"type\": \"histogram2d\"}], \"histogram2dcontour\": [{\"colorbar\": {\"outlinewidth\": 0, \"ticks\": \"\"}, \"colorscale\": [[0.0, \"#0d0887\"], [0.1111111111111111, \"#46039f\"], [0.2222222222222222, \"#7201a8\"], [0.3333333333333333, \"#9c179e\"], [0.4444444444444444, \"#bd3786\"], [0.5555555555555556, \"#d8576b\"], [0.6666666666666666, \"#ed7953\"], [0.7777777777777778, \"#fb9f3a\"], [0.8888888888888888, \"#fdca26\"], [1.0, \"#f0f921\"]], \"type\": \"histogram2dcontour\"}], \"mesh3d\": [{\"colorbar\": {\"outlinewidth\": 0, \"ticks\": \"\"}, \"type\": \"mesh3d\"}], \"parcoords\": [{\"line\": {\"colorbar\": {\"outlinewidth\": 0, \"ticks\": \"\"}}, \"type\": \"parcoords\"}], \"pie\": [{\"automargin\": true, \"type\": \"pie\"}], \"scatter\": [{\"marker\": {\"colorbar\": {\"outlinewidth\": 0, \"ticks\": \"\"}}, \"type\": \"scatter\"}], \"scatter3d\": [{\"line\": {\"colorbar\": {\"outlinewidth\": 0, \"ticks\": \"\"}}, \"marker\": {\"colorbar\": {\"outlinewidth\": 0, \"ticks\": \"\"}}, \"type\": \"scatter3d\"}], \"scattercarpet\": [{\"marker\": {\"colorbar\": {\"outlinewidth\": 0, \"ticks\": \"\"}}, \"type\": \"scattercarpet\"}], \"scattergeo\": [{\"marker\": {\"colorbar\": {\"outlinewidth\": 0, \"ticks\": \"\"}}, \"type\": \"scattergeo\"}], \"scattergl\": [{\"marker\": {\"colorbar\": {\"outlinewidth\": 0, \"ticks\": \"\"}}, \"type\": \"scattergl\"}], \"scattermapbox\": [{\"marker\": {\"colorbar\": {\"outlinewidth\": 0, \"ticks\": \"\"}}, \"type\": \"scattermapbox\"}], \"scatterpolar\": [{\"marker\": {\"colorbar\": {\"outlinewidth\": 0, \"ticks\": \"\"}}, \"type\": \"scatterpolar\"}], \"scatterpolargl\": [{\"marker\": {\"colorbar\": {\"outlinewidth\": 0, \"ticks\": \"\"}}, \"type\": \"scatterpolargl\"}], \"scatterternary\": [{\"marker\": {\"colorbar\": {\"outlinewidth\": 0, \"ticks\": \"\"}}, \"type\": \"scatterternary\"}], \"surface\": [{\"colorbar\": {\"outlinewidth\": 0, \"ticks\": \"\"}, \"colorscale\": [[0.0, \"#0d0887\"], [0.1111111111111111, \"#46039f\"], [0.2222222222222222, \"#7201a8\"], [0.3333333333333333, \"#9c179e\"], [0.4444444444444444, \"#bd3786\"], [0.5555555555555556, \"#d8576b\"], [0.6666666666666666, \"#ed7953\"], [0.7777777777777778, \"#fb9f3a\"], [0.8888888888888888, \"#fdca26\"], [1.0, \"#f0f921\"]], \"type\": \"surface\"}], \"table\": [{\"cells\": {\"fill\": {\"color\": \"#EBF0F8\"}, \"line\": {\"color\": \"white\"}}, \"header\": {\"fill\": {\"color\": \"#C8D4E3\"}, \"line\": {\"color\": \"white\"}}, \"type\": \"table\"}]}, \"layout\": {\"annotationdefaults\": {\"arrowcolor\": \"#2a3f5f\", \"arrowhead\": 0, \"arrowwidth\": 1}, \"autotypenumbers\": \"strict\", \"coloraxis\": {\"colorbar\": {\"outlinewidth\": 0, \"ticks\": \"\"}}, \"colorscale\": {\"diverging\": [[0, \"#8e0152\"], [0.1, \"#c51b7d\"], [0.2, \"#de77ae\"], [0.3, \"#f1b6da\"], [0.4, \"#fde0ef\"], [0.5, \"#f7f7f7\"], [0.6, \"#e6f5d0\"], [0.7, \"#b8e186\"], [0.8, \"#7fbc41\"], [0.9, \"#4d9221\"], [1, \"#276419\"]], \"sequential\": [[0.0, \"#0d0887\"], [0.1111111111111111, \"#46039f\"], [0.2222222222222222, \"#7201a8\"], [0.3333333333333333, \"#9c179e\"], [0.4444444444444444, \"#bd3786\"], [0.5555555555555556, \"#d8576b\"], [0.6666666666666666, \"#ed7953\"], [0.7777777777777778, \"#fb9f3a\"], [0.8888888888888888, \"#fdca26\"], [1.0, \"#f0f921\"]], \"sequentialminus\": [[0.0, \"#0d0887\"], [0.1111111111111111, \"#46039f\"], [0.2222222222222222, \"#7201a8\"], [0.3333333333333333, \"#9c179e\"], [0.4444444444444444, \"#bd3786\"], [0.5555555555555556, \"#d8576b\"], [0.6666666666666666, \"#ed7953\"], [0.7777777777777778, \"#fb9f3a\"], [0.8888888888888888, \"#fdca26\"], [1.0, \"#f0f921\"]]}, \"colorway\": [\"#636efa\", \"#EF553B\", \"#00cc96\", \"#ab63fa\", \"#FFA15A\", \"#19d3f3\", \"#FF6692\", \"#B6E880\", \"#FF97FF\", \"#FECB52\"], \"font\": {\"color\": \"#2a3f5f\"}, \"geo\": {\"bgcolor\": \"white\", \"lakecolor\": \"white\", \"landcolor\": \"#E5ECF6\", \"showlakes\": true, \"showland\": true, \"subunitcolor\": \"white\"}, \"hoverlabel\": {\"align\": \"left\"}, \"hovermode\": \"closest\", \"mapbox\": {\"style\": \"light\"}, \"paper_bgcolor\": \"white\", \"plot_bgcolor\": \"#E5ECF6\", \"polar\": {\"angularaxis\": {\"gridcolor\": \"white\", \"linecolor\": \"white\", \"ticks\": \"\"}, \"bgcolor\": \"#E5ECF6\", \"radialaxis\": {\"gridcolor\": \"white\", \"linecolor\": \"white\", \"ticks\": \"\"}}, \"scene\": {\"xaxis\": {\"backgroundcolor\": \"#E5ECF6\", \"gridcolor\": \"white\", \"gridwidth\": 2, \"linecolor\": \"white\", \"showbackground\": true, \"ticks\": \"\", \"zerolinecolor\": \"white\"}, \"yaxis\": {\"backgroundcolor\": \"#E5ECF6\", \"gridcolor\": \"white\", \"gridwidth\": 2, \"linecolor\": \"white\", \"showbackground\": true, \"ticks\": \"\", \"zerolinecolor\": \"white\"}, \"zaxis\": {\"backgroundcolor\": \"#E5ECF6\", \"gridcolor\": \"white\", \"gridwidth\": 2, \"linecolor\": \"white\", \"showbackground\": true, \"ticks\": \"\", \"zerolinecolor\": \"white\"}}, \"shapedefaults\": {\"line\": {\"color\": \"#2a3f5f\"}}, \"ternary\": {\"aaxis\": {\"gridcolor\": \"white\", \"linecolor\": \"white\", \"ticks\": \"\"}, \"baxis\": {\"gridcolor\": \"white\", \"linecolor\": \"white\", \"ticks\": \"\"}, \"bgcolor\": \"#E5ECF6\", \"caxis\": {\"gridcolor\": \"white\", \"linecolor\": \"white\", \"ticks\": \"\"}}, \"title\": {\"x\": 0.05}, \"xaxis\": {\"automargin\": true, \"gridcolor\": \"white\", \"linecolor\": \"white\", \"ticks\": \"\", \"title\": {\"standoff\": 15}, \"zerolinecolor\": \"white\", \"zerolinewidth\": 2}, \"yaxis\": {\"automargin\": true, \"gridcolor\": \"white\", \"linecolor\": \"white\", \"ticks\": \"\", \"title\": {\"standoff\": 15}, \"zerolinecolor\": \"white\", \"zerolinewidth\": 2}}}, \"title\": {\"font\": {\"color\": \"#4D5663\"}}, \"xaxis\": {\"gridcolor\": \"#E1E5ED\", \"showgrid\": true, \"tickfont\": {\"color\": \"#4D5663\"}, \"title\": {\"font\": {\"color\": \"#4D5663\"}, \"text\": \"\"}, \"zerolinecolor\": \"#E1E5ED\"}, \"yaxis\": {\"gridcolor\": \"#E1E5ED\", \"showgrid\": true, \"tickfont\": {\"color\": \"#4D5663\"}, \"title\": {\"font\": {\"color\": \"#4D5663\"}, \"text\": \"\"}, \"zerolinecolor\": \"#E1E5ED\"}},                        {\"showLink\": true, \"linkText\": \"Export to plot.ly\", \"plotlyServerURL\": \"https://plot.ly\", \"responsive\": true}                    ).then(function(){\n",
       "                            \n",
       "var gd = document.getElementById('511febf8-e82d-4a67-9212-1966f38876e1');\n",
       "var x = new MutationObserver(function (mutations, observer) {{\n",
       "        var display = window.getComputedStyle(gd).display;\n",
       "        if (!display || display === 'none') {{\n",
       "            console.log([gd, 'removed!']);\n",
       "            Plotly.purge(gd);\n",
       "            observer.disconnect();\n",
       "        }}\n",
       "}});\n",
       "\n",
       "// Listen for the removal of the full notebook cells\n",
       "var notebookContainer = gd.closest('#notebook-container');\n",
       "if (notebookContainer) {{\n",
       "    x.observe(notebookContainer, {childList: true});\n",
       "}}\n",
       "\n",
       "// Listen for the clearing of the current output cell\n",
       "var outputEl = gd.closest('.output');\n",
       "if (outputEl) {{\n",
       "    x.observe(outputEl, {childList: true});\n",
       "}}\n",
       "\n",
       "                        })                };                });            </script>        </div>"
      ]
     },
     "metadata": {},
     "output_type": "display_data"
    }
   ],
   "source": [
    "#interactive plot\n",
    "df.iplot()"
   ]
  },
  {
   "cell_type": "code",
   "execution_count": 24,
   "metadata": {
    "scrolled": true
   },
   "outputs": [
    {
     "data": {
      "application/vnd.plotly.v1+json": {
       "config": {
        "linkText": "Export to plot.ly",
        "plotlyServerURL": "https://plot.ly",
        "showLink": true
       },
       "data": [
        {
         "line": {
          "color": "rgba(255, 153, 51, 1.0)",
          "dash": "solid",
          "shape": "linear",
          "width": 1.3
         },
         "mode": "lines",
         "name": "B",
         "text": "",
         "type": "scatter",
         "x": [
          -0.3155077874583621,
          0.3797030900663316,
          0.13082536129896652,
          -2.2125362027707243,
          0.6959899932604471,
          -0.6651688342182054,
          0.3392751939560983,
          -0.06426101581698589,
          0.9363722872087246,
          1.2876798208715128,
          -0.8196844023398393,
          0.10550574634716345,
          0.984281215420857,
          -0.6480877371964813,
          -1.0196895799590036,
          0.03905274891226861,
          1.5089599192845327,
          1.3158362494688813,
          -0.3925680163977808,
          2.1593895399262033,
          -0.9277739001087258,
          -1.8101984688606385,
          1.1051035037837664,
          -1.9118969941429562,
          0.5506036681161965,
          -2.0808993092408583,
          -0.17650866762141137,
          0.2632788163547951,
          -0.6182340559844405,
          1.7529663918088312,
          1.1406246805389066,
          0.7590908403416821,
          -1.4817193890130869,
          0.16014759977799178,
          -1.1411833455404845,
          -0.27451731196969403,
          0.9712894693061355,
          0.8776435538970953,
          -0.9255622764713449,
          -0.15646200077681197,
          0.12895762865690136,
          0.013382331274075478,
          0.008946199293052778,
          1.0855960400891453,
          -0.9989079444164698,
          -0.9197301339026103,
          -0.510708790885548,
          -0.5881182748390118,
          -0.870030337560292,
          -1.855747922112066,
          -0.39039164081373884,
          1.1694539604739602,
          -1.3832385950425616,
          -0.5338808546528805,
          0.6274205428990312,
          0.7377221968558098,
          0.2104629902769848,
          1.0332701707296545,
          1.1773014071136858,
          -3.003363732106316,
          -0.6367581114030771,
          -0.9849507362072155,
          1.172889971084506,
          1.4049919559413808,
          -1.0665120136345716,
          -0.4927786792902122,
          -0.4287735889544915,
          2.1301691553569584,
          0.10248865395219325,
          -0.673713112327333,
          -0.2774788826539322,
          -0.9845092147425413,
          -1.494775948560315,
          -0.1590858026848481,
          0.4245146132867722,
          -1.0527070551758853,
          -0.6271225927724591,
          -0.0932018672644432,
          -1.688083990261239,
          -0.1782681183091389,
          -0.47899491072394434,
          0.6428012794627598,
          1.4776959120729736,
          -0.6652938373848085,
          1.352182236487618,
          -0.7313750627525646,
          0.14174316018181848,
          1.6692898036380026,
          1.2245434297403823,
          -0.7160280045468996,
          1.8260580823033306,
          1.6250393454014014,
          -1.498852738752117,
          0.527366459397921,
          -0.37994599350941144,
          -0.889761094168913,
          -0.6175950575590283,
          0.8291700376647222,
          0.052524725240034126,
          -0.38017490909113333
         ],
         "y": [
          -0.742187179415621,
          1.2134107925533075,
          -1.7025709041072157,
          1.1077712761245098,
          0.2450268665699058,
          0.03385606567073771,
          -1.0293155394884315,
          -0.6351817072975786,
          1.208253857927379,
          0.2029117802982394,
          -0.6799122973866606,
          -0.08803443897233985,
          0.5758098646913065,
          2.3902431728879696,
          2.322309790667226,
          -2.053897477260906,
          -0.36181402898944065,
          -0.49557665247321375,
          -0.4951736765103893,
          0.37178527931536326,
          -0.3682043275108212,
          -0.5047798875636234,
          1.379355997986373,
          0.13616493155165393,
          0.49318325140623254,
          -1.5175410018180038,
          1.1547435470274139,
          0.6050117379633767,
          -0.6996344079126486,
          -1.4817646470214914,
          0.18752169065501145,
          0.8066387082368147,
          -1.1959799329299963,
          -1.4170206981119036,
          -0.5800184256741695,
          0.49349150837889405,
          -1.2519802476741586,
          -0.12630538029101265,
          0.5713795406605309,
          0.33842867331585463,
          0.9276612042481814,
          0.004692158094001177,
          0.9607895275269087,
          -0.10436431125521162,
          0.19500506072408932,
          0.143619040803998,
          0.24846269290696457,
          -1.1992336266022514,
          0.7719922880483462,
          -1.7107148568858963,
          -1.1515543208452308,
          -0.4577740846020255,
          0.009834139054455184,
          -0.9013706274525457,
          -1.35055050964298,
          0.2636316222136694,
          -1.2117197793433805,
          0.7298801493900917,
          0.5123712500991467,
          -0.9682940983285426,
          0.4561713613886814,
          -1.005662369358284,
          0.3471944906337027,
          0.1589370880209759,
          0.6209089271516771,
          -0.8626092465711424,
          0.7291717621580838,
          -0.9247316157756699,
          0.048935049402674256,
          -1.1589530826492762,
          -0.11538883632037497,
          -2.5490296011198748,
          -0.40073928870507336,
          1.8938769192769815,
          -0.06177218824813722,
          -0.3126294223162608,
          -1.5306645065803304,
          -0.5912941570519058,
          0.8109286932495376,
          2.1950748662015487,
          -1.2866497815909261,
          -0.04497568412693477,
          1.481450499023565,
          0.663621173996275,
          -0.8882298892774952,
          -2.4824878621979,
          -0.02457183461218704,
          -0.039755112888196234,
          -0.5727714919382593,
          0.6308537624751678,
          0.22301238943458415,
          -0.3747561570544337,
          -1.6649265559053648,
          1.7760400884476781,
          0.09799518810159046,
          0.5757701404841383,
          1.161331427062505,
          0.1137451273646778,
          0.41018929002830706,
          -0.8698503917579509
         ]
        }
       ],
       "layout": {
        "legend": {
         "bgcolor": "#F5F6F9",
         "font": {
          "color": "#4D5663"
         }
        },
        "paper_bgcolor": "#F5F6F9",
        "plot_bgcolor": "#F5F6F9",
        "template": {
         "data": {
          "bar": [
           {
            "error_x": {
             "color": "#2a3f5f"
            },
            "error_y": {
             "color": "#2a3f5f"
            },
            "marker": {
             "line": {
              "color": "#E5ECF6",
              "width": 0.5
             }
            },
            "type": "bar"
           }
          ],
          "barpolar": [
           {
            "marker": {
             "line": {
              "color": "#E5ECF6",
              "width": 0.5
             }
            },
            "type": "barpolar"
           }
          ],
          "carpet": [
           {
            "aaxis": {
             "endlinecolor": "#2a3f5f",
             "gridcolor": "white",
             "linecolor": "white",
             "minorgridcolor": "white",
             "startlinecolor": "#2a3f5f"
            },
            "baxis": {
             "endlinecolor": "#2a3f5f",
             "gridcolor": "white",
             "linecolor": "white",
             "minorgridcolor": "white",
             "startlinecolor": "#2a3f5f"
            },
            "type": "carpet"
           }
          ],
          "choropleth": [
           {
            "colorbar": {
             "outlinewidth": 0,
             "ticks": ""
            },
            "type": "choropleth"
           }
          ],
          "contour": [
           {
            "colorbar": {
             "outlinewidth": 0,
             "ticks": ""
            },
            "colorscale": [
             [
              0,
              "#0d0887"
             ],
             [
              0.1111111111111111,
              "#46039f"
             ],
             [
              0.2222222222222222,
              "#7201a8"
             ],
             [
              0.3333333333333333,
              "#9c179e"
             ],
             [
              0.4444444444444444,
              "#bd3786"
             ],
             [
              0.5555555555555556,
              "#d8576b"
             ],
             [
              0.6666666666666666,
              "#ed7953"
             ],
             [
              0.7777777777777778,
              "#fb9f3a"
             ],
             [
              0.8888888888888888,
              "#fdca26"
             ],
             [
              1,
              "#f0f921"
             ]
            ],
            "type": "contour"
           }
          ],
          "contourcarpet": [
           {
            "colorbar": {
             "outlinewidth": 0,
             "ticks": ""
            },
            "type": "contourcarpet"
           }
          ],
          "heatmap": [
           {
            "colorbar": {
             "outlinewidth": 0,
             "ticks": ""
            },
            "colorscale": [
             [
              0,
              "#0d0887"
             ],
             [
              0.1111111111111111,
              "#46039f"
             ],
             [
              0.2222222222222222,
              "#7201a8"
             ],
             [
              0.3333333333333333,
              "#9c179e"
             ],
             [
              0.4444444444444444,
              "#bd3786"
             ],
             [
              0.5555555555555556,
              "#d8576b"
             ],
             [
              0.6666666666666666,
              "#ed7953"
             ],
             [
              0.7777777777777778,
              "#fb9f3a"
             ],
             [
              0.8888888888888888,
              "#fdca26"
             ],
             [
              1,
              "#f0f921"
             ]
            ],
            "type": "heatmap"
           }
          ],
          "heatmapgl": [
           {
            "colorbar": {
             "outlinewidth": 0,
             "ticks": ""
            },
            "colorscale": [
             [
              0,
              "#0d0887"
             ],
             [
              0.1111111111111111,
              "#46039f"
             ],
             [
              0.2222222222222222,
              "#7201a8"
             ],
             [
              0.3333333333333333,
              "#9c179e"
             ],
             [
              0.4444444444444444,
              "#bd3786"
             ],
             [
              0.5555555555555556,
              "#d8576b"
             ],
             [
              0.6666666666666666,
              "#ed7953"
             ],
             [
              0.7777777777777778,
              "#fb9f3a"
             ],
             [
              0.8888888888888888,
              "#fdca26"
             ],
             [
              1,
              "#f0f921"
             ]
            ],
            "type": "heatmapgl"
           }
          ],
          "histogram": [
           {
            "marker": {
             "colorbar": {
              "outlinewidth": 0,
              "ticks": ""
             }
            },
            "type": "histogram"
           }
          ],
          "histogram2d": [
           {
            "colorbar": {
             "outlinewidth": 0,
             "ticks": ""
            },
            "colorscale": [
             [
              0,
              "#0d0887"
             ],
             [
              0.1111111111111111,
              "#46039f"
             ],
             [
              0.2222222222222222,
              "#7201a8"
             ],
             [
              0.3333333333333333,
              "#9c179e"
             ],
             [
              0.4444444444444444,
              "#bd3786"
             ],
             [
              0.5555555555555556,
              "#d8576b"
             ],
             [
              0.6666666666666666,
              "#ed7953"
             ],
             [
              0.7777777777777778,
              "#fb9f3a"
             ],
             [
              0.8888888888888888,
              "#fdca26"
             ],
             [
              1,
              "#f0f921"
             ]
            ],
            "type": "histogram2d"
           }
          ],
          "histogram2dcontour": [
           {
            "colorbar": {
             "outlinewidth": 0,
             "ticks": ""
            },
            "colorscale": [
             [
              0,
              "#0d0887"
             ],
             [
              0.1111111111111111,
              "#46039f"
             ],
             [
              0.2222222222222222,
              "#7201a8"
             ],
             [
              0.3333333333333333,
              "#9c179e"
             ],
             [
              0.4444444444444444,
              "#bd3786"
             ],
             [
              0.5555555555555556,
              "#d8576b"
             ],
             [
              0.6666666666666666,
              "#ed7953"
             ],
             [
              0.7777777777777778,
              "#fb9f3a"
             ],
             [
              0.8888888888888888,
              "#fdca26"
             ],
             [
              1,
              "#f0f921"
             ]
            ],
            "type": "histogram2dcontour"
           }
          ],
          "mesh3d": [
           {
            "colorbar": {
             "outlinewidth": 0,
             "ticks": ""
            },
            "type": "mesh3d"
           }
          ],
          "parcoords": [
           {
            "line": {
             "colorbar": {
              "outlinewidth": 0,
              "ticks": ""
             }
            },
            "type": "parcoords"
           }
          ],
          "pie": [
           {
            "automargin": true,
            "type": "pie"
           }
          ],
          "scatter": [
           {
            "marker": {
             "colorbar": {
              "outlinewidth": 0,
              "ticks": ""
             }
            },
            "type": "scatter"
           }
          ],
          "scatter3d": [
           {
            "line": {
             "colorbar": {
              "outlinewidth": 0,
              "ticks": ""
             }
            },
            "marker": {
             "colorbar": {
              "outlinewidth": 0,
              "ticks": ""
             }
            },
            "type": "scatter3d"
           }
          ],
          "scattercarpet": [
           {
            "marker": {
             "colorbar": {
              "outlinewidth": 0,
              "ticks": ""
             }
            },
            "type": "scattercarpet"
           }
          ],
          "scattergeo": [
           {
            "marker": {
             "colorbar": {
              "outlinewidth": 0,
              "ticks": ""
             }
            },
            "type": "scattergeo"
           }
          ],
          "scattergl": [
           {
            "marker": {
             "colorbar": {
              "outlinewidth": 0,
              "ticks": ""
             }
            },
            "type": "scattergl"
           }
          ],
          "scattermapbox": [
           {
            "marker": {
             "colorbar": {
              "outlinewidth": 0,
              "ticks": ""
             }
            },
            "type": "scattermapbox"
           }
          ],
          "scatterpolar": [
           {
            "marker": {
             "colorbar": {
              "outlinewidth": 0,
              "ticks": ""
             }
            },
            "type": "scatterpolar"
           }
          ],
          "scatterpolargl": [
           {
            "marker": {
             "colorbar": {
              "outlinewidth": 0,
              "ticks": ""
             }
            },
            "type": "scatterpolargl"
           }
          ],
          "scatterternary": [
           {
            "marker": {
             "colorbar": {
              "outlinewidth": 0,
              "ticks": ""
             }
            },
            "type": "scatterternary"
           }
          ],
          "surface": [
           {
            "colorbar": {
             "outlinewidth": 0,
             "ticks": ""
            },
            "colorscale": [
             [
              0,
              "#0d0887"
             ],
             [
              0.1111111111111111,
              "#46039f"
             ],
             [
              0.2222222222222222,
              "#7201a8"
             ],
             [
              0.3333333333333333,
              "#9c179e"
             ],
             [
              0.4444444444444444,
              "#bd3786"
             ],
             [
              0.5555555555555556,
              "#d8576b"
             ],
             [
              0.6666666666666666,
              "#ed7953"
             ],
             [
              0.7777777777777778,
              "#fb9f3a"
             ],
             [
              0.8888888888888888,
              "#fdca26"
             ],
             [
              1,
              "#f0f921"
             ]
            ],
            "type": "surface"
           }
          ],
          "table": [
           {
            "cells": {
             "fill": {
              "color": "#EBF0F8"
             },
             "line": {
              "color": "white"
             }
            },
            "header": {
             "fill": {
              "color": "#C8D4E3"
             },
             "line": {
              "color": "white"
             }
            },
            "type": "table"
           }
          ]
         },
         "layout": {
          "annotationdefaults": {
           "arrowcolor": "#2a3f5f",
           "arrowhead": 0,
           "arrowwidth": 1
          },
          "autotypenumbers": "strict",
          "coloraxis": {
           "colorbar": {
            "outlinewidth": 0,
            "ticks": ""
           }
          },
          "colorscale": {
           "diverging": [
            [
             0,
             "#8e0152"
            ],
            [
             0.1,
             "#c51b7d"
            ],
            [
             0.2,
             "#de77ae"
            ],
            [
             0.3,
             "#f1b6da"
            ],
            [
             0.4,
             "#fde0ef"
            ],
            [
             0.5,
             "#f7f7f7"
            ],
            [
             0.6,
             "#e6f5d0"
            ],
            [
             0.7,
             "#b8e186"
            ],
            [
             0.8,
             "#7fbc41"
            ],
            [
             0.9,
             "#4d9221"
            ],
            [
             1,
             "#276419"
            ]
           ],
           "sequential": [
            [
             0,
             "#0d0887"
            ],
            [
             0.1111111111111111,
             "#46039f"
            ],
            [
             0.2222222222222222,
             "#7201a8"
            ],
            [
             0.3333333333333333,
             "#9c179e"
            ],
            [
             0.4444444444444444,
             "#bd3786"
            ],
            [
             0.5555555555555556,
             "#d8576b"
            ],
            [
             0.6666666666666666,
             "#ed7953"
            ],
            [
             0.7777777777777778,
             "#fb9f3a"
            ],
            [
             0.8888888888888888,
             "#fdca26"
            ],
            [
             1,
             "#f0f921"
            ]
           ],
           "sequentialminus": [
            [
             0,
             "#0d0887"
            ],
            [
             0.1111111111111111,
             "#46039f"
            ],
            [
             0.2222222222222222,
             "#7201a8"
            ],
            [
             0.3333333333333333,
             "#9c179e"
            ],
            [
             0.4444444444444444,
             "#bd3786"
            ],
            [
             0.5555555555555556,
             "#d8576b"
            ],
            [
             0.6666666666666666,
             "#ed7953"
            ],
            [
             0.7777777777777778,
             "#fb9f3a"
            ],
            [
             0.8888888888888888,
             "#fdca26"
            ],
            [
             1,
             "#f0f921"
            ]
           ]
          },
          "colorway": [
           "#636efa",
           "#EF553B",
           "#00cc96",
           "#ab63fa",
           "#FFA15A",
           "#19d3f3",
           "#FF6692",
           "#B6E880",
           "#FF97FF",
           "#FECB52"
          ],
          "font": {
           "color": "#2a3f5f"
          },
          "geo": {
           "bgcolor": "white",
           "lakecolor": "white",
           "landcolor": "#E5ECF6",
           "showlakes": true,
           "showland": true,
           "subunitcolor": "white"
          },
          "hoverlabel": {
           "align": "left"
          },
          "hovermode": "closest",
          "mapbox": {
           "style": "light"
          },
          "paper_bgcolor": "white",
          "plot_bgcolor": "#E5ECF6",
          "polar": {
           "angularaxis": {
            "gridcolor": "white",
            "linecolor": "white",
            "ticks": ""
           },
           "bgcolor": "#E5ECF6",
           "radialaxis": {
            "gridcolor": "white",
            "linecolor": "white",
            "ticks": ""
           }
          },
          "scene": {
           "xaxis": {
            "backgroundcolor": "#E5ECF6",
            "gridcolor": "white",
            "gridwidth": 2,
            "linecolor": "white",
            "showbackground": true,
            "ticks": "",
            "zerolinecolor": "white"
           },
           "yaxis": {
            "backgroundcolor": "#E5ECF6",
            "gridcolor": "white",
            "gridwidth": 2,
            "linecolor": "white",
            "showbackground": true,
            "ticks": "",
            "zerolinecolor": "white"
           },
           "zaxis": {
            "backgroundcolor": "#E5ECF6",
            "gridcolor": "white",
            "gridwidth": 2,
            "linecolor": "white",
            "showbackground": true,
            "ticks": "",
            "zerolinecolor": "white"
           }
          },
          "shapedefaults": {
           "line": {
            "color": "#2a3f5f"
           }
          },
          "ternary": {
           "aaxis": {
            "gridcolor": "white",
            "linecolor": "white",
            "ticks": ""
           },
           "baxis": {
            "gridcolor": "white",
            "linecolor": "white",
            "ticks": ""
           },
           "bgcolor": "#E5ECF6",
           "caxis": {
            "gridcolor": "white",
            "linecolor": "white",
            "ticks": ""
           }
          },
          "title": {
           "x": 0.05
          },
          "xaxis": {
           "automargin": true,
           "gridcolor": "white",
           "linecolor": "white",
           "ticks": "",
           "title": {
            "standoff": 15
           },
           "zerolinecolor": "white",
           "zerolinewidth": 2
          },
          "yaxis": {
           "automargin": true,
           "gridcolor": "white",
           "linecolor": "white",
           "ticks": "",
           "title": {
            "standoff": 15
           },
           "zerolinecolor": "white",
           "zerolinewidth": 2
          }
         }
        },
        "title": {
         "font": {
          "color": "#4D5663"
         }
        },
        "xaxis": {
         "gridcolor": "#E1E5ED",
         "showgrid": true,
         "tickfont": {
          "color": "#4D5663"
         },
         "title": {
          "font": {
           "color": "#4D5663"
          },
          "text": ""
         },
         "zerolinecolor": "#E1E5ED"
        },
        "yaxis": {
         "gridcolor": "#E1E5ED",
         "showgrid": true,
         "tickfont": {
          "color": "#4D5663"
         },
         "title": {
          "font": {
           "color": "#4D5663"
          },
          "text": ""
         },
         "zerolinecolor": "#E1E5ED"
        }
       }
      },
      "text/html": [
       "<div>                            <div id=\"0115fd4c-f066-4fd3-8b86-e2c1322b37b0\" class=\"plotly-graph-div\" style=\"height:525px; width:100%;\"></div>            <script type=\"text/javascript\">                require([\"plotly\"], function(Plotly) {                    window.PLOTLYENV=window.PLOTLYENV || {};\n",
       "                    window.PLOTLYENV.BASE_URL='https://plot.ly';                                    if (document.getElementById(\"0115fd4c-f066-4fd3-8b86-e2c1322b37b0\")) {                    Plotly.newPlot(                        \"0115fd4c-f066-4fd3-8b86-e2c1322b37b0\",                        [{\"line\": {\"color\": \"rgba(255, 153, 51, 1.0)\", \"dash\": \"solid\", \"shape\": \"linear\", \"width\": 1.3}, \"mode\": \"lines\", \"name\": \"B\", \"text\": \"\", \"type\": \"scatter\", \"x\": [-0.3155077874583621, 0.3797030900663316, 0.13082536129896652, -2.2125362027707243, 0.6959899932604471, -0.6651688342182054, 0.3392751939560983, -0.06426101581698589, 0.9363722872087246, 1.2876798208715128, -0.8196844023398393, 0.10550574634716345, 0.984281215420857, -0.6480877371964813, -1.0196895799590036, 0.03905274891226861, 1.5089599192845327, 1.3158362494688813, -0.3925680163977808, 2.1593895399262033, -0.9277739001087258, -1.8101984688606385, 1.1051035037837664, -1.9118969941429562, 0.5506036681161965, -2.0808993092408583, -0.17650866762141137, 0.2632788163547951, -0.6182340559844405, 1.7529663918088312, 1.1406246805389066, 0.7590908403416821, -1.4817193890130869, 0.16014759977799178, -1.1411833455404845, -0.27451731196969403, 0.9712894693061355, 0.8776435538970953, -0.9255622764713449, -0.15646200077681197, 0.12895762865690136, 0.013382331274075478, 0.008946199293052778, 1.0855960400891453, -0.9989079444164698, -0.9197301339026103, -0.510708790885548, -0.5881182748390118, -0.870030337560292, -1.855747922112066, -0.39039164081373884, 1.1694539604739602, -1.3832385950425616, -0.5338808546528805, 0.6274205428990312, 0.7377221968558098, 0.2104629902769848, 1.0332701707296545, 1.1773014071136858, -3.003363732106316, -0.6367581114030771, -0.9849507362072155, 1.172889971084506, 1.4049919559413808, -1.0665120136345716, -0.4927786792902122, -0.4287735889544915, 2.1301691553569584, 0.10248865395219325, -0.673713112327333, -0.2774788826539322, -0.9845092147425413, -1.494775948560315, -0.1590858026848481, 0.4245146132867722, -1.0527070551758853, -0.6271225927724591, -0.0932018672644432, -1.688083990261239, -0.1782681183091389, -0.47899491072394434, 0.6428012794627598, 1.4776959120729736, -0.6652938373848085, 1.352182236487618, -0.7313750627525646, 0.14174316018181848, 1.6692898036380026, 1.2245434297403823, -0.7160280045468996, 1.8260580823033306, 1.6250393454014014, -1.498852738752117, 0.527366459397921, -0.37994599350941144, -0.889761094168913, -0.6175950575590283, 0.8291700376647222, 0.052524725240034126, -0.38017490909113333], \"y\": [-0.742187179415621, 1.2134107925533075, -1.7025709041072157, 1.1077712761245098, 0.2450268665699058, 0.03385606567073771, -1.0293155394884315, -0.6351817072975786, 1.208253857927379, 0.2029117802982394, -0.6799122973866606, -0.08803443897233985, 0.5758098646913065, 2.3902431728879696, 2.322309790667226, -2.053897477260906, -0.36181402898944065, -0.49557665247321375, -0.4951736765103893, 0.37178527931536326, -0.3682043275108212, -0.5047798875636234, 1.379355997986373, 0.13616493155165393, 0.49318325140623254, -1.5175410018180038, 1.1547435470274139, 0.6050117379633767, -0.6996344079126486, -1.4817646470214914, 0.18752169065501145, 0.8066387082368147, -1.1959799329299963, -1.4170206981119036, -0.5800184256741695, 0.49349150837889405, -1.2519802476741586, -0.12630538029101265, 0.5713795406605309, 0.33842867331585463, 0.9276612042481814, 0.004692158094001177, 0.9607895275269087, -0.10436431125521162, 0.19500506072408932, 0.143619040803998, 0.24846269290696457, -1.1992336266022514, 0.7719922880483462, -1.7107148568858963, -1.1515543208452308, -0.4577740846020255, 0.009834139054455184, -0.9013706274525457, -1.35055050964298, 0.2636316222136694, -1.2117197793433805, 0.7298801493900917, 0.5123712500991467, -0.9682940983285426, 0.4561713613886814, -1.005662369358284, 0.3471944906337027, 0.1589370880209759, 0.6209089271516771, -0.8626092465711424, 0.7291717621580838, -0.9247316157756699, 0.048935049402674256, -1.1589530826492762, -0.11538883632037497, -2.5490296011198748, -0.40073928870507336, 1.8938769192769815, -0.06177218824813722, -0.3126294223162608, -1.5306645065803304, -0.5912941570519058, 0.8109286932495376, 2.1950748662015487, -1.2866497815909261, -0.04497568412693477, 1.481450499023565, 0.663621173996275, -0.8882298892774952, -2.4824878621979, -0.02457183461218704, -0.039755112888196234, -0.5727714919382593, 0.6308537624751678, 0.22301238943458415, -0.3747561570544337, -1.6649265559053648, 1.7760400884476781, 0.09799518810159046, 0.5757701404841383, 1.161331427062505, 0.1137451273646778, 0.41018929002830706, -0.8698503917579509]}],                        {\"legend\": {\"bgcolor\": \"#F5F6F9\", \"font\": {\"color\": \"#4D5663\"}}, \"paper_bgcolor\": \"#F5F6F9\", \"plot_bgcolor\": \"#F5F6F9\", \"template\": {\"data\": {\"bar\": [{\"error_x\": {\"color\": \"#2a3f5f\"}, \"error_y\": {\"color\": \"#2a3f5f\"}, \"marker\": {\"line\": {\"color\": \"#E5ECF6\", \"width\": 0.5}}, \"type\": \"bar\"}], \"barpolar\": [{\"marker\": {\"line\": {\"color\": \"#E5ECF6\", \"width\": 0.5}}, \"type\": \"barpolar\"}], \"carpet\": [{\"aaxis\": {\"endlinecolor\": \"#2a3f5f\", \"gridcolor\": \"white\", \"linecolor\": \"white\", \"minorgridcolor\": \"white\", \"startlinecolor\": \"#2a3f5f\"}, \"baxis\": {\"endlinecolor\": \"#2a3f5f\", \"gridcolor\": \"white\", \"linecolor\": \"white\", \"minorgridcolor\": \"white\", \"startlinecolor\": \"#2a3f5f\"}, \"type\": \"carpet\"}], \"choropleth\": [{\"colorbar\": {\"outlinewidth\": 0, \"ticks\": \"\"}, \"type\": \"choropleth\"}], \"contour\": [{\"colorbar\": {\"outlinewidth\": 0, \"ticks\": \"\"}, \"colorscale\": [[0.0, \"#0d0887\"], [0.1111111111111111, \"#46039f\"], [0.2222222222222222, \"#7201a8\"], [0.3333333333333333, \"#9c179e\"], [0.4444444444444444, \"#bd3786\"], [0.5555555555555556, \"#d8576b\"], [0.6666666666666666, \"#ed7953\"], [0.7777777777777778, \"#fb9f3a\"], [0.8888888888888888, \"#fdca26\"], [1.0, \"#f0f921\"]], \"type\": \"contour\"}], \"contourcarpet\": [{\"colorbar\": {\"outlinewidth\": 0, \"ticks\": \"\"}, \"type\": \"contourcarpet\"}], \"heatmap\": [{\"colorbar\": {\"outlinewidth\": 0, \"ticks\": \"\"}, \"colorscale\": [[0.0, \"#0d0887\"], [0.1111111111111111, \"#46039f\"], [0.2222222222222222, \"#7201a8\"], [0.3333333333333333, \"#9c179e\"], [0.4444444444444444, \"#bd3786\"], [0.5555555555555556, \"#d8576b\"], [0.6666666666666666, \"#ed7953\"], [0.7777777777777778, \"#fb9f3a\"], [0.8888888888888888, \"#fdca26\"], [1.0, \"#f0f921\"]], \"type\": \"heatmap\"}], \"heatmapgl\": [{\"colorbar\": {\"outlinewidth\": 0, \"ticks\": \"\"}, \"colorscale\": [[0.0, \"#0d0887\"], [0.1111111111111111, \"#46039f\"], [0.2222222222222222, \"#7201a8\"], [0.3333333333333333, \"#9c179e\"], [0.4444444444444444, \"#bd3786\"], [0.5555555555555556, \"#d8576b\"], [0.6666666666666666, \"#ed7953\"], [0.7777777777777778, \"#fb9f3a\"], [0.8888888888888888, \"#fdca26\"], [1.0, \"#f0f921\"]], \"type\": \"heatmapgl\"}], \"histogram\": [{\"marker\": {\"colorbar\": {\"outlinewidth\": 0, \"ticks\": \"\"}}, \"type\": \"histogram\"}], \"histogram2d\": [{\"colorbar\": {\"outlinewidth\": 0, \"ticks\": \"\"}, \"colorscale\": [[0.0, \"#0d0887\"], [0.1111111111111111, \"#46039f\"], [0.2222222222222222, \"#7201a8\"], [0.3333333333333333, \"#9c179e\"], [0.4444444444444444, \"#bd3786\"], [0.5555555555555556, \"#d8576b\"], [0.6666666666666666, \"#ed7953\"], [0.7777777777777778, \"#fb9f3a\"], [0.8888888888888888, \"#fdca26\"], [1.0, \"#f0f921\"]], \"type\": \"histogram2d\"}], \"histogram2dcontour\": [{\"colorbar\": {\"outlinewidth\": 0, \"ticks\": \"\"}, \"colorscale\": [[0.0, \"#0d0887\"], [0.1111111111111111, \"#46039f\"], [0.2222222222222222, \"#7201a8\"], [0.3333333333333333, \"#9c179e\"], [0.4444444444444444, \"#bd3786\"], [0.5555555555555556, \"#d8576b\"], [0.6666666666666666, \"#ed7953\"], [0.7777777777777778, \"#fb9f3a\"], [0.8888888888888888, \"#fdca26\"], [1.0, \"#f0f921\"]], \"type\": \"histogram2dcontour\"}], \"mesh3d\": [{\"colorbar\": {\"outlinewidth\": 0, \"ticks\": \"\"}, \"type\": \"mesh3d\"}], \"parcoords\": [{\"line\": {\"colorbar\": {\"outlinewidth\": 0, \"ticks\": \"\"}}, \"type\": \"parcoords\"}], \"pie\": [{\"automargin\": true, \"type\": \"pie\"}], \"scatter\": [{\"marker\": {\"colorbar\": {\"outlinewidth\": 0, \"ticks\": \"\"}}, \"type\": \"scatter\"}], \"scatter3d\": [{\"line\": {\"colorbar\": {\"outlinewidth\": 0, \"ticks\": \"\"}}, \"marker\": {\"colorbar\": {\"outlinewidth\": 0, \"ticks\": \"\"}}, \"type\": \"scatter3d\"}], \"scattercarpet\": [{\"marker\": {\"colorbar\": {\"outlinewidth\": 0, \"ticks\": \"\"}}, \"type\": \"scattercarpet\"}], \"scattergeo\": [{\"marker\": {\"colorbar\": {\"outlinewidth\": 0, \"ticks\": \"\"}}, \"type\": \"scattergeo\"}], \"scattergl\": [{\"marker\": {\"colorbar\": {\"outlinewidth\": 0, \"ticks\": \"\"}}, \"type\": \"scattergl\"}], \"scattermapbox\": [{\"marker\": {\"colorbar\": {\"outlinewidth\": 0, \"ticks\": \"\"}}, \"type\": \"scattermapbox\"}], \"scatterpolar\": [{\"marker\": {\"colorbar\": {\"outlinewidth\": 0, \"ticks\": \"\"}}, \"type\": \"scatterpolar\"}], \"scatterpolargl\": [{\"marker\": {\"colorbar\": {\"outlinewidth\": 0, \"ticks\": \"\"}}, \"type\": \"scatterpolargl\"}], \"scatterternary\": [{\"marker\": {\"colorbar\": {\"outlinewidth\": 0, \"ticks\": \"\"}}, \"type\": \"scatterternary\"}], \"surface\": [{\"colorbar\": {\"outlinewidth\": 0, \"ticks\": \"\"}, \"colorscale\": [[0.0, \"#0d0887\"], [0.1111111111111111, \"#46039f\"], [0.2222222222222222, \"#7201a8\"], [0.3333333333333333, \"#9c179e\"], [0.4444444444444444, \"#bd3786\"], [0.5555555555555556, \"#d8576b\"], [0.6666666666666666, \"#ed7953\"], [0.7777777777777778, \"#fb9f3a\"], [0.8888888888888888, \"#fdca26\"], [1.0, \"#f0f921\"]], \"type\": \"surface\"}], \"table\": [{\"cells\": {\"fill\": {\"color\": \"#EBF0F8\"}, \"line\": {\"color\": \"white\"}}, \"header\": {\"fill\": {\"color\": \"#C8D4E3\"}, \"line\": {\"color\": \"white\"}}, \"type\": \"table\"}]}, \"layout\": {\"annotationdefaults\": {\"arrowcolor\": \"#2a3f5f\", \"arrowhead\": 0, \"arrowwidth\": 1}, \"autotypenumbers\": \"strict\", \"coloraxis\": {\"colorbar\": {\"outlinewidth\": 0, \"ticks\": \"\"}}, \"colorscale\": {\"diverging\": [[0, \"#8e0152\"], [0.1, \"#c51b7d\"], [0.2, \"#de77ae\"], [0.3, \"#f1b6da\"], [0.4, \"#fde0ef\"], [0.5, \"#f7f7f7\"], [0.6, \"#e6f5d0\"], [0.7, \"#b8e186\"], [0.8, \"#7fbc41\"], [0.9, \"#4d9221\"], [1, \"#276419\"]], \"sequential\": [[0.0, \"#0d0887\"], [0.1111111111111111, \"#46039f\"], [0.2222222222222222, \"#7201a8\"], [0.3333333333333333, \"#9c179e\"], [0.4444444444444444, \"#bd3786\"], [0.5555555555555556, \"#d8576b\"], [0.6666666666666666, \"#ed7953\"], [0.7777777777777778, \"#fb9f3a\"], [0.8888888888888888, \"#fdca26\"], [1.0, \"#f0f921\"]], \"sequentialminus\": [[0.0, \"#0d0887\"], [0.1111111111111111, \"#46039f\"], [0.2222222222222222, \"#7201a8\"], [0.3333333333333333, \"#9c179e\"], [0.4444444444444444, \"#bd3786\"], [0.5555555555555556, \"#d8576b\"], [0.6666666666666666, \"#ed7953\"], [0.7777777777777778, \"#fb9f3a\"], [0.8888888888888888, \"#fdca26\"], [1.0, \"#f0f921\"]]}, \"colorway\": [\"#636efa\", \"#EF553B\", \"#00cc96\", \"#ab63fa\", \"#FFA15A\", \"#19d3f3\", \"#FF6692\", \"#B6E880\", \"#FF97FF\", \"#FECB52\"], \"font\": {\"color\": \"#2a3f5f\"}, \"geo\": {\"bgcolor\": \"white\", \"lakecolor\": \"white\", \"landcolor\": \"#E5ECF6\", \"showlakes\": true, \"showland\": true, \"subunitcolor\": \"white\"}, \"hoverlabel\": {\"align\": \"left\"}, \"hovermode\": \"closest\", \"mapbox\": {\"style\": \"light\"}, \"paper_bgcolor\": \"white\", \"plot_bgcolor\": \"#E5ECF6\", \"polar\": {\"angularaxis\": {\"gridcolor\": \"white\", \"linecolor\": \"white\", \"ticks\": \"\"}, \"bgcolor\": \"#E5ECF6\", \"radialaxis\": {\"gridcolor\": \"white\", \"linecolor\": \"white\", \"ticks\": \"\"}}, \"scene\": {\"xaxis\": {\"backgroundcolor\": \"#E5ECF6\", \"gridcolor\": \"white\", \"gridwidth\": 2, \"linecolor\": \"white\", \"showbackground\": true, \"ticks\": \"\", \"zerolinecolor\": \"white\"}, \"yaxis\": {\"backgroundcolor\": \"#E5ECF6\", \"gridcolor\": \"white\", \"gridwidth\": 2, \"linecolor\": \"white\", \"showbackground\": true, \"ticks\": \"\", \"zerolinecolor\": \"white\"}, \"zaxis\": {\"backgroundcolor\": \"#E5ECF6\", \"gridcolor\": \"white\", \"gridwidth\": 2, \"linecolor\": \"white\", \"showbackground\": true, \"ticks\": \"\", \"zerolinecolor\": \"white\"}}, \"shapedefaults\": {\"line\": {\"color\": \"#2a3f5f\"}}, \"ternary\": {\"aaxis\": {\"gridcolor\": \"white\", \"linecolor\": \"white\", \"ticks\": \"\"}, \"baxis\": {\"gridcolor\": \"white\", \"linecolor\": \"white\", \"ticks\": \"\"}, \"bgcolor\": \"#E5ECF6\", \"caxis\": {\"gridcolor\": \"white\", \"linecolor\": \"white\", \"ticks\": \"\"}}, \"title\": {\"x\": 0.05}, \"xaxis\": {\"automargin\": true, \"gridcolor\": \"white\", \"linecolor\": \"white\", \"ticks\": \"\", \"title\": {\"standoff\": 15}, \"zerolinecolor\": \"white\", \"zerolinewidth\": 2}, \"yaxis\": {\"automargin\": true, \"gridcolor\": \"white\", \"linecolor\": \"white\", \"ticks\": \"\", \"title\": {\"standoff\": 15}, \"zerolinecolor\": \"white\", \"zerolinewidth\": 2}}}, \"title\": {\"font\": {\"color\": \"#4D5663\"}}, \"xaxis\": {\"gridcolor\": \"#E1E5ED\", \"showgrid\": true, \"tickfont\": {\"color\": \"#4D5663\"}, \"title\": {\"font\": {\"color\": \"#4D5663\"}, \"text\": \"\"}, \"zerolinecolor\": \"#E1E5ED\"}, \"yaxis\": {\"gridcolor\": \"#E1E5ED\", \"showgrid\": true, \"tickfont\": {\"color\": \"#4D5663\"}, \"title\": {\"font\": {\"color\": \"#4D5663\"}, \"text\": \"\"}, \"zerolinecolor\": \"#E1E5ED\"}},                        {\"showLink\": true, \"linkText\": \"Export to plot.ly\", \"plotlyServerURL\": \"https://plot.ly\", \"responsive\": true}                    ).then(function(){\n",
       "                            \n",
       "var gd = document.getElementById('0115fd4c-f066-4fd3-8b86-e2c1322b37b0');\n",
       "var x = new MutationObserver(function (mutations, observer) {{\n",
       "        var display = window.getComputedStyle(gd).display;\n",
       "        if (!display || display === 'none') {{\n",
       "            console.log([gd, 'removed!']);\n",
       "            Plotly.purge(gd);\n",
       "            observer.disconnect();\n",
       "        }}\n",
       "}});\n",
       "\n",
       "// Listen for the removal of the full notebook cells\n",
       "var notebookContainer = gd.closest('#notebook-container');\n",
       "if (notebookContainer) {{\n",
       "    x.observe(notebookContainer, {childList: true});\n",
       "}}\n",
       "\n",
       "// Listen for the clearing of the current output cell\n",
       "var outputEl = gd.closest('.output');\n",
       "if (outputEl) {{\n",
       "    x.observe(outputEl, {childList: true});\n",
       "}}\n",
       "\n",
       "                        })                };                });            </script>        </div>"
      ]
     },
     "metadata": {},
     "output_type": "display_data"
    }
   ],
   "source": [
    "#default connects by lines\n",
    "df.iplot(kind='scatter',x='A',y='B')"
   ]
  },
  {
   "cell_type": "code",
   "execution_count": 27,
   "metadata": {},
   "outputs": [
    {
     "data": {
      "application/vnd.plotly.v1+json": {
       "config": {
        "linkText": "Export to plot.ly",
        "plotlyServerURL": "https://plot.ly",
        "showLink": true
       },
       "data": [
        {
         "line": {
          "color": "rgba(255, 153, 51, 1.0)",
          "dash": "solid",
          "shape": "linear",
          "width": 1.3
         },
         "marker": {
          "size": 20,
          "symbol": "circle"
         },
         "mode": "markers",
         "name": "B",
         "text": "",
         "type": "scatter",
         "x": [
          -0.3155077874583621,
          0.3797030900663316,
          0.13082536129896652,
          -2.2125362027707243,
          0.6959899932604471,
          -0.6651688342182054,
          0.3392751939560983,
          -0.06426101581698589,
          0.9363722872087246,
          1.2876798208715128,
          -0.8196844023398393,
          0.10550574634716345,
          0.984281215420857,
          -0.6480877371964813,
          -1.0196895799590036,
          0.03905274891226861,
          1.5089599192845327,
          1.3158362494688813,
          -0.3925680163977808,
          2.1593895399262033,
          -0.9277739001087258,
          -1.8101984688606385,
          1.1051035037837664,
          -1.9118969941429562,
          0.5506036681161965,
          -2.0808993092408583,
          -0.17650866762141137,
          0.2632788163547951,
          -0.6182340559844405,
          1.7529663918088312,
          1.1406246805389066,
          0.7590908403416821,
          -1.4817193890130869,
          0.16014759977799178,
          -1.1411833455404845,
          -0.27451731196969403,
          0.9712894693061355,
          0.8776435538970953,
          -0.9255622764713449,
          -0.15646200077681197,
          0.12895762865690136,
          0.013382331274075478,
          0.008946199293052778,
          1.0855960400891453,
          -0.9989079444164698,
          -0.9197301339026103,
          -0.510708790885548,
          -0.5881182748390118,
          -0.870030337560292,
          -1.855747922112066,
          -0.39039164081373884,
          1.1694539604739602,
          -1.3832385950425616,
          -0.5338808546528805,
          0.6274205428990312,
          0.7377221968558098,
          0.2104629902769848,
          1.0332701707296545,
          1.1773014071136858,
          -3.003363732106316,
          -0.6367581114030771,
          -0.9849507362072155,
          1.172889971084506,
          1.4049919559413808,
          -1.0665120136345716,
          -0.4927786792902122,
          -0.4287735889544915,
          2.1301691553569584,
          0.10248865395219325,
          -0.673713112327333,
          -0.2774788826539322,
          -0.9845092147425413,
          -1.494775948560315,
          -0.1590858026848481,
          0.4245146132867722,
          -1.0527070551758853,
          -0.6271225927724591,
          -0.0932018672644432,
          -1.688083990261239,
          -0.1782681183091389,
          -0.47899491072394434,
          0.6428012794627598,
          1.4776959120729736,
          -0.6652938373848085,
          1.352182236487618,
          -0.7313750627525646,
          0.14174316018181848,
          1.6692898036380026,
          1.2245434297403823,
          -0.7160280045468996,
          1.8260580823033306,
          1.6250393454014014,
          -1.498852738752117,
          0.527366459397921,
          -0.37994599350941144,
          -0.889761094168913,
          -0.6175950575590283,
          0.8291700376647222,
          0.052524725240034126,
          -0.38017490909113333
         ],
         "y": [
          -0.742187179415621,
          1.2134107925533075,
          -1.7025709041072157,
          1.1077712761245098,
          0.2450268665699058,
          0.03385606567073771,
          -1.0293155394884315,
          -0.6351817072975786,
          1.208253857927379,
          0.2029117802982394,
          -0.6799122973866606,
          -0.08803443897233985,
          0.5758098646913065,
          2.3902431728879696,
          2.322309790667226,
          -2.053897477260906,
          -0.36181402898944065,
          -0.49557665247321375,
          -0.4951736765103893,
          0.37178527931536326,
          -0.3682043275108212,
          -0.5047798875636234,
          1.379355997986373,
          0.13616493155165393,
          0.49318325140623254,
          -1.5175410018180038,
          1.1547435470274139,
          0.6050117379633767,
          -0.6996344079126486,
          -1.4817646470214914,
          0.18752169065501145,
          0.8066387082368147,
          -1.1959799329299963,
          -1.4170206981119036,
          -0.5800184256741695,
          0.49349150837889405,
          -1.2519802476741586,
          -0.12630538029101265,
          0.5713795406605309,
          0.33842867331585463,
          0.9276612042481814,
          0.004692158094001177,
          0.9607895275269087,
          -0.10436431125521162,
          0.19500506072408932,
          0.143619040803998,
          0.24846269290696457,
          -1.1992336266022514,
          0.7719922880483462,
          -1.7107148568858963,
          -1.1515543208452308,
          -0.4577740846020255,
          0.009834139054455184,
          -0.9013706274525457,
          -1.35055050964298,
          0.2636316222136694,
          -1.2117197793433805,
          0.7298801493900917,
          0.5123712500991467,
          -0.9682940983285426,
          0.4561713613886814,
          -1.005662369358284,
          0.3471944906337027,
          0.1589370880209759,
          0.6209089271516771,
          -0.8626092465711424,
          0.7291717621580838,
          -0.9247316157756699,
          0.048935049402674256,
          -1.1589530826492762,
          -0.11538883632037497,
          -2.5490296011198748,
          -0.40073928870507336,
          1.8938769192769815,
          -0.06177218824813722,
          -0.3126294223162608,
          -1.5306645065803304,
          -0.5912941570519058,
          0.8109286932495376,
          2.1950748662015487,
          -1.2866497815909261,
          -0.04497568412693477,
          1.481450499023565,
          0.663621173996275,
          -0.8882298892774952,
          -2.4824878621979,
          -0.02457183461218704,
          -0.039755112888196234,
          -0.5727714919382593,
          0.6308537624751678,
          0.22301238943458415,
          -0.3747561570544337,
          -1.6649265559053648,
          1.7760400884476781,
          0.09799518810159046,
          0.5757701404841383,
          1.161331427062505,
          0.1137451273646778,
          0.41018929002830706,
          -0.8698503917579509
         ]
        }
       ],
       "layout": {
        "legend": {
         "bgcolor": "#F5F6F9",
         "font": {
          "color": "#4D5663"
         }
        },
        "paper_bgcolor": "#F5F6F9",
        "plot_bgcolor": "#F5F6F9",
        "template": {
         "data": {
          "bar": [
           {
            "error_x": {
             "color": "#2a3f5f"
            },
            "error_y": {
             "color": "#2a3f5f"
            },
            "marker": {
             "line": {
              "color": "#E5ECF6",
              "width": 0.5
             }
            },
            "type": "bar"
           }
          ],
          "barpolar": [
           {
            "marker": {
             "line": {
              "color": "#E5ECF6",
              "width": 0.5
             }
            },
            "type": "barpolar"
           }
          ],
          "carpet": [
           {
            "aaxis": {
             "endlinecolor": "#2a3f5f",
             "gridcolor": "white",
             "linecolor": "white",
             "minorgridcolor": "white",
             "startlinecolor": "#2a3f5f"
            },
            "baxis": {
             "endlinecolor": "#2a3f5f",
             "gridcolor": "white",
             "linecolor": "white",
             "minorgridcolor": "white",
             "startlinecolor": "#2a3f5f"
            },
            "type": "carpet"
           }
          ],
          "choropleth": [
           {
            "colorbar": {
             "outlinewidth": 0,
             "ticks": ""
            },
            "type": "choropleth"
           }
          ],
          "contour": [
           {
            "colorbar": {
             "outlinewidth": 0,
             "ticks": ""
            },
            "colorscale": [
             [
              0,
              "#0d0887"
             ],
             [
              0.1111111111111111,
              "#46039f"
             ],
             [
              0.2222222222222222,
              "#7201a8"
             ],
             [
              0.3333333333333333,
              "#9c179e"
             ],
             [
              0.4444444444444444,
              "#bd3786"
             ],
             [
              0.5555555555555556,
              "#d8576b"
             ],
             [
              0.6666666666666666,
              "#ed7953"
             ],
             [
              0.7777777777777778,
              "#fb9f3a"
             ],
             [
              0.8888888888888888,
              "#fdca26"
             ],
             [
              1,
              "#f0f921"
             ]
            ],
            "type": "contour"
           }
          ],
          "contourcarpet": [
           {
            "colorbar": {
             "outlinewidth": 0,
             "ticks": ""
            },
            "type": "contourcarpet"
           }
          ],
          "heatmap": [
           {
            "colorbar": {
             "outlinewidth": 0,
             "ticks": ""
            },
            "colorscale": [
             [
              0,
              "#0d0887"
             ],
             [
              0.1111111111111111,
              "#46039f"
             ],
             [
              0.2222222222222222,
              "#7201a8"
             ],
             [
              0.3333333333333333,
              "#9c179e"
             ],
             [
              0.4444444444444444,
              "#bd3786"
             ],
             [
              0.5555555555555556,
              "#d8576b"
             ],
             [
              0.6666666666666666,
              "#ed7953"
             ],
             [
              0.7777777777777778,
              "#fb9f3a"
             ],
             [
              0.8888888888888888,
              "#fdca26"
             ],
             [
              1,
              "#f0f921"
             ]
            ],
            "type": "heatmap"
           }
          ],
          "heatmapgl": [
           {
            "colorbar": {
             "outlinewidth": 0,
             "ticks": ""
            },
            "colorscale": [
             [
              0,
              "#0d0887"
             ],
             [
              0.1111111111111111,
              "#46039f"
             ],
             [
              0.2222222222222222,
              "#7201a8"
             ],
             [
              0.3333333333333333,
              "#9c179e"
             ],
             [
              0.4444444444444444,
              "#bd3786"
             ],
             [
              0.5555555555555556,
              "#d8576b"
             ],
             [
              0.6666666666666666,
              "#ed7953"
             ],
             [
              0.7777777777777778,
              "#fb9f3a"
             ],
             [
              0.8888888888888888,
              "#fdca26"
             ],
             [
              1,
              "#f0f921"
             ]
            ],
            "type": "heatmapgl"
           }
          ],
          "histogram": [
           {
            "marker": {
             "colorbar": {
              "outlinewidth": 0,
              "ticks": ""
             }
            },
            "type": "histogram"
           }
          ],
          "histogram2d": [
           {
            "colorbar": {
             "outlinewidth": 0,
             "ticks": ""
            },
            "colorscale": [
             [
              0,
              "#0d0887"
             ],
             [
              0.1111111111111111,
              "#46039f"
             ],
             [
              0.2222222222222222,
              "#7201a8"
             ],
             [
              0.3333333333333333,
              "#9c179e"
             ],
             [
              0.4444444444444444,
              "#bd3786"
             ],
             [
              0.5555555555555556,
              "#d8576b"
             ],
             [
              0.6666666666666666,
              "#ed7953"
             ],
             [
              0.7777777777777778,
              "#fb9f3a"
             ],
             [
              0.8888888888888888,
              "#fdca26"
             ],
             [
              1,
              "#f0f921"
             ]
            ],
            "type": "histogram2d"
           }
          ],
          "histogram2dcontour": [
           {
            "colorbar": {
             "outlinewidth": 0,
             "ticks": ""
            },
            "colorscale": [
             [
              0,
              "#0d0887"
             ],
             [
              0.1111111111111111,
              "#46039f"
             ],
             [
              0.2222222222222222,
              "#7201a8"
             ],
             [
              0.3333333333333333,
              "#9c179e"
             ],
             [
              0.4444444444444444,
              "#bd3786"
             ],
             [
              0.5555555555555556,
              "#d8576b"
             ],
             [
              0.6666666666666666,
              "#ed7953"
             ],
             [
              0.7777777777777778,
              "#fb9f3a"
             ],
             [
              0.8888888888888888,
              "#fdca26"
             ],
             [
              1,
              "#f0f921"
             ]
            ],
            "type": "histogram2dcontour"
           }
          ],
          "mesh3d": [
           {
            "colorbar": {
             "outlinewidth": 0,
             "ticks": ""
            },
            "type": "mesh3d"
           }
          ],
          "parcoords": [
           {
            "line": {
             "colorbar": {
              "outlinewidth": 0,
              "ticks": ""
             }
            },
            "type": "parcoords"
           }
          ],
          "pie": [
           {
            "automargin": true,
            "type": "pie"
           }
          ],
          "scatter": [
           {
            "marker": {
             "colorbar": {
              "outlinewidth": 0,
              "ticks": ""
             }
            },
            "type": "scatter"
           }
          ],
          "scatter3d": [
           {
            "line": {
             "colorbar": {
              "outlinewidth": 0,
              "ticks": ""
             }
            },
            "marker": {
             "colorbar": {
              "outlinewidth": 0,
              "ticks": ""
             }
            },
            "type": "scatter3d"
           }
          ],
          "scattercarpet": [
           {
            "marker": {
             "colorbar": {
              "outlinewidth": 0,
              "ticks": ""
             }
            },
            "type": "scattercarpet"
           }
          ],
          "scattergeo": [
           {
            "marker": {
             "colorbar": {
              "outlinewidth": 0,
              "ticks": ""
             }
            },
            "type": "scattergeo"
           }
          ],
          "scattergl": [
           {
            "marker": {
             "colorbar": {
              "outlinewidth": 0,
              "ticks": ""
             }
            },
            "type": "scattergl"
           }
          ],
          "scattermapbox": [
           {
            "marker": {
             "colorbar": {
              "outlinewidth": 0,
              "ticks": ""
             }
            },
            "type": "scattermapbox"
           }
          ],
          "scatterpolar": [
           {
            "marker": {
             "colorbar": {
              "outlinewidth": 0,
              "ticks": ""
             }
            },
            "type": "scatterpolar"
           }
          ],
          "scatterpolargl": [
           {
            "marker": {
             "colorbar": {
              "outlinewidth": 0,
              "ticks": ""
             }
            },
            "type": "scatterpolargl"
           }
          ],
          "scatterternary": [
           {
            "marker": {
             "colorbar": {
              "outlinewidth": 0,
              "ticks": ""
             }
            },
            "type": "scatterternary"
           }
          ],
          "surface": [
           {
            "colorbar": {
             "outlinewidth": 0,
             "ticks": ""
            },
            "colorscale": [
             [
              0,
              "#0d0887"
             ],
             [
              0.1111111111111111,
              "#46039f"
             ],
             [
              0.2222222222222222,
              "#7201a8"
             ],
             [
              0.3333333333333333,
              "#9c179e"
             ],
             [
              0.4444444444444444,
              "#bd3786"
             ],
             [
              0.5555555555555556,
              "#d8576b"
             ],
             [
              0.6666666666666666,
              "#ed7953"
             ],
             [
              0.7777777777777778,
              "#fb9f3a"
             ],
             [
              0.8888888888888888,
              "#fdca26"
             ],
             [
              1,
              "#f0f921"
             ]
            ],
            "type": "surface"
           }
          ],
          "table": [
           {
            "cells": {
             "fill": {
              "color": "#EBF0F8"
             },
             "line": {
              "color": "white"
             }
            },
            "header": {
             "fill": {
              "color": "#C8D4E3"
             },
             "line": {
              "color": "white"
             }
            },
            "type": "table"
           }
          ]
         },
         "layout": {
          "annotationdefaults": {
           "arrowcolor": "#2a3f5f",
           "arrowhead": 0,
           "arrowwidth": 1
          },
          "autotypenumbers": "strict",
          "coloraxis": {
           "colorbar": {
            "outlinewidth": 0,
            "ticks": ""
           }
          },
          "colorscale": {
           "diverging": [
            [
             0,
             "#8e0152"
            ],
            [
             0.1,
             "#c51b7d"
            ],
            [
             0.2,
             "#de77ae"
            ],
            [
             0.3,
             "#f1b6da"
            ],
            [
             0.4,
             "#fde0ef"
            ],
            [
             0.5,
             "#f7f7f7"
            ],
            [
             0.6,
             "#e6f5d0"
            ],
            [
             0.7,
             "#b8e186"
            ],
            [
             0.8,
             "#7fbc41"
            ],
            [
             0.9,
             "#4d9221"
            ],
            [
             1,
             "#276419"
            ]
           ],
           "sequential": [
            [
             0,
             "#0d0887"
            ],
            [
             0.1111111111111111,
             "#46039f"
            ],
            [
             0.2222222222222222,
             "#7201a8"
            ],
            [
             0.3333333333333333,
             "#9c179e"
            ],
            [
             0.4444444444444444,
             "#bd3786"
            ],
            [
             0.5555555555555556,
             "#d8576b"
            ],
            [
             0.6666666666666666,
             "#ed7953"
            ],
            [
             0.7777777777777778,
             "#fb9f3a"
            ],
            [
             0.8888888888888888,
             "#fdca26"
            ],
            [
             1,
             "#f0f921"
            ]
           ],
           "sequentialminus": [
            [
             0,
             "#0d0887"
            ],
            [
             0.1111111111111111,
             "#46039f"
            ],
            [
             0.2222222222222222,
             "#7201a8"
            ],
            [
             0.3333333333333333,
             "#9c179e"
            ],
            [
             0.4444444444444444,
             "#bd3786"
            ],
            [
             0.5555555555555556,
             "#d8576b"
            ],
            [
             0.6666666666666666,
             "#ed7953"
            ],
            [
             0.7777777777777778,
             "#fb9f3a"
            ],
            [
             0.8888888888888888,
             "#fdca26"
            ],
            [
             1,
             "#f0f921"
            ]
           ]
          },
          "colorway": [
           "#636efa",
           "#EF553B",
           "#00cc96",
           "#ab63fa",
           "#FFA15A",
           "#19d3f3",
           "#FF6692",
           "#B6E880",
           "#FF97FF",
           "#FECB52"
          ],
          "font": {
           "color": "#2a3f5f"
          },
          "geo": {
           "bgcolor": "white",
           "lakecolor": "white",
           "landcolor": "#E5ECF6",
           "showlakes": true,
           "showland": true,
           "subunitcolor": "white"
          },
          "hoverlabel": {
           "align": "left"
          },
          "hovermode": "closest",
          "mapbox": {
           "style": "light"
          },
          "paper_bgcolor": "white",
          "plot_bgcolor": "#E5ECF6",
          "polar": {
           "angularaxis": {
            "gridcolor": "white",
            "linecolor": "white",
            "ticks": ""
           },
           "bgcolor": "#E5ECF6",
           "radialaxis": {
            "gridcolor": "white",
            "linecolor": "white",
            "ticks": ""
           }
          },
          "scene": {
           "xaxis": {
            "backgroundcolor": "#E5ECF6",
            "gridcolor": "white",
            "gridwidth": 2,
            "linecolor": "white",
            "showbackground": true,
            "ticks": "",
            "zerolinecolor": "white"
           },
           "yaxis": {
            "backgroundcolor": "#E5ECF6",
            "gridcolor": "white",
            "gridwidth": 2,
            "linecolor": "white",
            "showbackground": true,
            "ticks": "",
            "zerolinecolor": "white"
           },
           "zaxis": {
            "backgroundcolor": "#E5ECF6",
            "gridcolor": "white",
            "gridwidth": 2,
            "linecolor": "white",
            "showbackground": true,
            "ticks": "",
            "zerolinecolor": "white"
           }
          },
          "shapedefaults": {
           "line": {
            "color": "#2a3f5f"
           }
          },
          "ternary": {
           "aaxis": {
            "gridcolor": "white",
            "linecolor": "white",
            "ticks": ""
           },
           "baxis": {
            "gridcolor": "white",
            "linecolor": "white",
            "ticks": ""
           },
           "bgcolor": "#E5ECF6",
           "caxis": {
            "gridcolor": "white",
            "linecolor": "white",
            "ticks": ""
           }
          },
          "title": {
           "x": 0.05
          },
          "xaxis": {
           "automargin": true,
           "gridcolor": "white",
           "linecolor": "white",
           "ticks": "",
           "title": {
            "standoff": 15
           },
           "zerolinecolor": "white",
           "zerolinewidth": 2
          },
          "yaxis": {
           "automargin": true,
           "gridcolor": "white",
           "linecolor": "white",
           "ticks": "",
           "title": {
            "standoff": 15
           },
           "zerolinecolor": "white",
           "zerolinewidth": 2
          }
         }
        },
        "title": {
         "font": {
          "color": "#4D5663"
         }
        },
        "xaxis": {
         "gridcolor": "#E1E5ED",
         "showgrid": true,
         "tickfont": {
          "color": "#4D5663"
         },
         "title": {
          "font": {
           "color": "#4D5663"
          },
          "text": ""
         },
         "zerolinecolor": "#E1E5ED"
        },
        "yaxis": {
         "gridcolor": "#E1E5ED",
         "showgrid": true,
         "tickfont": {
          "color": "#4D5663"
         },
         "title": {
          "font": {
           "color": "#4D5663"
          },
          "text": ""
         },
         "zerolinecolor": "#E1E5ED"
        }
       }
      },
      "text/html": [
       "<div>                            <div id=\"39f46fb4-4113-4a8b-8ff6-fc22b82375e4\" class=\"plotly-graph-div\" style=\"height:525px; width:100%;\"></div>            <script type=\"text/javascript\">                require([\"plotly\"], function(Plotly) {                    window.PLOTLYENV=window.PLOTLYENV || {};\n",
       "                    window.PLOTLYENV.BASE_URL='https://plot.ly';                                    if (document.getElementById(\"39f46fb4-4113-4a8b-8ff6-fc22b82375e4\")) {                    Plotly.newPlot(                        \"39f46fb4-4113-4a8b-8ff6-fc22b82375e4\",                        [{\"line\": {\"color\": \"rgba(255, 153, 51, 1.0)\", \"dash\": \"solid\", \"shape\": \"linear\", \"width\": 1.3}, \"marker\": {\"size\": 20, \"symbol\": \"circle\"}, \"mode\": \"markers\", \"name\": \"B\", \"text\": \"\", \"type\": \"scatter\", \"x\": [-0.3155077874583621, 0.3797030900663316, 0.13082536129896652, -2.2125362027707243, 0.6959899932604471, -0.6651688342182054, 0.3392751939560983, -0.06426101581698589, 0.9363722872087246, 1.2876798208715128, -0.8196844023398393, 0.10550574634716345, 0.984281215420857, -0.6480877371964813, -1.0196895799590036, 0.03905274891226861, 1.5089599192845327, 1.3158362494688813, -0.3925680163977808, 2.1593895399262033, -0.9277739001087258, -1.8101984688606385, 1.1051035037837664, -1.9118969941429562, 0.5506036681161965, -2.0808993092408583, -0.17650866762141137, 0.2632788163547951, -0.6182340559844405, 1.7529663918088312, 1.1406246805389066, 0.7590908403416821, -1.4817193890130869, 0.16014759977799178, -1.1411833455404845, -0.27451731196969403, 0.9712894693061355, 0.8776435538970953, -0.9255622764713449, -0.15646200077681197, 0.12895762865690136, 0.013382331274075478, 0.008946199293052778, 1.0855960400891453, -0.9989079444164698, -0.9197301339026103, -0.510708790885548, -0.5881182748390118, -0.870030337560292, -1.855747922112066, -0.39039164081373884, 1.1694539604739602, -1.3832385950425616, -0.5338808546528805, 0.6274205428990312, 0.7377221968558098, 0.2104629902769848, 1.0332701707296545, 1.1773014071136858, -3.003363732106316, -0.6367581114030771, -0.9849507362072155, 1.172889971084506, 1.4049919559413808, -1.0665120136345716, -0.4927786792902122, -0.4287735889544915, 2.1301691553569584, 0.10248865395219325, -0.673713112327333, -0.2774788826539322, -0.9845092147425413, -1.494775948560315, -0.1590858026848481, 0.4245146132867722, -1.0527070551758853, -0.6271225927724591, -0.0932018672644432, -1.688083990261239, -0.1782681183091389, -0.47899491072394434, 0.6428012794627598, 1.4776959120729736, -0.6652938373848085, 1.352182236487618, -0.7313750627525646, 0.14174316018181848, 1.6692898036380026, 1.2245434297403823, -0.7160280045468996, 1.8260580823033306, 1.6250393454014014, -1.498852738752117, 0.527366459397921, -0.37994599350941144, -0.889761094168913, -0.6175950575590283, 0.8291700376647222, 0.052524725240034126, -0.38017490909113333], \"y\": [-0.742187179415621, 1.2134107925533075, -1.7025709041072157, 1.1077712761245098, 0.2450268665699058, 0.03385606567073771, -1.0293155394884315, -0.6351817072975786, 1.208253857927379, 0.2029117802982394, -0.6799122973866606, -0.08803443897233985, 0.5758098646913065, 2.3902431728879696, 2.322309790667226, -2.053897477260906, -0.36181402898944065, -0.49557665247321375, -0.4951736765103893, 0.37178527931536326, -0.3682043275108212, -0.5047798875636234, 1.379355997986373, 0.13616493155165393, 0.49318325140623254, -1.5175410018180038, 1.1547435470274139, 0.6050117379633767, -0.6996344079126486, -1.4817646470214914, 0.18752169065501145, 0.8066387082368147, -1.1959799329299963, -1.4170206981119036, -0.5800184256741695, 0.49349150837889405, -1.2519802476741586, -0.12630538029101265, 0.5713795406605309, 0.33842867331585463, 0.9276612042481814, 0.004692158094001177, 0.9607895275269087, -0.10436431125521162, 0.19500506072408932, 0.143619040803998, 0.24846269290696457, -1.1992336266022514, 0.7719922880483462, -1.7107148568858963, -1.1515543208452308, -0.4577740846020255, 0.009834139054455184, -0.9013706274525457, -1.35055050964298, 0.2636316222136694, -1.2117197793433805, 0.7298801493900917, 0.5123712500991467, -0.9682940983285426, 0.4561713613886814, -1.005662369358284, 0.3471944906337027, 0.1589370880209759, 0.6209089271516771, -0.8626092465711424, 0.7291717621580838, -0.9247316157756699, 0.048935049402674256, -1.1589530826492762, -0.11538883632037497, -2.5490296011198748, -0.40073928870507336, 1.8938769192769815, -0.06177218824813722, -0.3126294223162608, -1.5306645065803304, -0.5912941570519058, 0.8109286932495376, 2.1950748662015487, -1.2866497815909261, -0.04497568412693477, 1.481450499023565, 0.663621173996275, -0.8882298892774952, -2.4824878621979, -0.02457183461218704, -0.039755112888196234, -0.5727714919382593, 0.6308537624751678, 0.22301238943458415, -0.3747561570544337, -1.6649265559053648, 1.7760400884476781, 0.09799518810159046, 0.5757701404841383, 1.161331427062505, 0.1137451273646778, 0.41018929002830706, -0.8698503917579509]}],                        {\"legend\": {\"bgcolor\": \"#F5F6F9\", \"font\": {\"color\": \"#4D5663\"}}, \"paper_bgcolor\": \"#F5F6F9\", \"plot_bgcolor\": \"#F5F6F9\", \"template\": {\"data\": {\"bar\": [{\"error_x\": {\"color\": \"#2a3f5f\"}, \"error_y\": {\"color\": \"#2a3f5f\"}, \"marker\": {\"line\": {\"color\": \"#E5ECF6\", \"width\": 0.5}}, \"type\": \"bar\"}], \"barpolar\": [{\"marker\": {\"line\": {\"color\": \"#E5ECF6\", \"width\": 0.5}}, \"type\": \"barpolar\"}], \"carpet\": [{\"aaxis\": {\"endlinecolor\": \"#2a3f5f\", \"gridcolor\": \"white\", \"linecolor\": \"white\", \"minorgridcolor\": \"white\", \"startlinecolor\": \"#2a3f5f\"}, \"baxis\": {\"endlinecolor\": \"#2a3f5f\", \"gridcolor\": \"white\", \"linecolor\": \"white\", \"minorgridcolor\": \"white\", \"startlinecolor\": \"#2a3f5f\"}, \"type\": \"carpet\"}], \"choropleth\": [{\"colorbar\": {\"outlinewidth\": 0, \"ticks\": \"\"}, \"type\": \"choropleth\"}], \"contour\": [{\"colorbar\": {\"outlinewidth\": 0, \"ticks\": \"\"}, \"colorscale\": [[0.0, \"#0d0887\"], [0.1111111111111111, \"#46039f\"], [0.2222222222222222, \"#7201a8\"], [0.3333333333333333, \"#9c179e\"], [0.4444444444444444, \"#bd3786\"], [0.5555555555555556, \"#d8576b\"], [0.6666666666666666, \"#ed7953\"], [0.7777777777777778, \"#fb9f3a\"], [0.8888888888888888, \"#fdca26\"], [1.0, \"#f0f921\"]], \"type\": \"contour\"}], \"contourcarpet\": [{\"colorbar\": {\"outlinewidth\": 0, \"ticks\": \"\"}, \"type\": \"contourcarpet\"}], \"heatmap\": [{\"colorbar\": {\"outlinewidth\": 0, \"ticks\": \"\"}, \"colorscale\": [[0.0, \"#0d0887\"], [0.1111111111111111, \"#46039f\"], [0.2222222222222222, \"#7201a8\"], [0.3333333333333333, \"#9c179e\"], [0.4444444444444444, \"#bd3786\"], [0.5555555555555556, \"#d8576b\"], [0.6666666666666666, \"#ed7953\"], [0.7777777777777778, \"#fb9f3a\"], [0.8888888888888888, \"#fdca26\"], [1.0, \"#f0f921\"]], \"type\": \"heatmap\"}], \"heatmapgl\": [{\"colorbar\": {\"outlinewidth\": 0, \"ticks\": \"\"}, \"colorscale\": [[0.0, \"#0d0887\"], [0.1111111111111111, \"#46039f\"], [0.2222222222222222, \"#7201a8\"], [0.3333333333333333, \"#9c179e\"], [0.4444444444444444, \"#bd3786\"], [0.5555555555555556, \"#d8576b\"], [0.6666666666666666, \"#ed7953\"], [0.7777777777777778, \"#fb9f3a\"], [0.8888888888888888, \"#fdca26\"], [1.0, \"#f0f921\"]], \"type\": \"heatmapgl\"}], \"histogram\": [{\"marker\": {\"colorbar\": {\"outlinewidth\": 0, \"ticks\": \"\"}}, \"type\": \"histogram\"}], \"histogram2d\": [{\"colorbar\": {\"outlinewidth\": 0, \"ticks\": \"\"}, \"colorscale\": [[0.0, \"#0d0887\"], [0.1111111111111111, \"#46039f\"], [0.2222222222222222, \"#7201a8\"], [0.3333333333333333, \"#9c179e\"], [0.4444444444444444, \"#bd3786\"], [0.5555555555555556, \"#d8576b\"], [0.6666666666666666, \"#ed7953\"], [0.7777777777777778, \"#fb9f3a\"], [0.8888888888888888, \"#fdca26\"], [1.0, \"#f0f921\"]], \"type\": \"histogram2d\"}], \"histogram2dcontour\": [{\"colorbar\": {\"outlinewidth\": 0, \"ticks\": \"\"}, \"colorscale\": [[0.0, \"#0d0887\"], [0.1111111111111111, \"#46039f\"], [0.2222222222222222, \"#7201a8\"], [0.3333333333333333, \"#9c179e\"], [0.4444444444444444, \"#bd3786\"], [0.5555555555555556, \"#d8576b\"], [0.6666666666666666, \"#ed7953\"], [0.7777777777777778, \"#fb9f3a\"], [0.8888888888888888, \"#fdca26\"], [1.0, \"#f0f921\"]], \"type\": \"histogram2dcontour\"}], \"mesh3d\": [{\"colorbar\": {\"outlinewidth\": 0, \"ticks\": \"\"}, \"type\": \"mesh3d\"}], \"parcoords\": [{\"line\": {\"colorbar\": {\"outlinewidth\": 0, \"ticks\": \"\"}}, \"type\": \"parcoords\"}], \"pie\": [{\"automargin\": true, \"type\": \"pie\"}], \"scatter\": [{\"marker\": {\"colorbar\": {\"outlinewidth\": 0, \"ticks\": \"\"}}, \"type\": \"scatter\"}], \"scatter3d\": [{\"line\": {\"colorbar\": {\"outlinewidth\": 0, \"ticks\": \"\"}}, \"marker\": {\"colorbar\": {\"outlinewidth\": 0, \"ticks\": \"\"}}, \"type\": \"scatter3d\"}], \"scattercarpet\": [{\"marker\": {\"colorbar\": {\"outlinewidth\": 0, \"ticks\": \"\"}}, \"type\": \"scattercarpet\"}], \"scattergeo\": [{\"marker\": {\"colorbar\": {\"outlinewidth\": 0, \"ticks\": \"\"}}, \"type\": \"scattergeo\"}], \"scattergl\": [{\"marker\": {\"colorbar\": {\"outlinewidth\": 0, \"ticks\": \"\"}}, \"type\": \"scattergl\"}], \"scattermapbox\": [{\"marker\": {\"colorbar\": {\"outlinewidth\": 0, \"ticks\": \"\"}}, \"type\": \"scattermapbox\"}], \"scatterpolar\": [{\"marker\": {\"colorbar\": {\"outlinewidth\": 0, \"ticks\": \"\"}}, \"type\": \"scatterpolar\"}], \"scatterpolargl\": [{\"marker\": {\"colorbar\": {\"outlinewidth\": 0, \"ticks\": \"\"}}, \"type\": \"scatterpolargl\"}], \"scatterternary\": [{\"marker\": {\"colorbar\": {\"outlinewidth\": 0, \"ticks\": \"\"}}, \"type\": \"scatterternary\"}], \"surface\": [{\"colorbar\": {\"outlinewidth\": 0, \"ticks\": \"\"}, \"colorscale\": [[0.0, \"#0d0887\"], [0.1111111111111111, \"#46039f\"], [0.2222222222222222, \"#7201a8\"], [0.3333333333333333, \"#9c179e\"], [0.4444444444444444, \"#bd3786\"], [0.5555555555555556, \"#d8576b\"], [0.6666666666666666, \"#ed7953\"], [0.7777777777777778, \"#fb9f3a\"], [0.8888888888888888, \"#fdca26\"], [1.0, \"#f0f921\"]], \"type\": \"surface\"}], \"table\": [{\"cells\": {\"fill\": {\"color\": \"#EBF0F8\"}, \"line\": {\"color\": \"white\"}}, \"header\": {\"fill\": {\"color\": \"#C8D4E3\"}, \"line\": {\"color\": \"white\"}}, \"type\": \"table\"}]}, \"layout\": {\"annotationdefaults\": {\"arrowcolor\": \"#2a3f5f\", \"arrowhead\": 0, \"arrowwidth\": 1}, \"autotypenumbers\": \"strict\", \"coloraxis\": {\"colorbar\": {\"outlinewidth\": 0, \"ticks\": \"\"}}, \"colorscale\": {\"diverging\": [[0, \"#8e0152\"], [0.1, \"#c51b7d\"], [0.2, \"#de77ae\"], [0.3, \"#f1b6da\"], [0.4, \"#fde0ef\"], [0.5, \"#f7f7f7\"], [0.6, \"#e6f5d0\"], [0.7, \"#b8e186\"], [0.8, \"#7fbc41\"], [0.9, \"#4d9221\"], [1, \"#276419\"]], \"sequential\": [[0.0, \"#0d0887\"], [0.1111111111111111, \"#46039f\"], [0.2222222222222222, \"#7201a8\"], [0.3333333333333333, \"#9c179e\"], [0.4444444444444444, \"#bd3786\"], [0.5555555555555556, \"#d8576b\"], [0.6666666666666666, \"#ed7953\"], [0.7777777777777778, \"#fb9f3a\"], [0.8888888888888888, \"#fdca26\"], [1.0, \"#f0f921\"]], \"sequentialminus\": [[0.0, \"#0d0887\"], [0.1111111111111111, \"#46039f\"], [0.2222222222222222, \"#7201a8\"], [0.3333333333333333, \"#9c179e\"], [0.4444444444444444, \"#bd3786\"], [0.5555555555555556, \"#d8576b\"], [0.6666666666666666, \"#ed7953\"], [0.7777777777777778, \"#fb9f3a\"], [0.8888888888888888, \"#fdca26\"], [1.0, \"#f0f921\"]]}, \"colorway\": [\"#636efa\", \"#EF553B\", \"#00cc96\", \"#ab63fa\", \"#FFA15A\", \"#19d3f3\", \"#FF6692\", \"#B6E880\", \"#FF97FF\", \"#FECB52\"], \"font\": {\"color\": \"#2a3f5f\"}, \"geo\": {\"bgcolor\": \"white\", \"lakecolor\": \"white\", \"landcolor\": \"#E5ECF6\", \"showlakes\": true, \"showland\": true, \"subunitcolor\": \"white\"}, \"hoverlabel\": {\"align\": \"left\"}, \"hovermode\": \"closest\", \"mapbox\": {\"style\": \"light\"}, \"paper_bgcolor\": \"white\", \"plot_bgcolor\": \"#E5ECF6\", \"polar\": {\"angularaxis\": {\"gridcolor\": \"white\", \"linecolor\": \"white\", \"ticks\": \"\"}, \"bgcolor\": \"#E5ECF6\", \"radialaxis\": {\"gridcolor\": \"white\", \"linecolor\": \"white\", \"ticks\": \"\"}}, \"scene\": {\"xaxis\": {\"backgroundcolor\": \"#E5ECF6\", \"gridcolor\": \"white\", \"gridwidth\": 2, \"linecolor\": \"white\", \"showbackground\": true, \"ticks\": \"\", \"zerolinecolor\": \"white\"}, \"yaxis\": {\"backgroundcolor\": \"#E5ECF6\", \"gridcolor\": \"white\", \"gridwidth\": 2, \"linecolor\": \"white\", \"showbackground\": true, \"ticks\": \"\", \"zerolinecolor\": \"white\"}, \"zaxis\": {\"backgroundcolor\": \"#E5ECF6\", \"gridcolor\": \"white\", \"gridwidth\": 2, \"linecolor\": \"white\", \"showbackground\": true, \"ticks\": \"\", \"zerolinecolor\": \"white\"}}, \"shapedefaults\": {\"line\": {\"color\": \"#2a3f5f\"}}, \"ternary\": {\"aaxis\": {\"gridcolor\": \"white\", \"linecolor\": \"white\", \"ticks\": \"\"}, \"baxis\": {\"gridcolor\": \"white\", \"linecolor\": \"white\", \"ticks\": \"\"}, \"bgcolor\": \"#E5ECF6\", \"caxis\": {\"gridcolor\": \"white\", \"linecolor\": \"white\", \"ticks\": \"\"}}, \"title\": {\"x\": 0.05}, \"xaxis\": {\"automargin\": true, \"gridcolor\": \"white\", \"linecolor\": \"white\", \"ticks\": \"\", \"title\": {\"standoff\": 15}, \"zerolinecolor\": \"white\", \"zerolinewidth\": 2}, \"yaxis\": {\"automargin\": true, \"gridcolor\": \"white\", \"linecolor\": \"white\", \"ticks\": \"\", \"title\": {\"standoff\": 15}, \"zerolinecolor\": \"white\", \"zerolinewidth\": 2}}}, \"title\": {\"font\": {\"color\": \"#4D5663\"}}, \"xaxis\": {\"gridcolor\": \"#E1E5ED\", \"showgrid\": true, \"tickfont\": {\"color\": \"#4D5663\"}, \"title\": {\"font\": {\"color\": \"#4D5663\"}, \"text\": \"\"}, \"zerolinecolor\": \"#E1E5ED\"}, \"yaxis\": {\"gridcolor\": \"#E1E5ED\", \"showgrid\": true, \"tickfont\": {\"color\": \"#4D5663\"}, \"title\": {\"font\": {\"color\": \"#4D5663\"}, \"text\": \"\"}, \"zerolinecolor\": \"#E1E5ED\"}},                        {\"showLink\": true, \"linkText\": \"Export to plot.ly\", \"plotlyServerURL\": \"https://plot.ly\", \"responsive\": true}                    ).then(function(){\n",
       "                            \n",
       "var gd = document.getElementById('39f46fb4-4113-4a8b-8ff6-fc22b82375e4');\n",
       "var x = new MutationObserver(function (mutations, observer) {{\n",
       "        var display = window.getComputedStyle(gd).display;\n",
       "        if (!display || display === 'none') {{\n",
       "            console.log([gd, 'removed!']);\n",
       "            Plotly.purge(gd);\n",
       "            observer.disconnect();\n",
       "        }}\n",
       "}});\n",
       "\n",
       "// Listen for the removal of the full notebook cells\n",
       "var notebookContainer = gd.closest('#notebook-container');\n",
       "if (notebookContainer) {{\n",
       "    x.observe(notebookContainer, {childList: true});\n",
       "}}\n",
       "\n",
       "// Listen for the clearing of the current output cell\n",
       "var outputEl = gd.closest('.output');\n",
       "if (outputEl) {{\n",
       "    x.observe(outputEl, {childList: true});\n",
       "}}\n",
       "\n",
       "                        })                };                });            </script>        </div>"
      ]
     },
     "metadata": {},
     "output_type": "display_data"
    }
   ],
   "source": [
    "df.iplot(kind='scatter',x='A',y='B',mode='markers',size=20)"
   ]
  },
  {
   "cell_type": "code",
   "execution_count": 29,
   "metadata": {},
   "outputs": [
    {
     "data": {
      "application/vnd.plotly.v1+json": {
       "config": {
        "linkText": "Export to plot.ly",
        "plotlyServerURL": "https://plot.ly",
        "showLink": true
       },
       "data": [
        {
         "marker": {
          "color": "rgba(255, 153, 51, 0.6)",
          "line": {
           "color": "rgba(255, 153, 51, 1.0)",
           "width": 1
          }
         },
         "name": "Values",
         "orientation": "v",
         "text": "",
         "type": "bar",
         "x": [
          "A",
          "B",
          "C"
         ],
         "y": [
          32,
          43,
          50
         ]
        }
       ],
       "layout": {
        "legend": {
         "bgcolor": "#F5F6F9",
         "font": {
          "color": "#4D5663"
         }
        },
        "paper_bgcolor": "#F5F6F9",
        "plot_bgcolor": "#F5F6F9",
        "template": {
         "data": {
          "bar": [
           {
            "error_x": {
             "color": "#2a3f5f"
            },
            "error_y": {
             "color": "#2a3f5f"
            },
            "marker": {
             "line": {
              "color": "#E5ECF6",
              "width": 0.5
             }
            },
            "type": "bar"
           }
          ],
          "barpolar": [
           {
            "marker": {
             "line": {
              "color": "#E5ECF6",
              "width": 0.5
             }
            },
            "type": "barpolar"
           }
          ],
          "carpet": [
           {
            "aaxis": {
             "endlinecolor": "#2a3f5f",
             "gridcolor": "white",
             "linecolor": "white",
             "minorgridcolor": "white",
             "startlinecolor": "#2a3f5f"
            },
            "baxis": {
             "endlinecolor": "#2a3f5f",
             "gridcolor": "white",
             "linecolor": "white",
             "minorgridcolor": "white",
             "startlinecolor": "#2a3f5f"
            },
            "type": "carpet"
           }
          ],
          "choropleth": [
           {
            "colorbar": {
             "outlinewidth": 0,
             "ticks": ""
            },
            "type": "choropleth"
           }
          ],
          "contour": [
           {
            "colorbar": {
             "outlinewidth": 0,
             "ticks": ""
            },
            "colorscale": [
             [
              0,
              "#0d0887"
             ],
             [
              0.1111111111111111,
              "#46039f"
             ],
             [
              0.2222222222222222,
              "#7201a8"
             ],
             [
              0.3333333333333333,
              "#9c179e"
             ],
             [
              0.4444444444444444,
              "#bd3786"
             ],
             [
              0.5555555555555556,
              "#d8576b"
             ],
             [
              0.6666666666666666,
              "#ed7953"
             ],
             [
              0.7777777777777778,
              "#fb9f3a"
             ],
             [
              0.8888888888888888,
              "#fdca26"
             ],
             [
              1,
              "#f0f921"
             ]
            ],
            "type": "contour"
           }
          ],
          "contourcarpet": [
           {
            "colorbar": {
             "outlinewidth": 0,
             "ticks": ""
            },
            "type": "contourcarpet"
           }
          ],
          "heatmap": [
           {
            "colorbar": {
             "outlinewidth": 0,
             "ticks": ""
            },
            "colorscale": [
             [
              0,
              "#0d0887"
             ],
             [
              0.1111111111111111,
              "#46039f"
             ],
             [
              0.2222222222222222,
              "#7201a8"
             ],
             [
              0.3333333333333333,
              "#9c179e"
             ],
             [
              0.4444444444444444,
              "#bd3786"
             ],
             [
              0.5555555555555556,
              "#d8576b"
             ],
             [
              0.6666666666666666,
              "#ed7953"
             ],
             [
              0.7777777777777778,
              "#fb9f3a"
             ],
             [
              0.8888888888888888,
              "#fdca26"
             ],
             [
              1,
              "#f0f921"
             ]
            ],
            "type": "heatmap"
           }
          ],
          "heatmapgl": [
           {
            "colorbar": {
             "outlinewidth": 0,
             "ticks": ""
            },
            "colorscale": [
             [
              0,
              "#0d0887"
             ],
             [
              0.1111111111111111,
              "#46039f"
             ],
             [
              0.2222222222222222,
              "#7201a8"
             ],
             [
              0.3333333333333333,
              "#9c179e"
             ],
             [
              0.4444444444444444,
              "#bd3786"
             ],
             [
              0.5555555555555556,
              "#d8576b"
             ],
             [
              0.6666666666666666,
              "#ed7953"
             ],
             [
              0.7777777777777778,
              "#fb9f3a"
             ],
             [
              0.8888888888888888,
              "#fdca26"
             ],
             [
              1,
              "#f0f921"
             ]
            ],
            "type": "heatmapgl"
           }
          ],
          "histogram": [
           {
            "marker": {
             "colorbar": {
              "outlinewidth": 0,
              "ticks": ""
             }
            },
            "type": "histogram"
           }
          ],
          "histogram2d": [
           {
            "colorbar": {
             "outlinewidth": 0,
             "ticks": ""
            },
            "colorscale": [
             [
              0,
              "#0d0887"
             ],
             [
              0.1111111111111111,
              "#46039f"
             ],
             [
              0.2222222222222222,
              "#7201a8"
             ],
             [
              0.3333333333333333,
              "#9c179e"
             ],
             [
              0.4444444444444444,
              "#bd3786"
             ],
             [
              0.5555555555555556,
              "#d8576b"
             ],
             [
              0.6666666666666666,
              "#ed7953"
             ],
             [
              0.7777777777777778,
              "#fb9f3a"
             ],
             [
              0.8888888888888888,
              "#fdca26"
             ],
             [
              1,
              "#f0f921"
             ]
            ],
            "type": "histogram2d"
           }
          ],
          "histogram2dcontour": [
           {
            "colorbar": {
             "outlinewidth": 0,
             "ticks": ""
            },
            "colorscale": [
             [
              0,
              "#0d0887"
             ],
             [
              0.1111111111111111,
              "#46039f"
             ],
             [
              0.2222222222222222,
              "#7201a8"
             ],
             [
              0.3333333333333333,
              "#9c179e"
             ],
             [
              0.4444444444444444,
              "#bd3786"
             ],
             [
              0.5555555555555556,
              "#d8576b"
             ],
             [
              0.6666666666666666,
              "#ed7953"
             ],
             [
              0.7777777777777778,
              "#fb9f3a"
             ],
             [
              0.8888888888888888,
              "#fdca26"
             ],
             [
              1,
              "#f0f921"
             ]
            ],
            "type": "histogram2dcontour"
           }
          ],
          "mesh3d": [
           {
            "colorbar": {
             "outlinewidth": 0,
             "ticks": ""
            },
            "type": "mesh3d"
           }
          ],
          "parcoords": [
           {
            "line": {
             "colorbar": {
              "outlinewidth": 0,
              "ticks": ""
             }
            },
            "type": "parcoords"
           }
          ],
          "pie": [
           {
            "automargin": true,
            "type": "pie"
           }
          ],
          "scatter": [
           {
            "marker": {
             "colorbar": {
              "outlinewidth": 0,
              "ticks": ""
             }
            },
            "type": "scatter"
           }
          ],
          "scatter3d": [
           {
            "line": {
             "colorbar": {
              "outlinewidth": 0,
              "ticks": ""
             }
            },
            "marker": {
             "colorbar": {
              "outlinewidth": 0,
              "ticks": ""
             }
            },
            "type": "scatter3d"
           }
          ],
          "scattercarpet": [
           {
            "marker": {
             "colorbar": {
              "outlinewidth": 0,
              "ticks": ""
             }
            },
            "type": "scattercarpet"
           }
          ],
          "scattergeo": [
           {
            "marker": {
             "colorbar": {
              "outlinewidth": 0,
              "ticks": ""
             }
            },
            "type": "scattergeo"
           }
          ],
          "scattergl": [
           {
            "marker": {
             "colorbar": {
              "outlinewidth": 0,
              "ticks": ""
             }
            },
            "type": "scattergl"
           }
          ],
          "scattermapbox": [
           {
            "marker": {
             "colorbar": {
              "outlinewidth": 0,
              "ticks": ""
             }
            },
            "type": "scattermapbox"
           }
          ],
          "scatterpolar": [
           {
            "marker": {
             "colorbar": {
              "outlinewidth": 0,
              "ticks": ""
             }
            },
            "type": "scatterpolar"
           }
          ],
          "scatterpolargl": [
           {
            "marker": {
             "colorbar": {
              "outlinewidth": 0,
              "ticks": ""
             }
            },
            "type": "scatterpolargl"
           }
          ],
          "scatterternary": [
           {
            "marker": {
             "colorbar": {
              "outlinewidth": 0,
              "ticks": ""
             }
            },
            "type": "scatterternary"
           }
          ],
          "surface": [
           {
            "colorbar": {
             "outlinewidth": 0,
             "ticks": ""
            },
            "colorscale": [
             [
              0,
              "#0d0887"
             ],
             [
              0.1111111111111111,
              "#46039f"
             ],
             [
              0.2222222222222222,
              "#7201a8"
             ],
             [
              0.3333333333333333,
              "#9c179e"
             ],
             [
              0.4444444444444444,
              "#bd3786"
             ],
             [
              0.5555555555555556,
              "#d8576b"
             ],
             [
              0.6666666666666666,
              "#ed7953"
             ],
             [
              0.7777777777777778,
              "#fb9f3a"
             ],
             [
              0.8888888888888888,
              "#fdca26"
             ],
             [
              1,
              "#f0f921"
             ]
            ],
            "type": "surface"
           }
          ],
          "table": [
           {
            "cells": {
             "fill": {
              "color": "#EBF0F8"
             },
             "line": {
              "color": "white"
             }
            },
            "header": {
             "fill": {
              "color": "#C8D4E3"
             },
             "line": {
              "color": "white"
             }
            },
            "type": "table"
           }
          ]
         },
         "layout": {
          "annotationdefaults": {
           "arrowcolor": "#2a3f5f",
           "arrowhead": 0,
           "arrowwidth": 1
          },
          "autotypenumbers": "strict",
          "coloraxis": {
           "colorbar": {
            "outlinewidth": 0,
            "ticks": ""
           }
          },
          "colorscale": {
           "diverging": [
            [
             0,
             "#8e0152"
            ],
            [
             0.1,
             "#c51b7d"
            ],
            [
             0.2,
             "#de77ae"
            ],
            [
             0.3,
             "#f1b6da"
            ],
            [
             0.4,
             "#fde0ef"
            ],
            [
             0.5,
             "#f7f7f7"
            ],
            [
             0.6,
             "#e6f5d0"
            ],
            [
             0.7,
             "#b8e186"
            ],
            [
             0.8,
             "#7fbc41"
            ],
            [
             0.9,
             "#4d9221"
            ],
            [
             1,
             "#276419"
            ]
           ],
           "sequential": [
            [
             0,
             "#0d0887"
            ],
            [
             0.1111111111111111,
             "#46039f"
            ],
            [
             0.2222222222222222,
             "#7201a8"
            ],
            [
             0.3333333333333333,
             "#9c179e"
            ],
            [
             0.4444444444444444,
             "#bd3786"
            ],
            [
             0.5555555555555556,
             "#d8576b"
            ],
            [
             0.6666666666666666,
             "#ed7953"
            ],
            [
             0.7777777777777778,
             "#fb9f3a"
            ],
            [
             0.8888888888888888,
             "#fdca26"
            ],
            [
             1,
             "#f0f921"
            ]
           ],
           "sequentialminus": [
            [
             0,
             "#0d0887"
            ],
            [
             0.1111111111111111,
             "#46039f"
            ],
            [
             0.2222222222222222,
             "#7201a8"
            ],
            [
             0.3333333333333333,
             "#9c179e"
            ],
            [
             0.4444444444444444,
             "#bd3786"
            ],
            [
             0.5555555555555556,
             "#d8576b"
            ],
            [
             0.6666666666666666,
             "#ed7953"
            ],
            [
             0.7777777777777778,
             "#fb9f3a"
            ],
            [
             0.8888888888888888,
             "#fdca26"
            ],
            [
             1,
             "#f0f921"
            ]
           ]
          },
          "colorway": [
           "#636efa",
           "#EF553B",
           "#00cc96",
           "#ab63fa",
           "#FFA15A",
           "#19d3f3",
           "#FF6692",
           "#B6E880",
           "#FF97FF",
           "#FECB52"
          ],
          "font": {
           "color": "#2a3f5f"
          },
          "geo": {
           "bgcolor": "white",
           "lakecolor": "white",
           "landcolor": "#E5ECF6",
           "showlakes": true,
           "showland": true,
           "subunitcolor": "white"
          },
          "hoverlabel": {
           "align": "left"
          },
          "hovermode": "closest",
          "mapbox": {
           "style": "light"
          },
          "paper_bgcolor": "white",
          "plot_bgcolor": "#E5ECF6",
          "polar": {
           "angularaxis": {
            "gridcolor": "white",
            "linecolor": "white",
            "ticks": ""
           },
           "bgcolor": "#E5ECF6",
           "radialaxis": {
            "gridcolor": "white",
            "linecolor": "white",
            "ticks": ""
           }
          },
          "scene": {
           "xaxis": {
            "backgroundcolor": "#E5ECF6",
            "gridcolor": "white",
            "gridwidth": 2,
            "linecolor": "white",
            "showbackground": true,
            "ticks": "",
            "zerolinecolor": "white"
           },
           "yaxis": {
            "backgroundcolor": "#E5ECF6",
            "gridcolor": "white",
            "gridwidth": 2,
            "linecolor": "white",
            "showbackground": true,
            "ticks": "",
            "zerolinecolor": "white"
           },
           "zaxis": {
            "backgroundcolor": "#E5ECF6",
            "gridcolor": "white",
            "gridwidth": 2,
            "linecolor": "white",
            "showbackground": true,
            "ticks": "",
            "zerolinecolor": "white"
           }
          },
          "shapedefaults": {
           "line": {
            "color": "#2a3f5f"
           }
          },
          "ternary": {
           "aaxis": {
            "gridcolor": "white",
            "linecolor": "white",
            "ticks": ""
           },
           "baxis": {
            "gridcolor": "white",
            "linecolor": "white",
            "ticks": ""
           },
           "bgcolor": "#E5ECF6",
           "caxis": {
            "gridcolor": "white",
            "linecolor": "white",
            "ticks": ""
           }
          },
          "title": {
           "x": 0.05
          },
          "xaxis": {
           "automargin": true,
           "gridcolor": "white",
           "linecolor": "white",
           "ticks": "",
           "title": {
            "standoff": 15
           },
           "zerolinecolor": "white",
           "zerolinewidth": 2
          },
          "yaxis": {
           "automargin": true,
           "gridcolor": "white",
           "linecolor": "white",
           "ticks": "",
           "title": {
            "standoff": 15
           },
           "zerolinecolor": "white",
           "zerolinewidth": 2
          }
         }
        },
        "title": {
         "font": {
          "color": "#4D5663"
         }
        },
        "xaxis": {
         "gridcolor": "#E1E5ED",
         "showgrid": true,
         "tickfont": {
          "color": "#4D5663"
         },
         "title": {
          "font": {
           "color": "#4D5663"
          },
          "text": ""
         },
         "zerolinecolor": "#E1E5ED"
        },
        "yaxis": {
         "gridcolor": "#E1E5ED",
         "showgrid": true,
         "tickfont": {
          "color": "#4D5663"
         },
         "title": {
          "font": {
           "color": "#4D5663"
          },
          "text": ""
         },
         "zerolinecolor": "#E1E5ED"
        }
       }
      },
      "text/html": [
       "<div>                            <div id=\"557e1222-afce-4f45-8870-d114c93a2938\" class=\"plotly-graph-div\" style=\"height:525px; width:100%;\"></div>            <script type=\"text/javascript\">                require([\"plotly\"], function(Plotly) {                    window.PLOTLYENV=window.PLOTLYENV || {};\n",
       "                    window.PLOTLYENV.BASE_URL='https://plot.ly';                                    if (document.getElementById(\"557e1222-afce-4f45-8870-d114c93a2938\")) {                    Plotly.newPlot(                        \"557e1222-afce-4f45-8870-d114c93a2938\",                        [{\"marker\": {\"color\": \"rgba(255, 153, 51, 0.6)\", \"line\": {\"color\": \"rgba(255, 153, 51, 1.0)\", \"width\": 1}}, \"name\": \"Values\", \"orientation\": \"v\", \"text\": \"\", \"type\": \"bar\", \"x\": [\"A\", \"B\", \"C\"], \"y\": [32, 43, 50]}],                        {\"legend\": {\"bgcolor\": \"#F5F6F9\", \"font\": {\"color\": \"#4D5663\"}}, \"paper_bgcolor\": \"#F5F6F9\", \"plot_bgcolor\": \"#F5F6F9\", \"template\": {\"data\": {\"bar\": [{\"error_x\": {\"color\": \"#2a3f5f\"}, \"error_y\": {\"color\": \"#2a3f5f\"}, \"marker\": {\"line\": {\"color\": \"#E5ECF6\", \"width\": 0.5}}, \"type\": \"bar\"}], \"barpolar\": [{\"marker\": {\"line\": {\"color\": \"#E5ECF6\", \"width\": 0.5}}, \"type\": \"barpolar\"}], \"carpet\": [{\"aaxis\": {\"endlinecolor\": \"#2a3f5f\", \"gridcolor\": \"white\", \"linecolor\": \"white\", \"minorgridcolor\": \"white\", \"startlinecolor\": \"#2a3f5f\"}, \"baxis\": {\"endlinecolor\": \"#2a3f5f\", \"gridcolor\": \"white\", \"linecolor\": \"white\", \"minorgridcolor\": \"white\", \"startlinecolor\": \"#2a3f5f\"}, \"type\": \"carpet\"}], \"choropleth\": [{\"colorbar\": {\"outlinewidth\": 0, \"ticks\": \"\"}, \"type\": \"choropleth\"}], \"contour\": [{\"colorbar\": {\"outlinewidth\": 0, \"ticks\": \"\"}, \"colorscale\": [[0.0, \"#0d0887\"], [0.1111111111111111, \"#46039f\"], [0.2222222222222222, \"#7201a8\"], [0.3333333333333333, \"#9c179e\"], [0.4444444444444444, \"#bd3786\"], [0.5555555555555556, \"#d8576b\"], [0.6666666666666666, \"#ed7953\"], [0.7777777777777778, \"#fb9f3a\"], [0.8888888888888888, \"#fdca26\"], [1.0, \"#f0f921\"]], \"type\": \"contour\"}], \"contourcarpet\": [{\"colorbar\": {\"outlinewidth\": 0, \"ticks\": \"\"}, \"type\": \"contourcarpet\"}], \"heatmap\": [{\"colorbar\": {\"outlinewidth\": 0, \"ticks\": \"\"}, \"colorscale\": [[0.0, \"#0d0887\"], [0.1111111111111111, \"#46039f\"], [0.2222222222222222, \"#7201a8\"], [0.3333333333333333, \"#9c179e\"], [0.4444444444444444, \"#bd3786\"], [0.5555555555555556, \"#d8576b\"], [0.6666666666666666, \"#ed7953\"], [0.7777777777777778, \"#fb9f3a\"], [0.8888888888888888, \"#fdca26\"], [1.0, \"#f0f921\"]], \"type\": \"heatmap\"}], \"heatmapgl\": [{\"colorbar\": {\"outlinewidth\": 0, \"ticks\": \"\"}, \"colorscale\": [[0.0, \"#0d0887\"], [0.1111111111111111, \"#46039f\"], [0.2222222222222222, \"#7201a8\"], [0.3333333333333333, \"#9c179e\"], [0.4444444444444444, \"#bd3786\"], [0.5555555555555556, \"#d8576b\"], [0.6666666666666666, \"#ed7953\"], [0.7777777777777778, \"#fb9f3a\"], [0.8888888888888888, \"#fdca26\"], [1.0, \"#f0f921\"]], \"type\": \"heatmapgl\"}], \"histogram\": [{\"marker\": {\"colorbar\": {\"outlinewidth\": 0, \"ticks\": \"\"}}, \"type\": \"histogram\"}], \"histogram2d\": [{\"colorbar\": {\"outlinewidth\": 0, \"ticks\": \"\"}, \"colorscale\": [[0.0, \"#0d0887\"], [0.1111111111111111, \"#46039f\"], [0.2222222222222222, \"#7201a8\"], [0.3333333333333333, \"#9c179e\"], [0.4444444444444444, \"#bd3786\"], [0.5555555555555556, \"#d8576b\"], [0.6666666666666666, \"#ed7953\"], [0.7777777777777778, \"#fb9f3a\"], [0.8888888888888888, \"#fdca26\"], [1.0, \"#f0f921\"]], \"type\": \"histogram2d\"}], \"histogram2dcontour\": [{\"colorbar\": {\"outlinewidth\": 0, \"ticks\": \"\"}, \"colorscale\": [[0.0, \"#0d0887\"], [0.1111111111111111, \"#46039f\"], [0.2222222222222222, \"#7201a8\"], [0.3333333333333333, \"#9c179e\"], [0.4444444444444444, \"#bd3786\"], [0.5555555555555556, \"#d8576b\"], [0.6666666666666666, \"#ed7953\"], [0.7777777777777778, \"#fb9f3a\"], [0.8888888888888888, \"#fdca26\"], [1.0, \"#f0f921\"]], \"type\": \"histogram2dcontour\"}], \"mesh3d\": [{\"colorbar\": {\"outlinewidth\": 0, \"ticks\": \"\"}, \"type\": \"mesh3d\"}], \"parcoords\": [{\"line\": {\"colorbar\": {\"outlinewidth\": 0, \"ticks\": \"\"}}, \"type\": \"parcoords\"}], \"pie\": [{\"automargin\": true, \"type\": \"pie\"}], \"scatter\": [{\"marker\": {\"colorbar\": {\"outlinewidth\": 0, \"ticks\": \"\"}}, \"type\": \"scatter\"}], \"scatter3d\": [{\"line\": {\"colorbar\": {\"outlinewidth\": 0, \"ticks\": \"\"}}, \"marker\": {\"colorbar\": {\"outlinewidth\": 0, \"ticks\": \"\"}}, \"type\": \"scatter3d\"}], \"scattercarpet\": [{\"marker\": {\"colorbar\": {\"outlinewidth\": 0, \"ticks\": \"\"}}, \"type\": \"scattercarpet\"}], \"scattergeo\": [{\"marker\": {\"colorbar\": {\"outlinewidth\": 0, \"ticks\": \"\"}}, \"type\": \"scattergeo\"}], \"scattergl\": [{\"marker\": {\"colorbar\": {\"outlinewidth\": 0, \"ticks\": \"\"}}, \"type\": \"scattergl\"}], \"scattermapbox\": [{\"marker\": {\"colorbar\": {\"outlinewidth\": 0, \"ticks\": \"\"}}, \"type\": \"scattermapbox\"}], \"scatterpolar\": [{\"marker\": {\"colorbar\": {\"outlinewidth\": 0, \"ticks\": \"\"}}, \"type\": \"scatterpolar\"}], \"scatterpolargl\": [{\"marker\": {\"colorbar\": {\"outlinewidth\": 0, \"ticks\": \"\"}}, \"type\": \"scatterpolargl\"}], \"scatterternary\": [{\"marker\": {\"colorbar\": {\"outlinewidth\": 0, \"ticks\": \"\"}}, \"type\": \"scatterternary\"}], \"surface\": [{\"colorbar\": {\"outlinewidth\": 0, \"ticks\": \"\"}, \"colorscale\": [[0.0, \"#0d0887\"], [0.1111111111111111, \"#46039f\"], [0.2222222222222222, \"#7201a8\"], [0.3333333333333333, \"#9c179e\"], [0.4444444444444444, \"#bd3786\"], [0.5555555555555556, \"#d8576b\"], [0.6666666666666666, \"#ed7953\"], [0.7777777777777778, \"#fb9f3a\"], [0.8888888888888888, \"#fdca26\"], [1.0, \"#f0f921\"]], \"type\": \"surface\"}], \"table\": [{\"cells\": {\"fill\": {\"color\": \"#EBF0F8\"}, \"line\": {\"color\": \"white\"}}, \"header\": {\"fill\": {\"color\": \"#C8D4E3\"}, \"line\": {\"color\": \"white\"}}, \"type\": \"table\"}]}, \"layout\": {\"annotationdefaults\": {\"arrowcolor\": \"#2a3f5f\", \"arrowhead\": 0, \"arrowwidth\": 1}, \"autotypenumbers\": \"strict\", \"coloraxis\": {\"colorbar\": {\"outlinewidth\": 0, \"ticks\": \"\"}}, \"colorscale\": {\"diverging\": [[0, \"#8e0152\"], [0.1, \"#c51b7d\"], [0.2, \"#de77ae\"], [0.3, \"#f1b6da\"], [0.4, \"#fde0ef\"], [0.5, \"#f7f7f7\"], [0.6, \"#e6f5d0\"], [0.7, \"#b8e186\"], [0.8, \"#7fbc41\"], [0.9, \"#4d9221\"], [1, \"#276419\"]], \"sequential\": [[0.0, \"#0d0887\"], [0.1111111111111111, \"#46039f\"], [0.2222222222222222, \"#7201a8\"], [0.3333333333333333, \"#9c179e\"], [0.4444444444444444, \"#bd3786\"], [0.5555555555555556, \"#d8576b\"], [0.6666666666666666, \"#ed7953\"], [0.7777777777777778, \"#fb9f3a\"], [0.8888888888888888, \"#fdca26\"], [1.0, \"#f0f921\"]], \"sequentialminus\": [[0.0, \"#0d0887\"], [0.1111111111111111, \"#46039f\"], [0.2222222222222222, \"#7201a8\"], [0.3333333333333333, \"#9c179e\"], [0.4444444444444444, \"#bd3786\"], [0.5555555555555556, \"#d8576b\"], [0.6666666666666666, \"#ed7953\"], [0.7777777777777778, \"#fb9f3a\"], [0.8888888888888888, \"#fdca26\"], [1.0, \"#f0f921\"]]}, \"colorway\": [\"#636efa\", \"#EF553B\", \"#00cc96\", \"#ab63fa\", \"#FFA15A\", \"#19d3f3\", \"#FF6692\", \"#B6E880\", \"#FF97FF\", \"#FECB52\"], \"font\": {\"color\": \"#2a3f5f\"}, \"geo\": {\"bgcolor\": \"white\", \"lakecolor\": \"white\", \"landcolor\": \"#E5ECF6\", \"showlakes\": true, \"showland\": true, \"subunitcolor\": \"white\"}, \"hoverlabel\": {\"align\": \"left\"}, \"hovermode\": \"closest\", \"mapbox\": {\"style\": \"light\"}, \"paper_bgcolor\": \"white\", \"plot_bgcolor\": \"#E5ECF6\", \"polar\": {\"angularaxis\": {\"gridcolor\": \"white\", \"linecolor\": \"white\", \"ticks\": \"\"}, \"bgcolor\": \"#E5ECF6\", \"radialaxis\": {\"gridcolor\": \"white\", \"linecolor\": \"white\", \"ticks\": \"\"}}, \"scene\": {\"xaxis\": {\"backgroundcolor\": \"#E5ECF6\", \"gridcolor\": \"white\", \"gridwidth\": 2, \"linecolor\": \"white\", \"showbackground\": true, \"ticks\": \"\", \"zerolinecolor\": \"white\"}, \"yaxis\": {\"backgroundcolor\": \"#E5ECF6\", \"gridcolor\": \"white\", \"gridwidth\": 2, \"linecolor\": \"white\", \"showbackground\": true, \"ticks\": \"\", \"zerolinecolor\": \"white\"}, \"zaxis\": {\"backgroundcolor\": \"#E5ECF6\", \"gridcolor\": \"white\", \"gridwidth\": 2, \"linecolor\": \"white\", \"showbackground\": true, \"ticks\": \"\", \"zerolinecolor\": \"white\"}}, \"shapedefaults\": {\"line\": {\"color\": \"#2a3f5f\"}}, \"ternary\": {\"aaxis\": {\"gridcolor\": \"white\", \"linecolor\": \"white\", \"ticks\": \"\"}, \"baxis\": {\"gridcolor\": \"white\", \"linecolor\": \"white\", \"ticks\": \"\"}, \"bgcolor\": \"#E5ECF6\", \"caxis\": {\"gridcolor\": \"white\", \"linecolor\": \"white\", \"ticks\": \"\"}}, \"title\": {\"x\": 0.05}, \"xaxis\": {\"automargin\": true, \"gridcolor\": \"white\", \"linecolor\": \"white\", \"ticks\": \"\", \"title\": {\"standoff\": 15}, \"zerolinecolor\": \"white\", \"zerolinewidth\": 2}, \"yaxis\": {\"automargin\": true, \"gridcolor\": \"white\", \"linecolor\": \"white\", \"ticks\": \"\", \"title\": {\"standoff\": 15}, \"zerolinecolor\": \"white\", \"zerolinewidth\": 2}}}, \"title\": {\"font\": {\"color\": \"#4D5663\"}}, \"xaxis\": {\"gridcolor\": \"#E1E5ED\", \"showgrid\": true, \"tickfont\": {\"color\": \"#4D5663\"}, \"title\": {\"font\": {\"color\": \"#4D5663\"}, \"text\": \"\"}, \"zerolinecolor\": \"#E1E5ED\"}, \"yaxis\": {\"gridcolor\": \"#E1E5ED\", \"showgrid\": true, \"tickfont\": {\"color\": \"#4D5663\"}, \"title\": {\"font\": {\"color\": \"#4D5663\"}, \"text\": \"\"}, \"zerolinecolor\": \"#E1E5ED\"}},                        {\"showLink\": true, \"linkText\": \"Export to plot.ly\", \"plotlyServerURL\": \"https://plot.ly\", \"responsive\": true}                    ).then(function(){\n",
       "                            \n",
       "var gd = document.getElementById('557e1222-afce-4f45-8870-d114c93a2938');\n",
       "var x = new MutationObserver(function (mutations, observer) {{\n",
       "        var display = window.getComputedStyle(gd).display;\n",
       "        if (!display || display === 'none') {{\n",
       "            console.log([gd, 'removed!']);\n",
       "            Plotly.purge(gd);\n",
       "            observer.disconnect();\n",
       "        }}\n",
       "}});\n",
       "\n",
       "// Listen for the removal of the full notebook cells\n",
       "var notebookContainer = gd.closest('#notebook-container');\n",
       "if (notebookContainer) {{\n",
       "    x.observe(notebookContainer, {childList: true});\n",
       "}}\n",
       "\n",
       "// Listen for the clearing of the current output cell\n",
       "var outputEl = gd.closest('.output');\n",
       "if (outputEl) {{\n",
       "    x.observe(outputEl, {childList: true});\n",
       "}}\n",
       "\n",
       "                        })                };                });            </script>        </div>"
      ]
     },
     "metadata": {},
     "output_type": "display_data"
    }
   ],
   "source": [
    "df2.iplot(kind='bar',x='Category',y='Values')"
   ]
  },
  {
   "cell_type": "code",
   "execution_count": 31,
   "metadata": {},
   "outputs": [
    {
     "data": {
      "application/vnd.plotly.v1+json": {
       "config": {
        "linkText": "Export to plot.ly",
        "plotlyServerURL": "https://plot.ly",
        "showLink": true
       },
       "data": [
        {
         "boxpoints": false,
         "line": {
          "width": 1.3
         },
         "marker": {
          "color": "rgba(255, 153, 51, 1.0)"
         },
         "name": "A",
         "orientation": "v",
         "type": "box",
         "y": [
          -0.3155077874583621,
          0.3797030900663316,
          0.13082536129896652,
          -2.2125362027707243,
          0.6959899932604471,
          -0.6651688342182054,
          0.3392751939560983,
          -0.06426101581698589,
          0.9363722872087246,
          1.2876798208715128,
          -0.8196844023398393,
          0.10550574634716345,
          0.984281215420857,
          -0.6480877371964813,
          -1.0196895799590036,
          0.03905274891226861,
          1.5089599192845327,
          1.3158362494688813,
          -0.3925680163977808,
          2.1593895399262033,
          -0.9277739001087258,
          -1.8101984688606385,
          1.1051035037837664,
          -1.9118969941429562,
          0.5506036681161965,
          -2.0808993092408583,
          -0.17650866762141137,
          0.2632788163547951,
          -0.6182340559844405,
          1.7529663918088312,
          1.1406246805389066,
          0.7590908403416821,
          -1.4817193890130869,
          0.16014759977799178,
          -1.1411833455404845,
          -0.27451731196969403,
          0.9712894693061355,
          0.8776435538970953,
          -0.9255622764713449,
          -0.15646200077681197,
          0.12895762865690136,
          0.013382331274075478,
          0.008946199293052778,
          1.0855960400891453,
          -0.9989079444164698,
          -0.9197301339026103,
          -0.510708790885548,
          -0.5881182748390118,
          -0.870030337560292,
          -1.855747922112066,
          -0.39039164081373884,
          1.1694539604739602,
          -1.3832385950425616,
          -0.5338808546528805,
          0.6274205428990312,
          0.7377221968558098,
          0.2104629902769848,
          1.0332701707296545,
          1.1773014071136858,
          -3.003363732106316,
          -0.6367581114030771,
          -0.9849507362072155,
          1.172889971084506,
          1.4049919559413808,
          -1.0665120136345716,
          -0.4927786792902122,
          -0.4287735889544915,
          2.1301691553569584,
          0.10248865395219325,
          -0.673713112327333,
          -0.2774788826539322,
          -0.9845092147425413,
          -1.494775948560315,
          -0.1590858026848481,
          0.4245146132867722,
          -1.0527070551758853,
          -0.6271225927724591,
          -0.0932018672644432,
          -1.688083990261239,
          -0.1782681183091389,
          -0.47899491072394434,
          0.6428012794627598,
          1.4776959120729736,
          -0.6652938373848085,
          1.352182236487618,
          -0.7313750627525646,
          0.14174316018181848,
          1.6692898036380026,
          1.2245434297403823,
          -0.7160280045468996,
          1.8260580823033306,
          1.6250393454014014,
          -1.498852738752117,
          0.527366459397921,
          -0.37994599350941144,
          -0.889761094168913,
          -0.6175950575590283,
          0.8291700376647222,
          0.052524725240034126,
          -0.38017490909113333
         ]
        },
        {
         "boxpoints": false,
         "line": {
          "width": 1.3
         },
         "marker": {
          "color": "rgba(55, 128, 191, 1.0)"
         },
         "name": "B",
         "orientation": "v",
         "type": "box",
         "y": [
          -0.742187179415621,
          1.2134107925533075,
          -1.7025709041072157,
          1.1077712761245098,
          0.2450268665699058,
          0.03385606567073771,
          -1.0293155394884315,
          -0.6351817072975786,
          1.208253857927379,
          0.2029117802982394,
          -0.6799122973866606,
          -0.08803443897233985,
          0.5758098646913065,
          2.3902431728879696,
          2.322309790667226,
          -2.053897477260906,
          -0.36181402898944065,
          -0.49557665247321375,
          -0.4951736765103893,
          0.37178527931536326,
          -0.3682043275108212,
          -0.5047798875636234,
          1.379355997986373,
          0.13616493155165393,
          0.49318325140623254,
          -1.5175410018180038,
          1.1547435470274139,
          0.6050117379633767,
          -0.6996344079126486,
          -1.4817646470214914,
          0.18752169065501145,
          0.8066387082368147,
          -1.1959799329299963,
          -1.4170206981119036,
          -0.5800184256741695,
          0.49349150837889405,
          -1.2519802476741586,
          -0.12630538029101265,
          0.5713795406605309,
          0.33842867331585463,
          0.9276612042481814,
          0.004692158094001177,
          0.9607895275269087,
          -0.10436431125521162,
          0.19500506072408932,
          0.143619040803998,
          0.24846269290696457,
          -1.1992336266022514,
          0.7719922880483462,
          -1.7107148568858963,
          -1.1515543208452308,
          -0.4577740846020255,
          0.009834139054455184,
          -0.9013706274525457,
          -1.35055050964298,
          0.2636316222136694,
          -1.2117197793433805,
          0.7298801493900917,
          0.5123712500991467,
          -0.9682940983285426,
          0.4561713613886814,
          -1.005662369358284,
          0.3471944906337027,
          0.1589370880209759,
          0.6209089271516771,
          -0.8626092465711424,
          0.7291717621580838,
          -0.9247316157756699,
          0.048935049402674256,
          -1.1589530826492762,
          -0.11538883632037497,
          -2.5490296011198748,
          -0.40073928870507336,
          1.8938769192769815,
          -0.06177218824813722,
          -0.3126294223162608,
          -1.5306645065803304,
          -0.5912941570519058,
          0.8109286932495376,
          2.1950748662015487,
          -1.2866497815909261,
          -0.04497568412693477,
          1.481450499023565,
          0.663621173996275,
          -0.8882298892774952,
          -2.4824878621979,
          -0.02457183461218704,
          -0.039755112888196234,
          -0.5727714919382593,
          0.6308537624751678,
          0.22301238943458415,
          -0.3747561570544337,
          -1.6649265559053648,
          1.7760400884476781,
          0.09799518810159046,
          0.5757701404841383,
          1.161331427062505,
          0.1137451273646778,
          0.41018929002830706,
          -0.8698503917579509
         ]
        },
        {
         "boxpoints": false,
         "line": {
          "width": 1.3
         },
         "marker": {
          "color": "rgba(50, 171, 96, 1.0)"
         },
         "name": "C",
         "orientation": "v",
         "type": "box",
         "y": [
          -1.2078524061832343,
          1.647806384601327,
          0.867424872152327,
          0.7669777110713896,
          0.818520999225426,
          -0.48320967186024133,
          0.35396243357211826,
          -0.8479124671901214,
          0.13457107379341118,
          -1.5782654987525453,
          -0.024899038746018128,
          -0.9661302530011148,
          0.10786866146194769,
          -1.029408787668984,
          -0.551551586968485,
          0.7478338033100305,
          0.32212826393082283,
          -0.07981914124646398,
          -1.7345386630444235,
          0.940856042038223,
          -0.893802996297651,
          -1.6838191488701428,
          -0.8193949520436961,
          -0.6986978023236927,
          0.9484716043906775,
          -2.4729774481529536,
          -0.5184931813506506,
          1.2944947036141494,
          1.6518965347606518,
          -0.27097369670413435,
          0.6607100884259512,
          0.38996016296846236,
          0.6894118859018167,
          -0.8632209729940418,
          -0.5171083610114836,
          0.6018600888172007,
          -0.8457311592941562,
          0.59764909067985,
          -0.059718166023163995,
          0.4020361989483813,
          -0.6843729666514186,
          -0.5242962066773789,
          -0.9377796468920861,
          -0.2094071465163398,
          -0.6004287234619048,
          -1.1654165511468466,
          0.552071633160766,
          2.294425554654729,
          0.9840253882237323,
          1.532463975726437,
          -2.0965363642856185,
          -0.027778544002653505,
          -1.2592610118032257,
          -0.4940128214479949,
          -0.9603470186202026,
          -0.8771390346804705,
          1.997699888499699,
          0.6984735539398365,
          -1.5234038797937803,
          -0.40855022070663927,
          0.7077209690843312,
          1.3804789004634803,
          1.0428083128544448,
          0.25439927354969954,
          0.43481566187872217,
          0.5020740992240665,
          1.9118308644715627,
          -1.1631204064945873,
          0.2444948577104291,
          0.30624170731256933,
          -0.646460226151218,
          1.2532514420256606,
          -0.48520205356676244,
          0.4214967889186345,
          0.7229831685011271,
          -0.05929358539847693,
          0.26748616985900747,
          0.2873558919730922,
          0.5109451119502947,
          -1.273673762305818,
          -0.12156207954094937,
          0.665416255241936,
          -0.3855498693882793,
          0.6556997917497112,
          1.083962308875982,
          1.051193036773326,
          -0.16569352007058658,
          1.445267284777046,
          0.7339791857623821,
          -0.8844229099045823,
          0.5934768649818013,
          0.30832968316289466,
          2.6337128110926913,
          0.054701840278038164,
          0.43980988188662745,
          0.54351591766071,
          0.9283251404799931,
          0.09876115894398224,
          -1.2533514262488898,
          2.1524972165590093
         ]
        },
        {
         "boxpoints": false,
         "line": {
          "width": 1.3
         },
         "marker": {
          "color": "rgba(128, 0, 128, 1.0)"
         },
         "name": "D",
         "orientation": "v",
         "type": "box",
         "y": [
          1.7026558454303116,
          1.5594219269692025,
          1.4403235877899048,
          -2.2390370525507115,
          0.16467710599817323,
          -0.9218258259100182,
          -0.2611907139315378,
          1.0977798698411936,
          0.37977150377533847,
          0.678930562576309,
          0.24027033970707695,
          -1.134130511030025,
          0.28086292437562704,
          0.8503726898773861,
          0.9055947656818857,
          -0.7918153524806373,
          -1.2086934500885222,
          -1.3335624922189502,
          -0.32424765208188006,
          -0.11862208797272265,
          0.07067805408788083,
          -1.0783026149841517,
          1.2151290995336135,
          -1.9090316261587466,
          0.7698743059492738,
          1.4226846925724372,
          -0.38905961689902124,
          -0.3890691908653827,
          -1.138098162318478,
          1.5286657168142626,
          -1.5256697797380405,
          -0.6517541801020447,
          0.6651618792751028,
          0.042148395695265156,
          0.8037912030554389,
          -1.2340590432062606,
          1.1138802032482642,
          0.24272962949614557,
          -1.0897845546442384,
          -0.1861118730117989,
          -0.28506025348328085,
          -0.577405630427034,
          0.9629284792942532,
          0.8642435985066734,
          -2.1158255595742577,
          0.9961250193213448,
          0.559105232995064,
          2.3677036955966857,
          0.30853192592085305,
          0.31965857680337983,
          -0.5789125493559564,
          -0.38674738312959595,
          1.75609531876379,
          -0.3335211959389353,
          -0.09548124952105416,
          -1.5095801851776736,
          -0.50414646443317,
          -0.3874310487330894,
          0.960662750189629,
          -0.42162185528459656,
          -1.1383848115226616,
          0.39497549251283326,
          -1.0588751065242445,
          -1.0819417784228555,
          -1.1208476331280686,
          0.548769582600236,
          -1.4957479220462382,
          -0.9123343605142379,
          -0.5407420132543753,
          -0.0030139030991650174,
          0.9181096233801954,
          -0.3682788361733208,
          -0.2944575717906814,
          -0.44024326113832996,
          0.22636349352905413,
          -0.09082428904754525,
          2.8711765900811588,
          -0.9151438925202213,
          0.3043595561190293,
          0.7625528301828641,
          -0.3890199468582452,
          0.45888215375476715,
          1.5323600237489465,
          -0.3188006834231324,
          -0.7476326812212825,
          0.8562325819537043,
          -1.3959940222047766,
          -0.0861929617313064,
          -0.9274887709992322,
          -1.0259843591608262,
          1.7701086138228979,
          0.5539931463352439,
          -0.735673032801025,
          0.5077288161248946,
          -0.2789899201810933,
          0.5197571423652604,
          2.7190894240091414,
          -0.7411929584172913,
          -0.22795472975730985,
          -0.2906902789780266
         ]
        }
       ],
       "layout": {
        "legend": {
         "bgcolor": "#F5F6F9",
         "font": {
          "color": "#4D5663"
         }
        },
        "paper_bgcolor": "#F5F6F9",
        "plot_bgcolor": "#F5F6F9",
        "template": {
         "data": {
          "bar": [
           {
            "error_x": {
             "color": "#2a3f5f"
            },
            "error_y": {
             "color": "#2a3f5f"
            },
            "marker": {
             "line": {
              "color": "#E5ECF6",
              "width": 0.5
             }
            },
            "type": "bar"
           }
          ],
          "barpolar": [
           {
            "marker": {
             "line": {
              "color": "#E5ECF6",
              "width": 0.5
             }
            },
            "type": "barpolar"
           }
          ],
          "carpet": [
           {
            "aaxis": {
             "endlinecolor": "#2a3f5f",
             "gridcolor": "white",
             "linecolor": "white",
             "minorgridcolor": "white",
             "startlinecolor": "#2a3f5f"
            },
            "baxis": {
             "endlinecolor": "#2a3f5f",
             "gridcolor": "white",
             "linecolor": "white",
             "minorgridcolor": "white",
             "startlinecolor": "#2a3f5f"
            },
            "type": "carpet"
           }
          ],
          "choropleth": [
           {
            "colorbar": {
             "outlinewidth": 0,
             "ticks": ""
            },
            "type": "choropleth"
           }
          ],
          "contour": [
           {
            "colorbar": {
             "outlinewidth": 0,
             "ticks": ""
            },
            "colorscale": [
             [
              0,
              "#0d0887"
             ],
             [
              0.1111111111111111,
              "#46039f"
             ],
             [
              0.2222222222222222,
              "#7201a8"
             ],
             [
              0.3333333333333333,
              "#9c179e"
             ],
             [
              0.4444444444444444,
              "#bd3786"
             ],
             [
              0.5555555555555556,
              "#d8576b"
             ],
             [
              0.6666666666666666,
              "#ed7953"
             ],
             [
              0.7777777777777778,
              "#fb9f3a"
             ],
             [
              0.8888888888888888,
              "#fdca26"
             ],
             [
              1,
              "#f0f921"
             ]
            ],
            "type": "contour"
           }
          ],
          "contourcarpet": [
           {
            "colorbar": {
             "outlinewidth": 0,
             "ticks": ""
            },
            "type": "contourcarpet"
           }
          ],
          "heatmap": [
           {
            "colorbar": {
             "outlinewidth": 0,
             "ticks": ""
            },
            "colorscale": [
             [
              0,
              "#0d0887"
             ],
             [
              0.1111111111111111,
              "#46039f"
             ],
             [
              0.2222222222222222,
              "#7201a8"
             ],
             [
              0.3333333333333333,
              "#9c179e"
             ],
             [
              0.4444444444444444,
              "#bd3786"
             ],
             [
              0.5555555555555556,
              "#d8576b"
             ],
             [
              0.6666666666666666,
              "#ed7953"
             ],
             [
              0.7777777777777778,
              "#fb9f3a"
             ],
             [
              0.8888888888888888,
              "#fdca26"
             ],
             [
              1,
              "#f0f921"
             ]
            ],
            "type": "heatmap"
           }
          ],
          "heatmapgl": [
           {
            "colorbar": {
             "outlinewidth": 0,
             "ticks": ""
            },
            "colorscale": [
             [
              0,
              "#0d0887"
             ],
             [
              0.1111111111111111,
              "#46039f"
             ],
             [
              0.2222222222222222,
              "#7201a8"
             ],
             [
              0.3333333333333333,
              "#9c179e"
             ],
             [
              0.4444444444444444,
              "#bd3786"
             ],
             [
              0.5555555555555556,
              "#d8576b"
             ],
             [
              0.6666666666666666,
              "#ed7953"
             ],
             [
              0.7777777777777778,
              "#fb9f3a"
             ],
             [
              0.8888888888888888,
              "#fdca26"
             ],
             [
              1,
              "#f0f921"
             ]
            ],
            "type": "heatmapgl"
           }
          ],
          "histogram": [
           {
            "marker": {
             "colorbar": {
              "outlinewidth": 0,
              "ticks": ""
             }
            },
            "type": "histogram"
           }
          ],
          "histogram2d": [
           {
            "colorbar": {
             "outlinewidth": 0,
             "ticks": ""
            },
            "colorscale": [
             [
              0,
              "#0d0887"
             ],
             [
              0.1111111111111111,
              "#46039f"
             ],
             [
              0.2222222222222222,
              "#7201a8"
             ],
             [
              0.3333333333333333,
              "#9c179e"
             ],
             [
              0.4444444444444444,
              "#bd3786"
             ],
             [
              0.5555555555555556,
              "#d8576b"
             ],
             [
              0.6666666666666666,
              "#ed7953"
             ],
             [
              0.7777777777777778,
              "#fb9f3a"
             ],
             [
              0.8888888888888888,
              "#fdca26"
             ],
             [
              1,
              "#f0f921"
             ]
            ],
            "type": "histogram2d"
           }
          ],
          "histogram2dcontour": [
           {
            "colorbar": {
             "outlinewidth": 0,
             "ticks": ""
            },
            "colorscale": [
             [
              0,
              "#0d0887"
             ],
             [
              0.1111111111111111,
              "#46039f"
             ],
             [
              0.2222222222222222,
              "#7201a8"
             ],
             [
              0.3333333333333333,
              "#9c179e"
             ],
             [
              0.4444444444444444,
              "#bd3786"
             ],
             [
              0.5555555555555556,
              "#d8576b"
             ],
             [
              0.6666666666666666,
              "#ed7953"
             ],
             [
              0.7777777777777778,
              "#fb9f3a"
             ],
             [
              0.8888888888888888,
              "#fdca26"
             ],
             [
              1,
              "#f0f921"
             ]
            ],
            "type": "histogram2dcontour"
           }
          ],
          "mesh3d": [
           {
            "colorbar": {
             "outlinewidth": 0,
             "ticks": ""
            },
            "type": "mesh3d"
           }
          ],
          "parcoords": [
           {
            "line": {
             "colorbar": {
              "outlinewidth": 0,
              "ticks": ""
             }
            },
            "type": "parcoords"
           }
          ],
          "pie": [
           {
            "automargin": true,
            "type": "pie"
           }
          ],
          "scatter": [
           {
            "marker": {
             "colorbar": {
              "outlinewidth": 0,
              "ticks": ""
             }
            },
            "type": "scatter"
           }
          ],
          "scatter3d": [
           {
            "line": {
             "colorbar": {
              "outlinewidth": 0,
              "ticks": ""
             }
            },
            "marker": {
             "colorbar": {
              "outlinewidth": 0,
              "ticks": ""
             }
            },
            "type": "scatter3d"
           }
          ],
          "scattercarpet": [
           {
            "marker": {
             "colorbar": {
              "outlinewidth": 0,
              "ticks": ""
             }
            },
            "type": "scattercarpet"
           }
          ],
          "scattergeo": [
           {
            "marker": {
             "colorbar": {
              "outlinewidth": 0,
              "ticks": ""
             }
            },
            "type": "scattergeo"
           }
          ],
          "scattergl": [
           {
            "marker": {
             "colorbar": {
              "outlinewidth": 0,
              "ticks": ""
             }
            },
            "type": "scattergl"
           }
          ],
          "scattermapbox": [
           {
            "marker": {
             "colorbar": {
              "outlinewidth": 0,
              "ticks": ""
             }
            },
            "type": "scattermapbox"
           }
          ],
          "scatterpolar": [
           {
            "marker": {
             "colorbar": {
              "outlinewidth": 0,
              "ticks": ""
             }
            },
            "type": "scatterpolar"
           }
          ],
          "scatterpolargl": [
           {
            "marker": {
             "colorbar": {
              "outlinewidth": 0,
              "ticks": ""
             }
            },
            "type": "scatterpolargl"
           }
          ],
          "scatterternary": [
           {
            "marker": {
             "colorbar": {
              "outlinewidth": 0,
              "ticks": ""
             }
            },
            "type": "scatterternary"
           }
          ],
          "surface": [
           {
            "colorbar": {
             "outlinewidth": 0,
             "ticks": ""
            },
            "colorscale": [
             [
              0,
              "#0d0887"
             ],
             [
              0.1111111111111111,
              "#46039f"
             ],
             [
              0.2222222222222222,
              "#7201a8"
             ],
             [
              0.3333333333333333,
              "#9c179e"
             ],
             [
              0.4444444444444444,
              "#bd3786"
             ],
             [
              0.5555555555555556,
              "#d8576b"
             ],
             [
              0.6666666666666666,
              "#ed7953"
             ],
             [
              0.7777777777777778,
              "#fb9f3a"
             ],
             [
              0.8888888888888888,
              "#fdca26"
             ],
             [
              1,
              "#f0f921"
             ]
            ],
            "type": "surface"
           }
          ],
          "table": [
           {
            "cells": {
             "fill": {
              "color": "#EBF0F8"
             },
             "line": {
              "color": "white"
             }
            },
            "header": {
             "fill": {
              "color": "#C8D4E3"
             },
             "line": {
              "color": "white"
             }
            },
            "type": "table"
           }
          ]
         },
         "layout": {
          "annotationdefaults": {
           "arrowcolor": "#2a3f5f",
           "arrowhead": 0,
           "arrowwidth": 1
          },
          "autotypenumbers": "strict",
          "coloraxis": {
           "colorbar": {
            "outlinewidth": 0,
            "ticks": ""
           }
          },
          "colorscale": {
           "diverging": [
            [
             0,
             "#8e0152"
            ],
            [
             0.1,
             "#c51b7d"
            ],
            [
             0.2,
             "#de77ae"
            ],
            [
             0.3,
             "#f1b6da"
            ],
            [
             0.4,
             "#fde0ef"
            ],
            [
             0.5,
             "#f7f7f7"
            ],
            [
             0.6,
             "#e6f5d0"
            ],
            [
             0.7,
             "#b8e186"
            ],
            [
             0.8,
             "#7fbc41"
            ],
            [
             0.9,
             "#4d9221"
            ],
            [
             1,
             "#276419"
            ]
           ],
           "sequential": [
            [
             0,
             "#0d0887"
            ],
            [
             0.1111111111111111,
             "#46039f"
            ],
            [
             0.2222222222222222,
             "#7201a8"
            ],
            [
             0.3333333333333333,
             "#9c179e"
            ],
            [
             0.4444444444444444,
             "#bd3786"
            ],
            [
             0.5555555555555556,
             "#d8576b"
            ],
            [
             0.6666666666666666,
             "#ed7953"
            ],
            [
             0.7777777777777778,
             "#fb9f3a"
            ],
            [
             0.8888888888888888,
             "#fdca26"
            ],
            [
             1,
             "#f0f921"
            ]
           ],
           "sequentialminus": [
            [
             0,
             "#0d0887"
            ],
            [
             0.1111111111111111,
             "#46039f"
            ],
            [
             0.2222222222222222,
             "#7201a8"
            ],
            [
             0.3333333333333333,
             "#9c179e"
            ],
            [
             0.4444444444444444,
             "#bd3786"
            ],
            [
             0.5555555555555556,
             "#d8576b"
            ],
            [
             0.6666666666666666,
             "#ed7953"
            ],
            [
             0.7777777777777778,
             "#fb9f3a"
            ],
            [
             0.8888888888888888,
             "#fdca26"
            ],
            [
             1,
             "#f0f921"
            ]
           ]
          },
          "colorway": [
           "#636efa",
           "#EF553B",
           "#00cc96",
           "#ab63fa",
           "#FFA15A",
           "#19d3f3",
           "#FF6692",
           "#B6E880",
           "#FF97FF",
           "#FECB52"
          ],
          "font": {
           "color": "#2a3f5f"
          },
          "geo": {
           "bgcolor": "white",
           "lakecolor": "white",
           "landcolor": "#E5ECF6",
           "showlakes": true,
           "showland": true,
           "subunitcolor": "white"
          },
          "hoverlabel": {
           "align": "left"
          },
          "hovermode": "closest",
          "mapbox": {
           "style": "light"
          },
          "paper_bgcolor": "white",
          "plot_bgcolor": "#E5ECF6",
          "polar": {
           "angularaxis": {
            "gridcolor": "white",
            "linecolor": "white",
            "ticks": ""
           },
           "bgcolor": "#E5ECF6",
           "radialaxis": {
            "gridcolor": "white",
            "linecolor": "white",
            "ticks": ""
           }
          },
          "scene": {
           "xaxis": {
            "backgroundcolor": "#E5ECF6",
            "gridcolor": "white",
            "gridwidth": 2,
            "linecolor": "white",
            "showbackground": true,
            "ticks": "",
            "zerolinecolor": "white"
           },
           "yaxis": {
            "backgroundcolor": "#E5ECF6",
            "gridcolor": "white",
            "gridwidth": 2,
            "linecolor": "white",
            "showbackground": true,
            "ticks": "",
            "zerolinecolor": "white"
           },
           "zaxis": {
            "backgroundcolor": "#E5ECF6",
            "gridcolor": "white",
            "gridwidth": 2,
            "linecolor": "white",
            "showbackground": true,
            "ticks": "",
            "zerolinecolor": "white"
           }
          },
          "shapedefaults": {
           "line": {
            "color": "#2a3f5f"
           }
          },
          "ternary": {
           "aaxis": {
            "gridcolor": "white",
            "linecolor": "white",
            "ticks": ""
           },
           "baxis": {
            "gridcolor": "white",
            "linecolor": "white",
            "ticks": ""
           },
           "bgcolor": "#E5ECF6",
           "caxis": {
            "gridcolor": "white",
            "linecolor": "white",
            "ticks": ""
           }
          },
          "title": {
           "x": 0.05
          },
          "xaxis": {
           "automargin": true,
           "gridcolor": "white",
           "linecolor": "white",
           "ticks": "",
           "title": {
            "standoff": 15
           },
           "zerolinecolor": "white",
           "zerolinewidth": 2
          },
          "yaxis": {
           "automargin": true,
           "gridcolor": "white",
           "linecolor": "white",
           "ticks": "",
           "title": {
            "standoff": 15
           },
           "zerolinecolor": "white",
           "zerolinewidth": 2
          }
         }
        },
        "title": {
         "font": {
          "color": "#4D5663"
         }
        },
        "xaxis": {
         "gridcolor": "#E1E5ED",
         "showgrid": true,
         "tickfont": {
          "color": "#4D5663"
         },
         "title": {
          "font": {
           "color": "#4D5663"
          },
          "text": ""
         },
         "zerolinecolor": "#E1E5ED"
        },
        "yaxis": {
         "gridcolor": "#E1E5ED",
         "showgrid": true,
         "tickfont": {
          "color": "#4D5663"
         },
         "title": {
          "font": {
           "color": "#4D5663"
          },
          "text": ""
         },
         "zerolinecolor": "#E1E5ED"
        }
       }
      },
      "text/html": [
       "<div>                            <div id=\"a47b09a5-6e49-4cb4-9f1f-864fb806c0b3\" class=\"plotly-graph-div\" style=\"height:525px; width:100%;\"></div>            <script type=\"text/javascript\">                require([\"plotly\"], function(Plotly) {                    window.PLOTLYENV=window.PLOTLYENV || {};\n",
       "                    window.PLOTLYENV.BASE_URL='https://plot.ly';                                    if (document.getElementById(\"a47b09a5-6e49-4cb4-9f1f-864fb806c0b3\")) {                    Plotly.newPlot(                        \"a47b09a5-6e49-4cb4-9f1f-864fb806c0b3\",                        [{\"boxpoints\": false, \"line\": {\"width\": 1.3}, \"marker\": {\"color\": \"rgba(255, 153, 51, 1.0)\"}, \"name\": \"A\", \"orientation\": \"v\", \"type\": \"box\", \"y\": [-0.3155077874583621, 0.3797030900663316, 0.13082536129896652, -2.2125362027707243, 0.6959899932604471, -0.6651688342182054, 0.3392751939560983, -0.06426101581698589, 0.9363722872087246, 1.2876798208715128, -0.8196844023398393, 0.10550574634716345, 0.984281215420857, -0.6480877371964813, -1.0196895799590036, 0.03905274891226861, 1.5089599192845327, 1.3158362494688813, -0.3925680163977808, 2.1593895399262033, -0.9277739001087258, -1.8101984688606385, 1.1051035037837664, -1.9118969941429562, 0.5506036681161965, -2.0808993092408583, -0.17650866762141137, 0.2632788163547951, -0.6182340559844405, 1.7529663918088312, 1.1406246805389066, 0.7590908403416821, -1.4817193890130869, 0.16014759977799178, -1.1411833455404845, -0.27451731196969403, 0.9712894693061355, 0.8776435538970953, -0.9255622764713449, -0.15646200077681197, 0.12895762865690136, 0.013382331274075478, 0.008946199293052778, 1.0855960400891453, -0.9989079444164698, -0.9197301339026103, -0.510708790885548, -0.5881182748390118, -0.870030337560292, -1.855747922112066, -0.39039164081373884, 1.1694539604739602, -1.3832385950425616, -0.5338808546528805, 0.6274205428990312, 0.7377221968558098, 0.2104629902769848, 1.0332701707296545, 1.1773014071136858, -3.003363732106316, -0.6367581114030771, -0.9849507362072155, 1.172889971084506, 1.4049919559413808, -1.0665120136345716, -0.4927786792902122, -0.4287735889544915, 2.1301691553569584, 0.10248865395219325, -0.673713112327333, -0.2774788826539322, -0.9845092147425413, -1.494775948560315, -0.1590858026848481, 0.4245146132867722, -1.0527070551758853, -0.6271225927724591, -0.0932018672644432, -1.688083990261239, -0.1782681183091389, -0.47899491072394434, 0.6428012794627598, 1.4776959120729736, -0.6652938373848085, 1.352182236487618, -0.7313750627525646, 0.14174316018181848, 1.6692898036380026, 1.2245434297403823, -0.7160280045468996, 1.8260580823033306, 1.6250393454014014, -1.498852738752117, 0.527366459397921, -0.37994599350941144, -0.889761094168913, -0.6175950575590283, 0.8291700376647222, 0.052524725240034126, -0.38017490909113333]}, {\"boxpoints\": false, \"line\": {\"width\": 1.3}, \"marker\": {\"color\": \"rgba(55, 128, 191, 1.0)\"}, \"name\": \"B\", \"orientation\": \"v\", \"type\": \"box\", \"y\": [-0.742187179415621, 1.2134107925533075, -1.7025709041072157, 1.1077712761245098, 0.2450268665699058, 0.03385606567073771, -1.0293155394884315, -0.6351817072975786, 1.208253857927379, 0.2029117802982394, -0.6799122973866606, -0.08803443897233985, 0.5758098646913065, 2.3902431728879696, 2.322309790667226, -2.053897477260906, -0.36181402898944065, -0.49557665247321375, -0.4951736765103893, 0.37178527931536326, -0.3682043275108212, -0.5047798875636234, 1.379355997986373, 0.13616493155165393, 0.49318325140623254, -1.5175410018180038, 1.1547435470274139, 0.6050117379633767, -0.6996344079126486, -1.4817646470214914, 0.18752169065501145, 0.8066387082368147, -1.1959799329299963, -1.4170206981119036, -0.5800184256741695, 0.49349150837889405, -1.2519802476741586, -0.12630538029101265, 0.5713795406605309, 0.33842867331585463, 0.9276612042481814, 0.004692158094001177, 0.9607895275269087, -0.10436431125521162, 0.19500506072408932, 0.143619040803998, 0.24846269290696457, -1.1992336266022514, 0.7719922880483462, -1.7107148568858963, -1.1515543208452308, -0.4577740846020255, 0.009834139054455184, -0.9013706274525457, -1.35055050964298, 0.2636316222136694, -1.2117197793433805, 0.7298801493900917, 0.5123712500991467, -0.9682940983285426, 0.4561713613886814, -1.005662369358284, 0.3471944906337027, 0.1589370880209759, 0.6209089271516771, -0.8626092465711424, 0.7291717621580838, -0.9247316157756699, 0.048935049402674256, -1.1589530826492762, -0.11538883632037497, -2.5490296011198748, -0.40073928870507336, 1.8938769192769815, -0.06177218824813722, -0.3126294223162608, -1.5306645065803304, -0.5912941570519058, 0.8109286932495376, 2.1950748662015487, -1.2866497815909261, -0.04497568412693477, 1.481450499023565, 0.663621173996275, -0.8882298892774952, -2.4824878621979, -0.02457183461218704, -0.039755112888196234, -0.5727714919382593, 0.6308537624751678, 0.22301238943458415, -0.3747561570544337, -1.6649265559053648, 1.7760400884476781, 0.09799518810159046, 0.5757701404841383, 1.161331427062505, 0.1137451273646778, 0.41018929002830706, -0.8698503917579509]}, {\"boxpoints\": false, \"line\": {\"width\": 1.3}, \"marker\": {\"color\": \"rgba(50, 171, 96, 1.0)\"}, \"name\": \"C\", \"orientation\": \"v\", \"type\": \"box\", \"y\": [-1.2078524061832343, 1.647806384601327, 0.867424872152327, 0.7669777110713896, 0.818520999225426, -0.48320967186024133, 0.35396243357211826, -0.8479124671901214, 0.13457107379341118, -1.5782654987525453, -0.024899038746018128, -0.9661302530011148, 0.10786866146194769, -1.029408787668984, -0.551551586968485, 0.7478338033100305, 0.32212826393082283, -0.07981914124646398, -1.7345386630444235, 0.940856042038223, -0.893802996297651, -1.6838191488701428, -0.8193949520436961, -0.6986978023236927, 0.9484716043906775, -2.4729774481529536, -0.5184931813506506, 1.2944947036141494, 1.6518965347606518, -0.27097369670413435, 0.6607100884259512, 0.38996016296846236, 0.6894118859018167, -0.8632209729940418, -0.5171083610114836, 0.6018600888172007, -0.8457311592941562, 0.59764909067985, -0.059718166023163995, 0.4020361989483813, -0.6843729666514186, -0.5242962066773789, -0.9377796468920861, -0.2094071465163398, -0.6004287234619048, -1.1654165511468466, 0.552071633160766, 2.294425554654729, 0.9840253882237323, 1.532463975726437, -2.0965363642856185, -0.027778544002653505, -1.2592610118032257, -0.4940128214479949, -0.9603470186202026, -0.8771390346804705, 1.997699888499699, 0.6984735539398365, -1.5234038797937803, -0.40855022070663927, 0.7077209690843312, 1.3804789004634803, 1.0428083128544448, 0.25439927354969954, 0.43481566187872217, 0.5020740992240665, 1.9118308644715627, -1.1631204064945873, 0.2444948577104291, 0.30624170731256933, -0.646460226151218, 1.2532514420256606, -0.48520205356676244, 0.4214967889186345, 0.7229831685011271, -0.05929358539847693, 0.26748616985900747, 0.2873558919730922, 0.5109451119502947, -1.273673762305818, -0.12156207954094937, 0.665416255241936, -0.3855498693882793, 0.6556997917497112, 1.083962308875982, 1.051193036773326, -0.16569352007058658, 1.445267284777046, 0.7339791857623821, -0.8844229099045823, 0.5934768649818013, 0.30832968316289466, 2.6337128110926913, 0.054701840278038164, 0.43980988188662745, 0.54351591766071, 0.9283251404799931, 0.09876115894398224, -1.2533514262488898, 2.1524972165590093]}, {\"boxpoints\": false, \"line\": {\"width\": 1.3}, \"marker\": {\"color\": \"rgba(128, 0, 128, 1.0)\"}, \"name\": \"D\", \"orientation\": \"v\", \"type\": \"box\", \"y\": [1.7026558454303116, 1.5594219269692025, 1.4403235877899048, -2.2390370525507115, 0.16467710599817323, -0.9218258259100182, -0.2611907139315378, 1.0977798698411936, 0.37977150377533847, 0.678930562576309, 0.24027033970707695, -1.134130511030025, 0.28086292437562704, 0.8503726898773861, 0.9055947656818857, -0.7918153524806373, -1.2086934500885222, -1.3335624922189502, -0.32424765208188006, -0.11862208797272265, 0.07067805408788083, -1.0783026149841517, 1.2151290995336135, -1.9090316261587466, 0.7698743059492738, 1.4226846925724372, -0.38905961689902124, -0.3890691908653827, -1.138098162318478, 1.5286657168142626, -1.5256697797380405, -0.6517541801020447, 0.6651618792751028, 0.042148395695265156, 0.8037912030554389, -1.2340590432062606, 1.1138802032482642, 0.24272962949614557, -1.0897845546442384, -0.1861118730117989, -0.28506025348328085, -0.577405630427034, 0.9629284792942532, 0.8642435985066734, -2.1158255595742577, 0.9961250193213448, 0.559105232995064, 2.3677036955966857, 0.30853192592085305, 0.31965857680337983, -0.5789125493559564, -0.38674738312959595, 1.75609531876379, -0.3335211959389353, -0.09548124952105416, -1.5095801851776736, -0.50414646443317, -0.3874310487330894, 0.960662750189629, -0.42162185528459656, -1.1383848115226616, 0.39497549251283326, -1.0588751065242445, -1.0819417784228555, -1.1208476331280686, 0.548769582600236, -1.4957479220462382, -0.9123343605142379, -0.5407420132543753, -0.0030139030991650174, 0.9181096233801954, -0.3682788361733208, -0.2944575717906814, -0.44024326113832996, 0.22636349352905413, -0.09082428904754525, 2.8711765900811588, -0.9151438925202213, 0.3043595561190293, 0.7625528301828641, -0.3890199468582452, 0.45888215375476715, 1.5323600237489465, -0.3188006834231324, -0.7476326812212825, 0.8562325819537043, -1.3959940222047766, -0.0861929617313064, -0.9274887709992322, -1.0259843591608262, 1.7701086138228979, 0.5539931463352439, -0.735673032801025, 0.5077288161248946, -0.2789899201810933, 0.5197571423652604, 2.7190894240091414, -0.7411929584172913, -0.22795472975730985, -0.2906902789780266]}],                        {\"legend\": {\"bgcolor\": \"#F5F6F9\", \"font\": {\"color\": \"#4D5663\"}}, \"paper_bgcolor\": \"#F5F6F9\", \"plot_bgcolor\": \"#F5F6F9\", \"template\": {\"data\": {\"bar\": [{\"error_x\": {\"color\": \"#2a3f5f\"}, \"error_y\": {\"color\": \"#2a3f5f\"}, \"marker\": {\"line\": {\"color\": \"#E5ECF6\", \"width\": 0.5}}, \"type\": \"bar\"}], \"barpolar\": [{\"marker\": {\"line\": {\"color\": \"#E5ECF6\", \"width\": 0.5}}, \"type\": \"barpolar\"}], \"carpet\": [{\"aaxis\": {\"endlinecolor\": \"#2a3f5f\", \"gridcolor\": \"white\", \"linecolor\": \"white\", \"minorgridcolor\": \"white\", \"startlinecolor\": \"#2a3f5f\"}, \"baxis\": {\"endlinecolor\": \"#2a3f5f\", \"gridcolor\": \"white\", \"linecolor\": \"white\", \"minorgridcolor\": \"white\", \"startlinecolor\": \"#2a3f5f\"}, \"type\": \"carpet\"}], \"choropleth\": [{\"colorbar\": {\"outlinewidth\": 0, \"ticks\": \"\"}, \"type\": \"choropleth\"}], \"contour\": [{\"colorbar\": {\"outlinewidth\": 0, \"ticks\": \"\"}, \"colorscale\": [[0.0, \"#0d0887\"], [0.1111111111111111, \"#46039f\"], [0.2222222222222222, \"#7201a8\"], [0.3333333333333333, \"#9c179e\"], [0.4444444444444444, \"#bd3786\"], [0.5555555555555556, \"#d8576b\"], [0.6666666666666666, \"#ed7953\"], [0.7777777777777778, \"#fb9f3a\"], [0.8888888888888888, \"#fdca26\"], [1.0, \"#f0f921\"]], \"type\": \"contour\"}], \"contourcarpet\": [{\"colorbar\": {\"outlinewidth\": 0, \"ticks\": \"\"}, \"type\": \"contourcarpet\"}], \"heatmap\": [{\"colorbar\": {\"outlinewidth\": 0, \"ticks\": \"\"}, \"colorscale\": [[0.0, \"#0d0887\"], [0.1111111111111111, \"#46039f\"], [0.2222222222222222, \"#7201a8\"], [0.3333333333333333, \"#9c179e\"], [0.4444444444444444, \"#bd3786\"], [0.5555555555555556, \"#d8576b\"], [0.6666666666666666, \"#ed7953\"], [0.7777777777777778, \"#fb9f3a\"], [0.8888888888888888, \"#fdca26\"], [1.0, \"#f0f921\"]], \"type\": \"heatmap\"}], \"heatmapgl\": [{\"colorbar\": {\"outlinewidth\": 0, \"ticks\": \"\"}, \"colorscale\": [[0.0, \"#0d0887\"], [0.1111111111111111, \"#46039f\"], [0.2222222222222222, \"#7201a8\"], [0.3333333333333333, \"#9c179e\"], [0.4444444444444444, \"#bd3786\"], [0.5555555555555556, \"#d8576b\"], [0.6666666666666666, \"#ed7953\"], [0.7777777777777778, \"#fb9f3a\"], [0.8888888888888888, \"#fdca26\"], [1.0, \"#f0f921\"]], \"type\": \"heatmapgl\"}], \"histogram\": [{\"marker\": {\"colorbar\": {\"outlinewidth\": 0, \"ticks\": \"\"}}, \"type\": \"histogram\"}], \"histogram2d\": [{\"colorbar\": {\"outlinewidth\": 0, \"ticks\": \"\"}, \"colorscale\": [[0.0, \"#0d0887\"], [0.1111111111111111, \"#46039f\"], [0.2222222222222222, \"#7201a8\"], [0.3333333333333333, \"#9c179e\"], [0.4444444444444444, \"#bd3786\"], [0.5555555555555556, \"#d8576b\"], [0.6666666666666666, \"#ed7953\"], [0.7777777777777778, \"#fb9f3a\"], [0.8888888888888888, \"#fdca26\"], [1.0, \"#f0f921\"]], \"type\": \"histogram2d\"}], \"histogram2dcontour\": [{\"colorbar\": {\"outlinewidth\": 0, \"ticks\": \"\"}, \"colorscale\": [[0.0, \"#0d0887\"], [0.1111111111111111, \"#46039f\"], [0.2222222222222222, \"#7201a8\"], [0.3333333333333333, \"#9c179e\"], [0.4444444444444444, \"#bd3786\"], [0.5555555555555556, \"#d8576b\"], [0.6666666666666666, \"#ed7953\"], [0.7777777777777778, \"#fb9f3a\"], [0.8888888888888888, \"#fdca26\"], [1.0, \"#f0f921\"]], \"type\": \"histogram2dcontour\"}], \"mesh3d\": [{\"colorbar\": {\"outlinewidth\": 0, \"ticks\": \"\"}, \"type\": \"mesh3d\"}], \"parcoords\": [{\"line\": {\"colorbar\": {\"outlinewidth\": 0, \"ticks\": \"\"}}, \"type\": \"parcoords\"}], \"pie\": [{\"automargin\": true, \"type\": \"pie\"}], \"scatter\": [{\"marker\": {\"colorbar\": {\"outlinewidth\": 0, \"ticks\": \"\"}}, \"type\": \"scatter\"}], \"scatter3d\": [{\"line\": {\"colorbar\": {\"outlinewidth\": 0, \"ticks\": \"\"}}, \"marker\": {\"colorbar\": {\"outlinewidth\": 0, \"ticks\": \"\"}}, \"type\": \"scatter3d\"}], \"scattercarpet\": [{\"marker\": {\"colorbar\": {\"outlinewidth\": 0, \"ticks\": \"\"}}, \"type\": \"scattercarpet\"}], \"scattergeo\": [{\"marker\": {\"colorbar\": {\"outlinewidth\": 0, \"ticks\": \"\"}}, \"type\": \"scattergeo\"}], \"scattergl\": [{\"marker\": {\"colorbar\": {\"outlinewidth\": 0, \"ticks\": \"\"}}, \"type\": \"scattergl\"}], \"scattermapbox\": [{\"marker\": {\"colorbar\": {\"outlinewidth\": 0, \"ticks\": \"\"}}, \"type\": \"scattermapbox\"}], \"scatterpolar\": [{\"marker\": {\"colorbar\": {\"outlinewidth\": 0, \"ticks\": \"\"}}, \"type\": \"scatterpolar\"}], \"scatterpolargl\": [{\"marker\": {\"colorbar\": {\"outlinewidth\": 0, \"ticks\": \"\"}}, \"type\": \"scatterpolargl\"}], \"scatterternary\": [{\"marker\": {\"colorbar\": {\"outlinewidth\": 0, \"ticks\": \"\"}}, \"type\": \"scatterternary\"}], \"surface\": [{\"colorbar\": {\"outlinewidth\": 0, \"ticks\": \"\"}, \"colorscale\": [[0.0, \"#0d0887\"], [0.1111111111111111, \"#46039f\"], [0.2222222222222222, \"#7201a8\"], [0.3333333333333333, \"#9c179e\"], [0.4444444444444444, \"#bd3786\"], [0.5555555555555556, \"#d8576b\"], [0.6666666666666666, \"#ed7953\"], [0.7777777777777778, \"#fb9f3a\"], [0.8888888888888888, \"#fdca26\"], [1.0, \"#f0f921\"]], \"type\": \"surface\"}], \"table\": [{\"cells\": {\"fill\": {\"color\": \"#EBF0F8\"}, \"line\": {\"color\": \"white\"}}, \"header\": {\"fill\": {\"color\": \"#C8D4E3\"}, \"line\": {\"color\": \"white\"}}, \"type\": \"table\"}]}, \"layout\": {\"annotationdefaults\": {\"arrowcolor\": \"#2a3f5f\", \"arrowhead\": 0, \"arrowwidth\": 1}, \"autotypenumbers\": \"strict\", \"coloraxis\": {\"colorbar\": {\"outlinewidth\": 0, \"ticks\": \"\"}}, \"colorscale\": {\"diverging\": [[0, \"#8e0152\"], [0.1, \"#c51b7d\"], [0.2, \"#de77ae\"], [0.3, \"#f1b6da\"], [0.4, \"#fde0ef\"], [0.5, \"#f7f7f7\"], [0.6, \"#e6f5d0\"], [0.7, \"#b8e186\"], [0.8, \"#7fbc41\"], [0.9, \"#4d9221\"], [1, \"#276419\"]], \"sequential\": [[0.0, \"#0d0887\"], [0.1111111111111111, \"#46039f\"], [0.2222222222222222, \"#7201a8\"], [0.3333333333333333, \"#9c179e\"], [0.4444444444444444, \"#bd3786\"], [0.5555555555555556, \"#d8576b\"], [0.6666666666666666, \"#ed7953\"], [0.7777777777777778, \"#fb9f3a\"], [0.8888888888888888, \"#fdca26\"], [1.0, \"#f0f921\"]], \"sequentialminus\": [[0.0, \"#0d0887\"], [0.1111111111111111, \"#46039f\"], [0.2222222222222222, \"#7201a8\"], [0.3333333333333333, \"#9c179e\"], [0.4444444444444444, \"#bd3786\"], [0.5555555555555556, \"#d8576b\"], [0.6666666666666666, \"#ed7953\"], [0.7777777777777778, \"#fb9f3a\"], [0.8888888888888888, \"#fdca26\"], [1.0, \"#f0f921\"]]}, \"colorway\": [\"#636efa\", \"#EF553B\", \"#00cc96\", \"#ab63fa\", \"#FFA15A\", \"#19d3f3\", \"#FF6692\", \"#B6E880\", \"#FF97FF\", \"#FECB52\"], \"font\": {\"color\": \"#2a3f5f\"}, \"geo\": {\"bgcolor\": \"white\", \"lakecolor\": \"white\", \"landcolor\": \"#E5ECF6\", \"showlakes\": true, \"showland\": true, \"subunitcolor\": \"white\"}, \"hoverlabel\": {\"align\": \"left\"}, \"hovermode\": \"closest\", \"mapbox\": {\"style\": \"light\"}, \"paper_bgcolor\": \"white\", \"plot_bgcolor\": \"#E5ECF6\", \"polar\": {\"angularaxis\": {\"gridcolor\": \"white\", \"linecolor\": \"white\", \"ticks\": \"\"}, \"bgcolor\": \"#E5ECF6\", \"radialaxis\": {\"gridcolor\": \"white\", \"linecolor\": \"white\", \"ticks\": \"\"}}, \"scene\": {\"xaxis\": {\"backgroundcolor\": \"#E5ECF6\", \"gridcolor\": \"white\", \"gridwidth\": 2, \"linecolor\": \"white\", \"showbackground\": true, \"ticks\": \"\", \"zerolinecolor\": \"white\"}, \"yaxis\": {\"backgroundcolor\": \"#E5ECF6\", \"gridcolor\": \"white\", \"gridwidth\": 2, \"linecolor\": \"white\", \"showbackground\": true, \"ticks\": \"\", \"zerolinecolor\": \"white\"}, \"zaxis\": {\"backgroundcolor\": \"#E5ECF6\", \"gridcolor\": \"white\", \"gridwidth\": 2, \"linecolor\": \"white\", \"showbackground\": true, \"ticks\": \"\", \"zerolinecolor\": \"white\"}}, \"shapedefaults\": {\"line\": {\"color\": \"#2a3f5f\"}}, \"ternary\": {\"aaxis\": {\"gridcolor\": \"white\", \"linecolor\": \"white\", \"ticks\": \"\"}, \"baxis\": {\"gridcolor\": \"white\", \"linecolor\": \"white\", \"ticks\": \"\"}, \"bgcolor\": \"#E5ECF6\", \"caxis\": {\"gridcolor\": \"white\", \"linecolor\": \"white\", \"ticks\": \"\"}}, \"title\": {\"x\": 0.05}, \"xaxis\": {\"automargin\": true, \"gridcolor\": \"white\", \"linecolor\": \"white\", \"ticks\": \"\", \"title\": {\"standoff\": 15}, \"zerolinecolor\": \"white\", \"zerolinewidth\": 2}, \"yaxis\": {\"automargin\": true, \"gridcolor\": \"white\", \"linecolor\": \"white\", \"ticks\": \"\", \"title\": {\"standoff\": 15}, \"zerolinecolor\": \"white\", \"zerolinewidth\": 2}}}, \"title\": {\"font\": {\"color\": \"#4D5663\"}}, \"xaxis\": {\"gridcolor\": \"#E1E5ED\", \"showgrid\": true, \"tickfont\": {\"color\": \"#4D5663\"}, \"title\": {\"font\": {\"color\": \"#4D5663\"}, \"text\": \"\"}, \"zerolinecolor\": \"#E1E5ED\"}, \"yaxis\": {\"gridcolor\": \"#E1E5ED\", \"showgrid\": true, \"tickfont\": {\"color\": \"#4D5663\"}, \"title\": {\"font\": {\"color\": \"#4D5663\"}, \"text\": \"\"}, \"zerolinecolor\": \"#E1E5ED\"}},                        {\"showLink\": true, \"linkText\": \"Export to plot.ly\", \"plotlyServerURL\": \"https://plot.ly\", \"responsive\": true}                    ).then(function(){\n",
       "                            \n",
       "var gd = document.getElementById('a47b09a5-6e49-4cb4-9f1f-864fb806c0b3');\n",
       "var x = new MutationObserver(function (mutations, observer) {{\n",
       "        var display = window.getComputedStyle(gd).display;\n",
       "        if (!display || display === 'none') {{\n",
       "            console.log([gd, 'removed!']);\n",
       "            Plotly.purge(gd);\n",
       "            observer.disconnect();\n",
       "        }}\n",
       "}});\n",
       "\n",
       "// Listen for the removal of the full notebook cells\n",
       "var notebookContainer = gd.closest('#notebook-container');\n",
       "if (notebookContainer) {{\n",
       "    x.observe(notebookContainer, {childList: true});\n",
       "}}\n",
       "\n",
       "// Listen for the clearing of the current output cell\n",
       "var outputEl = gd.closest('.output');\n",
       "if (outputEl) {{\n",
       "    x.observe(outputEl, {childList: true});\n",
       "}}\n",
       "\n",
       "                        })                };                });            </script>        </div>"
      ]
     },
     "metadata": {},
     "output_type": "display_data"
    }
   ],
   "source": [
    "#you can chick just the boxes that you want on rhs\n",
    "df.iplot(kind='box')"
   ]
  },
  {
   "cell_type": "code",
   "execution_count": 37,
   "metadata": {},
   "outputs": [
    {
     "data": {
      "text/html": [
       "<div>\n",
       "<style scoped>\n",
       "    .dataframe tbody tr th:only-of-type {\n",
       "        vertical-align: middle;\n",
       "    }\n",
       "\n",
       "    .dataframe tbody tr th {\n",
       "        vertical-align: top;\n",
       "    }\n",
       "\n",
       "    .dataframe thead th {\n",
       "        text-align: right;\n",
       "    }\n",
       "</style>\n",
       "<table border=\"1\" class=\"dataframe\">\n",
       "  <thead>\n",
       "    <tr style=\"text-align: right;\">\n",
       "      <th></th>\n",
       "      <th>x</th>\n",
       "      <th>y</th>\n",
       "      <th>z</th>\n",
       "    </tr>\n",
       "  </thead>\n",
       "  <tbody>\n",
       "    <tr>\n",
       "      <th>0</th>\n",
       "      <td>1</td>\n",
       "      <td>10</td>\n",
       "      <td>5</td>\n",
       "    </tr>\n",
       "    <tr>\n",
       "      <th>1</th>\n",
       "      <td>2</td>\n",
       "      <td>20</td>\n",
       "      <td>4</td>\n",
       "    </tr>\n",
       "    <tr>\n",
       "      <th>2</th>\n",
       "      <td>3</td>\n",
       "      <td>30</td>\n",
       "      <td>3</td>\n",
       "    </tr>\n",
       "    <tr>\n",
       "      <th>3</th>\n",
       "      <td>4</td>\n",
       "      <td>20</td>\n",
       "      <td>2</td>\n",
       "    </tr>\n",
       "    <tr>\n",
       "      <th>4</th>\n",
       "      <td>5</td>\n",
       "      <td>10</td>\n",
       "      <td>1</td>\n",
       "    </tr>\n",
       "  </tbody>\n",
       "</table>\n",
       "</div>"
      ],
      "text/plain": [
       "   x   y  z\n",
       "0  1  10  5\n",
       "1  2  20  4\n",
       "2  3  30  3\n",
       "3  4  20  2\n",
       "4  5  10  1"
      ]
     },
     "execution_count": 37,
     "metadata": {},
     "output_type": "execute_result"
    }
   ],
   "source": [
    "df3=pd.DataFrame({'x':[1,2,3,4,5],'y':[10,20,30,20,10],'z':[5,4,3,2,1]})\n",
    "df3"
   ]
  },
  {
   "cell_type": "code",
   "execution_count": 38,
   "metadata": {},
   "outputs": [
    {
     "data": {
      "application/vnd.plotly.v1+json": {
       "config": {
        "linkText": "Export to plot.ly",
        "plotlyServerURL": "https://plot.ly",
        "showLink": true
       },
       "data": [
        {
         "colorscale": [
          [
           0,
           "rgb(255, 153, 51)"
          ],
          [
           0.1111111111111111,
           "rgb(55, 128, 191)"
          ],
          [
           0.2222222222222222,
           "rgb(50, 171, 96)"
          ],
          [
           0.3333333333333333,
           "rgb(128, 0, 128)"
          ],
          [
           0.4444444444444444,
           "rgb(219, 64, 82)"
          ],
          [
           0.5555555555555556,
           "rgb(0, 128, 128)"
          ],
          [
           0.6666666666666666,
           "rgb(255, 255, 51)"
          ],
          [
           0.7777777777777778,
           "rgb(128, 128, 0)"
          ],
          [
           0.8888888888888888,
           "rgb(251, 128, 114)"
          ],
          [
           1,
           "rgb(128, 177, 211)"
          ]
         ],
         "type": "surface",
         "x": [
          0,
          1,
          2,
          3,
          4
         ],
         "y": [
          "x",
          "y",
          "z"
         ],
         "z": [
          [
           1,
           2,
           3,
           4,
           5
          ],
          [
           10,
           20,
           30,
           20,
           10
          ],
          [
           5,
           4,
           3,
           2,
           1
          ]
         ]
        }
       ],
       "layout": {
        "legend": {
         "bgcolor": "#F5F6F9",
         "font": {
          "color": "#4D5663"
         }
        },
        "paper_bgcolor": "#F5F6F9",
        "plot_bgcolor": "#F5F6F9",
        "template": {
         "data": {
          "bar": [
           {
            "error_x": {
             "color": "#2a3f5f"
            },
            "error_y": {
             "color": "#2a3f5f"
            },
            "marker": {
             "line": {
              "color": "#E5ECF6",
              "width": 0.5
             }
            },
            "type": "bar"
           }
          ],
          "barpolar": [
           {
            "marker": {
             "line": {
              "color": "#E5ECF6",
              "width": 0.5
             }
            },
            "type": "barpolar"
           }
          ],
          "carpet": [
           {
            "aaxis": {
             "endlinecolor": "#2a3f5f",
             "gridcolor": "white",
             "linecolor": "white",
             "minorgridcolor": "white",
             "startlinecolor": "#2a3f5f"
            },
            "baxis": {
             "endlinecolor": "#2a3f5f",
             "gridcolor": "white",
             "linecolor": "white",
             "minorgridcolor": "white",
             "startlinecolor": "#2a3f5f"
            },
            "type": "carpet"
           }
          ],
          "choropleth": [
           {
            "colorbar": {
             "outlinewidth": 0,
             "ticks": ""
            },
            "type": "choropleth"
           }
          ],
          "contour": [
           {
            "colorbar": {
             "outlinewidth": 0,
             "ticks": ""
            },
            "colorscale": [
             [
              0,
              "#0d0887"
             ],
             [
              0.1111111111111111,
              "#46039f"
             ],
             [
              0.2222222222222222,
              "#7201a8"
             ],
             [
              0.3333333333333333,
              "#9c179e"
             ],
             [
              0.4444444444444444,
              "#bd3786"
             ],
             [
              0.5555555555555556,
              "#d8576b"
             ],
             [
              0.6666666666666666,
              "#ed7953"
             ],
             [
              0.7777777777777778,
              "#fb9f3a"
             ],
             [
              0.8888888888888888,
              "#fdca26"
             ],
             [
              1,
              "#f0f921"
             ]
            ],
            "type": "contour"
           }
          ],
          "contourcarpet": [
           {
            "colorbar": {
             "outlinewidth": 0,
             "ticks": ""
            },
            "type": "contourcarpet"
           }
          ],
          "heatmap": [
           {
            "colorbar": {
             "outlinewidth": 0,
             "ticks": ""
            },
            "colorscale": [
             [
              0,
              "#0d0887"
             ],
             [
              0.1111111111111111,
              "#46039f"
             ],
             [
              0.2222222222222222,
              "#7201a8"
             ],
             [
              0.3333333333333333,
              "#9c179e"
             ],
             [
              0.4444444444444444,
              "#bd3786"
             ],
             [
              0.5555555555555556,
              "#d8576b"
             ],
             [
              0.6666666666666666,
              "#ed7953"
             ],
             [
              0.7777777777777778,
              "#fb9f3a"
             ],
             [
              0.8888888888888888,
              "#fdca26"
             ],
             [
              1,
              "#f0f921"
             ]
            ],
            "type": "heatmap"
           }
          ],
          "heatmapgl": [
           {
            "colorbar": {
             "outlinewidth": 0,
             "ticks": ""
            },
            "colorscale": [
             [
              0,
              "#0d0887"
             ],
             [
              0.1111111111111111,
              "#46039f"
             ],
             [
              0.2222222222222222,
              "#7201a8"
             ],
             [
              0.3333333333333333,
              "#9c179e"
             ],
             [
              0.4444444444444444,
              "#bd3786"
             ],
             [
              0.5555555555555556,
              "#d8576b"
             ],
             [
              0.6666666666666666,
              "#ed7953"
             ],
             [
              0.7777777777777778,
              "#fb9f3a"
             ],
             [
              0.8888888888888888,
              "#fdca26"
             ],
             [
              1,
              "#f0f921"
             ]
            ],
            "type": "heatmapgl"
           }
          ],
          "histogram": [
           {
            "marker": {
             "colorbar": {
              "outlinewidth": 0,
              "ticks": ""
             }
            },
            "type": "histogram"
           }
          ],
          "histogram2d": [
           {
            "colorbar": {
             "outlinewidth": 0,
             "ticks": ""
            },
            "colorscale": [
             [
              0,
              "#0d0887"
             ],
             [
              0.1111111111111111,
              "#46039f"
             ],
             [
              0.2222222222222222,
              "#7201a8"
             ],
             [
              0.3333333333333333,
              "#9c179e"
             ],
             [
              0.4444444444444444,
              "#bd3786"
             ],
             [
              0.5555555555555556,
              "#d8576b"
             ],
             [
              0.6666666666666666,
              "#ed7953"
             ],
             [
              0.7777777777777778,
              "#fb9f3a"
             ],
             [
              0.8888888888888888,
              "#fdca26"
             ],
             [
              1,
              "#f0f921"
             ]
            ],
            "type": "histogram2d"
           }
          ],
          "histogram2dcontour": [
           {
            "colorbar": {
             "outlinewidth": 0,
             "ticks": ""
            },
            "colorscale": [
             [
              0,
              "#0d0887"
             ],
             [
              0.1111111111111111,
              "#46039f"
             ],
             [
              0.2222222222222222,
              "#7201a8"
             ],
             [
              0.3333333333333333,
              "#9c179e"
             ],
             [
              0.4444444444444444,
              "#bd3786"
             ],
             [
              0.5555555555555556,
              "#d8576b"
             ],
             [
              0.6666666666666666,
              "#ed7953"
             ],
             [
              0.7777777777777778,
              "#fb9f3a"
             ],
             [
              0.8888888888888888,
              "#fdca26"
             ],
             [
              1,
              "#f0f921"
             ]
            ],
            "type": "histogram2dcontour"
           }
          ],
          "mesh3d": [
           {
            "colorbar": {
             "outlinewidth": 0,
             "ticks": ""
            },
            "type": "mesh3d"
           }
          ],
          "parcoords": [
           {
            "line": {
             "colorbar": {
              "outlinewidth": 0,
              "ticks": ""
             }
            },
            "type": "parcoords"
           }
          ],
          "pie": [
           {
            "automargin": true,
            "type": "pie"
           }
          ],
          "scatter": [
           {
            "marker": {
             "colorbar": {
              "outlinewidth": 0,
              "ticks": ""
             }
            },
            "type": "scatter"
           }
          ],
          "scatter3d": [
           {
            "line": {
             "colorbar": {
              "outlinewidth": 0,
              "ticks": ""
             }
            },
            "marker": {
             "colorbar": {
              "outlinewidth": 0,
              "ticks": ""
             }
            },
            "type": "scatter3d"
           }
          ],
          "scattercarpet": [
           {
            "marker": {
             "colorbar": {
              "outlinewidth": 0,
              "ticks": ""
             }
            },
            "type": "scattercarpet"
           }
          ],
          "scattergeo": [
           {
            "marker": {
             "colorbar": {
              "outlinewidth": 0,
              "ticks": ""
             }
            },
            "type": "scattergeo"
           }
          ],
          "scattergl": [
           {
            "marker": {
             "colorbar": {
              "outlinewidth": 0,
              "ticks": ""
             }
            },
            "type": "scattergl"
           }
          ],
          "scattermapbox": [
           {
            "marker": {
             "colorbar": {
              "outlinewidth": 0,
              "ticks": ""
             }
            },
            "type": "scattermapbox"
           }
          ],
          "scatterpolar": [
           {
            "marker": {
             "colorbar": {
              "outlinewidth": 0,
              "ticks": ""
             }
            },
            "type": "scatterpolar"
           }
          ],
          "scatterpolargl": [
           {
            "marker": {
             "colorbar": {
              "outlinewidth": 0,
              "ticks": ""
             }
            },
            "type": "scatterpolargl"
           }
          ],
          "scatterternary": [
           {
            "marker": {
             "colorbar": {
              "outlinewidth": 0,
              "ticks": ""
             }
            },
            "type": "scatterternary"
           }
          ],
          "surface": [
           {
            "colorbar": {
             "outlinewidth": 0,
             "ticks": ""
            },
            "colorscale": [
             [
              0,
              "#0d0887"
             ],
             [
              0.1111111111111111,
              "#46039f"
             ],
             [
              0.2222222222222222,
              "#7201a8"
             ],
             [
              0.3333333333333333,
              "#9c179e"
             ],
             [
              0.4444444444444444,
              "#bd3786"
             ],
             [
              0.5555555555555556,
              "#d8576b"
             ],
             [
              0.6666666666666666,
              "#ed7953"
             ],
             [
              0.7777777777777778,
              "#fb9f3a"
             ],
             [
              0.8888888888888888,
              "#fdca26"
             ],
             [
              1,
              "#f0f921"
             ]
            ],
            "type": "surface"
           }
          ],
          "table": [
           {
            "cells": {
             "fill": {
              "color": "#EBF0F8"
             },
             "line": {
              "color": "white"
             }
            },
            "header": {
             "fill": {
              "color": "#C8D4E3"
             },
             "line": {
              "color": "white"
             }
            },
            "type": "table"
           }
          ]
         },
         "layout": {
          "annotationdefaults": {
           "arrowcolor": "#2a3f5f",
           "arrowhead": 0,
           "arrowwidth": 1
          },
          "autotypenumbers": "strict",
          "coloraxis": {
           "colorbar": {
            "outlinewidth": 0,
            "ticks": ""
           }
          },
          "colorscale": {
           "diverging": [
            [
             0,
             "#8e0152"
            ],
            [
             0.1,
             "#c51b7d"
            ],
            [
             0.2,
             "#de77ae"
            ],
            [
             0.3,
             "#f1b6da"
            ],
            [
             0.4,
             "#fde0ef"
            ],
            [
             0.5,
             "#f7f7f7"
            ],
            [
             0.6,
             "#e6f5d0"
            ],
            [
             0.7,
             "#b8e186"
            ],
            [
             0.8,
             "#7fbc41"
            ],
            [
             0.9,
             "#4d9221"
            ],
            [
             1,
             "#276419"
            ]
           ],
           "sequential": [
            [
             0,
             "#0d0887"
            ],
            [
             0.1111111111111111,
             "#46039f"
            ],
            [
             0.2222222222222222,
             "#7201a8"
            ],
            [
             0.3333333333333333,
             "#9c179e"
            ],
            [
             0.4444444444444444,
             "#bd3786"
            ],
            [
             0.5555555555555556,
             "#d8576b"
            ],
            [
             0.6666666666666666,
             "#ed7953"
            ],
            [
             0.7777777777777778,
             "#fb9f3a"
            ],
            [
             0.8888888888888888,
             "#fdca26"
            ],
            [
             1,
             "#f0f921"
            ]
           ],
           "sequentialminus": [
            [
             0,
             "#0d0887"
            ],
            [
             0.1111111111111111,
             "#46039f"
            ],
            [
             0.2222222222222222,
             "#7201a8"
            ],
            [
             0.3333333333333333,
             "#9c179e"
            ],
            [
             0.4444444444444444,
             "#bd3786"
            ],
            [
             0.5555555555555556,
             "#d8576b"
            ],
            [
             0.6666666666666666,
             "#ed7953"
            ],
            [
             0.7777777777777778,
             "#fb9f3a"
            ],
            [
             0.8888888888888888,
             "#fdca26"
            ],
            [
             1,
             "#f0f921"
            ]
           ]
          },
          "colorway": [
           "#636efa",
           "#EF553B",
           "#00cc96",
           "#ab63fa",
           "#FFA15A",
           "#19d3f3",
           "#FF6692",
           "#B6E880",
           "#FF97FF",
           "#FECB52"
          ],
          "font": {
           "color": "#2a3f5f"
          },
          "geo": {
           "bgcolor": "white",
           "lakecolor": "white",
           "landcolor": "#E5ECF6",
           "showlakes": true,
           "showland": true,
           "subunitcolor": "white"
          },
          "hoverlabel": {
           "align": "left"
          },
          "hovermode": "closest",
          "mapbox": {
           "style": "light"
          },
          "paper_bgcolor": "white",
          "plot_bgcolor": "#E5ECF6",
          "polar": {
           "angularaxis": {
            "gridcolor": "white",
            "linecolor": "white",
            "ticks": ""
           },
           "bgcolor": "#E5ECF6",
           "radialaxis": {
            "gridcolor": "white",
            "linecolor": "white",
            "ticks": ""
           }
          },
          "scene": {
           "xaxis": {
            "backgroundcolor": "#E5ECF6",
            "gridcolor": "white",
            "gridwidth": 2,
            "linecolor": "white",
            "showbackground": true,
            "ticks": "",
            "zerolinecolor": "white"
           },
           "yaxis": {
            "backgroundcolor": "#E5ECF6",
            "gridcolor": "white",
            "gridwidth": 2,
            "linecolor": "white",
            "showbackground": true,
            "ticks": "",
            "zerolinecolor": "white"
           },
           "zaxis": {
            "backgroundcolor": "#E5ECF6",
            "gridcolor": "white",
            "gridwidth": 2,
            "linecolor": "white",
            "showbackground": true,
            "ticks": "",
            "zerolinecolor": "white"
           }
          },
          "shapedefaults": {
           "line": {
            "color": "#2a3f5f"
           }
          },
          "ternary": {
           "aaxis": {
            "gridcolor": "white",
            "linecolor": "white",
            "ticks": ""
           },
           "baxis": {
            "gridcolor": "white",
            "linecolor": "white",
            "ticks": ""
           },
           "bgcolor": "#E5ECF6",
           "caxis": {
            "gridcolor": "white",
            "linecolor": "white",
            "ticks": ""
           }
          },
          "title": {
           "x": 0.05
          },
          "xaxis": {
           "automargin": true,
           "gridcolor": "white",
           "linecolor": "white",
           "ticks": "",
           "title": {
            "standoff": 15
           },
           "zerolinecolor": "white",
           "zerolinewidth": 2
          },
          "yaxis": {
           "automargin": true,
           "gridcolor": "white",
           "linecolor": "white",
           "ticks": "",
           "title": {
            "standoff": 15
           },
           "zerolinecolor": "white",
           "zerolinewidth": 2
          }
         }
        },
        "title": {
         "font": {
          "color": "#4D5663"
         }
        },
        "xaxis": {
         "gridcolor": "#E1E5ED",
         "showgrid": true,
         "tickfont": {
          "color": "#4D5663"
         },
         "title": {
          "font": {
           "color": "#4D5663"
          },
          "text": ""
         },
         "zerolinecolor": "#E1E5ED"
        },
        "yaxis": {
         "gridcolor": "#E1E5ED",
         "showgrid": true,
         "tickfont": {
          "color": "#4D5663"
         },
         "title": {
          "font": {
           "color": "#4D5663"
          },
          "text": ""
         },
         "zerolinecolor": "#E1E5ED"
        }
       }
      },
      "text/html": [
       "<div>                            <div id=\"a512cb6c-027f-49e7-8831-a144f13ca6a8\" class=\"plotly-graph-div\" style=\"height:525px; width:100%;\"></div>            <script type=\"text/javascript\">                require([\"plotly\"], function(Plotly) {                    window.PLOTLYENV=window.PLOTLYENV || {};\n",
       "                    window.PLOTLYENV.BASE_URL='https://plot.ly';                                    if (document.getElementById(\"a512cb6c-027f-49e7-8831-a144f13ca6a8\")) {                    Plotly.newPlot(                        \"a512cb6c-027f-49e7-8831-a144f13ca6a8\",                        [{\"colorscale\": [[0.0, \"rgb(255, 153, 51)\"], [0.1111111111111111, \"rgb(55, 128, 191)\"], [0.2222222222222222, \"rgb(50, 171, 96)\"], [0.3333333333333333, \"rgb(128, 0, 128)\"], [0.4444444444444444, \"rgb(219, 64, 82)\"], [0.5555555555555556, \"rgb(0, 128, 128)\"], [0.6666666666666666, \"rgb(255, 255, 51)\"], [0.7777777777777778, \"rgb(128, 128, 0)\"], [0.8888888888888888, \"rgb(251, 128, 114)\"], [1.0, \"rgb(128, 177, 211)\"]], \"type\": \"surface\", \"x\": [0, 1, 2, 3, 4], \"y\": [\"x\", \"y\", \"z\"], \"z\": [[1, 2, 3, 4, 5], [10, 20, 30, 20, 10], [5, 4, 3, 2, 1]]}],                        {\"legend\": {\"bgcolor\": \"#F5F6F9\", \"font\": {\"color\": \"#4D5663\"}}, \"paper_bgcolor\": \"#F5F6F9\", \"plot_bgcolor\": \"#F5F6F9\", \"template\": {\"data\": {\"bar\": [{\"error_x\": {\"color\": \"#2a3f5f\"}, \"error_y\": {\"color\": \"#2a3f5f\"}, \"marker\": {\"line\": {\"color\": \"#E5ECF6\", \"width\": 0.5}}, \"type\": \"bar\"}], \"barpolar\": [{\"marker\": {\"line\": {\"color\": \"#E5ECF6\", \"width\": 0.5}}, \"type\": \"barpolar\"}], \"carpet\": [{\"aaxis\": {\"endlinecolor\": \"#2a3f5f\", \"gridcolor\": \"white\", \"linecolor\": \"white\", \"minorgridcolor\": \"white\", \"startlinecolor\": \"#2a3f5f\"}, \"baxis\": {\"endlinecolor\": \"#2a3f5f\", \"gridcolor\": \"white\", \"linecolor\": \"white\", \"minorgridcolor\": \"white\", \"startlinecolor\": \"#2a3f5f\"}, \"type\": \"carpet\"}], \"choropleth\": [{\"colorbar\": {\"outlinewidth\": 0, \"ticks\": \"\"}, \"type\": \"choropleth\"}], \"contour\": [{\"colorbar\": {\"outlinewidth\": 0, \"ticks\": \"\"}, \"colorscale\": [[0.0, \"#0d0887\"], [0.1111111111111111, \"#46039f\"], [0.2222222222222222, \"#7201a8\"], [0.3333333333333333, \"#9c179e\"], [0.4444444444444444, \"#bd3786\"], [0.5555555555555556, \"#d8576b\"], [0.6666666666666666, \"#ed7953\"], [0.7777777777777778, \"#fb9f3a\"], [0.8888888888888888, \"#fdca26\"], [1.0, \"#f0f921\"]], \"type\": \"contour\"}], \"contourcarpet\": [{\"colorbar\": {\"outlinewidth\": 0, \"ticks\": \"\"}, \"type\": \"contourcarpet\"}], \"heatmap\": [{\"colorbar\": {\"outlinewidth\": 0, \"ticks\": \"\"}, \"colorscale\": [[0.0, \"#0d0887\"], [0.1111111111111111, \"#46039f\"], [0.2222222222222222, \"#7201a8\"], [0.3333333333333333, \"#9c179e\"], [0.4444444444444444, \"#bd3786\"], [0.5555555555555556, \"#d8576b\"], [0.6666666666666666, \"#ed7953\"], [0.7777777777777778, \"#fb9f3a\"], [0.8888888888888888, \"#fdca26\"], [1.0, \"#f0f921\"]], \"type\": \"heatmap\"}], \"heatmapgl\": [{\"colorbar\": {\"outlinewidth\": 0, \"ticks\": \"\"}, \"colorscale\": [[0.0, \"#0d0887\"], [0.1111111111111111, \"#46039f\"], [0.2222222222222222, \"#7201a8\"], [0.3333333333333333, \"#9c179e\"], [0.4444444444444444, \"#bd3786\"], [0.5555555555555556, \"#d8576b\"], [0.6666666666666666, \"#ed7953\"], [0.7777777777777778, \"#fb9f3a\"], [0.8888888888888888, \"#fdca26\"], [1.0, \"#f0f921\"]], \"type\": \"heatmapgl\"}], \"histogram\": [{\"marker\": {\"colorbar\": {\"outlinewidth\": 0, \"ticks\": \"\"}}, \"type\": \"histogram\"}], \"histogram2d\": [{\"colorbar\": {\"outlinewidth\": 0, \"ticks\": \"\"}, \"colorscale\": [[0.0, \"#0d0887\"], [0.1111111111111111, \"#46039f\"], [0.2222222222222222, \"#7201a8\"], [0.3333333333333333, \"#9c179e\"], [0.4444444444444444, \"#bd3786\"], [0.5555555555555556, \"#d8576b\"], [0.6666666666666666, \"#ed7953\"], [0.7777777777777778, \"#fb9f3a\"], [0.8888888888888888, \"#fdca26\"], [1.0, \"#f0f921\"]], \"type\": \"histogram2d\"}], \"histogram2dcontour\": [{\"colorbar\": {\"outlinewidth\": 0, \"ticks\": \"\"}, \"colorscale\": [[0.0, \"#0d0887\"], [0.1111111111111111, \"#46039f\"], [0.2222222222222222, \"#7201a8\"], [0.3333333333333333, \"#9c179e\"], [0.4444444444444444, \"#bd3786\"], [0.5555555555555556, \"#d8576b\"], [0.6666666666666666, \"#ed7953\"], [0.7777777777777778, \"#fb9f3a\"], [0.8888888888888888, \"#fdca26\"], [1.0, \"#f0f921\"]], \"type\": \"histogram2dcontour\"}], \"mesh3d\": [{\"colorbar\": {\"outlinewidth\": 0, \"ticks\": \"\"}, \"type\": \"mesh3d\"}], \"parcoords\": [{\"line\": {\"colorbar\": {\"outlinewidth\": 0, \"ticks\": \"\"}}, \"type\": \"parcoords\"}], \"pie\": [{\"automargin\": true, \"type\": \"pie\"}], \"scatter\": [{\"marker\": {\"colorbar\": {\"outlinewidth\": 0, \"ticks\": \"\"}}, \"type\": \"scatter\"}], \"scatter3d\": [{\"line\": {\"colorbar\": {\"outlinewidth\": 0, \"ticks\": \"\"}}, \"marker\": {\"colorbar\": {\"outlinewidth\": 0, \"ticks\": \"\"}}, \"type\": \"scatter3d\"}], \"scattercarpet\": [{\"marker\": {\"colorbar\": {\"outlinewidth\": 0, \"ticks\": \"\"}}, \"type\": \"scattercarpet\"}], \"scattergeo\": [{\"marker\": {\"colorbar\": {\"outlinewidth\": 0, \"ticks\": \"\"}}, \"type\": \"scattergeo\"}], \"scattergl\": [{\"marker\": {\"colorbar\": {\"outlinewidth\": 0, \"ticks\": \"\"}}, \"type\": \"scattergl\"}], \"scattermapbox\": [{\"marker\": {\"colorbar\": {\"outlinewidth\": 0, \"ticks\": \"\"}}, \"type\": \"scattermapbox\"}], \"scatterpolar\": [{\"marker\": {\"colorbar\": {\"outlinewidth\": 0, \"ticks\": \"\"}}, \"type\": \"scatterpolar\"}], \"scatterpolargl\": [{\"marker\": {\"colorbar\": {\"outlinewidth\": 0, \"ticks\": \"\"}}, \"type\": \"scatterpolargl\"}], \"scatterternary\": [{\"marker\": {\"colorbar\": {\"outlinewidth\": 0, \"ticks\": \"\"}}, \"type\": \"scatterternary\"}], \"surface\": [{\"colorbar\": {\"outlinewidth\": 0, \"ticks\": \"\"}, \"colorscale\": [[0.0, \"#0d0887\"], [0.1111111111111111, \"#46039f\"], [0.2222222222222222, \"#7201a8\"], [0.3333333333333333, \"#9c179e\"], [0.4444444444444444, \"#bd3786\"], [0.5555555555555556, \"#d8576b\"], [0.6666666666666666, \"#ed7953\"], [0.7777777777777778, \"#fb9f3a\"], [0.8888888888888888, \"#fdca26\"], [1.0, \"#f0f921\"]], \"type\": \"surface\"}], \"table\": [{\"cells\": {\"fill\": {\"color\": \"#EBF0F8\"}, \"line\": {\"color\": \"white\"}}, \"header\": {\"fill\": {\"color\": \"#C8D4E3\"}, \"line\": {\"color\": \"white\"}}, \"type\": \"table\"}]}, \"layout\": {\"annotationdefaults\": {\"arrowcolor\": \"#2a3f5f\", \"arrowhead\": 0, \"arrowwidth\": 1}, \"autotypenumbers\": \"strict\", \"coloraxis\": {\"colorbar\": {\"outlinewidth\": 0, \"ticks\": \"\"}}, \"colorscale\": {\"diverging\": [[0, \"#8e0152\"], [0.1, \"#c51b7d\"], [0.2, \"#de77ae\"], [0.3, \"#f1b6da\"], [0.4, \"#fde0ef\"], [0.5, \"#f7f7f7\"], [0.6, \"#e6f5d0\"], [0.7, \"#b8e186\"], [0.8, \"#7fbc41\"], [0.9, \"#4d9221\"], [1, \"#276419\"]], \"sequential\": [[0.0, \"#0d0887\"], [0.1111111111111111, \"#46039f\"], [0.2222222222222222, \"#7201a8\"], [0.3333333333333333, \"#9c179e\"], [0.4444444444444444, \"#bd3786\"], [0.5555555555555556, \"#d8576b\"], [0.6666666666666666, \"#ed7953\"], [0.7777777777777778, \"#fb9f3a\"], [0.8888888888888888, \"#fdca26\"], [1.0, \"#f0f921\"]], \"sequentialminus\": [[0.0, \"#0d0887\"], [0.1111111111111111, \"#46039f\"], [0.2222222222222222, \"#7201a8\"], [0.3333333333333333, \"#9c179e\"], [0.4444444444444444, \"#bd3786\"], [0.5555555555555556, \"#d8576b\"], [0.6666666666666666, \"#ed7953\"], [0.7777777777777778, \"#fb9f3a\"], [0.8888888888888888, \"#fdca26\"], [1.0, \"#f0f921\"]]}, \"colorway\": [\"#636efa\", \"#EF553B\", \"#00cc96\", \"#ab63fa\", \"#FFA15A\", \"#19d3f3\", \"#FF6692\", \"#B6E880\", \"#FF97FF\", \"#FECB52\"], \"font\": {\"color\": \"#2a3f5f\"}, \"geo\": {\"bgcolor\": \"white\", \"lakecolor\": \"white\", \"landcolor\": \"#E5ECF6\", \"showlakes\": true, \"showland\": true, \"subunitcolor\": \"white\"}, \"hoverlabel\": {\"align\": \"left\"}, \"hovermode\": \"closest\", \"mapbox\": {\"style\": \"light\"}, \"paper_bgcolor\": \"white\", \"plot_bgcolor\": \"#E5ECF6\", \"polar\": {\"angularaxis\": {\"gridcolor\": \"white\", \"linecolor\": \"white\", \"ticks\": \"\"}, \"bgcolor\": \"#E5ECF6\", \"radialaxis\": {\"gridcolor\": \"white\", \"linecolor\": \"white\", \"ticks\": \"\"}}, \"scene\": {\"xaxis\": {\"backgroundcolor\": \"#E5ECF6\", \"gridcolor\": \"white\", \"gridwidth\": 2, \"linecolor\": \"white\", \"showbackground\": true, \"ticks\": \"\", \"zerolinecolor\": \"white\"}, \"yaxis\": {\"backgroundcolor\": \"#E5ECF6\", \"gridcolor\": \"white\", \"gridwidth\": 2, \"linecolor\": \"white\", \"showbackground\": true, \"ticks\": \"\", \"zerolinecolor\": \"white\"}, \"zaxis\": {\"backgroundcolor\": \"#E5ECF6\", \"gridcolor\": \"white\", \"gridwidth\": 2, \"linecolor\": \"white\", \"showbackground\": true, \"ticks\": \"\", \"zerolinecolor\": \"white\"}}, \"shapedefaults\": {\"line\": {\"color\": \"#2a3f5f\"}}, \"ternary\": {\"aaxis\": {\"gridcolor\": \"white\", \"linecolor\": \"white\", \"ticks\": \"\"}, \"baxis\": {\"gridcolor\": \"white\", \"linecolor\": \"white\", \"ticks\": \"\"}, \"bgcolor\": \"#E5ECF6\", \"caxis\": {\"gridcolor\": \"white\", \"linecolor\": \"white\", \"ticks\": \"\"}}, \"title\": {\"x\": 0.05}, \"xaxis\": {\"automargin\": true, \"gridcolor\": \"white\", \"linecolor\": \"white\", \"ticks\": \"\", \"title\": {\"standoff\": 15}, \"zerolinecolor\": \"white\", \"zerolinewidth\": 2}, \"yaxis\": {\"automargin\": true, \"gridcolor\": \"white\", \"linecolor\": \"white\", \"ticks\": \"\", \"title\": {\"standoff\": 15}, \"zerolinecolor\": \"white\", \"zerolinewidth\": 2}}}, \"title\": {\"font\": {\"color\": \"#4D5663\"}}, \"xaxis\": {\"gridcolor\": \"#E1E5ED\", \"showgrid\": true, \"tickfont\": {\"color\": \"#4D5663\"}, \"title\": {\"font\": {\"color\": \"#4D5663\"}, \"text\": \"\"}, \"zerolinecolor\": \"#E1E5ED\"}, \"yaxis\": {\"gridcolor\": \"#E1E5ED\", \"showgrid\": true, \"tickfont\": {\"color\": \"#4D5663\"}, \"title\": {\"font\": {\"color\": \"#4D5663\"}, \"text\": \"\"}, \"zerolinecolor\": \"#E1E5ED\"}},                        {\"showLink\": true, \"linkText\": \"Export to plot.ly\", \"plotlyServerURL\": \"https://plot.ly\", \"responsive\": true}                    ).then(function(){\n",
       "                            \n",
       "var gd = document.getElementById('a512cb6c-027f-49e7-8831-a144f13ca6a8');\n",
       "var x = new MutationObserver(function (mutations, observer) {{\n",
       "        var display = window.getComputedStyle(gd).display;\n",
       "        if (!display || display === 'none') {{\n",
       "            console.log([gd, 'removed!']);\n",
       "            Plotly.purge(gd);\n",
       "            observer.disconnect();\n",
       "        }}\n",
       "}});\n",
       "\n",
       "// Listen for the removal of the full notebook cells\n",
       "var notebookContainer = gd.closest('#notebook-container');\n",
       "if (notebookContainer) {{\n",
       "    x.observe(notebookContainer, {childList: true});\n",
       "}}\n",
       "\n",
       "// Listen for the clearing of the current output cell\n",
       "var outputEl = gd.closest('.output');\n",
       "if (outputEl) {{\n",
       "    x.observe(outputEl, {childList: true});\n",
       "}}\n",
       "\n",
       "                        })                };                });            </script>        </div>"
      ]
     },
     "metadata": {},
     "output_type": "display_data"
    }
   ],
   "source": [
    "df3.iplot(kind='surface')"
   ]
  },
  {
   "cell_type": "code",
   "execution_count": 39,
   "metadata": {},
   "outputs": [
    {
     "data": {
      "application/vnd.plotly.v1+json": {
       "config": {
        "linkText": "Export to plot.ly",
        "plotlyServerURL": "https://plot.ly",
        "showLink": true
       },
       "data": [
        {
         "colorscale": [
          [
           0,
           "rgb(165,0,38)"
          ],
          [
           0.1,
           "rgb(215,48,39)"
          ],
          [
           0.2,
           "rgb(244,109,67)"
          ],
          [
           0.3,
           "rgb(253,174,97)"
          ],
          [
           0.4,
           "rgb(254,224,144)"
          ],
          [
           0.5,
           "rgb(255,255,191)"
          ],
          [
           0.6,
           "rgb(224,243,248)"
          ],
          [
           0.7,
           "rgb(171,217,233)"
          ],
          [
           0.8,
           "rgb(116,173,209)"
          ],
          [
           0.9,
           "rgb(69,117,180)"
          ],
          [
           1,
           "rgb(49,54,149)"
          ]
         ],
         "type": "surface",
         "x": [
          0,
          1,
          2,
          3,
          4
         ],
         "y": [
          "x",
          "y",
          "z"
         ],
         "z": [
          [
           1,
           2,
           3,
           4,
           5
          ],
          [
           10,
           20,
           30,
           20,
           10
          ],
          [
           5,
           4,
           3,
           2,
           1
          ]
         ]
        }
       ],
       "layout": {
        "legend": {
         "bgcolor": "#F5F6F9",
         "font": {
          "color": "#4D5663"
         }
        },
        "paper_bgcolor": "#F5F6F9",
        "plot_bgcolor": "#F5F6F9",
        "template": {
         "data": {
          "bar": [
           {
            "error_x": {
             "color": "#2a3f5f"
            },
            "error_y": {
             "color": "#2a3f5f"
            },
            "marker": {
             "line": {
              "color": "#E5ECF6",
              "width": 0.5
             }
            },
            "type": "bar"
           }
          ],
          "barpolar": [
           {
            "marker": {
             "line": {
              "color": "#E5ECF6",
              "width": 0.5
             }
            },
            "type": "barpolar"
           }
          ],
          "carpet": [
           {
            "aaxis": {
             "endlinecolor": "#2a3f5f",
             "gridcolor": "white",
             "linecolor": "white",
             "minorgridcolor": "white",
             "startlinecolor": "#2a3f5f"
            },
            "baxis": {
             "endlinecolor": "#2a3f5f",
             "gridcolor": "white",
             "linecolor": "white",
             "minorgridcolor": "white",
             "startlinecolor": "#2a3f5f"
            },
            "type": "carpet"
           }
          ],
          "choropleth": [
           {
            "colorbar": {
             "outlinewidth": 0,
             "ticks": ""
            },
            "type": "choropleth"
           }
          ],
          "contour": [
           {
            "colorbar": {
             "outlinewidth": 0,
             "ticks": ""
            },
            "colorscale": [
             [
              0,
              "#0d0887"
             ],
             [
              0.1111111111111111,
              "#46039f"
             ],
             [
              0.2222222222222222,
              "#7201a8"
             ],
             [
              0.3333333333333333,
              "#9c179e"
             ],
             [
              0.4444444444444444,
              "#bd3786"
             ],
             [
              0.5555555555555556,
              "#d8576b"
             ],
             [
              0.6666666666666666,
              "#ed7953"
             ],
             [
              0.7777777777777778,
              "#fb9f3a"
             ],
             [
              0.8888888888888888,
              "#fdca26"
             ],
             [
              1,
              "#f0f921"
             ]
            ],
            "type": "contour"
           }
          ],
          "contourcarpet": [
           {
            "colorbar": {
             "outlinewidth": 0,
             "ticks": ""
            },
            "type": "contourcarpet"
           }
          ],
          "heatmap": [
           {
            "colorbar": {
             "outlinewidth": 0,
             "ticks": ""
            },
            "colorscale": [
             [
              0,
              "#0d0887"
             ],
             [
              0.1111111111111111,
              "#46039f"
             ],
             [
              0.2222222222222222,
              "#7201a8"
             ],
             [
              0.3333333333333333,
              "#9c179e"
             ],
             [
              0.4444444444444444,
              "#bd3786"
             ],
             [
              0.5555555555555556,
              "#d8576b"
             ],
             [
              0.6666666666666666,
              "#ed7953"
             ],
             [
              0.7777777777777778,
              "#fb9f3a"
             ],
             [
              0.8888888888888888,
              "#fdca26"
             ],
             [
              1,
              "#f0f921"
             ]
            ],
            "type": "heatmap"
           }
          ],
          "heatmapgl": [
           {
            "colorbar": {
             "outlinewidth": 0,
             "ticks": ""
            },
            "colorscale": [
             [
              0,
              "#0d0887"
             ],
             [
              0.1111111111111111,
              "#46039f"
             ],
             [
              0.2222222222222222,
              "#7201a8"
             ],
             [
              0.3333333333333333,
              "#9c179e"
             ],
             [
              0.4444444444444444,
              "#bd3786"
             ],
             [
              0.5555555555555556,
              "#d8576b"
             ],
             [
              0.6666666666666666,
              "#ed7953"
             ],
             [
              0.7777777777777778,
              "#fb9f3a"
             ],
             [
              0.8888888888888888,
              "#fdca26"
             ],
             [
              1,
              "#f0f921"
             ]
            ],
            "type": "heatmapgl"
           }
          ],
          "histogram": [
           {
            "marker": {
             "colorbar": {
              "outlinewidth": 0,
              "ticks": ""
             }
            },
            "type": "histogram"
           }
          ],
          "histogram2d": [
           {
            "colorbar": {
             "outlinewidth": 0,
             "ticks": ""
            },
            "colorscale": [
             [
              0,
              "#0d0887"
             ],
             [
              0.1111111111111111,
              "#46039f"
             ],
             [
              0.2222222222222222,
              "#7201a8"
             ],
             [
              0.3333333333333333,
              "#9c179e"
             ],
             [
              0.4444444444444444,
              "#bd3786"
             ],
             [
              0.5555555555555556,
              "#d8576b"
             ],
             [
              0.6666666666666666,
              "#ed7953"
             ],
             [
              0.7777777777777778,
              "#fb9f3a"
             ],
             [
              0.8888888888888888,
              "#fdca26"
             ],
             [
              1,
              "#f0f921"
             ]
            ],
            "type": "histogram2d"
           }
          ],
          "histogram2dcontour": [
           {
            "colorbar": {
             "outlinewidth": 0,
             "ticks": ""
            },
            "colorscale": [
             [
              0,
              "#0d0887"
             ],
             [
              0.1111111111111111,
              "#46039f"
             ],
             [
              0.2222222222222222,
              "#7201a8"
             ],
             [
              0.3333333333333333,
              "#9c179e"
             ],
             [
              0.4444444444444444,
              "#bd3786"
             ],
             [
              0.5555555555555556,
              "#d8576b"
             ],
             [
              0.6666666666666666,
              "#ed7953"
             ],
             [
              0.7777777777777778,
              "#fb9f3a"
             ],
             [
              0.8888888888888888,
              "#fdca26"
             ],
             [
              1,
              "#f0f921"
             ]
            ],
            "type": "histogram2dcontour"
           }
          ],
          "mesh3d": [
           {
            "colorbar": {
             "outlinewidth": 0,
             "ticks": ""
            },
            "type": "mesh3d"
           }
          ],
          "parcoords": [
           {
            "line": {
             "colorbar": {
              "outlinewidth": 0,
              "ticks": ""
             }
            },
            "type": "parcoords"
           }
          ],
          "pie": [
           {
            "automargin": true,
            "type": "pie"
           }
          ],
          "scatter": [
           {
            "marker": {
             "colorbar": {
              "outlinewidth": 0,
              "ticks": ""
             }
            },
            "type": "scatter"
           }
          ],
          "scatter3d": [
           {
            "line": {
             "colorbar": {
              "outlinewidth": 0,
              "ticks": ""
             }
            },
            "marker": {
             "colorbar": {
              "outlinewidth": 0,
              "ticks": ""
             }
            },
            "type": "scatter3d"
           }
          ],
          "scattercarpet": [
           {
            "marker": {
             "colorbar": {
              "outlinewidth": 0,
              "ticks": ""
             }
            },
            "type": "scattercarpet"
           }
          ],
          "scattergeo": [
           {
            "marker": {
             "colorbar": {
              "outlinewidth": 0,
              "ticks": ""
             }
            },
            "type": "scattergeo"
           }
          ],
          "scattergl": [
           {
            "marker": {
             "colorbar": {
              "outlinewidth": 0,
              "ticks": ""
             }
            },
            "type": "scattergl"
           }
          ],
          "scattermapbox": [
           {
            "marker": {
             "colorbar": {
              "outlinewidth": 0,
              "ticks": ""
             }
            },
            "type": "scattermapbox"
           }
          ],
          "scatterpolar": [
           {
            "marker": {
             "colorbar": {
              "outlinewidth": 0,
              "ticks": ""
             }
            },
            "type": "scatterpolar"
           }
          ],
          "scatterpolargl": [
           {
            "marker": {
             "colorbar": {
              "outlinewidth": 0,
              "ticks": ""
             }
            },
            "type": "scatterpolargl"
           }
          ],
          "scatterternary": [
           {
            "marker": {
             "colorbar": {
              "outlinewidth": 0,
              "ticks": ""
             }
            },
            "type": "scatterternary"
           }
          ],
          "surface": [
           {
            "colorbar": {
             "outlinewidth": 0,
             "ticks": ""
            },
            "colorscale": [
             [
              0,
              "#0d0887"
             ],
             [
              0.1111111111111111,
              "#46039f"
             ],
             [
              0.2222222222222222,
              "#7201a8"
             ],
             [
              0.3333333333333333,
              "#9c179e"
             ],
             [
              0.4444444444444444,
              "#bd3786"
             ],
             [
              0.5555555555555556,
              "#d8576b"
             ],
             [
              0.6666666666666666,
              "#ed7953"
             ],
             [
              0.7777777777777778,
              "#fb9f3a"
             ],
             [
              0.8888888888888888,
              "#fdca26"
             ],
             [
              1,
              "#f0f921"
             ]
            ],
            "type": "surface"
           }
          ],
          "table": [
           {
            "cells": {
             "fill": {
              "color": "#EBF0F8"
             },
             "line": {
              "color": "white"
             }
            },
            "header": {
             "fill": {
              "color": "#C8D4E3"
             },
             "line": {
              "color": "white"
             }
            },
            "type": "table"
           }
          ]
         },
         "layout": {
          "annotationdefaults": {
           "arrowcolor": "#2a3f5f",
           "arrowhead": 0,
           "arrowwidth": 1
          },
          "autotypenumbers": "strict",
          "coloraxis": {
           "colorbar": {
            "outlinewidth": 0,
            "ticks": ""
           }
          },
          "colorscale": {
           "diverging": [
            [
             0,
             "#8e0152"
            ],
            [
             0.1,
             "#c51b7d"
            ],
            [
             0.2,
             "#de77ae"
            ],
            [
             0.3,
             "#f1b6da"
            ],
            [
             0.4,
             "#fde0ef"
            ],
            [
             0.5,
             "#f7f7f7"
            ],
            [
             0.6,
             "#e6f5d0"
            ],
            [
             0.7,
             "#b8e186"
            ],
            [
             0.8,
             "#7fbc41"
            ],
            [
             0.9,
             "#4d9221"
            ],
            [
             1,
             "#276419"
            ]
           ],
           "sequential": [
            [
             0,
             "#0d0887"
            ],
            [
             0.1111111111111111,
             "#46039f"
            ],
            [
             0.2222222222222222,
             "#7201a8"
            ],
            [
             0.3333333333333333,
             "#9c179e"
            ],
            [
             0.4444444444444444,
             "#bd3786"
            ],
            [
             0.5555555555555556,
             "#d8576b"
            ],
            [
             0.6666666666666666,
             "#ed7953"
            ],
            [
             0.7777777777777778,
             "#fb9f3a"
            ],
            [
             0.8888888888888888,
             "#fdca26"
            ],
            [
             1,
             "#f0f921"
            ]
           ],
           "sequentialminus": [
            [
             0,
             "#0d0887"
            ],
            [
             0.1111111111111111,
             "#46039f"
            ],
            [
             0.2222222222222222,
             "#7201a8"
            ],
            [
             0.3333333333333333,
             "#9c179e"
            ],
            [
             0.4444444444444444,
             "#bd3786"
            ],
            [
             0.5555555555555556,
             "#d8576b"
            ],
            [
             0.6666666666666666,
             "#ed7953"
            ],
            [
             0.7777777777777778,
             "#fb9f3a"
            ],
            [
             0.8888888888888888,
             "#fdca26"
            ],
            [
             1,
             "#f0f921"
            ]
           ]
          },
          "colorway": [
           "#636efa",
           "#EF553B",
           "#00cc96",
           "#ab63fa",
           "#FFA15A",
           "#19d3f3",
           "#FF6692",
           "#B6E880",
           "#FF97FF",
           "#FECB52"
          ],
          "font": {
           "color": "#2a3f5f"
          },
          "geo": {
           "bgcolor": "white",
           "lakecolor": "white",
           "landcolor": "#E5ECF6",
           "showlakes": true,
           "showland": true,
           "subunitcolor": "white"
          },
          "hoverlabel": {
           "align": "left"
          },
          "hovermode": "closest",
          "mapbox": {
           "style": "light"
          },
          "paper_bgcolor": "white",
          "plot_bgcolor": "#E5ECF6",
          "polar": {
           "angularaxis": {
            "gridcolor": "white",
            "linecolor": "white",
            "ticks": ""
           },
           "bgcolor": "#E5ECF6",
           "radialaxis": {
            "gridcolor": "white",
            "linecolor": "white",
            "ticks": ""
           }
          },
          "scene": {
           "xaxis": {
            "backgroundcolor": "#E5ECF6",
            "gridcolor": "white",
            "gridwidth": 2,
            "linecolor": "white",
            "showbackground": true,
            "ticks": "",
            "zerolinecolor": "white"
           },
           "yaxis": {
            "backgroundcolor": "#E5ECF6",
            "gridcolor": "white",
            "gridwidth": 2,
            "linecolor": "white",
            "showbackground": true,
            "ticks": "",
            "zerolinecolor": "white"
           },
           "zaxis": {
            "backgroundcolor": "#E5ECF6",
            "gridcolor": "white",
            "gridwidth": 2,
            "linecolor": "white",
            "showbackground": true,
            "ticks": "",
            "zerolinecolor": "white"
           }
          },
          "shapedefaults": {
           "line": {
            "color": "#2a3f5f"
           }
          },
          "ternary": {
           "aaxis": {
            "gridcolor": "white",
            "linecolor": "white",
            "ticks": ""
           },
           "baxis": {
            "gridcolor": "white",
            "linecolor": "white",
            "ticks": ""
           },
           "bgcolor": "#E5ECF6",
           "caxis": {
            "gridcolor": "white",
            "linecolor": "white",
            "ticks": ""
           }
          },
          "title": {
           "x": 0.05
          },
          "xaxis": {
           "automargin": true,
           "gridcolor": "white",
           "linecolor": "white",
           "ticks": "",
           "title": {
            "standoff": 15
           },
           "zerolinecolor": "white",
           "zerolinewidth": 2
          },
          "yaxis": {
           "automargin": true,
           "gridcolor": "white",
           "linecolor": "white",
           "ticks": "",
           "title": {
            "standoff": 15
           },
           "zerolinecolor": "white",
           "zerolinewidth": 2
          }
         }
        },
        "title": {
         "font": {
          "color": "#4D5663"
         }
        },
        "xaxis": {
         "gridcolor": "#E1E5ED",
         "showgrid": true,
         "tickfont": {
          "color": "#4D5663"
         },
         "title": {
          "font": {
           "color": "#4D5663"
          },
          "text": ""
         },
         "zerolinecolor": "#E1E5ED"
        },
        "yaxis": {
         "gridcolor": "#E1E5ED",
         "showgrid": true,
         "tickfont": {
          "color": "#4D5663"
         },
         "title": {
          "font": {
           "color": "#4D5663"
          },
          "text": ""
         },
         "zerolinecolor": "#E1E5ED"
        }
       }
      },
      "text/html": [
       "<div>                            <div id=\"004c5a8a-b1cd-4191-9b08-cad91c368b19\" class=\"plotly-graph-div\" style=\"height:525px; width:100%;\"></div>            <script type=\"text/javascript\">                require([\"plotly\"], function(Plotly) {                    window.PLOTLYENV=window.PLOTLYENV || {};\n",
       "                    window.PLOTLYENV.BASE_URL='https://plot.ly';                                    if (document.getElementById(\"004c5a8a-b1cd-4191-9b08-cad91c368b19\")) {                    Plotly.newPlot(                        \"004c5a8a-b1cd-4191-9b08-cad91c368b19\",                        [{\"colorscale\": [[0.0, \"rgb(165,0,38)\"], [0.1, \"rgb(215,48,39)\"], [0.2, \"rgb(244,109,67)\"], [0.3, \"rgb(253,174,97)\"], [0.4, \"rgb(254,224,144)\"], [0.5, \"rgb(255,255,191)\"], [0.6, \"rgb(224,243,248)\"], [0.7, \"rgb(171,217,233)\"], [0.8, \"rgb(116,173,209)\"], [0.9, \"rgb(69,117,180)\"], [1.0, \"rgb(49,54,149)\"]], \"type\": \"surface\", \"x\": [0, 1, 2, 3, 4], \"y\": [\"x\", \"y\", \"z\"], \"z\": [[1, 2, 3, 4, 5], [10, 20, 30, 20, 10], [5, 4, 3, 2, 1]]}],                        {\"legend\": {\"bgcolor\": \"#F5F6F9\", \"font\": {\"color\": \"#4D5663\"}}, \"paper_bgcolor\": \"#F5F6F9\", \"plot_bgcolor\": \"#F5F6F9\", \"template\": {\"data\": {\"bar\": [{\"error_x\": {\"color\": \"#2a3f5f\"}, \"error_y\": {\"color\": \"#2a3f5f\"}, \"marker\": {\"line\": {\"color\": \"#E5ECF6\", \"width\": 0.5}}, \"type\": \"bar\"}], \"barpolar\": [{\"marker\": {\"line\": {\"color\": \"#E5ECF6\", \"width\": 0.5}}, \"type\": \"barpolar\"}], \"carpet\": [{\"aaxis\": {\"endlinecolor\": \"#2a3f5f\", \"gridcolor\": \"white\", \"linecolor\": \"white\", \"minorgridcolor\": \"white\", \"startlinecolor\": \"#2a3f5f\"}, \"baxis\": {\"endlinecolor\": \"#2a3f5f\", \"gridcolor\": \"white\", \"linecolor\": \"white\", \"minorgridcolor\": \"white\", \"startlinecolor\": \"#2a3f5f\"}, \"type\": \"carpet\"}], \"choropleth\": [{\"colorbar\": {\"outlinewidth\": 0, \"ticks\": \"\"}, \"type\": \"choropleth\"}], \"contour\": [{\"colorbar\": {\"outlinewidth\": 0, \"ticks\": \"\"}, \"colorscale\": [[0.0, \"#0d0887\"], [0.1111111111111111, \"#46039f\"], [0.2222222222222222, \"#7201a8\"], [0.3333333333333333, \"#9c179e\"], [0.4444444444444444, \"#bd3786\"], [0.5555555555555556, \"#d8576b\"], [0.6666666666666666, \"#ed7953\"], [0.7777777777777778, \"#fb9f3a\"], [0.8888888888888888, \"#fdca26\"], [1.0, \"#f0f921\"]], \"type\": \"contour\"}], \"contourcarpet\": [{\"colorbar\": {\"outlinewidth\": 0, \"ticks\": \"\"}, \"type\": \"contourcarpet\"}], \"heatmap\": [{\"colorbar\": {\"outlinewidth\": 0, \"ticks\": \"\"}, \"colorscale\": [[0.0, \"#0d0887\"], [0.1111111111111111, \"#46039f\"], [0.2222222222222222, \"#7201a8\"], [0.3333333333333333, \"#9c179e\"], [0.4444444444444444, \"#bd3786\"], [0.5555555555555556, \"#d8576b\"], [0.6666666666666666, \"#ed7953\"], [0.7777777777777778, \"#fb9f3a\"], [0.8888888888888888, \"#fdca26\"], [1.0, \"#f0f921\"]], \"type\": \"heatmap\"}], \"heatmapgl\": [{\"colorbar\": {\"outlinewidth\": 0, \"ticks\": \"\"}, \"colorscale\": [[0.0, \"#0d0887\"], [0.1111111111111111, \"#46039f\"], [0.2222222222222222, \"#7201a8\"], [0.3333333333333333, \"#9c179e\"], [0.4444444444444444, \"#bd3786\"], [0.5555555555555556, \"#d8576b\"], [0.6666666666666666, \"#ed7953\"], [0.7777777777777778, \"#fb9f3a\"], [0.8888888888888888, \"#fdca26\"], [1.0, \"#f0f921\"]], \"type\": \"heatmapgl\"}], \"histogram\": [{\"marker\": {\"colorbar\": {\"outlinewidth\": 0, \"ticks\": \"\"}}, \"type\": \"histogram\"}], \"histogram2d\": [{\"colorbar\": {\"outlinewidth\": 0, \"ticks\": \"\"}, \"colorscale\": [[0.0, \"#0d0887\"], [0.1111111111111111, \"#46039f\"], [0.2222222222222222, \"#7201a8\"], [0.3333333333333333, \"#9c179e\"], [0.4444444444444444, \"#bd3786\"], [0.5555555555555556, \"#d8576b\"], [0.6666666666666666, \"#ed7953\"], [0.7777777777777778, \"#fb9f3a\"], [0.8888888888888888, \"#fdca26\"], [1.0, \"#f0f921\"]], \"type\": \"histogram2d\"}], \"histogram2dcontour\": [{\"colorbar\": {\"outlinewidth\": 0, \"ticks\": \"\"}, \"colorscale\": [[0.0, \"#0d0887\"], [0.1111111111111111, \"#46039f\"], [0.2222222222222222, \"#7201a8\"], [0.3333333333333333, \"#9c179e\"], [0.4444444444444444, \"#bd3786\"], [0.5555555555555556, \"#d8576b\"], [0.6666666666666666, \"#ed7953\"], [0.7777777777777778, \"#fb9f3a\"], [0.8888888888888888, \"#fdca26\"], [1.0, \"#f0f921\"]], \"type\": \"histogram2dcontour\"}], \"mesh3d\": [{\"colorbar\": {\"outlinewidth\": 0, \"ticks\": \"\"}, \"type\": \"mesh3d\"}], \"parcoords\": [{\"line\": {\"colorbar\": {\"outlinewidth\": 0, \"ticks\": \"\"}}, \"type\": \"parcoords\"}], \"pie\": [{\"automargin\": true, \"type\": \"pie\"}], \"scatter\": [{\"marker\": {\"colorbar\": {\"outlinewidth\": 0, \"ticks\": \"\"}}, \"type\": \"scatter\"}], \"scatter3d\": [{\"line\": {\"colorbar\": {\"outlinewidth\": 0, \"ticks\": \"\"}}, \"marker\": {\"colorbar\": {\"outlinewidth\": 0, \"ticks\": \"\"}}, \"type\": \"scatter3d\"}], \"scattercarpet\": [{\"marker\": {\"colorbar\": {\"outlinewidth\": 0, \"ticks\": \"\"}}, \"type\": \"scattercarpet\"}], \"scattergeo\": [{\"marker\": {\"colorbar\": {\"outlinewidth\": 0, \"ticks\": \"\"}}, \"type\": \"scattergeo\"}], \"scattergl\": [{\"marker\": {\"colorbar\": {\"outlinewidth\": 0, \"ticks\": \"\"}}, \"type\": \"scattergl\"}], \"scattermapbox\": [{\"marker\": {\"colorbar\": {\"outlinewidth\": 0, \"ticks\": \"\"}}, \"type\": \"scattermapbox\"}], \"scatterpolar\": [{\"marker\": {\"colorbar\": {\"outlinewidth\": 0, \"ticks\": \"\"}}, \"type\": \"scatterpolar\"}], \"scatterpolargl\": [{\"marker\": {\"colorbar\": {\"outlinewidth\": 0, \"ticks\": \"\"}}, \"type\": \"scatterpolargl\"}], \"scatterternary\": [{\"marker\": {\"colorbar\": {\"outlinewidth\": 0, \"ticks\": \"\"}}, \"type\": \"scatterternary\"}], \"surface\": [{\"colorbar\": {\"outlinewidth\": 0, \"ticks\": \"\"}, \"colorscale\": [[0.0, \"#0d0887\"], [0.1111111111111111, \"#46039f\"], [0.2222222222222222, \"#7201a8\"], [0.3333333333333333, \"#9c179e\"], [0.4444444444444444, \"#bd3786\"], [0.5555555555555556, \"#d8576b\"], [0.6666666666666666, \"#ed7953\"], [0.7777777777777778, \"#fb9f3a\"], [0.8888888888888888, \"#fdca26\"], [1.0, \"#f0f921\"]], \"type\": \"surface\"}], \"table\": [{\"cells\": {\"fill\": {\"color\": \"#EBF0F8\"}, \"line\": {\"color\": \"white\"}}, \"header\": {\"fill\": {\"color\": \"#C8D4E3\"}, \"line\": {\"color\": \"white\"}}, \"type\": \"table\"}]}, \"layout\": {\"annotationdefaults\": {\"arrowcolor\": \"#2a3f5f\", \"arrowhead\": 0, \"arrowwidth\": 1}, \"autotypenumbers\": \"strict\", \"coloraxis\": {\"colorbar\": {\"outlinewidth\": 0, \"ticks\": \"\"}}, \"colorscale\": {\"diverging\": [[0, \"#8e0152\"], [0.1, \"#c51b7d\"], [0.2, \"#de77ae\"], [0.3, \"#f1b6da\"], [0.4, \"#fde0ef\"], [0.5, \"#f7f7f7\"], [0.6, \"#e6f5d0\"], [0.7, \"#b8e186\"], [0.8, \"#7fbc41\"], [0.9, \"#4d9221\"], [1, \"#276419\"]], \"sequential\": [[0.0, \"#0d0887\"], [0.1111111111111111, \"#46039f\"], [0.2222222222222222, \"#7201a8\"], [0.3333333333333333, \"#9c179e\"], [0.4444444444444444, \"#bd3786\"], [0.5555555555555556, \"#d8576b\"], [0.6666666666666666, \"#ed7953\"], [0.7777777777777778, \"#fb9f3a\"], [0.8888888888888888, \"#fdca26\"], [1.0, \"#f0f921\"]], \"sequentialminus\": [[0.0, \"#0d0887\"], [0.1111111111111111, \"#46039f\"], [0.2222222222222222, \"#7201a8\"], [0.3333333333333333, \"#9c179e\"], [0.4444444444444444, \"#bd3786\"], [0.5555555555555556, \"#d8576b\"], [0.6666666666666666, \"#ed7953\"], [0.7777777777777778, \"#fb9f3a\"], [0.8888888888888888, \"#fdca26\"], [1.0, \"#f0f921\"]]}, \"colorway\": [\"#636efa\", \"#EF553B\", \"#00cc96\", \"#ab63fa\", \"#FFA15A\", \"#19d3f3\", \"#FF6692\", \"#B6E880\", \"#FF97FF\", \"#FECB52\"], \"font\": {\"color\": \"#2a3f5f\"}, \"geo\": {\"bgcolor\": \"white\", \"lakecolor\": \"white\", \"landcolor\": \"#E5ECF6\", \"showlakes\": true, \"showland\": true, \"subunitcolor\": \"white\"}, \"hoverlabel\": {\"align\": \"left\"}, \"hovermode\": \"closest\", \"mapbox\": {\"style\": \"light\"}, \"paper_bgcolor\": \"white\", \"plot_bgcolor\": \"#E5ECF6\", \"polar\": {\"angularaxis\": {\"gridcolor\": \"white\", \"linecolor\": \"white\", \"ticks\": \"\"}, \"bgcolor\": \"#E5ECF6\", \"radialaxis\": {\"gridcolor\": \"white\", \"linecolor\": \"white\", \"ticks\": \"\"}}, \"scene\": {\"xaxis\": {\"backgroundcolor\": \"#E5ECF6\", \"gridcolor\": \"white\", \"gridwidth\": 2, \"linecolor\": \"white\", \"showbackground\": true, \"ticks\": \"\", \"zerolinecolor\": \"white\"}, \"yaxis\": {\"backgroundcolor\": \"#E5ECF6\", \"gridcolor\": \"white\", \"gridwidth\": 2, \"linecolor\": \"white\", \"showbackground\": true, \"ticks\": \"\", \"zerolinecolor\": \"white\"}, \"zaxis\": {\"backgroundcolor\": \"#E5ECF6\", \"gridcolor\": \"white\", \"gridwidth\": 2, \"linecolor\": \"white\", \"showbackground\": true, \"ticks\": \"\", \"zerolinecolor\": \"white\"}}, \"shapedefaults\": {\"line\": {\"color\": \"#2a3f5f\"}}, \"ternary\": {\"aaxis\": {\"gridcolor\": \"white\", \"linecolor\": \"white\", \"ticks\": \"\"}, \"baxis\": {\"gridcolor\": \"white\", \"linecolor\": \"white\", \"ticks\": \"\"}, \"bgcolor\": \"#E5ECF6\", \"caxis\": {\"gridcolor\": \"white\", \"linecolor\": \"white\", \"ticks\": \"\"}}, \"title\": {\"x\": 0.05}, \"xaxis\": {\"automargin\": true, \"gridcolor\": \"white\", \"linecolor\": \"white\", \"ticks\": \"\", \"title\": {\"standoff\": 15}, \"zerolinecolor\": \"white\", \"zerolinewidth\": 2}, \"yaxis\": {\"automargin\": true, \"gridcolor\": \"white\", \"linecolor\": \"white\", \"ticks\": \"\", \"title\": {\"standoff\": 15}, \"zerolinecolor\": \"white\", \"zerolinewidth\": 2}}}, \"title\": {\"font\": {\"color\": \"#4D5663\"}}, \"xaxis\": {\"gridcolor\": \"#E1E5ED\", \"showgrid\": true, \"tickfont\": {\"color\": \"#4D5663\"}, \"title\": {\"font\": {\"color\": \"#4D5663\"}, \"text\": \"\"}, \"zerolinecolor\": \"#E1E5ED\"}, \"yaxis\": {\"gridcolor\": \"#E1E5ED\", \"showgrid\": true, \"tickfont\": {\"color\": \"#4D5663\"}, \"title\": {\"font\": {\"color\": \"#4D5663\"}, \"text\": \"\"}, \"zerolinecolor\": \"#E1E5ED\"}},                        {\"showLink\": true, \"linkText\": \"Export to plot.ly\", \"plotlyServerURL\": \"https://plot.ly\", \"responsive\": true}                    ).then(function(){\n",
       "                            \n",
       "var gd = document.getElementById('004c5a8a-b1cd-4191-9b08-cad91c368b19');\n",
       "var x = new MutationObserver(function (mutations, observer) {{\n",
       "        var display = window.getComputedStyle(gd).display;\n",
       "        if (!display || display === 'none') {{\n",
       "            console.log([gd, 'removed!']);\n",
       "            Plotly.purge(gd);\n",
       "            observer.disconnect();\n",
       "        }}\n",
       "}});\n",
       "\n",
       "// Listen for the removal of the full notebook cells\n",
       "var notebookContainer = gd.closest('#notebook-container');\n",
       "if (notebookContainer) {{\n",
       "    x.observe(notebookContainer, {childList: true});\n",
       "}}\n",
       "\n",
       "// Listen for the clearing of the current output cell\n",
       "var outputEl = gd.closest('.output');\n",
       "if (outputEl) {{\n",
       "    x.observe(outputEl, {childList: true});\n",
       "}}\n",
       "\n",
       "                        })                };                });            </script>        </div>"
      ]
     },
     "metadata": {},
     "output_type": "display_data"
    }
   ],
   "source": [
    "#rdylbu = red yellow blue\n",
    "df3.iplot(kind='surface',colorscale='rdylbu')"
   ]
  },
  {
   "cell_type": "code",
   "execution_count": 40,
   "metadata": {},
   "outputs": [
    {
     "data": {
      "application/vnd.plotly.v1+json": {
       "config": {
        "linkText": "Export to plot.ly",
        "plotlyServerURL": "https://plot.ly",
        "showLink": true
       },
       "data": [
        {
         "histfunc": "count",
         "histnorm": "",
         "marker": {
          "color": "rgba(255, 153, 51, 1.0)",
          "line": {
           "color": "#4D5663",
           "width": 1.3
          }
         },
         "name": "A",
         "nbinsx": 50,
         "opacity": 0.8,
         "orientation": "v",
         "type": "histogram",
         "x": [
          -0.3155077874583621,
          0.3797030900663316,
          0.13082536129896652,
          -2.2125362027707243,
          0.6959899932604471,
          -0.6651688342182054,
          0.3392751939560983,
          -0.06426101581698589,
          0.9363722872087246,
          1.2876798208715128,
          -0.8196844023398393,
          0.10550574634716345,
          0.984281215420857,
          -0.6480877371964813,
          -1.0196895799590036,
          0.03905274891226861,
          1.5089599192845327,
          1.3158362494688813,
          -0.3925680163977808,
          2.1593895399262033,
          -0.9277739001087258,
          -1.8101984688606385,
          1.1051035037837664,
          -1.9118969941429562,
          0.5506036681161965,
          -2.0808993092408583,
          -0.17650866762141137,
          0.2632788163547951,
          -0.6182340559844405,
          1.7529663918088312,
          1.1406246805389066,
          0.7590908403416821,
          -1.4817193890130869,
          0.16014759977799178,
          -1.1411833455404845,
          -0.27451731196969403,
          0.9712894693061355,
          0.8776435538970953,
          -0.9255622764713449,
          -0.15646200077681197,
          0.12895762865690136,
          0.013382331274075478,
          0.008946199293052778,
          1.0855960400891453,
          -0.9989079444164698,
          -0.9197301339026103,
          -0.510708790885548,
          -0.5881182748390118,
          -0.870030337560292,
          -1.855747922112066,
          -0.39039164081373884,
          1.1694539604739602,
          -1.3832385950425616,
          -0.5338808546528805,
          0.6274205428990312,
          0.7377221968558098,
          0.2104629902769848,
          1.0332701707296545,
          1.1773014071136858,
          -3.003363732106316,
          -0.6367581114030771,
          -0.9849507362072155,
          1.172889971084506,
          1.4049919559413808,
          -1.0665120136345716,
          -0.4927786792902122,
          -0.4287735889544915,
          2.1301691553569584,
          0.10248865395219325,
          -0.673713112327333,
          -0.2774788826539322,
          -0.9845092147425413,
          -1.494775948560315,
          -0.1590858026848481,
          0.4245146132867722,
          -1.0527070551758853,
          -0.6271225927724591,
          -0.0932018672644432,
          -1.688083990261239,
          -0.1782681183091389,
          -0.47899491072394434,
          0.6428012794627598,
          1.4776959120729736,
          -0.6652938373848085,
          1.352182236487618,
          -0.7313750627525646,
          0.14174316018181848,
          1.6692898036380026,
          1.2245434297403823,
          -0.7160280045468996,
          1.8260580823033306,
          1.6250393454014014,
          -1.498852738752117,
          0.527366459397921,
          -0.37994599350941144,
          -0.889761094168913,
          -0.6175950575590283,
          0.8291700376647222,
          0.052524725240034126,
          -0.38017490909113333
         ]
        }
       ],
       "layout": {
        "barmode": "overlay",
        "legend": {
         "bgcolor": "#F5F6F9",
         "font": {
          "color": "#4D5663"
         }
        },
        "paper_bgcolor": "#F5F6F9",
        "plot_bgcolor": "#F5F6F9",
        "template": {
         "data": {
          "bar": [
           {
            "error_x": {
             "color": "#2a3f5f"
            },
            "error_y": {
             "color": "#2a3f5f"
            },
            "marker": {
             "line": {
              "color": "#E5ECF6",
              "width": 0.5
             }
            },
            "type": "bar"
           }
          ],
          "barpolar": [
           {
            "marker": {
             "line": {
              "color": "#E5ECF6",
              "width": 0.5
             }
            },
            "type": "barpolar"
           }
          ],
          "carpet": [
           {
            "aaxis": {
             "endlinecolor": "#2a3f5f",
             "gridcolor": "white",
             "linecolor": "white",
             "minorgridcolor": "white",
             "startlinecolor": "#2a3f5f"
            },
            "baxis": {
             "endlinecolor": "#2a3f5f",
             "gridcolor": "white",
             "linecolor": "white",
             "minorgridcolor": "white",
             "startlinecolor": "#2a3f5f"
            },
            "type": "carpet"
           }
          ],
          "choropleth": [
           {
            "colorbar": {
             "outlinewidth": 0,
             "ticks": ""
            },
            "type": "choropleth"
           }
          ],
          "contour": [
           {
            "colorbar": {
             "outlinewidth": 0,
             "ticks": ""
            },
            "colorscale": [
             [
              0,
              "#0d0887"
             ],
             [
              0.1111111111111111,
              "#46039f"
             ],
             [
              0.2222222222222222,
              "#7201a8"
             ],
             [
              0.3333333333333333,
              "#9c179e"
             ],
             [
              0.4444444444444444,
              "#bd3786"
             ],
             [
              0.5555555555555556,
              "#d8576b"
             ],
             [
              0.6666666666666666,
              "#ed7953"
             ],
             [
              0.7777777777777778,
              "#fb9f3a"
             ],
             [
              0.8888888888888888,
              "#fdca26"
             ],
             [
              1,
              "#f0f921"
             ]
            ],
            "type": "contour"
           }
          ],
          "contourcarpet": [
           {
            "colorbar": {
             "outlinewidth": 0,
             "ticks": ""
            },
            "type": "contourcarpet"
           }
          ],
          "heatmap": [
           {
            "colorbar": {
             "outlinewidth": 0,
             "ticks": ""
            },
            "colorscale": [
             [
              0,
              "#0d0887"
             ],
             [
              0.1111111111111111,
              "#46039f"
             ],
             [
              0.2222222222222222,
              "#7201a8"
             ],
             [
              0.3333333333333333,
              "#9c179e"
             ],
             [
              0.4444444444444444,
              "#bd3786"
             ],
             [
              0.5555555555555556,
              "#d8576b"
             ],
             [
              0.6666666666666666,
              "#ed7953"
             ],
             [
              0.7777777777777778,
              "#fb9f3a"
             ],
             [
              0.8888888888888888,
              "#fdca26"
             ],
             [
              1,
              "#f0f921"
             ]
            ],
            "type": "heatmap"
           }
          ],
          "heatmapgl": [
           {
            "colorbar": {
             "outlinewidth": 0,
             "ticks": ""
            },
            "colorscale": [
             [
              0,
              "#0d0887"
             ],
             [
              0.1111111111111111,
              "#46039f"
             ],
             [
              0.2222222222222222,
              "#7201a8"
             ],
             [
              0.3333333333333333,
              "#9c179e"
             ],
             [
              0.4444444444444444,
              "#bd3786"
             ],
             [
              0.5555555555555556,
              "#d8576b"
             ],
             [
              0.6666666666666666,
              "#ed7953"
             ],
             [
              0.7777777777777778,
              "#fb9f3a"
             ],
             [
              0.8888888888888888,
              "#fdca26"
             ],
             [
              1,
              "#f0f921"
             ]
            ],
            "type": "heatmapgl"
           }
          ],
          "histogram": [
           {
            "marker": {
             "colorbar": {
              "outlinewidth": 0,
              "ticks": ""
             }
            },
            "type": "histogram"
           }
          ],
          "histogram2d": [
           {
            "colorbar": {
             "outlinewidth": 0,
             "ticks": ""
            },
            "colorscale": [
             [
              0,
              "#0d0887"
             ],
             [
              0.1111111111111111,
              "#46039f"
             ],
             [
              0.2222222222222222,
              "#7201a8"
             ],
             [
              0.3333333333333333,
              "#9c179e"
             ],
             [
              0.4444444444444444,
              "#bd3786"
             ],
             [
              0.5555555555555556,
              "#d8576b"
             ],
             [
              0.6666666666666666,
              "#ed7953"
             ],
             [
              0.7777777777777778,
              "#fb9f3a"
             ],
             [
              0.8888888888888888,
              "#fdca26"
             ],
             [
              1,
              "#f0f921"
             ]
            ],
            "type": "histogram2d"
           }
          ],
          "histogram2dcontour": [
           {
            "colorbar": {
             "outlinewidth": 0,
             "ticks": ""
            },
            "colorscale": [
             [
              0,
              "#0d0887"
             ],
             [
              0.1111111111111111,
              "#46039f"
             ],
             [
              0.2222222222222222,
              "#7201a8"
             ],
             [
              0.3333333333333333,
              "#9c179e"
             ],
             [
              0.4444444444444444,
              "#bd3786"
             ],
             [
              0.5555555555555556,
              "#d8576b"
             ],
             [
              0.6666666666666666,
              "#ed7953"
             ],
             [
              0.7777777777777778,
              "#fb9f3a"
             ],
             [
              0.8888888888888888,
              "#fdca26"
             ],
             [
              1,
              "#f0f921"
             ]
            ],
            "type": "histogram2dcontour"
           }
          ],
          "mesh3d": [
           {
            "colorbar": {
             "outlinewidth": 0,
             "ticks": ""
            },
            "type": "mesh3d"
           }
          ],
          "parcoords": [
           {
            "line": {
             "colorbar": {
              "outlinewidth": 0,
              "ticks": ""
             }
            },
            "type": "parcoords"
           }
          ],
          "pie": [
           {
            "automargin": true,
            "type": "pie"
           }
          ],
          "scatter": [
           {
            "marker": {
             "colorbar": {
              "outlinewidth": 0,
              "ticks": ""
             }
            },
            "type": "scatter"
           }
          ],
          "scatter3d": [
           {
            "line": {
             "colorbar": {
              "outlinewidth": 0,
              "ticks": ""
             }
            },
            "marker": {
             "colorbar": {
              "outlinewidth": 0,
              "ticks": ""
             }
            },
            "type": "scatter3d"
           }
          ],
          "scattercarpet": [
           {
            "marker": {
             "colorbar": {
              "outlinewidth": 0,
              "ticks": ""
             }
            },
            "type": "scattercarpet"
           }
          ],
          "scattergeo": [
           {
            "marker": {
             "colorbar": {
              "outlinewidth": 0,
              "ticks": ""
             }
            },
            "type": "scattergeo"
           }
          ],
          "scattergl": [
           {
            "marker": {
             "colorbar": {
              "outlinewidth": 0,
              "ticks": ""
             }
            },
            "type": "scattergl"
           }
          ],
          "scattermapbox": [
           {
            "marker": {
             "colorbar": {
              "outlinewidth": 0,
              "ticks": ""
             }
            },
            "type": "scattermapbox"
           }
          ],
          "scatterpolar": [
           {
            "marker": {
             "colorbar": {
              "outlinewidth": 0,
              "ticks": ""
             }
            },
            "type": "scatterpolar"
           }
          ],
          "scatterpolargl": [
           {
            "marker": {
             "colorbar": {
              "outlinewidth": 0,
              "ticks": ""
             }
            },
            "type": "scatterpolargl"
           }
          ],
          "scatterternary": [
           {
            "marker": {
             "colorbar": {
              "outlinewidth": 0,
              "ticks": ""
             }
            },
            "type": "scatterternary"
           }
          ],
          "surface": [
           {
            "colorbar": {
             "outlinewidth": 0,
             "ticks": ""
            },
            "colorscale": [
             [
              0,
              "#0d0887"
             ],
             [
              0.1111111111111111,
              "#46039f"
             ],
             [
              0.2222222222222222,
              "#7201a8"
             ],
             [
              0.3333333333333333,
              "#9c179e"
             ],
             [
              0.4444444444444444,
              "#bd3786"
             ],
             [
              0.5555555555555556,
              "#d8576b"
             ],
             [
              0.6666666666666666,
              "#ed7953"
             ],
             [
              0.7777777777777778,
              "#fb9f3a"
             ],
             [
              0.8888888888888888,
              "#fdca26"
             ],
             [
              1,
              "#f0f921"
             ]
            ],
            "type": "surface"
           }
          ],
          "table": [
           {
            "cells": {
             "fill": {
              "color": "#EBF0F8"
             },
             "line": {
              "color": "white"
             }
            },
            "header": {
             "fill": {
              "color": "#C8D4E3"
             },
             "line": {
              "color": "white"
             }
            },
            "type": "table"
           }
          ]
         },
         "layout": {
          "annotationdefaults": {
           "arrowcolor": "#2a3f5f",
           "arrowhead": 0,
           "arrowwidth": 1
          },
          "autotypenumbers": "strict",
          "coloraxis": {
           "colorbar": {
            "outlinewidth": 0,
            "ticks": ""
           }
          },
          "colorscale": {
           "diverging": [
            [
             0,
             "#8e0152"
            ],
            [
             0.1,
             "#c51b7d"
            ],
            [
             0.2,
             "#de77ae"
            ],
            [
             0.3,
             "#f1b6da"
            ],
            [
             0.4,
             "#fde0ef"
            ],
            [
             0.5,
             "#f7f7f7"
            ],
            [
             0.6,
             "#e6f5d0"
            ],
            [
             0.7,
             "#b8e186"
            ],
            [
             0.8,
             "#7fbc41"
            ],
            [
             0.9,
             "#4d9221"
            ],
            [
             1,
             "#276419"
            ]
           ],
           "sequential": [
            [
             0,
             "#0d0887"
            ],
            [
             0.1111111111111111,
             "#46039f"
            ],
            [
             0.2222222222222222,
             "#7201a8"
            ],
            [
             0.3333333333333333,
             "#9c179e"
            ],
            [
             0.4444444444444444,
             "#bd3786"
            ],
            [
             0.5555555555555556,
             "#d8576b"
            ],
            [
             0.6666666666666666,
             "#ed7953"
            ],
            [
             0.7777777777777778,
             "#fb9f3a"
            ],
            [
             0.8888888888888888,
             "#fdca26"
            ],
            [
             1,
             "#f0f921"
            ]
           ],
           "sequentialminus": [
            [
             0,
             "#0d0887"
            ],
            [
             0.1111111111111111,
             "#46039f"
            ],
            [
             0.2222222222222222,
             "#7201a8"
            ],
            [
             0.3333333333333333,
             "#9c179e"
            ],
            [
             0.4444444444444444,
             "#bd3786"
            ],
            [
             0.5555555555555556,
             "#d8576b"
            ],
            [
             0.6666666666666666,
             "#ed7953"
            ],
            [
             0.7777777777777778,
             "#fb9f3a"
            ],
            [
             0.8888888888888888,
             "#fdca26"
            ],
            [
             1,
             "#f0f921"
            ]
           ]
          },
          "colorway": [
           "#636efa",
           "#EF553B",
           "#00cc96",
           "#ab63fa",
           "#FFA15A",
           "#19d3f3",
           "#FF6692",
           "#B6E880",
           "#FF97FF",
           "#FECB52"
          ],
          "font": {
           "color": "#2a3f5f"
          },
          "geo": {
           "bgcolor": "white",
           "lakecolor": "white",
           "landcolor": "#E5ECF6",
           "showlakes": true,
           "showland": true,
           "subunitcolor": "white"
          },
          "hoverlabel": {
           "align": "left"
          },
          "hovermode": "closest",
          "mapbox": {
           "style": "light"
          },
          "paper_bgcolor": "white",
          "plot_bgcolor": "#E5ECF6",
          "polar": {
           "angularaxis": {
            "gridcolor": "white",
            "linecolor": "white",
            "ticks": ""
           },
           "bgcolor": "#E5ECF6",
           "radialaxis": {
            "gridcolor": "white",
            "linecolor": "white",
            "ticks": ""
           }
          },
          "scene": {
           "xaxis": {
            "backgroundcolor": "#E5ECF6",
            "gridcolor": "white",
            "gridwidth": 2,
            "linecolor": "white",
            "showbackground": true,
            "ticks": "",
            "zerolinecolor": "white"
           },
           "yaxis": {
            "backgroundcolor": "#E5ECF6",
            "gridcolor": "white",
            "gridwidth": 2,
            "linecolor": "white",
            "showbackground": true,
            "ticks": "",
            "zerolinecolor": "white"
           },
           "zaxis": {
            "backgroundcolor": "#E5ECF6",
            "gridcolor": "white",
            "gridwidth": 2,
            "linecolor": "white",
            "showbackground": true,
            "ticks": "",
            "zerolinecolor": "white"
           }
          },
          "shapedefaults": {
           "line": {
            "color": "#2a3f5f"
           }
          },
          "ternary": {
           "aaxis": {
            "gridcolor": "white",
            "linecolor": "white",
            "ticks": ""
           },
           "baxis": {
            "gridcolor": "white",
            "linecolor": "white",
            "ticks": ""
           },
           "bgcolor": "#E5ECF6",
           "caxis": {
            "gridcolor": "white",
            "linecolor": "white",
            "ticks": ""
           }
          },
          "title": {
           "x": 0.05
          },
          "xaxis": {
           "automargin": true,
           "gridcolor": "white",
           "linecolor": "white",
           "ticks": "",
           "title": {
            "standoff": 15
           },
           "zerolinecolor": "white",
           "zerolinewidth": 2
          },
          "yaxis": {
           "automargin": true,
           "gridcolor": "white",
           "linecolor": "white",
           "ticks": "",
           "title": {
            "standoff": 15
           },
           "zerolinecolor": "white",
           "zerolinewidth": 2
          }
         }
        },
        "title": {
         "font": {
          "color": "#4D5663"
         }
        },
        "xaxis": {
         "gridcolor": "#E1E5ED",
         "showgrid": true,
         "tickfont": {
          "color": "#4D5663"
         },
         "title": {
          "font": {
           "color": "#4D5663"
          },
          "text": ""
         },
         "zerolinecolor": "#E1E5ED"
        },
        "yaxis": {
         "gridcolor": "#E1E5ED",
         "showgrid": true,
         "tickfont": {
          "color": "#4D5663"
         },
         "title": {
          "font": {
           "color": "#4D5663"
          },
          "text": ""
         },
         "zerolinecolor": "#E1E5ED"
        }
       }
      },
      "text/html": [
       "<div>                            <div id=\"e66b9421-828d-4e29-9778-7e6c888ba9b7\" class=\"plotly-graph-div\" style=\"height:525px; width:100%;\"></div>            <script type=\"text/javascript\">                require([\"plotly\"], function(Plotly) {                    window.PLOTLYENV=window.PLOTLYENV || {};\n",
       "                    window.PLOTLYENV.BASE_URL='https://plot.ly';                                    if (document.getElementById(\"e66b9421-828d-4e29-9778-7e6c888ba9b7\")) {                    Plotly.newPlot(                        \"e66b9421-828d-4e29-9778-7e6c888ba9b7\",                        [{\"histfunc\": \"count\", \"histnorm\": \"\", \"marker\": {\"color\": \"rgba(255, 153, 51, 1.0)\", \"line\": {\"color\": \"#4D5663\", \"width\": 1.3}}, \"name\": \"A\", \"nbinsx\": 50, \"opacity\": 0.8, \"orientation\": \"v\", \"type\": \"histogram\", \"x\": [-0.3155077874583621, 0.3797030900663316, 0.13082536129896652, -2.2125362027707243, 0.6959899932604471, -0.6651688342182054, 0.3392751939560983, -0.06426101581698589, 0.9363722872087246, 1.2876798208715128, -0.8196844023398393, 0.10550574634716345, 0.984281215420857, -0.6480877371964813, -1.0196895799590036, 0.03905274891226861, 1.5089599192845327, 1.3158362494688813, -0.3925680163977808, 2.1593895399262033, -0.9277739001087258, -1.8101984688606385, 1.1051035037837664, -1.9118969941429562, 0.5506036681161965, -2.0808993092408583, -0.17650866762141137, 0.2632788163547951, -0.6182340559844405, 1.7529663918088312, 1.1406246805389066, 0.7590908403416821, -1.4817193890130869, 0.16014759977799178, -1.1411833455404845, -0.27451731196969403, 0.9712894693061355, 0.8776435538970953, -0.9255622764713449, -0.15646200077681197, 0.12895762865690136, 0.013382331274075478, 0.008946199293052778, 1.0855960400891453, -0.9989079444164698, -0.9197301339026103, -0.510708790885548, -0.5881182748390118, -0.870030337560292, -1.855747922112066, -0.39039164081373884, 1.1694539604739602, -1.3832385950425616, -0.5338808546528805, 0.6274205428990312, 0.7377221968558098, 0.2104629902769848, 1.0332701707296545, 1.1773014071136858, -3.003363732106316, -0.6367581114030771, -0.9849507362072155, 1.172889971084506, 1.4049919559413808, -1.0665120136345716, -0.4927786792902122, -0.4287735889544915, 2.1301691553569584, 0.10248865395219325, -0.673713112327333, -0.2774788826539322, -0.9845092147425413, -1.494775948560315, -0.1590858026848481, 0.4245146132867722, -1.0527070551758853, -0.6271225927724591, -0.0932018672644432, -1.688083990261239, -0.1782681183091389, -0.47899491072394434, 0.6428012794627598, 1.4776959120729736, -0.6652938373848085, 1.352182236487618, -0.7313750627525646, 0.14174316018181848, 1.6692898036380026, 1.2245434297403823, -0.7160280045468996, 1.8260580823033306, 1.6250393454014014, -1.498852738752117, 0.527366459397921, -0.37994599350941144, -0.889761094168913, -0.6175950575590283, 0.8291700376647222, 0.052524725240034126, -0.38017490909113333]}],                        {\"barmode\": \"overlay\", \"legend\": {\"bgcolor\": \"#F5F6F9\", \"font\": {\"color\": \"#4D5663\"}}, \"paper_bgcolor\": \"#F5F6F9\", \"plot_bgcolor\": \"#F5F6F9\", \"template\": {\"data\": {\"bar\": [{\"error_x\": {\"color\": \"#2a3f5f\"}, \"error_y\": {\"color\": \"#2a3f5f\"}, \"marker\": {\"line\": {\"color\": \"#E5ECF6\", \"width\": 0.5}}, \"type\": \"bar\"}], \"barpolar\": [{\"marker\": {\"line\": {\"color\": \"#E5ECF6\", \"width\": 0.5}}, \"type\": \"barpolar\"}], \"carpet\": [{\"aaxis\": {\"endlinecolor\": \"#2a3f5f\", \"gridcolor\": \"white\", \"linecolor\": \"white\", \"minorgridcolor\": \"white\", \"startlinecolor\": \"#2a3f5f\"}, \"baxis\": {\"endlinecolor\": \"#2a3f5f\", \"gridcolor\": \"white\", \"linecolor\": \"white\", \"minorgridcolor\": \"white\", \"startlinecolor\": \"#2a3f5f\"}, \"type\": \"carpet\"}], \"choropleth\": [{\"colorbar\": {\"outlinewidth\": 0, \"ticks\": \"\"}, \"type\": \"choropleth\"}], \"contour\": [{\"colorbar\": {\"outlinewidth\": 0, \"ticks\": \"\"}, \"colorscale\": [[0.0, \"#0d0887\"], [0.1111111111111111, \"#46039f\"], [0.2222222222222222, \"#7201a8\"], [0.3333333333333333, \"#9c179e\"], [0.4444444444444444, \"#bd3786\"], [0.5555555555555556, \"#d8576b\"], [0.6666666666666666, \"#ed7953\"], [0.7777777777777778, \"#fb9f3a\"], [0.8888888888888888, \"#fdca26\"], [1.0, \"#f0f921\"]], \"type\": \"contour\"}], \"contourcarpet\": [{\"colorbar\": {\"outlinewidth\": 0, \"ticks\": \"\"}, \"type\": \"contourcarpet\"}], \"heatmap\": [{\"colorbar\": {\"outlinewidth\": 0, \"ticks\": \"\"}, \"colorscale\": [[0.0, \"#0d0887\"], [0.1111111111111111, \"#46039f\"], [0.2222222222222222, \"#7201a8\"], [0.3333333333333333, \"#9c179e\"], [0.4444444444444444, \"#bd3786\"], [0.5555555555555556, \"#d8576b\"], [0.6666666666666666, \"#ed7953\"], [0.7777777777777778, \"#fb9f3a\"], [0.8888888888888888, \"#fdca26\"], [1.0, \"#f0f921\"]], \"type\": \"heatmap\"}], \"heatmapgl\": [{\"colorbar\": {\"outlinewidth\": 0, \"ticks\": \"\"}, \"colorscale\": [[0.0, \"#0d0887\"], [0.1111111111111111, \"#46039f\"], [0.2222222222222222, \"#7201a8\"], [0.3333333333333333, \"#9c179e\"], [0.4444444444444444, \"#bd3786\"], [0.5555555555555556, \"#d8576b\"], [0.6666666666666666, \"#ed7953\"], [0.7777777777777778, \"#fb9f3a\"], [0.8888888888888888, \"#fdca26\"], [1.0, \"#f0f921\"]], \"type\": \"heatmapgl\"}], \"histogram\": [{\"marker\": {\"colorbar\": {\"outlinewidth\": 0, \"ticks\": \"\"}}, \"type\": \"histogram\"}], \"histogram2d\": [{\"colorbar\": {\"outlinewidth\": 0, \"ticks\": \"\"}, \"colorscale\": [[0.0, \"#0d0887\"], [0.1111111111111111, \"#46039f\"], [0.2222222222222222, \"#7201a8\"], [0.3333333333333333, \"#9c179e\"], [0.4444444444444444, \"#bd3786\"], [0.5555555555555556, \"#d8576b\"], [0.6666666666666666, \"#ed7953\"], [0.7777777777777778, \"#fb9f3a\"], [0.8888888888888888, \"#fdca26\"], [1.0, \"#f0f921\"]], \"type\": \"histogram2d\"}], \"histogram2dcontour\": [{\"colorbar\": {\"outlinewidth\": 0, \"ticks\": \"\"}, \"colorscale\": [[0.0, \"#0d0887\"], [0.1111111111111111, \"#46039f\"], [0.2222222222222222, \"#7201a8\"], [0.3333333333333333, \"#9c179e\"], [0.4444444444444444, \"#bd3786\"], [0.5555555555555556, \"#d8576b\"], [0.6666666666666666, \"#ed7953\"], [0.7777777777777778, \"#fb9f3a\"], [0.8888888888888888, \"#fdca26\"], [1.0, \"#f0f921\"]], \"type\": \"histogram2dcontour\"}], \"mesh3d\": [{\"colorbar\": {\"outlinewidth\": 0, \"ticks\": \"\"}, \"type\": \"mesh3d\"}], \"parcoords\": [{\"line\": {\"colorbar\": {\"outlinewidth\": 0, \"ticks\": \"\"}}, \"type\": \"parcoords\"}], \"pie\": [{\"automargin\": true, \"type\": \"pie\"}], \"scatter\": [{\"marker\": {\"colorbar\": {\"outlinewidth\": 0, \"ticks\": \"\"}}, \"type\": \"scatter\"}], \"scatter3d\": [{\"line\": {\"colorbar\": {\"outlinewidth\": 0, \"ticks\": \"\"}}, \"marker\": {\"colorbar\": {\"outlinewidth\": 0, \"ticks\": \"\"}}, \"type\": \"scatter3d\"}], \"scattercarpet\": [{\"marker\": {\"colorbar\": {\"outlinewidth\": 0, \"ticks\": \"\"}}, \"type\": \"scattercarpet\"}], \"scattergeo\": [{\"marker\": {\"colorbar\": {\"outlinewidth\": 0, \"ticks\": \"\"}}, \"type\": \"scattergeo\"}], \"scattergl\": [{\"marker\": {\"colorbar\": {\"outlinewidth\": 0, \"ticks\": \"\"}}, \"type\": \"scattergl\"}], \"scattermapbox\": [{\"marker\": {\"colorbar\": {\"outlinewidth\": 0, \"ticks\": \"\"}}, \"type\": \"scattermapbox\"}], \"scatterpolar\": [{\"marker\": {\"colorbar\": {\"outlinewidth\": 0, \"ticks\": \"\"}}, \"type\": \"scatterpolar\"}], \"scatterpolargl\": [{\"marker\": {\"colorbar\": {\"outlinewidth\": 0, \"ticks\": \"\"}}, \"type\": \"scatterpolargl\"}], \"scatterternary\": [{\"marker\": {\"colorbar\": {\"outlinewidth\": 0, \"ticks\": \"\"}}, \"type\": \"scatterternary\"}], \"surface\": [{\"colorbar\": {\"outlinewidth\": 0, \"ticks\": \"\"}, \"colorscale\": [[0.0, \"#0d0887\"], [0.1111111111111111, \"#46039f\"], [0.2222222222222222, \"#7201a8\"], [0.3333333333333333, \"#9c179e\"], [0.4444444444444444, \"#bd3786\"], [0.5555555555555556, \"#d8576b\"], [0.6666666666666666, \"#ed7953\"], [0.7777777777777778, \"#fb9f3a\"], [0.8888888888888888, \"#fdca26\"], [1.0, \"#f0f921\"]], \"type\": \"surface\"}], \"table\": [{\"cells\": {\"fill\": {\"color\": \"#EBF0F8\"}, \"line\": {\"color\": \"white\"}}, \"header\": {\"fill\": {\"color\": \"#C8D4E3\"}, \"line\": {\"color\": \"white\"}}, \"type\": \"table\"}]}, \"layout\": {\"annotationdefaults\": {\"arrowcolor\": \"#2a3f5f\", \"arrowhead\": 0, \"arrowwidth\": 1}, \"autotypenumbers\": \"strict\", \"coloraxis\": {\"colorbar\": {\"outlinewidth\": 0, \"ticks\": \"\"}}, \"colorscale\": {\"diverging\": [[0, \"#8e0152\"], [0.1, \"#c51b7d\"], [0.2, \"#de77ae\"], [0.3, \"#f1b6da\"], [0.4, \"#fde0ef\"], [0.5, \"#f7f7f7\"], [0.6, \"#e6f5d0\"], [0.7, \"#b8e186\"], [0.8, \"#7fbc41\"], [0.9, \"#4d9221\"], [1, \"#276419\"]], \"sequential\": [[0.0, \"#0d0887\"], [0.1111111111111111, \"#46039f\"], [0.2222222222222222, \"#7201a8\"], [0.3333333333333333, \"#9c179e\"], [0.4444444444444444, \"#bd3786\"], [0.5555555555555556, \"#d8576b\"], [0.6666666666666666, \"#ed7953\"], [0.7777777777777778, \"#fb9f3a\"], [0.8888888888888888, \"#fdca26\"], [1.0, \"#f0f921\"]], \"sequentialminus\": [[0.0, \"#0d0887\"], [0.1111111111111111, \"#46039f\"], [0.2222222222222222, \"#7201a8\"], [0.3333333333333333, \"#9c179e\"], [0.4444444444444444, \"#bd3786\"], [0.5555555555555556, \"#d8576b\"], [0.6666666666666666, \"#ed7953\"], [0.7777777777777778, \"#fb9f3a\"], [0.8888888888888888, \"#fdca26\"], [1.0, \"#f0f921\"]]}, \"colorway\": [\"#636efa\", \"#EF553B\", \"#00cc96\", \"#ab63fa\", \"#FFA15A\", \"#19d3f3\", \"#FF6692\", \"#B6E880\", \"#FF97FF\", \"#FECB52\"], \"font\": {\"color\": \"#2a3f5f\"}, \"geo\": {\"bgcolor\": \"white\", \"lakecolor\": \"white\", \"landcolor\": \"#E5ECF6\", \"showlakes\": true, \"showland\": true, \"subunitcolor\": \"white\"}, \"hoverlabel\": {\"align\": \"left\"}, \"hovermode\": \"closest\", \"mapbox\": {\"style\": \"light\"}, \"paper_bgcolor\": \"white\", \"plot_bgcolor\": \"#E5ECF6\", \"polar\": {\"angularaxis\": {\"gridcolor\": \"white\", \"linecolor\": \"white\", \"ticks\": \"\"}, \"bgcolor\": \"#E5ECF6\", \"radialaxis\": {\"gridcolor\": \"white\", \"linecolor\": \"white\", \"ticks\": \"\"}}, \"scene\": {\"xaxis\": {\"backgroundcolor\": \"#E5ECF6\", \"gridcolor\": \"white\", \"gridwidth\": 2, \"linecolor\": \"white\", \"showbackground\": true, \"ticks\": \"\", \"zerolinecolor\": \"white\"}, \"yaxis\": {\"backgroundcolor\": \"#E5ECF6\", \"gridcolor\": \"white\", \"gridwidth\": 2, \"linecolor\": \"white\", \"showbackground\": true, \"ticks\": \"\", \"zerolinecolor\": \"white\"}, \"zaxis\": {\"backgroundcolor\": \"#E5ECF6\", \"gridcolor\": \"white\", \"gridwidth\": 2, \"linecolor\": \"white\", \"showbackground\": true, \"ticks\": \"\", \"zerolinecolor\": \"white\"}}, \"shapedefaults\": {\"line\": {\"color\": \"#2a3f5f\"}}, \"ternary\": {\"aaxis\": {\"gridcolor\": \"white\", \"linecolor\": \"white\", \"ticks\": \"\"}, \"baxis\": {\"gridcolor\": \"white\", \"linecolor\": \"white\", \"ticks\": \"\"}, \"bgcolor\": \"#E5ECF6\", \"caxis\": {\"gridcolor\": \"white\", \"linecolor\": \"white\", \"ticks\": \"\"}}, \"title\": {\"x\": 0.05}, \"xaxis\": {\"automargin\": true, \"gridcolor\": \"white\", \"linecolor\": \"white\", \"ticks\": \"\", \"title\": {\"standoff\": 15}, \"zerolinecolor\": \"white\", \"zerolinewidth\": 2}, \"yaxis\": {\"automargin\": true, \"gridcolor\": \"white\", \"linecolor\": \"white\", \"ticks\": \"\", \"title\": {\"standoff\": 15}, \"zerolinecolor\": \"white\", \"zerolinewidth\": 2}}}, \"title\": {\"font\": {\"color\": \"#4D5663\"}}, \"xaxis\": {\"gridcolor\": \"#E1E5ED\", \"showgrid\": true, \"tickfont\": {\"color\": \"#4D5663\"}, \"title\": {\"font\": {\"color\": \"#4D5663\"}, \"text\": \"\"}, \"zerolinecolor\": \"#E1E5ED\"}, \"yaxis\": {\"gridcolor\": \"#E1E5ED\", \"showgrid\": true, \"tickfont\": {\"color\": \"#4D5663\"}, \"title\": {\"font\": {\"color\": \"#4D5663\"}, \"text\": \"\"}, \"zerolinecolor\": \"#E1E5ED\"}},                        {\"showLink\": true, \"linkText\": \"Export to plot.ly\", \"plotlyServerURL\": \"https://plot.ly\", \"responsive\": true}                    ).then(function(){\n",
       "                            \n",
       "var gd = document.getElementById('e66b9421-828d-4e29-9778-7e6c888ba9b7');\n",
       "var x = new MutationObserver(function (mutations, observer) {{\n",
       "        var display = window.getComputedStyle(gd).display;\n",
       "        if (!display || display === 'none') {{\n",
       "            console.log([gd, 'removed!']);\n",
       "            Plotly.purge(gd);\n",
       "            observer.disconnect();\n",
       "        }}\n",
       "}});\n",
       "\n",
       "// Listen for the removal of the full notebook cells\n",
       "var notebookContainer = gd.closest('#notebook-container');\n",
       "if (notebookContainer) {{\n",
       "    x.observe(notebookContainer, {childList: true});\n",
       "}}\n",
       "\n",
       "// Listen for the clearing of the current output cell\n",
       "var outputEl = gd.closest('.output');\n",
       "if (outputEl) {{\n",
       "    x.observe(outputEl, {childList: true});\n",
       "}}\n",
       "\n",
       "                        })                };                });            </script>        </div>"
      ]
     },
     "metadata": {},
     "output_type": "display_data"
    }
   ],
   "source": [
    "df['A'].iplot(kind='hist', bins=50)"
   ]
  },
  {
   "cell_type": "code",
   "execution_count": 41,
   "metadata": {},
   "outputs": [
    {
     "data": {
      "application/vnd.plotly.v1+json": {
       "config": {
        "linkText": "Export to plot.ly",
        "plotlyServerURL": "https://plot.ly",
        "showLink": true
       },
       "data": [
        {
         "histfunc": "count",
         "histnorm": "",
         "marker": {
          "color": "rgba(255, 153, 51, 1.0)",
          "line": {
           "color": "#4D5663",
           "width": 1.3
          }
         },
         "name": "A",
         "opacity": 0.8,
         "orientation": "v",
         "type": "histogram",
         "x": [
          -0.3155077874583621,
          0.3797030900663316,
          0.13082536129896652,
          -2.2125362027707243,
          0.6959899932604471,
          -0.6651688342182054,
          0.3392751939560983,
          -0.06426101581698589,
          0.9363722872087246,
          1.2876798208715128,
          -0.8196844023398393,
          0.10550574634716345,
          0.984281215420857,
          -0.6480877371964813,
          -1.0196895799590036,
          0.03905274891226861,
          1.5089599192845327,
          1.3158362494688813,
          -0.3925680163977808,
          2.1593895399262033,
          -0.9277739001087258,
          -1.8101984688606385,
          1.1051035037837664,
          -1.9118969941429562,
          0.5506036681161965,
          -2.0808993092408583,
          -0.17650866762141137,
          0.2632788163547951,
          -0.6182340559844405,
          1.7529663918088312,
          1.1406246805389066,
          0.7590908403416821,
          -1.4817193890130869,
          0.16014759977799178,
          -1.1411833455404845,
          -0.27451731196969403,
          0.9712894693061355,
          0.8776435538970953,
          -0.9255622764713449,
          -0.15646200077681197,
          0.12895762865690136,
          0.013382331274075478,
          0.008946199293052778,
          1.0855960400891453,
          -0.9989079444164698,
          -0.9197301339026103,
          -0.510708790885548,
          -0.5881182748390118,
          -0.870030337560292,
          -1.855747922112066,
          -0.39039164081373884,
          1.1694539604739602,
          -1.3832385950425616,
          -0.5338808546528805,
          0.6274205428990312,
          0.7377221968558098,
          0.2104629902769848,
          1.0332701707296545,
          1.1773014071136858,
          -3.003363732106316,
          -0.6367581114030771,
          -0.9849507362072155,
          1.172889971084506,
          1.4049919559413808,
          -1.0665120136345716,
          -0.4927786792902122,
          -0.4287735889544915,
          2.1301691553569584,
          0.10248865395219325,
          -0.673713112327333,
          -0.2774788826539322,
          -0.9845092147425413,
          -1.494775948560315,
          -0.1590858026848481,
          0.4245146132867722,
          -1.0527070551758853,
          -0.6271225927724591,
          -0.0932018672644432,
          -1.688083990261239,
          -0.1782681183091389,
          -0.47899491072394434,
          0.6428012794627598,
          1.4776959120729736,
          -0.6652938373848085,
          1.352182236487618,
          -0.7313750627525646,
          0.14174316018181848,
          1.6692898036380026,
          1.2245434297403823,
          -0.7160280045468996,
          1.8260580823033306,
          1.6250393454014014,
          -1.498852738752117,
          0.527366459397921,
          -0.37994599350941144,
          -0.889761094168913,
          -0.6175950575590283,
          0.8291700376647222,
          0.052524725240034126,
          -0.38017490909113333
         ]
        },
        {
         "histfunc": "count",
         "histnorm": "",
         "marker": {
          "color": "rgba(55, 128, 191, 1.0)",
          "line": {
           "color": "#4D5663",
           "width": 1.3
          }
         },
         "name": "B",
         "opacity": 0.8,
         "orientation": "v",
         "type": "histogram",
         "x": [
          -0.742187179415621,
          1.2134107925533075,
          -1.7025709041072157,
          1.1077712761245098,
          0.2450268665699058,
          0.03385606567073771,
          -1.0293155394884315,
          -0.6351817072975786,
          1.208253857927379,
          0.2029117802982394,
          -0.6799122973866606,
          -0.08803443897233985,
          0.5758098646913065,
          2.3902431728879696,
          2.322309790667226,
          -2.053897477260906,
          -0.36181402898944065,
          -0.49557665247321375,
          -0.4951736765103893,
          0.37178527931536326,
          -0.3682043275108212,
          -0.5047798875636234,
          1.379355997986373,
          0.13616493155165393,
          0.49318325140623254,
          -1.5175410018180038,
          1.1547435470274139,
          0.6050117379633767,
          -0.6996344079126486,
          -1.4817646470214914,
          0.18752169065501145,
          0.8066387082368147,
          -1.1959799329299963,
          -1.4170206981119036,
          -0.5800184256741695,
          0.49349150837889405,
          -1.2519802476741586,
          -0.12630538029101265,
          0.5713795406605309,
          0.33842867331585463,
          0.9276612042481814,
          0.004692158094001177,
          0.9607895275269087,
          -0.10436431125521162,
          0.19500506072408932,
          0.143619040803998,
          0.24846269290696457,
          -1.1992336266022514,
          0.7719922880483462,
          -1.7107148568858963,
          -1.1515543208452308,
          -0.4577740846020255,
          0.009834139054455184,
          -0.9013706274525457,
          -1.35055050964298,
          0.2636316222136694,
          -1.2117197793433805,
          0.7298801493900917,
          0.5123712500991467,
          -0.9682940983285426,
          0.4561713613886814,
          -1.005662369358284,
          0.3471944906337027,
          0.1589370880209759,
          0.6209089271516771,
          -0.8626092465711424,
          0.7291717621580838,
          -0.9247316157756699,
          0.048935049402674256,
          -1.1589530826492762,
          -0.11538883632037497,
          -2.5490296011198748,
          -0.40073928870507336,
          1.8938769192769815,
          -0.06177218824813722,
          -0.3126294223162608,
          -1.5306645065803304,
          -0.5912941570519058,
          0.8109286932495376,
          2.1950748662015487,
          -1.2866497815909261,
          -0.04497568412693477,
          1.481450499023565,
          0.663621173996275,
          -0.8882298892774952,
          -2.4824878621979,
          -0.02457183461218704,
          -0.039755112888196234,
          -0.5727714919382593,
          0.6308537624751678,
          0.22301238943458415,
          -0.3747561570544337,
          -1.6649265559053648,
          1.7760400884476781,
          0.09799518810159046,
          0.5757701404841383,
          1.161331427062505,
          0.1137451273646778,
          0.41018929002830706,
          -0.8698503917579509
         ]
        },
        {
         "histfunc": "count",
         "histnorm": "",
         "marker": {
          "color": "rgba(50, 171, 96, 1.0)",
          "line": {
           "color": "#4D5663",
           "width": 1.3
          }
         },
         "name": "C",
         "opacity": 0.8,
         "orientation": "v",
         "type": "histogram",
         "x": [
          -1.2078524061832343,
          1.647806384601327,
          0.867424872152327,
          0.7669777110713896,
          0.818520999225426,
          -0.48320967186024133,
          0.35396243357211826,
          -0.8479124671901214,
          0.13457107379341118,
          -1.5782654987525453,
          -0.024899038746018128,
          -0.9661302530011148,
          0.10786866146194769,
          -1.029408787668984,
          -0.551551586968485,
          0.7478338033100305,
          0.32212826393082283,
          -0.07981914124646398,
          -1.7345386630444235,
          0.940856042038223,
          -0.893802996297651,
          -1.6838191488701428,
          -0.8193949520436961,
          -0.6986978023236927,
          0.9484716043906775,
          -2.4729774481529536,
          -0.5184931813506506,
          1.2944947036141494,
          1.6518965347606518,
          -0.27097369670413435,
          0.6607100884259512,
          0.38996016296846236,
          0.6894118859018167,
          -0.8632209729940418,
          -0.5171083610114836,
          0.6018600888172007,
          -0.8457311592941562,
          0.59764909067985,
          -0.059718166023163995,
          0.4020361989483813,
          -0.6843729666514186,
          -0.5242962066773789,
          -0.9377796468920861,
          -0.2094071465163398,
          -0.6004287234619048,
          -1.1654165511468466,
          0.552071633160766,
          2.294425554654729,
          0.9840253882237323,
          1.532463975726437,
          -2.0965363642856185,
          -0.027778544002653505,
          -1.2592610118032257,
          -0.4940128214479949,
          -0.9603470186202026,
          -0.8771390346804705,
          1.997699888499699,
          0.6984735539398365,
          -1.5234038797937803,
          -0.40855022070663927,
          0.7077209690843312,
          1.3804789004634803,
          1.0428083128544448,
          0.25439927354969954,
          0.43481566187872217,
          0.5020740992240665,
          1.9118308644715627,
          -1.1631204064945873,
          0.2444948577104291,
          0.30624170731256933,
          -0.646460226151218,
          1.2532514420256606,
          -0.48520205356676244,
          0.4214967889186345,
          0.7229831685011271,
          -0.05929358539847693,
          0.26748616985900747,
          0.2873558919730922,
          0.5109451119502947,
          -1.273673762305818,
          -0.12156207954094937,
          0.665416255241936,
          -0.3855498693882793,
          0.6556997917497112,
          1.083962308875982,
          1.051193036773326,
          -0.16569352007058658,
          1.445267284777046,
          0.7339791857623821,
          -0.8844229099045823,
          0.5934768649818013,
          0.30832968316289466,
          2.6337128110926913,
          0.054701840278038164,
          0.43980988188662745,
          0.54351591766071,
          0.9283251404799931,
          0.09876115894398224,
          -1.2533514262488898,
          2.1524972165590093
         ]
        },
        {
         "histfunc": "count",
         "histnorm": "",
         "marker": {
          "color": "rgba(128, 0, 128, 1.0)",
          "line": {
           "color": "#4D5663",
           "width": 1.3
          }
         },
         "name": "D",
         "opacity": 0.8,
         "orientation": "v",
         "type": "histogram",
         "x": [
          1.7026558454303116,
          1.5594219269692025,
          1.4403235877899048,
          -2.2390370525507115,
          0.16467710599817323,
          -0.9218258259100182,
          -0.2611907139315378,
          1.0977798698411936,
          0.37977150377533847,
          0.678930562576309,
          0.24027033970707695,
          -1.134130511030025,
          0.28086292437562704,
          0.8503726898773861,
          0.9055947656818857,
          -0.7918153524806373,
          -1.2086934500885222,
          -1.3335624922189502,
          -0.32424765208188006,
          -0.11862208797272265,
          0.07067805408788083,
          -1.0783026149841517,
          1.2151290995336135,
          -1.9090316261587466,
          0.7698743059492738,
          1.4226846925724372,
          -0.38905961689902124,
          -0.3890691908653827,
          -1.138098162318478,
          1.5286657168142626,
          -1.5256697797380405,
          -0.6517541801020447,
          0.6651618792751028,
          0.042148395695265156,
          0.8037912030554389,
          -1.2340590432062606,
          1.1138802032482642,
          0.24272962949614557,
          -1.0897845546442384,
          -0.1861118730117989,
          -0.28506025348328085,
          -0.577405630427034,
          0.9629284792942532,
          0.8642435985066734,
          -2.1158255595742577,
          0.9961250193213448,
          0.559105232995064,
          2.3677036955966857,
          0.30853192592085305,
          0.31965857680337983,
          -0.5789125493559564,
          -0.38674738312959595,
          1.75609531876379,
          -0.3335211959389353,
          -0.09548124952105416,
          -1.5095801851776736,
          -0.50414646443317,
          -0.3874310487330894,
          0.960662750189629,
          -0.42162185528459656,
          -1.1383848115226616,
          0.39497549251283326,
          -1.0588751065242445,
          -1.0819417784228555,
          -1.1208476331280686,
          0.548769582600236,
          -1.4957479220462382,
          -0.9123343605142379,
          -0.5407420132543753,
          -0.0030139030991650174,
          0.9181096233801954,
          -0.3682788361733208,
          -0.2944575717906814,
          -0.44024326113832996,
          0.22636349352905413,
          -0.09082428904754525,
          2.8711765900811588,
          -0.9151438925202213,
          0.3043595561190293,
          0.7625528301828641,
          -0.3890199468582452,
          0.45888215375476715,
          1.5323600237489465,
          -0.3188006834231324,
          -0.7476326812212825,
          0.8562325819537043,
          -1.3959940222047766,
          -0.0861929617313064,
          -0.9274887709992322,
          -1.0259843591608262,
          1.7701086138228979,
          0.5539931463352439,
          -0.735673032801025,
          0.5077288161248946,
          -0.2789899201810933,
          0.5197571423652604,
          2.7190894240091414,
          -0.7411929584172913,
          -0.22795472975730985,
          -0.2906902789780266
         ]
        }
       ],
       "layout": {
        "barmode": "overlay",
        "legend": {
         "bgcolor": "#F5F6F9",
         "font": {
          "color": "#4D5663"
         }
        },
        "paper_bgcolor": "#F5F6F9",
        "plot_bgcolor": "#F5F6F9",
        "template": {
         "data": {
          "bar": [
           {
            "error_x": {
             "color": "#2a3f5f"
            },
            "error_y": {
             "color": "#2a3f5f"
            },
            "marker": {
             "line": {
              "color": "#E5ECF6",
              "width": 0.5
             }
            },
            "type": "bar"
           }
          ],
          "barpolar": [
           {
            "marker": {
             "line": {
              "color": "#E5ECF6",
              "width": 0.5
             }
            },
            "type": "barpolar"
           }
          ],
          "carpet": [
           {
            "aaxis": {
             "endlinecolor": "#2a3f5f",
             "gridcolor": "white",
             "linecolor": "white",
             "minorgridcolor": "white",
             "startlinecolor": "#2a3f5f"
            },
            "baxis": {
             "endlinecolor": "#2a3f5f",
             "gridcolor": "white",
             "linecolor": "white",
             "minorgridcolor": "white",
             "startlinecolor": "#2a3f5f"
            },
            "type": "carpet"
           }
          ],
          "choropleth": [
           {
            "colorbar": {
             "outlinewidth": 0,
             "ticks": ""
            },
            "type": "choropleth"
           }
          ],
          "contour": [
           {
            "colorbar": {
             "outlinewidth": 0,
             "ticks": ""
            },
            "colorscale": [
             [
              0,
              "#0d0887"
             ],
             [
              0.1111111111111111,
              "#46039f"
             ],
             [
              0.2222222222222222,
              "#7201a8"
             ],
             [
              0.3333333333333333,
              "#9c179e"
             ],
             [
              0.4444444444444444,
              "#bd3786"
             ],
             [
              0.5555555555555556,
              "#d8576b"
             ],
             [
              0.6666666666666666,
              "#ed7953"
             ],
             [
              0.7777777777777778,
              "#fb9f3a"
             ],
             [
              0.8888888888888888,
              "#fdca26"
             ],
             [
              1,
              "#f0f921"
             ]
            ],
            "type": "contour"
           }
          ],
          "contourcarpet": [
           {
            "colorbar": {
             "outlinewidth": 0,
             "ticks": ""
            },
            "type": "contourcarpet"
           }
          ],
          "heatmap": [
           {
            "colorbar": {
             "outlinewidth": 0,
             "ticks": ""
            },
            "colorscale": [
             [
              0,
              "#0d0887"
             ],
             [
              0.1111111111111111,
              "#46039f"
             ],
             [
              0.2222222222222222,
              "#7201a8"
             ],
             [
              0.3333333333333333,
              "#9c179e"
             ],
             [
              0.4444444444444444,
              "#bd3786"
             ],
             [
              0.5555555555555556,
              "#d8576b"
             ],
             [
              0.6666666666666666,
              "#ed7953"
             ],
             [
              0.7777777777777778,
              "#fb9f3a"
             ],
             [
              0.8888888888888888,
              "#fdca26"
             ],
             [
              1,
              "#f0f921"
             ]
            ],
            "type": "heatmap"
           }
          ],
          "heatmapgl": [
           {
            "colorbar": {
             "outlinewidth": 0,
             "ticks": ""
            },
            "colorscale": [
             [
              0,
              "#0d0887"
             ],
             [
              0.1111111111111111,
              "#46039f"
             ],
             [
              0.2222222222222222,
              "#7201a8"
             ],
             [
              0.3333333333333333,
              "#9c179e"
             ],
             [
              0.4444444444444444,
              "#bd3786"
             ],
             [
              0.5555555555555556,
              "#d8576b"
             ],
             [
              0.6666666666666666,
              "#ed7953"
             ],
             [
              0.7777777777777778,
              "#fb9f3a"
             ],
             [
              0.8888888888888888,
              "#fdca26"
             ],
             [
              1,
              "#f0f921"
             ]
            ],
            "type": "heatmapgl"
           }
          ],
          "histogram": [
           {
            "marker": {
             "colorbar": {
              "outlinewidth": 0,
              "ticks": ""
             }
            },
            "type": "histogram"
           }
          ],
          "histogram2d": [
           {
            "colorbar": {
             "outlinewidth": 0,
             "ticks": ""
            },
            "colorscale": [
             [
              0,
              "#0d0887"
             ],
             [
              0.1111111111111111,
              "#46039f"
             ],
             [
              0.2222222222222222,
              "#7201a8"
             ],
             [
              0.3333333333333333,
              "#9c179e"
             ],
             [
              0.4444444444444444,
              "#bd3786"
             ],
             [
              0.5555555555555556,
              "#d8576b"
             ],
             [
              0.6666666666666666,
              "#ed7953"
             ],
             [
              0.7777777777777778,
              "#fb9f3a"
             ],
             [
              0.8888888888888888,
              "#fdca26"
             ],
             [
              1,
              "#f0f921"
             ]
            ],
            "type": "histogram2d"
           }
          ],
          "histogram2dcontour": [
           {
            "colorbar": {
             "outlinewidth": 0,
             "ticks": ""
            },
            "colorscale": [
             [
              0,
              "#0d0887"
             ],
             [
              0.1111111111111111,
              "#46039f"
             ],
             [
              0.2222222222222222,
              "#7201a8"
             ],
             [
              0.3333333333333333,
              "#9c179e"
             ],
             [
              0.4444444444444444,
              "#bd3786"
             ],
             [
              0.5555555555555556,
              "#d8576b"
             ],
             [
              0.6666666666666666,
              "#ed7953"
             ],
             [
              0.7777777777777778,
              "#fb9f3a"
             ],
             [
              0.8888888888888888,
              "#fdca26"
             ],
             [
              1,
              "#f0f921"
             ]
            ],
            "type": "histogram2dcontour"
           }
          ],
          "mesh3d": [
           {
            "colorbar": {
             "outlinewidth": 0,
             "ticks": ""
            },
            "type": "mesh3d"
           }
          ],
          "parcoords": [
           {
            "line": {
             "colorbar": {
              "outlinewidth": 0,
              "ticks": ""
             }
            },
            "type": "parcoords"
           }
          ],
          "pie": [
           {
            "automargin": true,
            "type": "pie"
           }
          ],
          "scatter": [
           {
            "marker": {
             "colorbar": {
              "outlinewidth": 0,
              "ticks": ""
             }
            },
            "type": "scatter"
           }
          ],
          "scatter3d": [
           {
            "line": {
             "colorbar": {
              "outlinewidth": 0,
              "ticks": ""
             }
            },
            "marker": {
             "colorbar": {
              "outlinewidth": 0,
              "ticks": ""
             }
            },
            "type": "scatter3d"
           }
          ],
          "scattercarpet": [
           {
            "marker": {
             "colorbar": {
              "outlinewidth": 0,
              "ticks": ""
             }
            },
            "type": "scattercarpet"
           }
          ],
          "scattergeo": [
           {
            "marker": {
             "colorbar": {
              "outlinewidth": 0,
              "ticks": ""
             }
            },
            "type": "scattergeo"
           }
          ],
          "scattergl": [
           {
            "marker": {
             "colorbar": {
              "outlinewidth": 0,
              "ticks": ""
             }
            },
            "type": "scattergl"
           }
          ],
          "scattermapbox": [
           {
            "marker": {
             "colorbar": {
              "outlinewidth": 0,
              "ticks": ""
             }
            },
            "type": "scattermapbox"
           }
          ],
          "scatterpolar": [
           {
            "marker": {
             "colorbar": {
              "outlinewidth": 0,
              "ticks": ""
             }
            },
            "type": "scatterpolar"
           }
          ],
          "scatterpolargl": [
           {
            "marker": {
             "colorbar": {
              "outlinewidth": 0,
              "ticks": ""
             }
            },
            "type": "scatterpolargl"
           }
          ],
          "scatterternary": [
           {
            "marker": {
             "colorbar": {
              "outlinewidth": 0,
              "ticks": ""
             }
            },
            "type": "scatterternary"
           }
          ],
          "surface": [
           {
            "colorbar": {
             "outlinewidth": 0,
             "ticks": ""
            },
            "colorscale": [
             [
              0,
              "#0d0887"
             ],
             [
              0.1111111111111111,
              "#46039f"
             ],
             [
              0.2222222222222222,
              "#7201a8"
             ],
             [
              0.3333333333333333,
              "#9c179e"
             ],
             [
              0.4444444444444444,
              "#bd3786"
             ],
             [
              0.5555555555555556,
              "#d8576b"
             ],
             [
              0.6666666666666666,
              "#ed7953"
             ],
             [
              0.7777777777777778,
              "#fb9f3a"
             ],
             [
              0.8888888888888888,
              "#fdca26"
             ],
             [
              1,
              "#f0f921"
             ]
            ],
            "type": "surface"
           }
          ],
          "table": [
           {
            "cells": {
             "fill": {
              "color": "#EBF0F8"
             },
             "line": {
              "color": "white"
             }
            },
            "header": {
             "fill": {
              "color": "#C8D4E3"
             },
             "line": {
              "color": "white"
             }
            },
            "type": "table"
           }
          ]
         },
         "layout": {
          "annotationdefaults": {
           "arrowcolor": "#2a3f5f",
           "arrowhead": 0,
           "arrowwidth": 1
          },
          "autotypenumbers": "strict",
          "coloraxis": {
           "colorbar": {
            "outlinewidth": 0,
            "ticks": ""
           }
          },
          "colorscale": {
           "diverging": [
            [
             0,
             "#8e0152"
            ],
            [
             0.1,
             "#c51b7d"
            ],
            [
             0.2,
             "#de77ae"
            ],
            [
             0.3,
             "#f1b6da"
            ],
            [
             0.4,
             "#fde0ef"
            ],
            [
             0.5,
             "#f7f7f7"
            ],
            [
             0.6,
             "#e6f5d0"
            ],
            [
             0.7,
             "#b8e186"
            ],
            [
             0.8,
             "#7fbc41"
            ],
            [
             0.9,
             "#4d9221"
            ],
            [
             1,
             "#276419"
            ]
           ],
           "sequential": [
            [
             0,
             "#0d0887"
            ],
            [
             0.1111111111111111,
             "#46039f"
            ],
            [
             0.2222222222222222,
             "#7201a8"
            ],
            [
             0.3333333333333333,
             "#9c179e"
            ],
            [
             0.4444444444444444,
             "#bd3786"
            ],
            [
             0.5555555555555556,
             "#d8576b"
            ],
            [
             0.6666666666666666,
             "#ed7953"
            ],
            [
             0.7777777777777778,
             "#fb9f3a"
            ],
            [
             0.8888888888888888,
             "#fdca26"
            ],
            [
             1,
             "#f0f921"
            ]
           ],
           "sequentialminus": [
            [
             0,
             "#0d0887"
            ],
            [
             0.1111111111111111,
             "#46039f"
            ],
            [
             0.2222222222222222,
             "#7201a8"
            ],
            [
             0.3333333333333333,
             "#9c179e"
            ],
            [
             0.4444444444444444,
             "#bd3786"
            ],
            [
             0.5555555555555556,
             "#d8576b"
            ],
            [
             0.6666666666666666,
             "#ed7953"
            ],
            [
             0.7777777777777778,
             "#fb9f3a"
            ],
            [
             0.8888888888888888,
             "#fdca26"
            ],
            [
             1,
             "#f0f921"
            ]
           ]
          },
          "colorway": [
           "#636efa",
           "#EF553B",
           "#00cc96",
           "#ab63fa",
           "#FFA15A",
           "#19d3f3",
           "#FF6692",
           "#B6E880",
           "#FF97FF",
           "#FECB52"
          ],
          "font": {
           "color": "#2a3f5f"
          },
          "geo": {
           "bgcolor": "white",
           "lakecolor": "white",
           "landcolor": "#E5ECF6",
           "showlakes": true,
           "showland": true,
           "subunitcolor": "white"
          },
          "hoverlabel": {
           "align": "left"
          },
          "hovermode": "closest",
          "mapbox": {
           "style": "light"
          },
          "paper_bgcolor": "white",
          "plot_bgcolor": "#E5ECF6",
          "polar": {
           "angularaxis": {
            "gridcolor": "white",
            "linecolor": "white",
            "ticks": ""
           },
           "bgcolor": "#E5ECF6",
           "radialaxis": {
            "gridcolor": "white",
            "linecolor": "white",
            "ticks": ""
           }
          },
          "scene": {
           "xaxis": {
            "backgroundcolor": "#E5ECF6",
            "gridcolor": "white",
            "gridwidth": 2,
            "linecolor": "white",
            "showbackground": true,
            "ticks": "",
            "zerolinecolor": "white"
           },
           "yaxis": {
            "backgroundcolor": "#E5ECF6",
            "gridcolor": "white",
            "gridwidth": 2,
            "linecolor": "white",
            "showbackground": true,
            "ticks": "",
            "zerolinecolor": "white"
           },
           "zaxis": {
            "backgroundcolor": "#E5ECF6",
            "gridcolor": "white",
            "gridwidth": 2,
            "linecolor": "white",
            "showbackground": true,
            "ticks": "",
            "zerolinecolor": "white"
           }
          },
          "shapedefaults": {
           "line": {
            "color": "#2a3f5f"
           }
          },
          "ternary": {
           "aaxis": {
            "gridcolor": "white",
            "linecolor": "white",
            "ticks": ""
           },
           "baxis": {
            "gridcolor": "white",
            "linecolor": "white",
            "ticks": ""
           },
           "bgcolor": "#E5ECF6",
           "caxis": {
            "gridcolor": "white",
            "linecolor": "white",
            "ticks": ""
           }
          },
          "title": {
           "x": 0.05
          },
          "xaxis": {
           "automargin": true,
           "gridcolor": "white",
           "linecolor": "white",
           "ticks": "",
           "title": {
            "standoff": 15
           },
           "zerolinecolor": "white",
           "zerolinewidth": 2
          },
          "yaxis": {
           "automargin": true,
           "gridcolor": "white",
           "linecolor": "white",
           "ticks": "",
           "title": {
            "standoff": 15
           },
           "zerolinecolor": "white",
           "zerolinewidth": 2
          }
         }
        },
        "title": {
         "font": {
          "color": "#4D5663"
         }
        },
        "xaxis": {
         "gridcolor": "#E1E5ED",
         "showgrid": true,
         "tickfont": {
          "color": "#4D5663"
         },
         "title": {
          "font": {
           "color": "#4D5663"
          },
          "text": ""
         },
         "zerolinecolor": "#E1E5ED"
        },
        "yaxis": {
         "gridcolor": "#E1E5ED",
         "showgrid": true,
         "tickfont": {
          "color": "#4D5663"
         },
         "title": {
          "font": {
           "color": "#4D5663"
          },
          "text": ""
         },
         "zerolinecolor": "#E1E5ED"
        }
       }
      },
      "text/html": [
       "<div>                            <div id=\"c2f9609d-ad86-4db4-a413-f766c07bb32b\" class=\"plotly-graph-div\" style=\"height:525px; width:100%;\"></div>            <script type=\"text/javascript\">                require([\"plotly\"], function(Plotly) {                    window.PLOTLYENV=window.PLOTLYENV || {};\n",
       "                    window.PLOTLYENV.BASE_URL='https://plot.ly';                                    if (document.getElementById(\"c2f9609d-ad86-4db4-a413-f766c07bb32b\")) {                    Plotly.newPlot(                        \"c2f9609d-ad86-4db4-a413-f766c07bb32b\",                        [{\"histfunc\": \"count\", \"histnorm\": \"\", \"marker\": {\"color\": \"rgba(255, 153, 51, 1.0)\", \"line\": {\"color\": \"#4D5663\", \"width\": 1.3}}, \"name\": \"A\", \"opacity\": 0.8, \"orientation\": \"v\", \"type\": \"histogram\", \"x\": [-0.3155077874583621, 0.3797030900663316, 0.13082536129896652, -2.2125362027707243, 0.6959899932604471, -0.6651688342182054, 0.3392751939560983, -0.06426101581698589, 0.9363722872087246, 1.2876798208715128, -0.8196844023398393, 0.10550574634716345, 0.984281215420857, -0.6480877371964813, -1.0196895799590036, 0.03905274891226861, 1.5089599192845327, 1.3158362494688813, -0.3925680163977808, 2.1593895399262033, -0.9277739001087258, -1.8101984688606385, 1.1051035037837664, -1.9118969941429562, 0.5506036681161965, -2.0808993092408583, -0.17650866762141137, 0.2632788163547951, -0.6182340559844405, 1.7529663918088312, 1.1406246805389066, 0.7590908403416821, -1.4817193890130869, 0.16014759977799178, -1.1411833455404845, -0.27451731196969403, 0.9712894693061355, 0.8776435538970953, -0.9255622764713449, -0.15646200077681197, 0.12895762865690136, 0.013382331274075478, 0.008946199293052778, 1.0855960400891453, -0.9989079444164698, -0.9197301339026103, -0.510708790885548, -0.5881182748390118, -0.870030337560292, -1.855747922112066, -0.39039164081373884, 1.1694539604739602, -1.3832385950425616, -0.5338808546528805, 0.6274205428990312, 0.7377221968558098, 0.2104629902769848, 1.0332701707296545, 1.1773014071136858, -3.003363732106316, -0.6367581114030771, -0.9849507362072155, 1.172889971084506, 1.4049919559413808, -1.0665120136345716, -0.4927786792902122, -0.4287735889544915, 2.1301691553569584, 0.10248865395219325, -0.673713112327333, -0.2774788826539322, -0.9845092147425413, -1.494775948560315, -0.1590858026848481, 0.4245146132867722, -1.0527070551758853, -0.6271225927724591, -0.0932018672644432, -1.688083990261239, -0.1782681183091389, -0.47899491072394434, 0.6428012794627598, 1.4776959120729736, -0.6652938373848085, 1.352182236487618, -0.7313750627525646, 0.14174316018181848, 1.6692898036380026, 1.2245434297403823, -0.7160280045468996, 1.8260580823033306, 1.6250393454014014, -1.498852738752117, 0.527366459397921, -0.37994599350941144, -0.889761094168913, -0.6175950575590283, 0.8291700376647222, 0.052524725240034126, -0.38017490909113333]}, {\"histfunc\": \"count\", \"histnorm\": \"\", \"marker\": {\"color\": \"rgba(55, 128, 191, 1.0)\", \"line\": {\"color\": \"#4D5663\", \"width\": 1.3}}, \"name\": \"B\", \"opacity\": 0.8, \"orientation\": \"v\", \"type\": \"histogram\", \"x\": [-0.742187179415621, 1.2134107925533075, -1.7025709041072157, 1.1077712761245098, 0.2450268665699058, 0.03385606567073771, -1.0293155394884315, -0.6351817072975786, 1.208253857927379, 0.2029117802982394, -0.6799122973866606, -0.08803443897233985, 0.5758098646913065, 2.3902431728879696, 2.322309790667226, -2.053897477260906, -0.36181402898944065, -0.49557665247321375, -0.4951736765103893, 0.37178527931536326, -0.3682043275108212, -0.5047798875636234, 1.379355997986373, 0.13616493155165393, 0.49318325140623254, -1.5175410018180038, 1.1547435470274139, 0.6050117379633767, -0.6996344079126486, -1.4817646470214914, 0.18752169065501145, 0.8066387082368147, -1.1959799329299963, -1.4170206981119036, -0.5800184256741695, 0.49349150837889405, -1.2519802476741586, -0.12630538029101265, 0.5713795406605309, 0.33842867331585463, 0.9276612042481814, 0.004692158094001177, 0.9607895275269087, -0.10436431125521162, 0.19500506072408932, 0.143619040803998, 0.24846269290696457, -1.1992336266022514, 0.7719922880483462, -1.7107148568858963, -1.1515543208452308, -0.4577740846020255, 0.009834139054455184, -0.9013706274525457, -1.35055050964298, 0.2636316222136694, -1.2117197793433805, 0.7298801493900917, 0.5123712500991467, -0.9682940983285426, 0.4561713613886814, -1.005662369358284, 0.3471944906337027, 0.1589370880209759, 0.6209089271516771, -0.8626092465711424, 0.7291717621580838, -0.9247316157756699, 0.048935049402674256, -1.1589530826492762, -0.11538883632037497, -2.5490296011198748, -0.40073928870507336, 1.8938769192769815, -0.06177218824813722, -0.3126294223162608, -1.5306645065803304, -0.5912941570519058, 0.8109286932495376, 2.1950748662015487, -1.2866497815909261, -0.04497568412693477, 1.481450499023565, 0.663621173996275, -0.8882298892774952, -2.4824878621979, -0.02457183461218704, -0.039755112888196234, -0.5727714919382593, 0.6308537624751678, 0.22301238943458415, -0.3747561570544337, -1.6649265559053648, 1.7760400884476781, 0.09799518810159046, 0.5757701404841383, 1.161331427062505, 0.1137451273646778, 0.41018929002830706, -0.8698503917579509]}, {\"histfunc\": \"count\", \"histnorm\": \"\", \"marker\": {\"color\": \"rgba(50, 171, 96, 1.0)\", \"line\": {\"color\": \"#4D5663\", \"width\": 1.3}}, \"name\": \"C\", \"opacity\": 0.8, \"orientation\": \"v\", \"type\": \"histogram\", \"x\": [-1.2078524061832343, 1.647806384601327, 0.867424872152327, 0.7669777110713896, 0.818520999225426, -0.48320967186024133, 0.35396243357211826, -0.8479124671901214, 0.13457107379341118, -1.5782654987525453, -0.024899038746018128, -0.9661302530011148, 0.10786866146194769, -1.029408787668984, -0.551551586968485, 0.7478338033100305, 0.32212826393082283, -0.07981914124646398, -1.7345386630444235, 0.940856042038223, -0.893802996297651, -1.6838191488701428, -0.8193949520436961, -0.6986978023236927, 0.9484716043906775, -2.4729774481529536, -0.5184931813506506, 1.2944947036141494, 1.6518965347606518, -0.27097369670413435, 0.6607100884259512, 0.38996016296846236, 0.6894118859018167, -0.8632209729940418, -0.5171083610114836, 0.6018600888172007, -0.8457311592941562, 0.59764909067985, -0.059718166023163995, 0.4020361989483813, -0.6843729666514186, -0.5242962066773789, -0.9377796468920861, -0.2094071465163398, -0.6004287234619048, -1.1654165511468466, 0.552071633160766, 2.294425554654729, 0.9840253882237323, 1.532463975726437, -2.0965363642856185, -0.027778544002653505, -1.2592610118032257, -0.4940128214479949, -0.9603470186202026, -0.8771390346804705, 1.997699888499699, 0.6984735539398365, -1.5234038797937803, -0.40855022070663927, 0.7077209690843312, 1.3804789004634803, 1.0428083128544448, 0.25439927354969954, 0.43481566187872217, 0.5020740992240665, 1.9118308644715627, -1.1631204064945873, 0.2444948577104291, 0.30624170731256933, -0.646460226151218, 1.2532514420256606, -0.48520205356676244, 0.4214967889186345, 0.7229831685011271, -0.05929358539847693, 0.26748616985900747, 0.2873558919730922, 0.5109451119502947, -1.273673762305818, -0.12156207954094937, 0.665416255241936, -0.3855498693882793, 0.6556997917497112, 1.083962308875982, 1.051193036773326, -0.16569352007058658, 1.445267284777046, 0.7339791857623821, -0.8844229099045823, 0.5934768649818013, 0.30832968316289466, 2.6337128110926913, 0.054701840278038164, 0.43980988188662745, 0.54351591766071, 0.9283251404799931, 0.09876115894398224, -1.2533514262488898, 2.1524972165590093]}, {\"histfunc\": \"count\", \"histnorm\": \"\", \"marker\": {\"color\": \"rgba(128, 0, 128, 1.0)\", \"line\": {\"color\": \"#4D5663\", \"width\": 1.3}}, \"name\": \"D\", \"opacity\": 0.8, \"orientation\": \"v\", \"type\": \"histogram\", \"x\": [1.7026558454303116, 1.5594219269692025, 1.4403235877899048, -2.2390370525507115, 0.16467710599817323, -0.9218258259100182, -0.2611907139315378, 1.0977798698411936, 0.37977150377533847, 0.678930562576309, 0.24027033970707695, -1.134130511030025, 0.28086292437562704, 0.8503726898773861, 0.9055947656818857, -0.7918153524806373, -1.2086934500885222, -1.3335624922189502, -0.32424765208188006, -0.11862208797272265, 0.07067805408788083, -1.0783026149841517, 1.2151290995336135, -1.9090316261587466, 0.7698743059492738, 1.4226846925724372, -0.38905961689902124, -0.3890691908653827, -1.138098162318478, 1.5286657168142626, -1.5256697797380405, -0.6517541801020447, 0.6651618792751028, 0.042148395695265156, 0.8037912030554389, -1.2340590432062606, 1.1138802032482642, 0.24272962949614557, -1.0897845546442384, -0.1861118730117989, -0.28506025348328085, -0.577405630427034, 0.9629284792942532, 0.8642435985066734, -2.1158255595742577, 0.9961250193213448, 0.559105232995064, 2.3677036955966857, 0.30853192592085305, 0.31965857680337983, -0.5789125493559564, -0.38674738312959595, 1.75609531876379, -0.3335211959389353, -0.09548124952105416, -1.5095801851776736, -0.50414646443317, -0.3874310487330894, 0.960662750189629, -0.42162185528459656, -1.1383848115226616, 0.39497549251283326, -1.0588751065242445, -1.0819417784228555, -1.1208476331280686, 0.548769582600236, -1.4957479220462382, -0.9123343605142379, -0.5407420132543753, -0.0030139030991650174, 0.9181096233801954, -0.3682788361733208, -0.2944575717906814, -0.44024326113832996, 0.22636349352905413, -0.09082428904754525, 2.8711765900811588, -0.9151438925202213, 0.3043595561190293, 0.7625528301828641, -0.3890199468582452, 0.45888215375476715, 1.5323600237489465, -0.3188006834231324, -0.7476326812212825, 0.8562325819537043, -1.3959940222047766, -0.0861929617313064, -0.9274887709992322, -1.0259843591608262, 1.7701086138228979, 0.5539931463352439, -0.735673032801025, 0.5077288161248946, -0.2789899201810933, 0.5197571423652604, 2.7190894240091414, -0.7411929584172913, -0.22795472975730985, -0.2906902789780266]}],                        {\"barmode\": \"overlay\", \"legend\": {\"bgcolor\": \"#F5F6F9\", \"font\": {\"color\": \"#4D5663\"}}, \"paper_bgcolor\": \"#F5F6F9\", \"plot_bgcolor\": \"#F5F6F9\", \"template\": {\"data\": {\"bar\": [{\"error_x\": {\"color\": \"#2a3f5f\"}, \"error_y\": {\"color\": \"#2a3f5f\"}, \"marker\": {\"line\": {\"color\": \"#E5ECF6\", \"width\": 0.5}}, \"type\": \"bar\"}], \"barpolar\": [{\"marker\": {\"line\": {\"color\": \"#E5ECF6\", \"width\": 0.5}}, \"type\": \"barpolar\"}], \"carpet\": [{\"aaxis\": {\"endlinecolor\": \"#2a3f5f\", \"gridcolor\": \"white\", \"linecolor\": \"white\", \"minorgridcolor\": \"white\", \"startlinecolor\": \"#2a3f5f\"}, \"baxis\": {\"endlinecolor\": \"#2a3f5f\", \"gridcolor\": \"white\", \"linecolor\": \"white\", \"minorgridcolor\": \"white\", \"startlinecolor\": \"#2a3f5f\"}, \"type\": \"carpet\"}], \"choropleth\": [{\"colorbar\": {\"outlinewidth\": 0, \"ticks\": \"\"}, \"type\": \"choropleth\"}], \"contour\": [{\"colorbar\": {\"outlinewidth\": 0, \"ticks\": \"\"}, \"colorscale\": [[0.0, \"#0d0887\"], [0.1111111111111111, \"#46039f\"], [0.2222222222222222, \"#7201a8\"], [0.3333333333333333, \"#9c179e\"], [0.4444444444444444, \"#bd3786\"], [0.5555555555555556, \"#d8576b\"], [0.6666666666666666, \"#ed7953\"], [0.7777777777777778, \"#fb9f3a\"], [0.8888888888888888, \"#fdca26\"], [1.0, \"#f0f921\"]], \"type\": \"contour\"}], \"contourcarpet\": [{\"colorbar\": {\"outlinewidth\": 0, \"ticks\": \"\"}, \"type\": \"contourcarpet\"}], \"heatmap\": [{\"colorbar\": {\"outlinewidth\": 0, \"ticks\": \"\"}, \"colorscale\": [[0.0, \"#0d0887\"], [0.1111111111111111, \"#46039f\"], [0.2222222222222222, \"#7201a8\"], [0.3333333333333333, \"#9c179e\"], [0.4444444444444444, \"#bd3786\"], [0.5555555555555556, \"#d8576b\"], [0.6666666666666666, \"#ed7953\"], [0.7777777777777778, \"#fb9f3a\"], [0.8888888888888888, \"#fdca26\"], [1.0, \"#f0f921\"]], \"type\": \"heatmap\"}], \"heatmapgl\": [{\"colorbar\": {\"outlinewidth\": 0, \"ticks\": \"\"}, \"colorscale\": [[0.0, \"#0d0887\"], [0.1111111111111111, \"#46039f\"], [0.2222222222222222, \"#7201a8\"], [0.3333333333333333, \"#9c179e\"], [0.4444444444444444, \"#bd3786\"], [0.5555555555555556, \"#d8576b\"], [0.6666666666666666, \"#ed7953\"], [0.7777777777777778, \"#fb9f3a\"], [0.8888888888888888, \"#fdca26\"], [1.0, \"#f0f921\"]], \"type\": \"heatmapgl\"}], \"histogram\": [{\"marker\": {\"colorbar\": {\"outlinewidth\": 0, \"ticks\": \"\"}}, \"type\": \"histogram\"}], \"histogram2d\": [{\"colorbar\": {\"outlinewidth\": 0, \"ticks\": \"\"}, \"colorscale\": [[0.0, \"#0d0887\"], [0.1111111111111111, \"#46039f\"], [0.2222222222222222, \"#7201a8\"], [0.3333333333333333, \"#9c179e\"], [0.4444444444444444, \"#bd3786\"], [0.5555555555555556, \"#d8576b\"], [0.6666666666666666, \"#ed7953\"], [0.7777777777777778, \"#fb9f3a\"], [0.8888888888888888, \"#fdca26\"], [1.0, \"#f0f921\"]], \"type\": \"histogram2d\"}], \"histogram2dcontour\": [{\"colorbar\": {\"outlinewidth\": 0, \"ticks\": \"\"}, \"colorscale\": [[0.0, \"#0d0887\"], [0.1111111111111111, \"#46039f\"], [0.2222222222222222, \"#7201a8\"], [0.3333333333333333, \"#9c179e\"], [0.4444444444444444, \"#bd3786\"], [0.5555555555555556, \"#d8576b\"], [0.6666666666666666, \"#ed7953\"], [0.7777777777777778, \"#fb9f3a\"], [0.8888888888888888, \"#fdca26\"], [1.0, \"#f0f921\"]], \"type\": \"histogram2dcontour\"}], \"mesh3d\": [{\"colorbar\": {\"outlinewidth\": 0, \"ticks\": \"\"}, \"type\": \"mesh3d\"}], \"parcoords\": [{\"line\": {\"colorbar\": {\"outlinewidth\": 0, \"ticks\": \"\"}}, \"type\": \"parcoords\"}], \"pie\": [{\"automargin\": true, \"type\": \"pie\"}], \"scatter\": [{\"marker\": {\"colorbar\": {\"outlinewidth\": 0, \"ticks\": \"\"}}, \"type\": \"scatter\"}], \"scatter3d\": [{\"line\": {\"colorbar\": {\"outlinewidth\": 0, \"ticks\": \"\"}}, \"marker\": {\"colorbar\": {\"outlinewidth\": 0, \"ticks\": \"\"}}, \"type\": \"scatter3d\"}], \"scattercarpet\": [{\"marker\": {\"colorbar\": {\"outlinewidth\": 0, \"ticks\": \"\"}}, \"type\": \"scattercarpet\"}], \"scattergeo\": [{\"marker\": {\"colorbar\": {\"outlinewidth\": 0, \"ticks\": \"\"}}, \"type\": \"scattergeo\"}], \"scattergl\": [{\"marker\": {\"colorbar\": {\"outlinewidth\": 0, \"ticks\": \"\"}}, \"type\": \"scattergl\"}], \"scattermapbox\": [{\"marker\": {\"colorbar\": {\"outlinewidth\": 0, \"ticks\": \"\"}}, \"type\": \"scattermapbox\"}], \"scatterpolar\": [{\"marker\": {\"colorbar\": {\"outlinewidth\": 0, \"ticks\": \"\"}}, \"type\": \"scatterpolar\"}], \"scatterpolargl\": [{\"marker\": {\"colorbar\": {\"outlinewidth\": 0, \"ticks\": \"\"}}, \"type\": \"scatterpolargl\"}], \"scatterternary\": [{\"marker\": {\"colorbar\": {\"outlinewidth\": 0, \"ticks\": \"\"}}, \"type\": \"scatterternary\"}], \"surface\": [{\"colorbar\": {\"outlinewidth\": 0, \"ticks\": \"\"}, \"colorscale\": [[0.0, \"#0d0887\"], [0.1111111111111111, \"#46039f\"], [0.2222222222222222, \"#7201a8\"], [0.3333333333333333, \"#9c179e\"], [0.4444444444444444, \"#bd3786\"], [0.5555555555555556, \"#d8576b\"], [0.6666666666666666, \"#ed7953\"], [0.7777777777777778, \"#fb9f3a\"], [0.8888888888888888, \"#fdca26\"], [1.0, \"#f0f921\"]], \"type\": \"surface\"}], \"table\": [{\"cells\": {\"fill\": {\"color\": \"#EBF0F8\"}, \"line\": {\"color\": \"white\"}}, \"header\": {\"fill\": {\"color\": \"#C8D4E3\"}, \"line\": {\"color\": \"white\"}}, \"type\": \"table\"}]}, \"layout\": {\"annotationdefaults\": {\"arrowcolor\": \"#2a3f5f\", \"arrowhead\": 0, \"arrowwidth\": 1}, \"autotypenumbers\": \"strict\", \"coloraxis\": {\"colorbar\": {\"outlinewidth\": 0, \"ticks\": \"\"}}, \"colorscale\": {\"diverging\": [[0, \"#8e0152\"], [0.1, \"#c51b7d\"], [0.2, \"#de77ae\"], [0.3, \"#f1b6da\"], [0.4, \"#fde0ef\"], [0.5, \"#f7f7f7\"], [0.6, \"#e6f5d0\"], [0.7, \"#b8e186\"], [0.8, \"#7fbc41\"], [0.9, \"#4d9221\"], [1, \"#276419\"]], \"sequential\": [[0.0, \"#0d0887\"], [0.1111111111111111, \"#46039f\"], [0.2222222222222222, \"#7201a8\"], [0.3333333333333333, \"#9c179e\"], [0.4444444444444444, \"#bd3786\"], [0.5555555555555556, \"#d8576b\"], [0.6666666666666666, \"#ed7953\"], [0.7777777777777778, \"#fb9f3a\"], [0.8888888888888888, \"#fdca26\"], [1.0, \"#f0f921\"]], \"sequentialminus\": [[0.0, \"#0d0887\"], [0.1111111111111111, \"#46039f\"], [0.2222222222222222, \"#7201a8\"], [0.3333333333333333, \"#9c179e\"], [0.4444444444444444, \"#bd3786\"], [0.5555555555555556, \"#d8576b\"], [0.6666666666666666, \"#ed7953\"], [0.7777777777777778, \"#fb9f3a\"], [0.8888888888888888, \"#fdca26\"], [1.0, \"#f0f921\"]]}, \"colorway\": [\"#636efa\", \"#EF553B\", \"#00cc96\", \"#ab63fa\", \"#FFA15A\", \"#19d3f3\", \"#FF6692\", \"#B6E880\", \"#FF97FF\", \"#FECB52\"], \"font\": {\"color\": \"#2a3f5f\"}, \"geo\": {\"bgcolor\": \"white\", \"lakecolor\": \"white\", \"landcolor\": \"#E5ECF6\", \"showlakes\": true, \"showland\": true, \"subunitcolor\": \"white\"}, \"hoverlabel\": {\"align\": \"left\"}, \"hovermode\": \"closest\", \"mapbox\": {\"style\": \"light\"}, \"paper_bgcolor\": \"white\", \"plot_bgcolor\": \"#E5ECF6\", \"polar\": {\"angularaxis\": {\"gridcolor\": \"white\", \"linecolor\": \"white\", \"ticks\": \"\"}, \"bgcolor\": \"#E5ECF6\", \"radialaxis\": {\"gridcolor\": \"white\", \"linecolor\": \"white\", \"ticks\": \"\"}}, \"scene\": {\"xaxis\": {\"backgroundcolor\": \"#E5ECF6\", \"gridcolor\": \"white\", \"gridwidth\": 2, \"linecolor\": \"white\", \"showbackground\": true, \"ticks\": \"\", \"zerolinecolor\": \"white\"}, \"yaxis\": {\"backgroundcolor\": \"#E5ECF6\", \"gridcolor\": \"white\", \"gridwidth\": 2, \"linecolor\": \"white\", \"showbackground\": true, \"ticks\": \"\", \"zerolinecolor\": \"white\"}, \"zaxis\": {\"backgroundcolor\": \"#E5ECF6\", \"gridcolor\": \"white\", \"gridwidth\": 2, \"linecolor\": \"white\", \"showbackground\": true, \"ticks\": \"\", \"zerolinecolor\": \"white\"}}, \"shapedefaults\": {\"line\": {\"color\": \"#2a3f5f\"}}, \"ternary\": {\"aaxis\": {\"gridcolor\": \"white\", \"linecolor\": \"white\", \"ticks\": \"\"}, \"baxis\": {\"gridcolor\": \"white\", \"linecolor\": \"white\", \"ticks\": \"\"}, \"bgcolor\": \"#E5ECF6\", \"caxis\": {\"gridcolor\": \"white\", \"linecolor\": \"white\", \"ticks\": \"\"}}, \"title\": {\"x\": 0.05}, \"xaxis\": {\"automargin\": true, \"gridcolor\": \"white\", \"linecolor\": \"white\", \"ticks\": \"\", \"title\": {\"standoff\": 15}, \"zerolinecolor\": \"white\", \"zerolinewidth\": 2}, \"yaxis\": {\"automargin\": true, \"gridcolor\": \"white\", \"linecolor\": \"white\", \"ticks\": \"\", \"title\": {\"standoff\": 15}, \"zerolinecolor\": \"white\", \"zerolinewidth\": 2}}}, \"title\": {\"font\": {\"color\": \"#4D5663\"}}, \"xaxis\": {\"gridcolor\": \"#E1E5ED\", \"showgrid\": true, \"tickfont\": {\"color\": \"#4D5663\"}, \"title\": {\"font\": {\"color\": \"#4D5663\"}, \"text\": \"\"}, \"zerolinecolor\": \"#E1E5ED\"}, \"yaxis\": {\"gridcolor\": \"#E1E5ED\", \"showgrid\": true, \"tickfont\": {\"color\": \"#4D5663\"}, \"title\": {\"font\": {\"color\": \"#4D5663\"}, \"text\": \"\"}, \"zerolinecolor\": \"#E1E5ED\"}},                        {\"showLink\": true, \"linkText\": \"Export to plot.ly\", \"plotlyServerURL\": \"https://plot.ly\", \"responsive\": true}                    ).then(function(){\n",
       "                            \n",
       "var gd = document.getElementById('c2f9609d-ad86-4db4-a413-f766c07bb32b');\n",
       "var x = new MutationObserver(function (mutations, observer) {{\n",
       "        var display = window.getComputedStyle(gd).display;\n",
       "        if (!display || display === 'none') {{\n",
       "            console.log([gd, 'removed!']);\n",
       "            Plotly.purge(gd);\n",
       "            observer.disconnect();\n",
       "        }}\n",
       "}});\n",
       "\n",
       "// Listen for the removal of the full notebook cells\n",
       "var notebookContainer = gd.closest('#notebook-container');\n",
       "if (notebookContainer) {{\n",
       "    x.observe(notebookContainer, {childList: true});\n",
       "}}\n",
       "\n",
       "// Listen for the clearing of the current output cell\n",
       "var outputEl = gd.closest('.output');\n",
       "if (outputEl) {{\n",
       "    x.observe(outputEl, {childList: true});\n",
       "}}\n",
       "\n",
       "                        })                };                });            </script>        </div>"
      ]
     },
     "metadata": {},
     "output_type": "display_data"
    }
   ],
   "source": [
    "#using all we can click buttons on rhs to switch on and off\n",
    "df.iplot(kind='hist')"
   ]
  },
  {
   "cell_type": "code",
   "execution_count": 43,
   "metadata": {},
   "outputs": [
    {
     "name": "stderr",
     "output_type": "stream",
     "text": [
      "C:\\Users\\garyp\\anaconda3\\lib\\site-packages\\cufflinks\\plotlytools.py:849: FutureWarning:\n",
      "\n",
      "The pandas.np module is deprecated and will be removed from pandas in a future version. Import numpy directly instead\n",
      "\n",
      "C:\\Users\\garyp\\anaconda3\\lib\\site-packages\\cufflinks\\plotlytools.py:850: FutureWarning:\n",
      "\n",
      "The pandas.np module is deprecated and will be removed from pandas in a future version. Import numpy directly instead\n",
      "\n"
     ]
    },
    {
     "data": {
      "application/vnd.plotly.v1+json": {
       "config": {
        "linkText": "Export to plot.ly",
        "plotlyServerURL": "https://plot.ly",
        "showLink": true
       },
       "data": [
        {
         "line": {
          "color": "rgba(255, 153, 51, 1.0)",
          "dash": "solid",
          "shape": "linear",
          "width": 1.3
         },
         "mode": "lines",
         "name": "A",
         "text": "",
         "type": "scatter",
         "x": [
          0,
          1,
          2,
          3,
          4,
          5,
          6,
          7,
          8,
          9,
          10,
          11,
          12,
          13,
          14,
          15,
          16,
          17,
          18,
          19,
          20,
          21,
          22,
          23,
          24,
          25,
          26,
          27,
          28,
          29,
          30,
          31,
          32,
          33,
          34,
          35,
          36,
          37,
          38,
          39,
          40,
          41,
          42,
          43,
          44,
          45,
          46,
          47,
          48,
          49,
          50,
          51,
          52,
          53,
          54,
          55,
          56,
          57,
          58,
          59,
          60,
          61,
          62,
          63,
          64,
          65,
          66,
          67,
          68,
          69,
          70,
          71,
          72,
          73,
          74,
          75,
          76,
          77,
          78,
          79,
          80,
          81,
          82,
          83,
          84,
          85,
          86,
          87,
          88,
          89,
          90,
          91,
          92,
          93,
          94,
          95,
          96,
          97,
          98,
          99
         ],
         "y": [
          -0.3155077874583621,
          0.3797030900663316,
          0.13082536129896652,
          -2.2125362027707243,
          0.6959899932604471,
          -0.6651688342182054,
          0.3392751939560983,
          -0.06426101581698589,
          0.9363722872087246,
          1.2876798208715128,
          -0.8196844023398393,
          0.10550574634716345,
          0.984281215420857,
          -0.6480877371964813,
          -1.0196895799590036,
          0.03905274891226861,
          1.5089599192845327,
          1.3158362494688813,
          -0.3925680163977808,
          2.1593895399262033,
          -0.9277739001087258,
          -1.8101984688606385,
          1.1051035037837664,
          -1.9118969941429562,
          0.5506036681161965,
          -2.0808993092408583,
          -0.17650866762141137,
          0.2632788163547951,
          -0.6182340559844405,
          1.7529663918088312,
          1.1406246805389066,
          0.7590908403416821,
          -1.4817193890130869,
          0.16014759977799178,
          -1.1411833455404845,
          -0.27451731196969403,
          0.9712894693061355,
          0.8776435538970953,
          -0.9255622764713449,
          -0.15646200077681197,
          0.12895762865690136,
          0.013382331274075478,
          0.008946199293052778,
          1.0855960400891453,
          -0.9989079444164698,
          -0.9197301339026103,
          -0.510708790885548,
          -0.5881182748390118,
          -0.870030337560292,
          -1.855747922112066,
          -0.39039164081373884,
          1.1694539604739602,
          -1.3832385950425616,
          -0.5338808546528805,
          0.6274205428990312,
          0.7377221968558098,
          0.2104629902769848,
          1.0332701707296545,
          1.1773014071136858,
          -3.003363732106316,
          -0.6367581114030771,
          -0.9849507362072155,
          1.172889971084506,
          1.4049919559413808,
          -1.0665120136345716,
          -0.4927786792902122,
          -0.4287735889544915,
          2.1301691553569584,
          0.10248865395219325,
          -0.673713112327333,
          -0.2774788826539322,
          -0.9845092147425413,
          -1.494775948560315,
          -0.1590858026848481,
          0.4245146132867722,
          -1.0527070551758853,
          -0.6271225927724591,
          -0.0932018672644432,
          -1.688083990261239,
          -0.1782681183091389,
          -0.47899491072394434,
          0.6428012794627598,
          1.4776959120729736,
          -0.6652938373848085,
          1.352182236487618,
          -0.7313750627525646,
          0.14174316018181848,
          1.6692898036380026,
          1.2245434297403823,
          -0.7160280045468996,
          1.8260580823033306,
          1.6250393454014014,
          -1.498852738752117,
          0.527366459397921,
          -0.37994599350941144,
          -0.889761094168913,
          -0.6175950575590283,
          0.8291700376647222,
          0.052524725240034126,
          -0.38017490909113333
         ]
        },
        {
         "line": {
          "color": "rgba(55, 128, 191, 1.0)",
          "dash": "solid",
          "shape": "linear",
          "width": 1.3
         },
         "mode": "lines",
         "name": "B",
         "text": "",
         "type": "scatter",
         "x": [
          0,
          1,
          2,
          3,
          4,
          5,
          6,
          7,
          8,
          9,
          10,
          11,
          12,
          13,
          14,
          15,
          16,
          17,
          18,
          19,
          20,
          21,
          22,
          23,
          24,
          25,
          26,
          27,
          28,
          29,
          30,
          31,
          32,
          33,
          34,
          35,
          36,
          37,
          38,
          39,
          40,
          41,
          42,
          43,
          44,
          45,
          46,
          47,
          48,
          49,
          50,
          51,
          52,
          53,
          54,
          55,
          56,
          57,
          58,
          59,
          60,
          61,
          62,
          63,
          64,
          65,
          66,
          67,
          68,
          69,
          70,
          71,
          72,
          73,
          74,
          75,
          76,
          77,
          78,
          79,
          80,
          81,
          82,
          83,
          84,
          85,
          86,
          87,
          88,
          89,
          90,
          91,
          92,
          93,
          94,
          95,
          96,
          97,
          98,
          99
         ],
         "y": [
          -0.742187179415621,
          1.2134107925533075,
          -1.7025709041072157,
          1.1077712761245098,
          0.2450268665699058,
          0.03385606567073771,
          -1.0293155394884315,
          -0.6351817072975786,
          1.208253857927379,
          0.2029117802982394,
          -0.6799122973866606,
          -0.08803443897233985,
          0.5758098646913065,
          2.3902431728879696,
          2.322309790667226,
          -2.053897477260906,
          -0.36181402898944065,
          -0.49557665247321375,
          -0.4951736765103893,
          0.37178527931536326,
          -0.3682043275108212,
          -0.5047798875636234,
          1.379355997986373,
          0.13616493155165393,
          0.49318325140623254,
          -1.5175410018180038,
          1.1547435470274139,
          0.6050117379633767,
          -0.6996344079126486,
          -1.4817646470214914,
          0.18752169065501145,
          0.8066387082368147,
          -1.1959799329299963,
          -1.4170206981119036,
          -0.5800184256741695,
          0.49349150837889405,
          -1.2519802476741586,
          -0.12630538029101265,
          0.5713795406605309,
          0.33842867331585463,
          0.9276612042481814,
          0.004692158094001177,
          0.9607895275269087,
          -0.10436431125521162,
          0.19500506072408932,
          0.143619040803998,
          0.24846269290696457,
          -1.1992336266022514,
          0.7719922880483462,
          -1.7107148568858963,
          -1.1515543208452308,
          -0.4577740846020255,
          0.009834139054455184,
          -0.9013706274525457,
          -1.35055050964298,
          0.2636316222136694,
          -1.2117197793433805,
          0.7298801493900917,
          0.5123712500991467,
          -0.9682940983285426,
          0.4561713613886814,
          -1.005662369358284,
          0.3471944906337027,
          0.1589370880209759,
          0.6209089271516771,
          -0.8626092465711424,
          0.7291717621580838,
          -0.9247316157756699,
          0.048935049402674256,
          -1.1589530826492762,
          -0.11538883632037497,
          -2.5490296011198748,
          -0.40073928870507336,
          1.8938769192769815,
          -0.06177218824813722,
          -0.3126294223162608,
          -1.5306645065803304,
          -0.5912941570519058,
          0.8109286932495376,
          2.1950748662015487,
          -1.2866497815909261,
          -0.04497568412693477,
          1.481450499023565,
          0.663621173996275,
          -0.8882298892774952,
          -2.4824878621979,
          -0.02457183461218704,
          -0.039755112888196234,
          -0.5727714919382593,
          0.6308537624751678,
          0.22301238943458415,
          -0.3747561570544337,
          -1.6649265559053648,
          1.7760400884476781,
          0.09799518810159046,
          0.5757701404841383,
          1.161331427062505,
          0.1137451273646778,
          0.41018929002830706,
          -0.8698503917579509
         ]
        },
        {
         "connectgaps": false,
         "fill": "tozeroy",
         "line": {
          "color": "green",
          "dash": "solid",
          "shape": "linear",
          "width": 0.5
         },
         "mode": "lines",
         "name": "Spread",
         "showlegend": false,
         "type": "scatter",
         "x": [
          0,
          1,
          2,
          3,
          4,
          5,
          6,
          7,
          8,
          9,
          10,
          11,
          12,
          13,
          14,
          15,
          16,
          17,
          18,
          19,
          20,
          21,
          22,
          23,
          24,
          25,
          26,
          27,
          28,
          29,
          30,
          31,
          32,
          33,
          34,
          35,
          36,
          37,
          38,
          39,
          40,
          41,
          42,
          43,
          44,
          45,
          46,
          47,
          48,
          49,
          50,
          51,
          52,
          53,
          54,
          55,
          56,
          57,
          58,
          59,
          60,
          61,
          62,
          63,
          64,
          65,
          66,
          67,
          68,
          69,
          70,
          71,
          72,
          73,
          74,
          75,
          76,
          77,
          78,
          79,
          80,
          81,
          82,
          83,
          84,
          85,
          86,
          87,
          88,
          89,
          90,
          91,
          92,
          93,
          94,
          95,
          96,
          97,
          98,
          99
         ],
         "xaxis": "x2",
         "y": [
          0.42667939195725885,
          "",
          1.8333962654061822,
          "",
          0.4509631266905413,
          "",
          1.3685907334445298,
          0.5709206914805928,
          "",
          1.0847680405732734,
          "",
          0.1935401853195033,
          0.40847135072955054,
          "",
          "",
          2.0929502261731745,
          1.8707739482739734,
          1.811412901942095,
          0.10260566011260852,
          1.78760426061084,
          "",
          "",
          "",
          "",
          0.057420416709964006,
          "",
          "",
          "",
          0.08140035192820816,
          3.2347310388303225,
          0.9531029898838952,
          "",
          "",
          1.5771682978898953,
          "",
          "",
          2.223269716980294,
          1.0039489341881078,
          "",
          "",
          "",
          0.008690173180074302,
          "",
          1.1899603513443568,
          "",
          "",
          "",
          0.6111153517632396,
          "",
          "",
          0.7611626800314919,
          1.6272280450759857,
          "",
          0.3674897727996652,
          1.977971052542011,
          0.4740905746421403,
          1.4221827696203653,
          0.30339002133956283,
          0.6649301570145391,
          "",
          "",
          0.020711633151068498,
          0.8256954804508032,
          1.2460548679204049,
          "",
          0.36983056728093017,
          "",
          3.0549007711326284,
          0.053553604549519,
          0.4852399703219432,
          "",
          1.5645203863773336,
          "",
          "",
          0.48628680153490944,
          "",
          0.9035419138078713,
          0.4980922897874626,
          "",
          "",
          0.8076548708669817,
          0.6877769635896945,
          "",
          "",
          2.240412125765113,
          1.7511127994453355,
          0.16631499479400552,
          1.709044916526199,
          1.7973149216786415,
          "",
          1.6030456928687464,
          1.9997955024558352,
          0.16607381715324765,
          "",
          "",
          "",
          "",
          0.7154249103000444,
          "",
          0.48967548266681754
         ],
         "yaxis": "y2"
        },
        {
         "connectgaps": false,
         "fill": "tozeroy",
         "line": {
          "color": "red",
          "dash": "solid",
          "shape": "linear",
          "width": 0.5
         },
         "mode": "lines",
         "name": "Spread",
         "showlegend": false,
         "type": "scatter",
         "x": [
          0,
          1,
          2,
          3,
          4,
          5,
          6,
          7,
          8,
          9,
          10,
          11,
          12,
          13,
          14,
          15,
          16,
          17,
          18,
          19,
          20,
          21,
          22,
          23,
          24,
          25,
          26,
          27,
          28,
          29,
          30,
          31,
          32,
          33,
          34,
          35,
          36,
          37,
          38,
          39,
          40,
          41,
          42,
          43,
          44,
          45,
          46,
          47,
          48,
          49,
          50,
          51,
          52,
          53,
          54,
          55,
          56,
          57,
          58,
          59,
          60,
          61,
          62,
          63,
          64,
          65,
          66,
          67,
          68,
          69,
          70,
          71,
          72,
          73,
          74,
          75,
          76,
          77,
          78,
          79,
          80,
          81,
          82,
          83,
          84,
          85,
          86,
          87,
          88,
          89,
          90,
          91,
          92,
          93,
          94,
          95,
          96,
          97,
          98,
          99
         ],
         "xaxis": "x2",
         "y": [
          "",
          -0.8337077024869759,
          "",
          -3.3203074788952343,
          "",
          -0.6990248998889431,
          "",
          "",
          -0.2718815707186544,
          "",
          -0.1397721049531787,
          "",
          "",
          -3.0383309100844507,
          -3.3419993706262296,
          "",
          "",
          "",
          "",
          "",
          -0.5595695725979046,
          -1.3054185812970152,
          -0.27425249420260656,
          -2.04806192569461,
          "",
          -0.5633583074228545,
          -1.3312522146488253,
          -0.3417329216085816,
          "",
          "",
          "",
          -0.047547867895132656,
          -0.2857394560830906,
          "",
          -0.561164919866315,
          -0.7680088203485881,
          "",
          "",
          -1.4969418171318758,
          -0.4948906740926666,
          -0.7987035755912801,
          "",
          -0.951843328233856,
          "",
          -1.193913005140559,
          -1.0633491747066084,
          -0.7591714837925125,
          "",
          -1.642022625608638,
          -0.14503306522616977,
          "",
          "",
          -1.3930727340970168,
          "",
          "",
          "",
          "",
          "",
          "",
          -2.0350696337777734,
          -1.0929294727917584,
          "",
          "",
          "",
          -1.6874209407862488,
          "",
          -1.1579453511125752,
          "",
          "",
          "",
          -0.16209004633355725,
          "",
          -1.0940366598552416,
          -2.05296272196183,
          "",
          -0.7400776328596245,
          "",
          "",
          -2.4990126835107764,
          -2.3733429845106877,
          "",
          "",
          -0.0037545869505914986,
          -1.3289150113810835,
          "",
          "",
          "",
          "",
          "",
          -1.3468817670220674,
          "",
          "",
          "",
          -1.248673629049757,
          -0.4779411816110019,
          -1.4655312346530514,
          -1.7789264846215334,
          "",
          -0.3576645647882729,
          ""
         ],
         "yaxis": "y2"
        }
       ],
       "layout": {
        "hovermode": "x",
        "legend": {
         "bgcolor": "#F5F6F9",
         "font": {
          "color": "#4D5663"
         }
        },
        "paper_bgcolor": "#F5F6F9",
        "plot_bgcolor": "#F5F6F9",
        "template": {
         "data": {
          "bar": [
           {
            "error_x": {
             "color": "#2a3f5f"
            },
            "error_y": {
             "color": "#2a3f5f"
            },
            "marker": {
             "line": {
              "color": "#E5ECF6",
              "width": 0.5
             }
            },
            "type": "bar"
           }
          ],
          "barpolar": [
           {
            "marker": {
             "line": {
              "color": "#E5ECF6",
              "width": 0.5
             }
            },
            "type": "barpolar"
           }
          ],
          "carpet": [
           {
            "aaxis": {
             "endlinecolor": "#2a3f5f",
             "gridcolor": "white",
             "linecolor": "white",
             "minorgridcolor": "white",
             "startlinecolor": "#2a3f5f"
            },
            "baxis": {
             "endlinecolor": "#2a3f5f",
             "gridcolor": "white",
             "linecolor": "white",
             "minorgridcolor": "white",
             "startlinecolor": "#2a3f5f"
            },
            "type": "carpet"
           }
          ],
          "choropleth": [
           {
            "colorbar": {
             "outlinewidth": 0,
             "ticks": ""
            },
            "type": "choropleth"
           }
          ],
          "contour": [
           {
            "colorbar": {
             "outlinewidth": 0,
             "ticks": ""
            },
            "colorscale": [
             [
              0,
              "#0d0887"
             ],
             [
              0.1111111111111111,
              "#46039f"
             ],
             [
              0.2222222222222222,
              "#7201a8"
             ],
             [
              0.3333333333333333,
              "#9c179e"
             ],
             [
              0.4444444444444444,
              "#bd3786"
             ],
             [
              0.5555555555555556,
              "#d8576b"
             ],
             [
              0.6666666666666666,
              "#ed7953"
             ],
             [
              0.7777777777777778,
              "#fb9f3a"
             ],
             [
              0.8888888888888888,
              "#fdca26"
             ],
             [
              1,
              "#f0f921"
             ]
            ],
            "type": "contour"
           }
          ],
          "contourcarpet": [
           {
            "colorbar": {
             "outlinewidth": 0,
             "ticks": ""
            },
            "type": "contourcarpet"
           }
          ],
          "heatmap": [
           {
            "colorbar": {
             "outlinewidth": 0,
             "ticks": ""
            },
            "colorscale": [
             [
              0,
              "#0d0887"
             ],
             [
              0.1111111111111111,
              "#46039f"
             ],
             [
              0.2222222222222222,
              "#7201a8"
             ],
             [
              0.3333333333333333,
              "#9c179e"
             ],
             [
              0.4444444444444444,
              "#bd3786"
             ],
             [
              0.5555555555555556,
              "#d8576b"
             ],
             [
              0.6666666666666666,
              "#ed7953"
             ],
             [
              0.7777777777777778,
              "#fb9f3a"
             ],
             [
              0.8888888888888888,
              "#fdca26"
             ],
             [
              1,
              "#f0f921"
             ]
            ],
            "type": "heatmap"
           }
          ],
          "heatmapgl": [
           {
            "colorbar": {
             "outlinewidth": 0,
             "ticks": ""
            },
            "colorscale": [
             [
              0,
              "#0d0887"
             ],
             [
              0.1111111111111111,
              "#46039f"
             ],
             [
              0.2222222222222222,
              "#7201a8"
             ],
             [
              0.3333333333333333,
              "#9c179e"
             ],
             [
              0.4444444444444444,
              "#bd3786"
             ],
             [
              0.5555555555555556,
              "#d8576b"
             ],
             [
              0.6666666666666666,
              "#ed7953"
             ],
             [
              0.7777777777777778,
              "#fb9f3a"
             ],
             [
              0.8888888888888888,
              "#fdca26"
             ],
             [
              1,
              "#f0f921"
             ]
            ],
            "type": "heatmapgl"
           }
          ],
          "histogram": [
           {
            "marker": {
             "colorbar": {
              "outlinewidth": 0,
              "ticks": ""
             }
            },
            "type": "histogram"
           }
          ],
          "histogram2d": [
           {
            "colorbar": {
             "outlinewidth": 0,
             "ticks": ""
            },
            "colorscale": [
             [
              0,
              "#0d0887"
             ],
             [
              0.1111111111111111,
              "#46039f"
             ],
             [
              0.2222222222222222,
              "#7201a8"
             ],
             [
              0.3333333333333333,
              "#9c179e"
             ],
             [
              0.4444444444444444,
              "#bd3786"
             ],
             [
              0.5555555555555556,
              "#d8576b"
             ],
             [
              0.6666666666666666,
              "#ed7953"
             ],
             [
              0.7777777777777778,
              "#fb9f3a"
             ],
             [
              0.8888888888888888,
              "#fdca26"
             ],
             [
              1,
              "#f0f921"
             ]
            ],
            "type": "histogram2d"
           }
          ],
          "histogram2dcontour": [
           {
            "colorbar": {
             "outlinewidth": 0,
             "ticks": ""
            },
            "colorscale": [
             [
              0,
              "#0d0887"
             ],
             [
              0.1111111111111111,
              "#46039f"
             ],
             [
              0.2222222222222222,
              "#7201a8"
             ],
             [
              0.3333333333333333,
              "#9c179e"
             ],
             [
              0.4444444444444444,
              "#bd3786"
             ],
             [
              0.5555555555555556,
              "#d8576b"
             ],
             [
              0.6666666666666666,
              "#ed7953"
             ],
             [
              0.7777777777777778,
              "#fb9f3a"
             ],
             [
              0.8888888888888888,
              "#fdca26"
             ],
             [
              1,
              "#f0f921"
             ]
            ],
            "type": "histogram2dcontour"
           }
          ],
          "mesh3d": [
           {
            "colorbar": {
             "outlinewidth": 0,
             "ticks": ""
            },
            "type": "mesh3d"
           }
          ],
          "parcoords": [
           {
            "line": {
             "colorbar": {
              "outlinewidth": 0,
              "ticks": ""
             }
            },
            "type": "parcoords"
           }
          ],
          "pie": [
           {
            "automargin": true,
            "type": "pie"
           }
          ],
          "scatter": [
           {
            "marker": {
             "colorbar": {
              "outlinewidth": 0,
              "ticks": ""
             }
            },
            "type": "scatter"
           }
          ],
          "scatter3d": [
           {
            "line": {
             "colorbar": {
              "outlinewidth": 0,
              "ticks": ""
             }
            },
            "marker": {
             "colorbar": {
              "outlinewidth": 0,
              "ticks": ""
             }
            },
            "type": "scatter3d"
           }
          ],
          "scattercarpet": [
           {
            "marker": {
             "colorbar": {
              "outlinewidth": 0,
              "ticks": ""
             }
            },
            "type": "scattercarpet"
           }
          ],
          "scattergeo": [
           {
            "marker": {
             "colorbar": {
              "outlinewidth": 0,
              "ticks": ""
             }
            },
            "type": "scattergeo"
           }
          ],
          "scattergl": [
           {
            "marker": {
             "colorbar": {
              "outlinewidth": 0,
              "ticks": ""
             }
            },
            "type": "scattergl"
           }
          ],
          "scattermapbox": [
           {
            "marker": {
             "colorbar": {
              "outlinewidth": 0,
              "ticks": ""
             }
            },
            "type": "scattermapbox"
           }
          ],
          "scatterpolar": [
           {
            "marker": {
             "colorbar": {
              "outlinewidth": 0,
              "ticks": ""
             }
            },
            "type": "scatterpolar"
           }
          ],
          "scatterpolargl": [
           {
            "marker": {
             "colorbar": {
              "outlinewidth": 0,
              "ticks": ""
             }
            },
            "type": "scatterpolargl"
           }
          ],
          "scatterternary": [
           {
            "marker": {
             "colorbar": {
              "outlinewidth": 0,
              "ticks": ""
             }
            },
            "type": "scatterternary"
           }
          ],
          "surface": [
           {
            "colorbar": {
             "outlinewidth": 0,
             "ticks": ""
            },
            "colorscale": [
             [
              0,
              "#0d0887"
             ],
             [
              0.1111111111111111,
              "#46039f"
             ],
             [
              0.2222222222222222,
              "#7201a8"
             ],
             [
              0.3333333333333333,
              "#9c179e"
             ],
             [
              0.4444444444444444,
              "#bd3786"
             ],
             [
              0.5555555555555556,
              "#d8576b"
             ],
             [
              0.6666666666666666,
              "#ed7953"
             ],
             [
              0.7777777777777778,
              "#fb9f3a"
             ],
             [
              0.8888888888888888,
              "#fdca26"
             ],
             [
              1,
              "#f0f921"
             ]
            ],
            "type": "surface"
           }
          ],
          "table": [
           {
            "cells": {
             "fill": {
              "color": "#EBF0F8"
             },
             "line": {
              "color": "white"
             }
            },
            "header": {
             "fill": {
              "color": "#C8D4E3"
             },
             "line": {
              "color": "white"
             }
            },
            "type": "table"
           }
          ]
         },
         "layout": {
          "annotationdefaults": {
           "arrowcolor": "#2a3f5f",
           "arrowhead": 0,
           "arrowwidth": 1
          },
          "autotypenumbers": "strict",
          "coloraxis": {
           "colorbar": {
            "outlinewidth": 0,
            "ticks": ""
           }
          },
          "colorscale": {
           "diverging": [
            [
             0,
             "#8e0152"
            ],
            [
             0.1,
             "#c51b7d"
            ],
            [
             0.2,
             "#de77ae"
            ],
            [
             0.3,
             "#f1b6da"
            ],
            [
             0.4,
             "#fde0ef"
            ],
            [
             0.5,
             "#f7f7f7"
            ],
            [
             0.6,
             "#e6f5d0"
            ],
            [
             0.7,
             "#b8e186"
            ],
            [
             0.8,
             "#7fbc41"
            ],
            [
             0.9,
             "#4d9221"
            ],
            [
             1,
             "#276419"
            ]
           ],
           "sequential": [
            [
             0,
             "#0d0887"
            ],
            [
             0.1111111111111111,
             "#46039f"
            ],
            [
             0.2222222222222222,
             "#7201a8"
            ],
            [
             0.3333333333333333,
             "#9c179e"
            ],
            [
             0.4444444444444444,
             "#bd3786"
            ],
            [
             0.5555555555555556,
             "#d8576b"
            ],
            [
             0.6666666666666666,
             "#ed7953"
            ],
            [
             0.7777777777777778,
             "#fb9f3a"
            ],
            [
             0.8888888888888888,
             "#fdca26"
            ],
            [
             1,
             "#f0f921"
            ]
           ],
           "sequentialminus": [
            [
             0,
             "#0d0887"
            ],
            [
             0.1111111111111111,
             "#46039f"
            ],
            [
             0.2222222222222222,
             "#7201a8"
            ],
            [
             0.3333333333333333,
             "#9c179e"
            ],
            [
             0.4444444444444444,
             "#bd3786"
            ],
            [
             0.5555555555555556,
             "#d8576b"
            ],
            [
             0.6666666666666666,
             "#ed7953"
            ],
            [
             0.7777777777777778,
             "#fb9f3a"
            ],
            [
             0.8888888888888888,
             "#fdca26"
            ],
            [
             1,
             "#f0f921"
            ]
           ]
          },
          "colorway": [
           "#636efa",
           "#EF553B",
           "#00cc96",
           "#ab63fa",
           "#FFA15A",
           "#19d3f3",
           "#FF6692",
           "#B6E880",
           "#FF97FF",
           "#FECB52"
          ],
          "font": {
           "color": "#2a3f5f"
          },
          "geo": {
           "bgcolor": "white",
           "lakecolor": "white",
           "landcolor": "#E5ECF6",
           "showlakes": true,
           "showland": true,
           "subunitcolor": "white"
          },
          "hoverlabel": {
           "align": "left"
          },
          "hovermode": "closest",
          "mapbox": {
           "style": "light"
          },
          "paper_bgcolor": "white",
          "plot_bgcolor": "#E5ECF6",
          "polar": {
           "angularaxis": {
            "gridcolor": "white",
            "linecolor": "white",
            "ticks": ""
           },
           "bgcolor": "#E5ECF6",
           "radialaxis": {
            "gridcolor": "white",
            "linecolor": "white",
            "ticks": ""
           }
          },
          "scene": {
           "xaxis": {
            "backgroundcolor": "#E5ECF6",
            "gridcolor": "white",
            "gridwidth": 2,
            "linecolor": "white",
            "showbackground": true,
            "ticks": "",
            "zerolinecolor": "white"
           },
           "yaxis": {
            "backgroundcolor": "#E5ECF6",
            "gridcolor": "white",
            "gridwidth": 2,
            "linecolor": "white",
            "showbackground": true,
            "ticks": "",
            "zerolinecolor": "white"
           },
           "zaxis": {
            "backgroundcolor": "#E5ECF6",
            "gridcolor": "white",
            "gridwidth": 2,
            "linecolor": "white",
            "showbackground": true,
            "ticks": "",
            "zerolinecolor": "white"
           }
          },
          "shapedefaults": {
           "line": {
            "color": "#2a3f5f"
           }
          },
          "ternary": {
           "aaxis": {
            "gridcolor": "white",
            "linecolor": "white",
            "ticks": ""
           },
           "baxis": {
            "gridcolor": "white",
            "linecolor": "white",
            "ticks": ""
           },
           "bgcolor": "#E5ECF6",
           "caxis": {
            "gridcolor": "white",
            "linecolor": "white",
            "ticks": ""
           }
          },
          "title": {
           "x": 0.05
          },
          "xaxis": {
           "automargin": true,
           "gridcolor": "white",
           "linecolor": "white",
           "ticks": "",
           "title": {
            "standoff": 15
           },
           "zerolinecolor": "white",
           "zerolinewidth": 2
          },
          "yaxis": {
           "automargin": true,
           "gridcolor": "white",
           "linecolor": "white",
           "ticks": "",
           "title": {
            "standoff": 15
           },
           "zerolinecolor": "white",
           "zerolinewidth": 2
          }
         }
        },
        "title": {
         "font": {
          "color": "#4D5663"
         }
        },
        "xaxis": {
         "gridcolor": "#E1E5ED",
         "showgrid": true,
         "tickfont": {
          "color": "#4D5663"
         },
         "title": {
          "font": {
           "color": "#4D5663"
          },
          "text": ""
         },
         "zerolinecolor": "#E1E5ED"
        },
        "xaxis2": {
         "anchor": "y2",
         "gridcolor": "#E1E5ED",
         "showgrid": true,
         "showticklabels": false,
         "tickfont": {
          "color": "#4D5663"
         },
         "title": {
          "font": {
           "color": "#4D5663"
          },
          "text": ""
         },
         "zerolinecolor": "#E1E5ED"
        },
        "yaxis": {
         "domain": [
          0.3,
          1
         ],
         "gridcolor": "#E1E5ED",
         "showgrid": true,
         "tickfont": {
          "color": "#4D5663"
         },
         "title": {
          "font": {
           "color": "#4D5663"
          },
          "text": ""
         },
         "zerolinecolor": "#E1E5ED"
        },
        "yaxis2": {
         "domain": [
          0,
          0.25
         ],
         "gridcolor": "#E1E5ED",
         "showgrid": true,
         "tickfont": {
          "color": "#4D5663"
         },
         "title": {
          "font": {
           "color": "#4D5663"
          },
          "text": "Spread"
         },
         "zerolinecolor": "#E1E5ED"
        }
       }
      },
      "text/html": [
       "<div>                            <div id=\"2c7a41dc-0e15-454c-be97-76cf4d7238b5\" class=\"plotly-graph-div\" style=\"height:525px; width:100%;\"></div>            <script type=\"text/javascript\">                require([\"plotly\"], function(Plotly) {                    window.PLOTLYENV=window.PLOTLYENV || {};\n",
       "                    window.PLOTLYENV.BASE_URL='https://plot.ly';                                    if (document.getElementById(\"2c7a41dc-0e15-454c-be97-76cf4d7238b5\")) {                    Plotly.newPlot(                        \"2c7a41dc-0e15-454c-be97-76cf4d7238b5\",                        [{\"line\": {\"color\": \"rgba(255, 153, 51, 1.0)\", \"dash\": \"solid\", \"shape\": \"linear\", \"width\": 1.3}, \"mode\": \"lines\", \"name\": \"A\", \"text\": \"\", \"type\": \"scatter\", \"x\": [0, 1, 2, 3, 4, 5, 6, 7, 8, 9, 10, 11, 12, 13, 14, 15, 16, 17, 18, 19, 20, 21, 22, 23, 24, 25, 26, 27, 28, 29, 30, 31, 32, 33, 34, 35, 36, 37, 38, 39, 40, 41, 42, 43, 44, 45, 46, 47, 48, 49, 50, 51, 52, 53, 54, 55, 56, 57, 58, 59, 60, 61, 62, 63, 64, 65, 66, 67, 68, 69, 70, 71, 72, 73, 74, 75, 76, 77, 78, 79, 80, 81, 82, 83, 84, 85, 86, 87, 88, 89, 90, 91, 92, 93, 94, 95, 96, 97, 98, 99], \"y\": [-0.3155077874583621, 0.3797030900663316, 0.13082536129896652, -2.2125362027707243, 0.6959899932604471, -0.6651688342182054, 0.3392751939560983, -0.06426101581698589, 0.9363722872087246, 1.2876798208715128, -0.8196844023398393, 0.10550574634716345, 0.984281215420857, -0.6480877371964813, -1.0196895799590036, 0.03905274891226861, 1.5089599192845327, 1.3158362494688813, -0.3925680163977808, 2.1593895399262033, -0.9277739001087258, -1.8101984688606385, 1.1051035037837664, -1.9118969941429562, 0.5506036681161965, -2.0808993092408583, -0.17650866762141137, 0.2632788163547951, -0.6182340559844405, 1.7529663918088312, 1.1406246805389066, 0.7590908403416821, -1.4817193890130869, 0.16014759977799178, -1.1411833455404845, -0.27451731196969403, 0.9712894693061355, 0.8776435538970953, -0.9255622764713449, -0.15646200077681197, 0.12895762865690136, 0.013382331274075478, 0.008946199293052778, 1.0855960400891453, -0.9989079444164698, -0.9197301339026103, -0.510708790885548, -0.5881182748390118, -0.870030337560292, -1.855747922112066, -0.39039164081373884, 1.1694539604739602, -1.3832385950425616, -0.5338808546528805, 0.6274205428990312, 0.7377221968558098, 0.2104629902769848, 1.0332701707296545, 1.1773014071136858, -3.003363732106316, -0.6367581114030771, -0.9849507362072155, 1.172889971084506, 1.4049919559413808, -1.0665120136345716, -0.4927786792902122, -0.4287735889544915, 2.1301691553569584, 0.10248865395219325, -0.673713112327333, -0.2774788826539322, -0.9845092147425413, -1.494775948560315, -0.1590858026848481, 0.4245146132867722, -1.0527070551758853, -0.6271225927724591, -0.0932018672644432, -1.688083990261239, -0.1782681183091389, -0.47899491072394434, 0.6428012794627598, 1.4776959120729736, -0.6652938373848085, 1.352182236487618, -0.7313750627525646, 0.14174316018181848, 1.6692898036380026, 1.2245434297403823, -0.7160280045468996, 1.8260580823033306, 1.6250393454014014, -1.498852738752117, 0.527366459397921, -0.37994599350941144, -0.889761094168913, -0.6175950575590283, 0.8291700376647222, 0.052524725240034126, -0.38017490909113333]}, {\"line\": {\"color\": \"rgba(55, 128, 191, 1.0)\", \"dash\": \"solid\", \"shape\": \"linear\", \"width\": 1.3}, \"mode\": \"lines\", \"name\": \"B\", \"text\": \"\", \"type\": \"scatter\", \"x\": [0, 1, 2, 3, 4, 5, 6, 7, 8, 9, 10, 11, 12, 13, 14, 15, 16, 17, 18, 19, 20, 21, 22, 23, 24, 25, 26, 27, 28, 29, 30, 31, 32, 33, 34, 35, 36, 37, 38, 39, 40, 41, 42, 43, 44, 45, 46, 47, 48, 49, 50, 51, 52, 53, 54, 55, 56, 57, 58, 59, 60, 61, 62, 63, 64, 65, 66, 67, 68, 69, 70, 71, 72, 73, 74, 75, 76, 77, 78, 79, 80, 81, 82, 83, 84, 85, 86, 87, 88, 89, 90, 91, 92, 93, 94, 95, 96, 97, 98, 99], \"y\": [-0.742187179415621, 1.2134107925533075, -1.7025709041072157, 1.1077712761245098, 0.2450268665699058, 0.03385606567073771, -1.0293155394884315, -0.6351817072975786, 1.208253857927379, 0.2029117802982394, -0.6799122973866606, -0.08803443897233985, 0.5758098646913065, 2.3902431728879696, 2.322309790667226, -2.053897477260906, -0.36181402898944065, -0.49557665247321375, -0.4951736765103893, 0.37178527931536326, -0.3682043275108212, -0.5047798875636234, 1.379355997986373, 0.13616493155165393, 0.49318325140623254, -1.5175410018180038, 1.1547435470274139, 0.6050117379633767, -0.6996344079126486, -1.4817646470214914, 0.18752169065501145, 0.8066387082368147, -1.1959799329299963, -1.4170206981119036, -0.5800184256741695, 0.49349150837889405, -1.2519802476741586, -0.12630538029101265, 0.5713795406605309, 0.33842867331585463, 0.9276612042481814, 0.004692158094001177, 0.9607895275269087, -0.10436431125521162, 0.19500506072408932, 0.143619040803998, 0.24846269290696457, -1.1992336266022514, 0.7719922880483462, -1.7107148568858963, -1.1515543208452308, -0.4577740846020255, 0.009834139054455184, -0.9013706274525457, -1.35055050964298, 0.2636316222136694, -1.2117197793433805, 0.7298801493900917, 0.5123712500991467, -0.9682940983285426, 0.4561713613886814, -1.005662369358284, 0.3471944906337027, 0.1589370880209759, 0.6209089271516771, -0.8626092465711424, 0.7291717621580838, -0.9247316157756699, 0.048935049402674256, -1.1589530826492762, -0.11538883632037497, -2.5490296011198748, -0.40073928870507336, 1.8938769192769815, -0.06177218824813722, -0.3126294223162608, -1.5306645065803304, -0.5912941570519058, 0.8109286932495376, 2.1950748662015487, -1.2866497815909261, -0.04497568412693477, 1.481450499023565, 0.663621173996275, -0.8882298892774952, -2.4824878621979, -0.02457183461218704, -0.039755112888196234, -0.5727714919382593, 0.6308537624751678, 0.22301238943458415, -0.3747561570544337, -1.6649265559053648, 1.7760400884476781, 0.09799518810159046, 0.5757701404841383, 1.161331427062505, 0.1137451273646778, 0.41018929002830706, -0.8698503917579509]}, {\"connectgaps\": false, \"fill\": \"tozeroy\", \"line\": {\"color\": \"green\", \"dash\": \"solid\", \"shape\": \"linear\", \"width\": 0.5}, \"mode\": \"lines\", \"name\": \"Spread\", \"showlegend\": false, \"type\": \"scatter\", \"x\": [0, 1, 2, 3, 4, 5, 6, 7, 8, 9, 10, 11, 12, 13, 14, 15, 16, 17, 18, 19, 20, 21, 22, 23, 24, 25, 26, 27, 28, 29, 30, 31, 32, 33, 34, 35, 36, 37, 38, 39, 40, 41, 42, 43, 44, 45, 46, 47, 48, 49, 50, 51, 52, 53, 54, 55, 56, 57, 58, 59, 60, 61, 62, 63, 64, 65, 66, 67, 68, 69, 70, 71, 72, 73, 74, 75, 76, 77, 78, 79, 80, 81, 82, 83, 84, 85, 86, 87, 88, 89, 90, 91, 92, 93, 94, 95, 96, 97, 98, 99], \"xaxis\": \"x2\", \"y\": [0.42667939195725885, \"\", 1.8333962654061822, \"\", 0.4509631266905413, \"\", 1.3685907334445298, 0.5709206914805928, \"\", 1.0847680405732734, \"\", 0.1935401853195033, 0.40847135072955054, \"\", \"\", 2.0929502261731745, 1.8707739482739734, 1.811412901942095, 0.10260566011260852, 1.78760426061084, \"\", \"\", \"\", \"\", 0.057420416709964006, \"\", \"\", \"\", 0.08140035192820816, 3.2347310388303225, 0.9531029898838952, \"\", \"\", 1.5771682978898953, \"\", \"\", 2.223269716980294, 1.0039489341881078, \"\", \"\", \"\", 0.008690173180074302, \"\", 1.1899603513443568, \"\", \"\", \"\", 0.6111153517632396, \"\", \"\", 0.7611626800314919, 1.6272280450759857, \"\", 0.3674897727996652, 1.977971052542011, 0.4740905746421403, 1.4221827696203653, 0.30339002133956283, 0.6649301570145391, \"\", \"\", 0.020711633151068498, 0.8256954804508032, 1.2460548679204049, \"\", 0.36983056728093017, \"\", 3.0549007711326284, 0.053553604549519, 0.4852399703219432, \"\", 1.5645203863773336, \"\", \"\", 0.48628680153490944, \"\", 0.9035419138078713, 0.4980922897874626, \"\", \"\", 0.8076548708669817, 0.6877769635896945, \"\", \"\", 2.240412125765113, 1.7511127994453355, 0.16631499479400552, 1.709044916526199, 1.7973149216786415, \"\", 1.6030456928687464, 1.9997955024558352, 0.16607381715324765, \"\", \"\", \"\", \"\", 0.7154249103000444, \"\", 0.48967548266681754], \"yaxis\": \"y2\"}, {\"connectgaps\": false, \"fill\": \"tozeroy\", \"line\": {\"color\": \"red\", \"dash\": \"solid\", \"shape\": \"linear\", \"width\": 0.5}, \"mode\": \"lines\", \"name\": \"Spread\", \"showlegend\": false, \"type\": \"scatter\", \"x\": [0, 1, 2, 3, 4, 5, 6, 7, 8, 9, 10, 11, 12, 13, 14, 15, 16, 17, 18, 19, 20, 21, 22, 23, 24, 25, 26, 27, 28, 29, 30, 31, 32, 33, 34, 35, 36, 37, 38, 39, 40, 41, 42, 43, 44, 45, 46, 47, 48, 49, 50, 51, 52, 53, 54, 55, 56, 57, 58, 59, 60, 61, 62, 63, 64, 65, 66, 67, 68, 69, 70, 71, 72, 73, 74, 75, 76, 77, 78, 79, 80, 81, 82, 83, 84, 85, 86, 87, 88, 89, 90, 91, 92, 93, 94, 95, 96, 97, 98, 99], \"xaxis\": \"x2\", \"y\": [\"\", -0.8337077024869759, \"\", -3.3203074788952343, \"\", -0.6990248998889431, \"\", \"\", -0.2718815707186544, \"\", -0.1397721049531787, \"\", \"\", -3.0383309100844507, -3.3419993706262296, \"\", \"\", \"\", \"\", \"\", -0.5595695725979046, -1.3054185812970152, -0.27425249420260656, -2.04806192569461, \"\", -0.5633583074228545, -1.3312522146488253, -0.3417329216085816, \"\", \"\", \"\", -0.047547867895132656, -0.2857394560830906, \"\", -0.561164919866315, -0.7680088203485881, \"\", \"\", -1.4969418171318758, -0.4948906740926666, -0.7987035755912801, \"\", -0.951843328233856, \"\", -1.193913005140559, -1.0633491747066084, -0.7591714837925125, \"\", -1.642022625608638, -0.14503306522616977, \"\", \"\", -1.3930727340970168, \"\", \"\", \"\", \"\", \"\", \"\", -2.0350696337777734, -1.0929294727917584, \"\", \"\", \"\", -1.6874209407862488, \"\", -1.1579453511125752, \"\", \"\", \"\", -0.16209004633355725, \"\", -1.0940366598552416, -2.05296272196183, \"\", -0.7400776328596245, \"\", \"\", -2.4990126835107764, -2.3733429845106877, \"\", \"\", -0.0037545869505914986, -1.3289150113810835, \"\", \"\", \"\", \"\", \"\", -1.3468817670220674, \"\", \"\", \"\", -1.248673629049757, -0.4779411816110019, -1.4655312346530514, -1.7789264846215334, \"\", -0.3576645647882729, \"\"], \"yaxis\": \"y2\"}],                        {\"hovermode\": \"x\", \"legend\": {\"bgcolor\": \"#F5F6F9\", \"font\": {\"color\": \"#4D5663\"}}, \"paper_bgcolor\": \"#F5F6F9\", \"plot_bgcolor\": \"#F5F6F9\", \"template\": {\"data\": {\"bar\": [{\"error_x\": {\"color\": \"#2a3f5f\"}, \"error_y\": {\"color\": \"#2a3f5f\"}, \"marker\": {\"line\": {\"color\": \"#E5ECF6\", \"width\": 0.5}}, \"type\": \"bar\"}], \"barpolar\": [{\"marker\": {\"line\": {\"color\": \"#E5ECF6\", \"width\": 0.5}}, \"type\": \"barpolar\"}], \"carpet\": [{\"aaxis\": {\"endlinecolor\": \"#2a3f5f\", \"gridcolor\": \"white\", \"linecolor\": \"white\", \"minorgridcolor\": \"white\", \"startlinecolor\": \"#2a3f5f\"}, \"baxis\": {\"endlinecolor\": \"#2a3f5f\", \"gridcolor\": \"white\", \"linecolor\": \"white\", \"minorgridcolor\": \"white\", \"startlinecolor\": \"#2a3f5f\"}, \"type\": \"carpet\"}], \"choropleth\": [{\"colorbar\": {\"outlinewidth\": 0, \"ticks\": \"\"}, \"type\": \"choropleth\"}], \"contour\": [{\"colorbar\": {\"outlinewidth\": 0, \"ticks\": \"\"}, \"colorscale\": [[0.0, \"#0d0887\"], [0.1111111111111111, \"#46039f\"], [0.2222222222222222, \"#7201a8\"], [0.3333333333333333, \"#9c179e\"], [0.4444444444444444, \"#bd3786\"], [0.5555555555555556, \"#d8576b\"], [0.6666666666666666, \"#ed7953\"], [0.7777777777777778, \"#fb9f3a\"], [0.8888888888888888, \"#fdca26\"], [1.0, \"#f0f921\"]], \"type\": \"contour\"}], \"contourcarpet\": [{\"colorbar\": {\"outlinewidth\": 0, \"ticks\": \"\"}, \"type\": \"contourcarpet\"}], \"heatmap\": [{\"colorbar\": {\"outlinewidth\": 0, \"ticks\": \"\"}, \"colorscale\": [[0.0, \"#0d0887\"], [0.1111111111111111, \"#46039f\"], [0.2222222222222222, \"#7201a8\"], [0.3333333333333333, \"#9c179e\"], [0.4444444444444444, \"#bd3786\"], [0.5555555555555556, \"#d8576b\"], [0.6666666666666666, \"#ed7953\"], [0.7777777777777778, \"#fb9f3a\"], [0.8888888888888888, \"#fdca26\"], [1.0, \"#f0f921\"]], \"type\": \"heatmap\"}], \"heatmapgl\": [{\"colorbar\": {\"outlinewidth\": 0, \"ticks\": \"\"}, \"colorscale\": [[0.0, \"#0d0887\"], [0.1111111111111111, \"#46039f\"], [0.2222222222222222, \"#7201a8\"], [0.3333333333333333, \"#9c179e\"], [0.4444444444444444, \"#bd3786\"], [0.5555555555555556, \"#d8576b\"], [0.6666666666666666, \"#ed7953\"], [0.7777777777777778, \"#fb9f3a\"], [0.8888888888888888, \"#fdca26\"], [1.0, \"#f0f921\"]], \"type\": \"heatmapgl\"}], \"histogram\": [{\"marker\": {\"colorbar\": {\"outlinewidth\": 0, \"ticks\": \"\"}}, \"type\": \"histogram\"}], \"histogram2d\": [{\"colorbar\": {\"outlinewidth\": 0, \"ticks\": \"\"}, \"colorscale\": [[0.0, \"#0d0887\"], [0.1111111111111111, \"#46039f\"], [0.2222222222222222, \"#7201a8\"], [0.3333333333333333, \"#9c179e\"], [0.4444444444444444, \"#bd3786\"], [0.5555555555555556, \"#d8576b\"], [0.6666666666666666, \"#ed7953\"], [0.7777777777777778, \"#fb9f3a\"], [0.8888888888888888, \"#fdca26\"], [1.0, \"#f0f921\"]], \"type\": \"histogram2d\"}], \"histogram2dcontour\": [{\"colorbar\": {\"outlinewidth\": 0, \"ticks\": \"\"}, \"colorscale\": [[0.0, \"#0d0887\"], [0.1111111111111111, \"#46039f\"], [0.2222222222222222, \"#7201a8\"], [0.3333333333333333, \"#9c179e\"], [0.4444444444444444, \"#bd3786\"], [0.5555555555555556, \"#d8576b\"], [0.6666666666666666, \"#ed7953\"], [0.7777777777777778, \"#fb9f3a\"], [0.8888888888888888, \"#fdca26\"], [1.0, \"#f0f921\"]], \"type\": \"histogram2dcontour\"}], \"mesh3d\": [{\"colorbar\": {\"outlinewidth\": 0, \"ticks\": \"\"}, \"type\": \"mesh3d\"}], \"parcoords\": [{\"line\": {\"colorbar\": {\"outlinewidth\": 0, \"ticks\": \"\"}}, \"type\": \"parcoords\"}], \"pie\": [{\"automargin\": true, \"type\": \"pie\"}], \"scatter\": [{\"marker\": {\"colorbar\": {\"outlinewidth\": 0, \"ticks\": \"\"}}, \"type\": \"scatter\"}], \"scatter3d\": [{\"line\": {\"colorbar\": {\"outlinewidth\": 0, \"ticks\": \"\"}}, \"marker\": {\"colorbar\": {\"outlinewidth\": 0, \"ticks\": \"\"}}, \"type\": \"scatter3d\"}], \"scattercarpet\": [{\"marker\": {\"colorbar\": {\"outlinewidth\": 0, \"ticks\": \"\"}}, \"type\": \"scattercarpet\"}], \"scattergeo\": [{\"marker\": {\"colorbar\": {\"outlinewidth\": 0, \"ticks\": \"\"}}, \"type\": \"scattergeo\"}], \"scattergl\": [{\"marker\": {\"colorbar\": {\"outlinewidth\": 0, \"ticks\": \"\"}}, \"type\": \"scattergl\"}], \"scattermapbox\": [{\"marker\": {\"colorbar\": {\"outlinewidth\": 0, \"ticks\": \"\"}}, \"type\": \"scattermapbox\"}], \"scatterpolar\": [{\"marker\": {\"colorbar\": {\"outlinewidth\": 0, \"ticks\": \"\"}}, \"type\": \"scatterpolar\"}], \"scatterpolargl\": [{\"marker\": {\"colorbar\": {\"outlinewidth\": 0, \"ticks\": \"\"}}, \"type\": \"scatterpolargl\"}], \"scatterternary\": [{\"marker\": {\"colorbar\": {\"outlinewidth\": 0, \"ticks\": \"\"}}, \"type\": \"scatterternary\"}], \"surface\": [{\"colorbar\": {\"outlinewidth\": 0, \"ticks\": \"\"}, \"colorscale\": [[0.0, \"#0d0887\"], [0.1111111111111111, \"#46039f\"], [0.2222222222222222, \"#7201a8\"], [0.3333333333333333, \"#9c179e\"], [0.4444444444444444, \"#bd3786\"], [0.5555555555555556, \"#d8576b\"], [0.6666666666666666, \"#ed7953\"], [0.7777777777777778, \"#fb9f3a\"], [0.8888888888888888, \"#fdca26\"], [1.0, \"#f0f921\"]], \"type\": \"surface\"}], \"table\": [{\"cells\": {\"fill\": {\"color\": \"#EBF0F8\"}, \"line\": {\"color\": \"white\"}}, \"header\": {\"fill\": {\"color\": \"#C8D4E3\"}, \"line\": {\"color\": \"white\"}}, \"type\": \"table\"}]}, \"layout\": {\"annotationdefaults\": {\"arrowcolor\": \"#2a3f5f\", \"arrowhead\": 0, \"arrowwidth\": 1}, \"autotypenumbers\": \"strict\", \"coloraxis\": {\"colorbar\": {\"outlinewidth\": 0, \"ticks\": \"\"}}, \"colorscale\": {\"diverging\": [[0, \"#8e0152\"], [0.1, \"#c51b7d\"], [0.2, \"#de77ae\"], [0.3, \"#f1b6da\"], [0.4, \"#fde0ef\"], [0.5, \"#f7f7f7\"], [0.6, \"#e6f5d0\"], [0.7, \"#b8e186\"], [0.8, \"#7fbc41\"], [0.9, \"#4d9221\"], [1, \"#276419\"]], \"sequential\": [[0.0, \"#0d0887\"], [0.1111111111111111, \"#46039f\"], [0.2222222222222222, \"#7201a8\"], [0.3333333333333333, \"#9c179e\"], [0.4444444444444444, \"#bd3786\"], [0.5555555555555556, \"#d8576b\"], [0.6666666666666666, \"#ed7953\"], [0.7777777777777778, \"#fb9f3a\"], [0.8888888888888888, \"#fdca26\"], [1.0, \"#f0f921\"]], \"sequentialminus\": [[0.0, \"#0d0887\"], [0.1111111111111111, \"#46039f\"], [0.2222222222222222, \"#7201a8\"], [0.3333333333333333, \"#9c179e\"], [0.4444444444444444, \"#bd3786\"], [0.5555555555555556, \"#d8576b\"], [0.6666666666666666, \"#ed7953\"], [0.7777777777777778, \"#fb9f3a\"], [0.8888888888888888, \"#fdca26\"], [1.0, \"#f0f921\"]]}, \"colorway\": [\"#636efa\", \"#EF553B\", \"#00cc96\", \"#ab63fa\", \"#FFA15A\", \"#19d3f3\", \"#FF6692\", \"#B6E880\", \"#FF97FF\", \"#FECB52\"], \"font\": {\"color\": \"#2a3f5f\"}, \"geo\": {\"bgcolor\": \"white\", \"lakecolor\": \"white\", \"landcolor\": \"#E5ECF6\", \"showlakes\": true, \"showland\": true, \"subunitcolor\": \"white\"}, \"hoverlabel\": {\"align\": \"left\"}, \"hovermode\": \"closest\", \"mapbox\": {\"style\": \"light\"}, \"paper_bgcolor\": \"white\", \"plot_bgcolor\": \"#E5ECF6\", \"polar\": {\"angularaxis\": {\"gridcolor\": \"white\", \"linecolor\": \"white\", \"ticks\": \"\"}, \"bgcolor\": \"#E5ECF6\", \"radialaxis\": {\"gridcolor\": \"white\", \"linecolor\": \"white\", \"ticks\": \"\"}}, \"scene\": {\"xaxis\": {\"backgroundcolor\": \"#E5ECF6\", \"gridcolor\": \"white\", \"gridwidth\": 2, \"linecolor\": \"white\", \"showbackground\": true, \"ticks\": \"\", \"zerolinecolor\": \"white\"}, \"yaxis\": {\"backgroundcolor\": \"#E5ECF6\", \"gridcolor\": \"white\", \"gridwidth\": 2, \"linecolor\": \"white\", \"showbackground\": true, \"ticks\": \"\", \"zerolinecolor\": \"white\"}, \"zaxis\": {\"backgroundcolor\": \"#E5ECF6\", \"gridcolor\": \"white\", \"gridwidth\": 2, \"linecolor\": \"white\", \"showbackground\": true, \"ticks\": \"\", \"zerolinecolor\": \"white\"}}, \"shapedefaults\": {\"line\": {\"color\": \"#2a3f5f\"}}, \"ternary\": {\"aaxis\": {\"gridcolor\": \"white\", \"linecolor\": \"white\", \"ticks\": \"\"}, \"baxis\": {\"gridcolor\": \"white\", \"linecolor\": \"white\", \"ticks\": \"\"}, \"bgcolor\": \"#E5ECF6\", \"caxis\": {\"gridcolor\": \"white\", \"linecolor\": \"white\", \"ticks\": \"\"}}, \"title\": {\"x\": 0.05}, \"xaxis\": {\"automargin\": true, \"gridcolor\": \"white\", \"linecolor\": \"white\", \"ticks\": \"\", \"title\": {\"standoff\": 15}, \"zerolinecolor\": \"white\", \"zerolinewidth\": 2}, \"yaxis\": {\"automargin\": true, \"gridcolor\": \"white\", \"linecolor\": \"white\", \"ticks\": \"\", \"title\": {\"standoff\": 15}, \"zerolinecolor\": \"white\", \"zerolinewidth\": 2}}}, \"title\": {\"font\": {\"color\": \"#4D5663\"}}, \"xaxis\": {\"gridcolor\": \"#E1E5ED\", \"showgrid\": true, \"tickfont\": {\"color\": \"#4D5663\"}, \"title\": {\"font\": {\"color\": \"#4D5663\"}, \"text\": \"\"}, \"zerolinecolor\": \"#E1E5ED\"}, \"xaxis2\": {\"anchor\": \"y2\", \"gridcolor\": \"#E1E5ED\", \"showgrid\": true, \"showticklabels\": false, \"tickfont\": {\"color\": \"#4D5663\"}, \"title\": {\"font\": {\"color\": \"#4D5663\"}, \"text\": \"\"}, \"zerolinecolor\": \"#E1E5ED\"}, \"yaxis\": {\"domain\": [0.3, 1], \"gridcolor\": \"#E1E5ED\", \"showgrid\": true, \"tickfont\": {\"color\": \"#4D5663\"}, \"title\": {\"font\": {\"color\": \"#4D5663\"}, \"text\": \"\"}, \"zerolinecolor\": \"#E1E5ED\"}, \"yaxis2\": {\"domain\": [0, 0.25], \"gridcolor\": \"#E1E5ED\", \"showgrid\": true, \"tickfont\": {\"color\": \"#4D5663\"}, \"title\": {\"font\": {\"color\": \"#4D5663\"}, \"text\": \"Spread\"}, \"zerolinecolor\": \"#E1E5ED\"}},                        {\"showLink\": true, \"linkText\": \"Export to plot.ly\", \"plotlyServerURL\": \"https://plot.ly\", \"responsive\": true}                    ).then(function(){\n",
       "                            \n",
       "var gd = document.getElementById('2c7a41dc-0e15-454c-be97-76cf4d7238b5');\n",
       "var x = new MutationObserver(function (mutations, observer) {{\n",
       "        var display = window.getComputedStyle(gd).display;\n",
       "        if (!display || display === 'none') {{\n",
       "            console.log([gd, 'removed!']);\n",
       "            Plotly.purge(gd);\n",
       "            observer.disconnect();\n",
       "        }}\n",
       "}});\n",
       "\n",
       "// Listen for the removal of the full notebook cells\n",
       "var notebookContainer = gd.closest('#notebook-container');\n",
       "if (notebookContainer) {{\n",
       "    x.observe(notebookContainer, {childList: true});\n",
       "}}\n",
       "\n",
       "// Listen for the clearing of the current output cell\n",
       "var outputEl = gd.closest('.output');\n",
       "if (outputEl) {{\n",
       "    x.observe(outputEl, {childList: true});\n",
       "}}\n",
       "\n",
       "                        })                };                });            </script>        </div>"
      ]
     },
     "metadata": {},
     "output_type": "display_data"
    }
   ],
   "source": [
    "df[['A','B']].iplot(kind='spread')"
   ]
  },
  {
   "cell_type": "code",
   "execution_count": 45,
   "metadata": {},
   "outputs": [
    {
     "data": {
      "application/vnd.plotly.v1+json": {
       "config": {
        "linkText": "Export to plot.ly",
        "plotlyServerURL": "https://plot.ly",
        "showLink": true
       },
       "data": [
        {
         "marker": {
          "color": [
           "rgb(255, 153, 51)",
           "rgb(55, 128, 191)",
           "rgb(50, 171, 96)",
           "rgb(128, 0, 128)",
           "rgb(219, 64, 82)",
           "rgb(0, 128, 128)",
           "rgb(255, 255, 51)",
           "rgb(128, 128, 0)",
           "rgb(251, 128, 114)",
           "rgb(128, 177, 211)"
          ],
          "line": {
           "width": 1.3
          },
          "size": [
           36,
           92,
           77,
           75,
           76,
           50,
           67,
           43,
           63,
           29,
           59,
           41,
           62,
           40,
           49,
           75,
           66,
           58,
           26,
           78,
           42,
           27,
           44,
           46,
           78,
           12,
           50,
           85,
           92,
           55,
           73,
           68,
           73,
           43,
           50,
           72,
           43,
           72,
           59,
           68,
           47,
           50,
           42,
           56,
           48,
           37,
           71,
           105,
           79,
           90,
           19,
           59,
           35,
           50,
           41,
           43,
           99,
           74,
           30,
           52,
           74,
           87,
           80,
           65,
           68,
           70,
           97,
           37,
           65,
           66,
           47,
           84,
           50,
           68,
           74,
           59,
           65,
           66,
           70,
           35,
           58,
           73,
           52,
           73,
           81,
           81,
           57,
           88,
           74,
           43,
           72,
           66,
           112,
           61,
           69,
           71,
           78,
           62,
           35,
           102
          ],
          "symbol": "circle"
         },
         "mode": "markers",
         "text": "",
         "type": "scatter",
         "x": [
          -0.3155077874583621,
          0.3797030900663316,
          0.13082536129896652,
          -2.2125362027707243,
          0.6959899932604471,
          -0.6651688342182054,
          0.3392751939560983,
          -0.06426101581698589,
          0.9363722872087246,
          1.2876798208715128,
          -0.8196844023398393,
          0.10550574634716345,
          0.984281215420857,
          -0.6480877371964813,
          -1.0196895799590036,
          0.03905274891226861,
          1.5089599192845327,
          1.3158362494688813,
          -0.3925680163977808,
          2.1593895399262033,
          -0.9277739001087258,
          -1.8101984688606385,
          1.1051035037837664,
          -1.9118969941429562,
          0.5506036681161965,
          -2.0808993092408583,
          -0.17650866762141137,
          0.2632788163547951,
          -0.6182340559844405,
          1.7529663918088312,
          1.1406246805389066,
          0.7590908403416821,
          -1.4817193890130869,
          0.16014759977799178,
          -1.1411833455404845,
          -0.27451731196969403,
          0.9712894693061355,
          0.8776435538970953,
          -0.9255622764713449,
          -0.15646200077681197,
          0.12895762865690136,
          0.013382331274075478,
          0.008946199293052778,
          1.0855960400891453,
          -0.9989079444164698,
          -0.9197301339026103,
          -0.510708790885548,
          -0.5881182748390118,
          -0.870030337560292,
          -1.855747922112066,
          -0.39039164081373884,
          1.1694539604739602,
          -1.3832385950425616,
          -0.5338808546528805,
          0.6274205428990312,
          0.7377221968558098,
          0.2104629902769848,
          1.0332701707296545,
          1.1773014071136858,
          -3.003363732106316,
          -0.6367581114030771,
          -0.9849507362072155,
          1.172889971084506,
          1.4049919559413808,
          -1.0665120136345716,
          -0.4927786792902122,
          -0.4287735889544915,
          2.1301691553569584,
          0.10248865395219325,
          -0.673713112327333,
          -0.2774788826539322,
          -0.9845092147425413,
          -1.494775948560315,
          -0.1590858026848481,
          0.4245146132867722,
          -1.0527070551758853,
          -0.6271225927724591,
          -0.0932018672644432,
          -1.688083990261239,
          -0.1782681183091389,
          -0.47899491072394434,
          0.6428012794627598,
          1.4776959120729736,
          -0.6652938373848085,
          1.352182236487618,
          -0.7313750627525646,
          0.14174316018181848,
          1.6692898036380026,
          1.2245434297403823,
          -0.7160280045468996,
          1.8260580823033306,
          1.6250393454014014,
          -1.498852738752117,
          0.527366459397921,
          -0.37994599350941144,
          -0.889761094168913,
          -0.6175950575590283,
          0.8291700376647222,
          0.052524725240034126,
          -0.38017490909113333
         ],
         "y": [
          -0.742187179415621,
          1.2134107925533075,
          -1.7025709041072157,
          1.1077712761245098,
          0.2450268665699058,
          0.03385606567073771,
          -1.0293155394884315,
          -0.6351817072975786,
          1.208253857927379,
          0.2029117802982394,
          -0.6799122973866606,
          -0.08803443897233985,
          0.5758098646913065,
          2.3902431728879696,
          2.322309790667226,
          -2.053897477260906,
          -0.36181402898944065,
          -0.49557665247321375,
          -0.4951736765103893,
          0.37178527931536326,
          -0.3682043275108212,
          -0.5047798875636234,
          1.379355997986373,
          0.13616493155165393,
          0.49318325140623254,
          -1.5175410018180038,
          1.1547435470274139,
          0.6050117379633767,
          -0.6996344079126486,
          -1.4817646470214914,
          0.18752169065501145,
          0.8066387082368147,
          -1.1959799329299963,
          -1.4170206981119036,
          -0.5800184256741695,
          0.49349150837889405,
          -1.2519802476741586,
          -0.12630538029101265,
          0.5713795406605309,
          0.33842867331585463,
          0.9276612042481814,
          0.004692158094001177,
          0.9607895275269087,
          -0.10436431125521162,
          0.19500506072408932,
          0.143619040803998,
          0.24846269290696457,
          -1.1992336266022514,
          0.7719922880483462,
          -1.7107148568858963,
          -1.1515543208452308,
          -0.4577740846020255,
          0.009834139054455184,
          -0.9013706274525457,
          -1.35055050964298,
          0.2636316222136694,
          -1.2117197793433805,
          0.7298801493900917,
          0.5123712500991467,
          -0.9682940983285426,
          0.4561713613886814,
          -1.005662369358284,
          0.3471944906337027,
          0.1589370880209759,
          0.6209089271516771,
          -0.8626092465711424,
          0.7291717621580838,
          -0.9247316157756699,
          0.048935049402674256,
          -1.1589530826492762,
          -0.11538883632037497,
          -2.5490296011198748,
          -0.40073928870507336,
          1.8938769192769815,
          -0.06177218824813722,
          -0.3126294223162608,
          -1.5306645065803304,
          -0.5912941570519058,
          0.8109286932495376,
          2.1950748662015487,
          -1.2866497815909261,
          -0.04497568412693477,
          1.481450499023565,
          0.663621173996275,
          -0.8882298892774952,
          -2.4824878621979,
          -0.02457183461218704,
          -0.039755112888196234,
          -0.5727714919382593,
          0.6308537624751678,
          0.22301238943458415,
          -0.3747561570544337,
          -1.6649265559053648,
          1.7760400884476781,
          0.09799518810159046,
          0.5757701404841383,
          1.161331427062505,
          0.1137451273646778,
          0.41018929002830706,
          -0.8698503917579509
         ]
        }
       ],
       "layout": {
        "legend": {
         "bgcolor": "#F5F6F9",
         "font": {
          "color": "#4D5663"
         }
        },
        "paper_bgcolor": "#F5F6F9",
        "plot_bgcolor": "#F5F6F9",
        "template": {
         "data": {
          "bar": [
           {
            "error_x": {
             "color": "#2a3f5f"
            },
            "error_y": {
             "color": "#2a3f5f"
            },
            "marker": {
             "line": {
              "color": "#E5ECF6",
              "width": 0.5
             }
            },
            "type": "bar"
           }
          ],
          "barpolar": [
           {
            "marker": {
             "line": {
              "color": "#E5ECF6",
              "width": 0.5
             }
            },
            "type": "barpolar"
           }
          ],
          "carpet": [
           {
            "aaxis": {
             "endlinecolor": "#2a3f5f",
             "gridcolor": "white",
             "linecolor": "white",
             "minorgridcolor": "white",
             "startlinecolor": "#2a3f5f"
            },
            "baxis": {
             "endlinecolor": "#2a3f5f",
             "gridcolor": "white",
             "linecolor": "white",
             "minorgridcolor": "white",
             "startlinecolor": "#2a3f5f"
            },
            "type": "carpet"
           }
          ],
          "choropleth": [
           {
            "colorbar": {
             "outlinewidth": 0,
             "ticks": ""
            },
            "type": "choropleth"
           }
          ],
          "contour": [
           {
            "colorbar": {
             "outlinewidth": 0,
             "ticks": ""
            },
            "colorscale": [
             [
              0,
              "#0d0887"
             ],
             [
              0.1111111111111111,
              "#46039f"
             ],
             [
              0.2222222222222222,
              "#7201a8"
             ],
             [
              0.3333333333333333,
              "#9c179e"
             ],
             [
              0.4444444444444444,
              "#bd3786"
             ],
             [
              0.5555555555555556,
              "#d8576b"
             ],
             [
              0.6666666666666666,
              "#ed7953"
             ],
             [
              0.7777777777777778,
              "#fb9f3a"
             ],
             [
              0.8888888888888888,
              "#fdca26"
             ],
             [
              1,
              "#f0f921"
             ]
            ],
            "type": "contour"
           }
          ],
          "contourcarpet": [
           {
            "colorbar": {
             "outlinewidth": 0,
             "ticks": ""
            },
            "type": "contourcarpet"
           }
          ],
          "heatmap": [
           {
            "colorbar": {
             "outlinewidth": 0,
             "ticks": ""
            },
            "colorscale": [
             [
              0,
              "#0d0887"
             ],
             [
              0.1111111111111111,
              "#46039f"
             ],
             [
              0.2222222222222222,
              "#7201a8"
             ],
             [
              0.3333333333333333,
              "#9c179e"
             ],
             [
              0.4444444444444444,
              "#bd3786"
             ],
             [
              0.5555555555555556,
              "#d8576b"
             ],
             [
              0.6666666666666666,
              "#ed7953"
             ],
             [
              0.7777777777777778,
              "#fb9f3a"
             ],
             [
              0.8888888888888888,
              "#fdca26"
             ],
             [
              1,
              "#f0f921"
             ]
            ],
            "type": "heatmap"
           }
          ],
          "heatmapgl": [
           {
            "colorbar": {
             "outlinewidth": 0,
             "ticks": ""
            },
            "colorscale": [
             [
              0,
              "#0d0887"
             ],
             [
              0.1111111111111111,
              "#46039f"
             ],
             [
              0.2222222222222222,
              "#7201a8"
             ],
             [
              0.3333333333333333,
              "#9c179e"
             ],
             [
              0.4444444444444444,
              "#bd3786"
             ],
             [
              0.5555555555555556,
              "#d8576b"
             ],
             [
              0.6666666666666666,
              "#ed7953"
             ],
             [
              0.7777777777777778,
              "#fb9f3a"
             ],
             [
              0.8888888888888888,
              "#fdca26"
             ],
             [
              1,
              "#f0f921"
             ]
            ],
            "type": "heatmapgl"
           }
          ],
          "histogram": [
           {
            "marker": {
             "colorbar": {
              "outlinewidth": 0,
              "ticks": ""
             }
            },
            "type": "histogram"
           }
          ],
          "histogram2d": [
           {
            "colorbar": {
             "outlinewidth": 0,
             "ticks": ""
            },
            "colorscale": [
             [
              0,
              "#0d0887"
             ],
             [
              0.1111111111111111,
              "#46039f"
             ],
             [
              0.2222222222222222,
              "#7201a8"
             ],
             [
              0.3333333333333333,
              "#9c179e"
             ],
             [
              0.4444444444444444,
              "#bd3786"
             ],
             [
              0.5555555555555556,
              "#d8576b"
             ],
             [
              0.6666666666666666,
              "#ed7953"
             ],
             [
              0.7777777777777778,
              "#fb9f3a"
             ],
             [
              0.8888888888888888,
              "#fdca26"
             ],
             [
              1,
              "#f0f921"
             ]
            ],
            "type": "histogram2d"
           }
          ],
          "histogram2dcontour": [
           {
            "colorbar": {
             "outlinewidth": 0,
             "ticks": ""
            },
            "colorscale": [
             [
              0,
              "#0d0887"
             ],
             [
              0.1111111111111111,
              "#46039f"
             ],
             [
              0.2222222222222222,
              "#7201a8"
             ],
             [
              0.3333333333333333,
              "#9c179e"
             ],
             [
              0.4444444444444444,
              "#bd3786"
             ],
             [
              0.5555555555555556,
              "#d8576b"
             ],
             [
              0.6666666666666666,
              "#ed7953"
             ],
             [
              0.7777777777777778,
              "#fb9f3a"
             ],
             [
              0.8888888888888888,
              "#fdca26"
             ],
             [
              1,
              "#f0f921"
             ]
            ],
            "type": "histogram2dcontour"
           }
          ],
          "mesh3d": [
           {
            "colorbar": {
             "outlinewidth": 0,
             "ticks": ""
            },
            "type": "mesh3d"
           }
          ],
          "parcoords": [
           {
            "line": {
             "colorbar": {
              "outlinewidth": 0,
              "ticks": ""
             }
            },
            "type": "parcoords"
           }
          ],
          "pie": [
           {
            "automargin": true,
            "type": "pie"
           }
          ],
          "scatter": [
           {
            "marker": {
             "colorbar": {
              "outlinewidth": 0,
              "ticks": ""
             }
            },
            "type": "scatter"
           }
          ],
          "scatter3d": [
           {
            "line": {
             "colorbar": {
              "outlinewidth": 0,
              "ticks": ""
             }
            },
            "marker": {
             "colorbar": {
              "outlinewidth": 0,
              "ticks": ""
             }
            },
            "type": "scatter3d"
           }
          ],
          "scattercarpet": [
           {
            "marker": {
             "colorbar": {
              "outlinewidth": 0,
              "ticks": ""
             }
            },
            "type": "scattercarpet"
           }
          ],
          "scattergeo": [
           {
            "marker": {
             "colorbar": {
              "outlinewidth": 0,
              "ticks": ""
             }
            },
            "type": "scattergeo"
           }
          ],
          "scattergl": [
           {
            "marker": {
             "colorbar": {
              "outlinewidth": 0,
              "ticks": ""
             }
            },
            "type": "scattergl"
           }
          ],
          "scattermapbox": [
           {
            "marker": {
             "colorbar": {
              "outlinewidth": 0,
              "ticks": ""
             }
            },
            "type": "scattermapbox"
           }
          ],
          "scatterpolar": [
           {
            "marker": {
             "colorbar": {
              "outlinewidth": 0,
              "ticks": ""
             }
            },
            "type": "scatterpolar"
           }
          ],
          "scatterpolargl": [
           {
            "marker": {
             "colorbar": {
              "outlinewidth": 0,
              "ticks": ""
             }
            },
            "type": "scatterpolargl"
           }
          ],
          "scatterternary": [
           {
            "marker": {
             "colorbar": {
              "outlinewidth": 0,
              "ticks": ""
             }
            },
            "type": "scatterternary"
           }
          ],
          "surface": [
           {
            "colorbar": {
             "outlinewidth": 0,
             "ticks": ""
            },
            "colorscale": [
             [
              0,
              "#0d0887"
             ],
             [
              0.1111111111111111,
              "#46039f"
             ],
             [
              0.2222222222222222,
              "#7201a8"
             ],
             [
              0.3333333333333333,
              "#9c179e"
             ],
             [
              0.4444444444444444,
              "#bd3786"
             ],
             [
              0.5555555555555556,
              "#d8576b"
             ],
             [
              0.6666666666666666,
              "#ed7953"
             ],
             [
              0.7777777777777778,
              "#fb9f3a"
             ],
             [
              0.8888888888888888,
              "#fdca26"
             ],
             [
              1,
              "#f0f921"
             ]
            ],
            "type": "surface"
           }
          ],
          "table": [
           {
            "cells": {
             "fill": {
              "color": "#EBF0F8"
             },
             "line": {
              "color": "white"
             }
            },
            "header": {
             "fill": {
              "color": "#C8D4E3"
             },
             "line": {
              "color": "white"
             }
            },
            "type": "table"
           }
          ]
         },
         "layout": {
          "annotationdefaults": {
           "arrowcolor": "#2a3f5f",
           "arrowhead": 0,
           "arrowwidth": 1
          },
          "autotypenumbers": "strict",
          "coloraxis": {
           "colorbar": {
            "outlinewidth": 0,
            "ticks": ""
           }
          },
          "colorscale": {
           "diverging": [
            [
             0,
             "#8e0152"
            ],
            [
             0.1,
             "#c51b7d"
            ],
            [
             0.2,
             "#de77ae"
            ],
            [
             0.3,
             "#f1b6da"
            ],
            [
             0.4,
             "#fde0ef"
            ],
            [
             0.5,
             "#f7f7f7"
            ],
            [
             0.6,
             "#e6f5d0"
            ],
            [
             0.7,
             "#b8e186"
            ],
            [
             0.8,
             "#7fbc41"
            ],
            [
             0.9,
             "#4d9221"
            ],
            [
             1,
             "#276419"
            ]
           ],
           "sequential": [
            [
             0,
             "#0d0887"
            ],
            [
             0.1111111111111111,
             "#46039f"
            ],
            [
             0.2222222222222222,
             "#7201a8"
            ],
            [
             0.3333333333333333,
             "#9c179e"
            ],
            [
             0.4444444444444444,
             "#bd3786"
            ],
            [
             0.5555555555555556,
             "#d8576b"
            ],
            [
             0.6666666666666666,
             "#ed7953"
            ],
            [
             0.7777777777777778,
             "#fb9f3a"
            ],
            [
             0.8888888888888888,
             "#fdca26"
            ],
            [
             1,
             "#f0f921"
            ]
           ],
           "sequentialminus": [
            [
             0,
             "#0d0887"
            ],
            [
             0.1111111111111111,
             "#46039f"
            ],
            [
             0.2222222222222222,
             "#7201a8"
            ],
            [
             0.3333333333333333,
             "#9c179e"
            ],
            [
             0.4444444444444444,
             "#bd3786"
            ],
            [
             0.5555555555555556,
             "#d8576b"
            ],
            [
             0.6666666666666666,
             "#ed7953"
            ],
            [
             0.7777777777777778,
             "#fb9f3a"
            ],
            [
             0.8888888888888888,
             "#fdca26"
            ],
            [
             1,
             "#f0f921"
            ]
           ]
          },
          "colorway": [
           "#636efa",
           "#EF553B",
           "#00cc96",
           "#ab63fa",
           "#FFA15A",
           "#19d3f3",
           "#FF6692",
           "#B6E880",
           "#FF97FF",
           "#FECB52"
          ],
          "font": {
           "color": "#2a3f5f"
          },
          "geo": {
           "bgcolor": "white",
           "lakecolor": "white",
           "landcolor": "#E5ECF6",
           "showlakes": true,
           "showland": true,
           "subunitcolor": "white"
          },
          "hoverlabel": {
           "align": "left"
          },
          "hovermode": "closest",
          "mapbox": {
           "style": "light"
          },
          "paper_bgcolor": "white",
          "plot_bgcolor": "#E5ECF6",
          "polar": {
           "angularaxis": {
            "gridcolor": "white",
            "linecolor": "white",
            "ticks": ""
           },
           "bgcolor": "#E5ECF6",
           "radialaxis": {
            "gridcolor": "white",
            "linecolor": "white",
            "ticks": ""
           }
          },
          "scene": {
           "xaxis": {
            "backgroundcolor": "#E5ECF6",
            "gridcolor": "white",
            "gridwidth": 2,
            "linecolor": "white",
            "showbackground": true,
            "ticks": "",
            "zerolinecolor": "white"
           },
           "yaxis": {
            "backgroundcolor": "#E5ECF6",
            "gridcolor": "white",
            "gridwidth": 2,
            "linecolor": "white",
            "showbackground": true,
            "ticks": "",
            "zerolinecolor": "white"
           },
           "zaxis": {
            "backgroundcolor": "#E5ECF6",
            "gridcolor": "white",
            "gridwidth": 2,
            "linecolor": "white",
            "showbackground": true,
            "ticks": "",
            "zerolinecolor": "white"
           }
          },
          "shapedefaults": {
           "line": {
            "color": "#2a3f5f"
           }
          },
          "ternary": {
           "aaxis": {
            "gridcolor": "white",
            "linecolor": "white",
            "ticks": ""
           },
           "baxis": {
            "gridcolor": "white",
            "linecolor": "white",
            "ticks": ""
           },
           "bgcolor": "#E5ECF6",
           "caxis": {
            "gridcolor": "white",
            "linecolor": "white",
            "ticks": ""
           }
          },
          "title": {
           "x": 0.05
          },
          "xaxis": {
           "automargin": true,
           "gridcolor": "white",
           "linecolor": "white",
           "ticks": "",
           "title": {
            "standoff": 15
           },
           "zerolinecolor": "white",
           "zerolinewidth": 2
          },
          "yaxis": {
           "automargin": true,
           "gridcolor": "white",
           "linecolor": "white",
           "ticks": "",
           "title": {
            "standoff": 15
           },
           "zerolinecolor": "white",
           "zerolinewidth": 2
          }
         }
        },
        "title": {
         "font": {
          "color": "#4D5663"
         }
        },
        "xaxis": {
         "gridcolor": "#E1E5ED",
         "showgrid": true,
         "tickfont": {
          "color": "#4D5663"
         },
         "title": {
          "font": {
           "color": "#4D5663"
          },
          "text": ""
         },
         "zerolinecolor": "#E1E5ED"
        },
        "yaxis": {
         "gridcolor": "#E1E5ED",
         "showgrid": true,
         "tickfont": {
          "color": "#4D5663"
         },
         "title": {
          "font": {
           "color": "#4D5663"
          },
          "text": ""
         },
         "zerolinecolor": "#E1E5ED"
        }
       }
      },
      "text/html": [
       "<div>                            <div id=\"dd7b03aa-56bc-449a-917a-7f421b884b6a\" class=\"plotly-graph-div\" style=\"height:525px; width:100%;\"></div>            <script type=\"text/javascript\">                require([\"plotly\"], function(Plotly) {                    window.PLOTLYENV=window.PLOTLYENV || {};\n",
       "                    window.PLOTLYENV.BASE_URL='https://plot.ly';                                    if (document.getElementById(\"dd7b03aa-56bc-449a-917a-7f421b884b6a\")) {                    Plotly.newPlot(                        \"dd7b03aa-56bc-449a-917a-7f421b884b6a\",                        [{\"marker\": {\"color\": [\"rgb(255, 153, 51)\", \"rgb(55, 128, 191)\", \"rgb(50, 171, 96)\", \"rgb(128, 0, 128)\", \"rgb(219, 64, 82)\", \"rgb(0, 128, 128)\", \"rgb(255, 255, 51)\", \"rgb(128, 128, 0)\", \"rgb(251, 128, 114)\", \"rgb(128, 177, 211)\"], \"line\": {\"width\": 1.3}, \"size\": [36, 92, 77, 75, 76, 50, 67, 43, 63, 29, 59, 41, 62, 40, 49, 75, 66, 58, 26, 78, 42, 27, 44, 46, 78, 12, 50, 85, 92, 55, 73, 68, 73, 43, 50, 72, 43, 72, 59, 68, 47, 50, 42, 56, 48, 37, 71, 105, 79, 90, 19, 59, 35, 50, 41, 43, 99, 74, 30, 52, 74, 87, 80, 65, 68, 70, 97, 37, 65, 66, 47, 84, 50, 68, 74, 59, 65, 66, 70, 35, 58, 73, 52, 73, 81, 81, 57, 88, 74, 43, 72, 66, 112, 61, 69, 71, 78, 62, 35, 102], \"symbol\": \"circle\"}, \"mode\": \"markers\", \"text\": \"\", \"type\": \"scatter\", \"x\": [-0.3155077874583621, 0.3797030900663316, 0.13082536129896652, -2.2125362027707243, 0.6959899932604471, -0.6651688342182054, 0.3392751939560983, -0.06426101581698589, 0.9363722872087246, 1.2876798208715128, -0.8196844023398393, 0.10550574634716345, 0.984281215420857, -0.6480877371964813, -1.0196895799590036, 0.03905274891226861, 1.5089599192845327, 1.3158362494688813, -0.3925680163977808, 2.1593895399262033, -0.9277739001087258, -1.8101984688606385, 1.1051035037837664, -1.9118969941429562, 0.5506036681161965, -2.0808993092408583, -0.17650866762141137, 0.2632788163547951, -0.6182340559844405, 1.7529663918088312, 1.1406246805389066, 0.7590908403416821, -1.4817193890130869, 0.16014759977799178, -1.1411833455404845, -0.27451731196969403, 0.9712894693061355, 0.8776435538970953, -0.9255622764713449, -0.15646200077681197, 0.12895762865690136, 0.013382331274075478, 0.008946199293052778, 1.0855960400891453, -0.9989079444164698, -0.9197301339026103, -0.510708790885548, -0.5881182748390118, -0.870030337560292, -1.855747922112066, -0.39039164081373884, 1.1694539604739602, -1.3832385950425616, -0.5338808546528805, 0.6274205428990312, 0.7377221968558098, 0.2104629902769848, 1.0332701707296545, 1.1773014071136858, -3.003363732106316, -0.6367581114030771, -0.9849507362072155, 1.172889971084506, 1.4049919559413808, -1.0665120136345716, -0.4927786792902122, -0.4287735889544915, 2.1301691553569584, 0.10248865395219325, -0.673713112327333, -0.2774788826539322, -0.9845092147425413, -1.494775948560315, -0.1590858026848481, 0.4245146132867722, -1.0527070551758853, -0.6271225927724591, -0.0932018672644432, -1.688083990261239, -0.1782681183091389, -0.47899491072394434, 0.6428012794627598, 1.4776959120729736, -0.6652938373848085, 1.352182236487618, -0.7313750627525646, 0.14174316018181848, 1.6692898036380026, 1.2245434297403823, -0.7160280045468996, 1.8260580823033306, 1.6250393454014014, -1.498852738752117, 0.527366459397921, -0.37994599350941144, -0.889761094168913, -0.6175950575590283, 0.8291700376647222, 0.052524725240034126, -0.38017490909113333], \"y\": [-0.742187179415621, 1.2134107925533075, -1.7025709041072157, 1.1077712761245098, 0.2450268665699058, 0.03385606567073771, -1.0293155394884315, -0.6351817072975786, 1.208253857927379, 0.2029117802982394, -0.6799122973866606, -0.08803443897233985, 0.5758098646913065, 2.3902431728879696, 2.322309790667226, -2.053897477260906, -0.36181402898944065, -0.49557665247321375, -0.4951736765103893, 0.37178527931536326, -0.3682043275108212, -0.5047798875636234, 1.379355997986373, 0.13616493155165393, 0.49318325140623254, -1.5175410018180038, 1.1547435470274139, 0.6050117379633767, -0.6996344079126486, -1.4817646470214914, 0.18752169065501145, 0.8066387082368147, -1.1959799329299963, -1.4170206981119036, -0.5800184256741695, 0.49349150837889405, -1.2519802476741586, -0.12630538029101265, 0.5713795406605309, 0.33842867331585463, 0.9276612042481814, 0.004692158094001177, 0.9607895275269087, -0.10436431125521162, 0.19500506072408932, 0.143619040803998, 0.24846269290696457, -1.1992336266022514, 0.7719922880483462, -1.7107148568858963, -1.1515543208452308, -0.4577740846020255, 0.009834139054455184, -0.9013706274525457, -1.35055050964298, 0.2636316222136694, -1.2117197793433805, 0.7298801493900917, 0.5123712500991467, -0.9682940983285426, 0.4561713613886814, -1.005662369358284, 0.3471944906337027, 0.1589370880209759, 0.6209089271516771, -0.8626092465711424, 0.7291717621580838, -0.9247316157756699, 0.048935049402674256, -1.1589530826492762, -0.11538883632037497, -2.5490296011198748, -0.40073928870507336, 1.8938769192769815, -0.06177218824813722, -0.3126294223162608, -1.5306645065803304, -0.5912941570519058, 0.8109286932495376, 2.1950748662015487, -1.2866497815909261, -0.04497568412693477, 1.481450499023565, 0.663621173996275, -0.8882298892774952, -2.4824878621979, -0.02457183461218704, -0.039755112888196234, -0.5727714919382593, 0.6308537624751678, 0.22301238943458415, -0.3747561570544337, -1.6649265559053648, 1.7760400884476781, 0.09799518810159046, 0.5757701404841383, 1.161331427062505, 0.1137451273646778, 0.41018929002830706, -0.8698503917579509]}],                        {\"legend\": {\"bgcolor\": \"#F5F6F9\", \"font\": {\"color\": \"#4D5663\"}}, \"paper_bgcolor\": \"#F5F6F9\", \"plot_bgcolor\": \"#F5F6F9\", \"template\": {\"data\": {\"bar\": [{\"error_x\": {\"color\": \"#2a3f5f\"}, \"error_y\": {\"color\": \"#2a3f5f\"}, \"marker\": {\"line\": {\"color\": \"#E5ECF6\", \"width\": 0.5}}, \"type\": \"bar\"}], \"barpolar\": [{\"marker\": {\"line\": {\"color\": \"#E5ECF6\", \"width\": 0.5}}, \"type\": \"barpolar\"}], \"carpet\": [{\"aaxis\": {\"endlinecolor\": \"#2a3f5f\", \"gridcolor\": \"white\", \"linecolor\": \"white\", \"minorgridcolor\": \"white\", \"startlinecolor\": \"#2a3f5f\"}, \"baxis\": {\"endlinecolor\": \"#2a3f5f\", \"gridcolor\": \"white\", \"linecolor\": \"white\", \"minorgridcolor\": \"white\", \"startlinecolor\": \"#2a3f5f\"}, \"type\": \"carpet\"}], \"choropleth\": [{\"colorbar\": {\"outlinewidth\": 0, \"ticks\": \"\"}, \"type\": \"choropleth\"}], \"contour\": [{\"colorbar\": {\"outlinewidth\": 0, \"ticks\": \"\"}, \"colorscale\": [[0.0, \"#0d0887\"], [0.1111111111111111, \"#46039f\"], [0.2222222222222222, \"#7201a8\"], [0.3333333333333333, \"#9c179e\"], [0.4444444444444444, \"#bd3786\"], [0.5555555555555556, \"#d8576b\"], [0.6666666666666666, \"#ed7953\"], [0.7777777777777778, \"#fb9f3a\"], [0.8888888888888888, \"#fdca26\"], [1.0, \"#f0f921\"]], \"type\": \"contour\"}], \"contourcarpet\": [{\"colorbar\": {\"outlinewidth\": 0, \"ticks\": \"\"}, \"type\": \"contourcarpet\"}], \"heatmap\": [{\"colorbar\": {\"outlinewidth\": 0, \"ticks\": \"\"}, \"colorscale\": [[0.0, \"#0d0887\"], [0.1111111111111111, \"#46039f\"], [0.2222222222222222, \"#7201a8\"], [0.3333333333333333, \"#9c179e\"], [0.4444444444444444, \"#bd3786\"], [0.5555555555555556, \"#d8576b\"], [0.6666666666666666, \"#ed7953\"], [0.7777777777777778, \"#fb9f3a\"], [0.8888888888888888, \"#fdca26\"], [1.0, \"#f0f921\"]], \"type\": \"heatmap\"}], \"heatmapgl\": [{\"colorbar\": {\"outlinewidth\": 0, \"ticks\": \"\"}, \"colorscale\": [[0.0, \"#0d0887\"], [0.1111111111111111, \"#46039f\"], [0.2222222222222222, \"#7201a8\"], [0.3333333333333333, \"#9c179e\"], [0.4444444444444444, \"#bd3786\"], [0.5555555555555556, \"#d8576b\"], [0.6666666666666666, \"#ed7953\"], [0.7777777777777778, \"#fb9f3a\"], [0.8888888888888888, \"#fdca26\"], [1.0, \"#f0f921\"]], \"type\": \"heatmapgl\"}], \"histogram\": [{\"marker\": {\"colorbar\": {\"outlinewidth\": 0, \"ticks\": \"\"}}, \"type\": \"histogram\"}], \"histogram2d\": [{\"colorbar\": {\"outlinewidth\": 0, \"ticks\": \"\"}, \"colorscale\": [[0.0, \"#0d0887\"], [0.1111111111111111, \"#46039f\"], [0.2222222222222222, \"#7201a8\"], [0.3333333333333333, \"#9c179e\"], [0.4444444444444444, \"#bd3786\"], [0.5555555555555556, \"#d8576b\"], [0.6666666666666666, \"#ed7953\"], [0.7777777777777778, \"#fb9f3a\"], [0.8888888888888888, \"#fdca26\"], [1.0, \"#f0f921\"]], \"type\": \"histogram2d\"}], \"histogram2dcontour\": [{\"colorbar\": {\"outlinewidth\": 0, \"ticks\": \"\"}, \"colorscale\": [[0.0, \"#0d0887\"], [0.1111111111111111, \"#46039f\"], [0.2222222222222222, \"#7201a8\"], [0.3333333333333333, \"#9c179e\"], [0.4444444444444444, \"#bd3786\"], [0.5555555555555556, \"#d8576b\"], [0.6666666666666666, \"#ed7953\"], [0.7777777777777778, \"#fb9f3a\"], [0.8888888888888888, \"#fdca26\"], [1.0, \"#f0f921\"]], \"type\": \"histogram2dcontour\"}], \"mesh3d\": [{\"colorbar\": {\"outlinewidth\": 0, \"ticks\": \"\"}, \"type\": \"mesh3d\"}], \"parcoords\": [{\"line\": {\"colorbar\": {\"outlinewidth\": 0, \"ticks\": \"\"}}, \"type\": \"parcoords\"}], \"pie\": [{\"automargin\": true, \"type\": \"pie\"}], \"scatter\": [{\"marker\": {\"colorbar\": {\"outlinewidth\": 0, \"ticks\": \"\"}}, \"type\": \"scatter\"}], \"scatter3d\": [{\"line\": {\"colorbar\": {\"outlinewidth\": 0, \"ticks\": \"\"}}, \"marker\": {\"colorbar\": {\"outlinewidth\": 0, \"ticks\": \"\"}}, \"type\": \"scatter3d\"}], \"scattercarpet\": [{\"marker\": {\"colorbar\": {\"outlinewidth\": 0, \"ticks\": \"\"}}, \"type\": \"scattercarpet\"}], \"scattergeo\": [{\"marker\": {\"colorbar\": {\"outlinewidth\": 0, \"ticks\": \"\"}}, \"type\": \"scattergeo\"}], \"scattergl\": [{\"marker\": {\"colorbar\": {\"outlinewidth\": 0, \"ticks\": \"\"}}, \"type\": \"scattergl\"}], \"scattermapbox\": [{\"marker\": {\"colorbar\": {\"outlinewidth\": 0, \"ticks\": \"\"}}, \"type\": \"scattermapbox\"}], \"scatterpolar\": [{\"marker\": {\"colorbar\": {\"outlinewidth\": 0, \"ticks\": \"\"}}, \"type\": \"scatterpolar\"}], \"scatterpolargl\": [{\"marker\": {\"colorbar\": {\"outlinewidth\": 0, \"ticks\": \"\"}}, \"type\": \"scatterpolargl\"}], \"scatterternary\": [{\"marker\": {\"colorbar\": {\"outlinewidth\": 0, \"ticks\": \"\"}}, \"type\": \"scatterternary\"}], \"surface\": [{\"colorbar\": {\"outlinewidth\": 0, \"ticks\": \"\"}, \"colorscale\": [[0.0, \"#0d0887\"], [0.1111111111111111, \"#46039f\"], [0.2222222222222222, \"#7201a8\"], [0.3333333333333333, \"#9c179e\"], [0.4444444444444444, \"#bd3786\"], [0.5555555555555556, \"#d8576b\"], [0.6666666666666666, \"#ed7953\"], [0.7777777777777778, \"#fb9f3a\"], [0.8888888888888888, \"#fdca26\"], [1.0, \"#f0f921\"]], \"type\": \"surface\"}], \"table\": [{\"cells\": {\"fill\": {\"color\": \"#EBF0F8\"}, \"line\": {\"color\": \"white\"}}, \"header\": {\"fill\": {\"color\": \"#C8D4E3\"}, \"line\": {\"color\": \"white\"}}, \"type\": \"table\"}]}, \"layout\": {\"annotationdefaults\": {\"arrowcolor\": \"#2a3f5f\", \"arrowhead\": 0, \"arrowwidth\": 1}, \"autotypenumbers\": \"strict\", \"coloraxis\": {\"colorbar\": {\"outlinewidth\": 0, \"ticks\": \"\"}}, \"colorscale\": {\"diverging\": [[0, \"#8e0152\"], [0.1, \"#c51b7d\"], [0.2, \"#de77ae\"], [0.3, \"#f1b6da\"], [0.4, \"#fde0ef\"], [0.5, \"#f7f7f7\"], [0.6, \"#e6f5d0\"], [0.7, \"#b8e186\"], [0.8, \"#7fbc41\"], [0.9, \"#4d9221\"], [1, \"#276419\"]], \"sequential\": [[0.0, \"#0d0887\"], [0.1111111111111111, \"#46039f\"], [0.2222222222222222, \"#7201a8\"], [0.3333333333333333, \"#9c179e\"], [0.4444444444444444, \"#bd3786\"], [0.5555555555555556, \"#d8576b\"], [0.6666666666666666, \"#ed7953\"], [0.7777777777777778, \"#fb9f3a\"], [0.8888888888888888, \"#fdca26\"], [1.0, \"#f0f921\"]], \"sequentialminus\": [[0.0, \"#0d0887\"], [0.1111111111111111, \"#46039f\"], [0.2222222222222222, \"#7201a8\"], [0.3333333333333333, \"#9c179e\"], [0.4444444444444444, \"#bd3786\"], [0.5555555555555556, \"#d8576b\"], [0.6666666666666666, \"#ed7953\"], [0.7777777777777778, \"#fb9f3a\"], [0.8888888888888888, \"#fdca26\"], [1.0, \"#f0f921\"]]}, \"colorway\": [\"#636efa\", \"#EF553B\", \"#00cc96\", \"#ab63fa\", \"#FFA15A\", \"#19d3f3\", \"#FF6692\", \"#B6E880\", \"#FF97FF\", \"#FECB52\"], \"font\": {\"color\": \"#2a3f5f\"}, \"geo\": {\"bgcolor\": \"white\", \"lakecolor\": \"white\", \"landcolor\": \"#E5ECF6\", \"showlakes\": true, \"showland\": true, \"subunitcolor\": \"white\"}, \"hoverlabel\": {\"align\": \"left\"}, \"hovermode\": \"closest\", \"mapbox\": {\"style\": \"light\"}, \"paper_bgcolor\": \"white\", \"plot_bgcolor\": \"#E5ECF6\", \"polar\": {\"angularaxis\": {\"gridcolor\": \"white\", \"linecolor\": \"white\", \"ticks\": \"\"}, \"bgcolor\": \"#E5ECF6\", \"radialaxis\": {\"gridcolor\": \"white\", \"linecolor\": \"white\", \"ticks\": \"\"}}, \"scene\": {\"xaxis\": {\"backgroundcolor\": \"#E5ECF6\", \"gridcolor\": \"white\", \"gridwidth\": 2, \"linecolor\": \"white\", \"showbackground\": true, \"ticks\": \"\", \"zerolinecolor\": \"white\"}, \"yaxis\": {\"backgroundcolor\": \"#E5ECF6\", \"gridcolor\": \"white\", \"gridwidth\": 2, \"linecolor\": \"white\", \"showbackground\": true, \"ticks\": \"\", \"zerolinecolor\": \"white\"}, \"zaxis\": {\"backgroundcolor\": \"#E5ECF6\", \"gridcolor\": \"white\", \"gridwidth\": 2, \"linecolor\": \"white\", \"showbackground\": true, \"ticks\": \"\", \"zerolinecolor\": \"white\"}}, \"shapedefaults\": {\"line\": {\"color\": \"#2a3f5f\"}}, \"ternary\": {\"aaxis\": {\"gridcolor\": \"white\", \"linecolor\": \"white\", \"ticks\": \"\"}, \"baxis\": {\"gridcolor\": \"white\", \"linecolor\": \"white\", \"ticks\": \"\"}, \"bgcolor\": \"#E5ECF6\", \"caxis\": {\"gridcolor\": \"white\", \"linecolor\": \"white\", \"ticks\": \"\"}}, \"title\": {\"x\": 0.05}, \"xaxis\": {\"automargin\": true, \"gridcolor\": \"white\", \"linecolor\": \"white\", \"ticks\": \"\", \"title\": {\"standoff\": 15}, \"zerolinecolor\": \"white\", \"zerolinewidth\": 2}, \"yaxis\": {\"automargin\": true, \"gridcolor\": \"white\", \"linecolor\": \"white\", \"ticks\": \"\", \"title\": {\"standoff\": 15}, \"zerolinecolor\": \"white\", \"zerolinewidth\": 2}}}, \"title\": {\"font\": {\"color\": \"#4D5663\"}}, \"xaxis\": {\"gridcolor\": \"#E1E5ED\", \"showgrid\": true, \"tickfont\": {\"color\": \"#4D5663\"}, \"title\": {\"font\": {\"color\": \"#4D5663\"}, \"text\": \"\"}, \"zerolinecolor\": \"#E1E5ED\"}, \"yaxis\": {\"gridcolor\": \"#E1E5ED\", \"showgrid\": true, \"tickfont\": {\"color\": \"#4D5663\"}, \"title\": {\"font\": {\"color\": \"#4D5663\"}, \"text\": \"\"}, \"zerolinecolor\": \"#E1E5ED\"}},                        {\"showLink\": true, \"linkText\": \"Export to plot.ly\", \"plotlyServerURL\": \"https://plot.ly\", \"responsive\": true}                    ).then(function(){\n",
       "                            \n",
       "var gd = document.getElementById('dd7b03aa-56bc-449a-917a-7f421b884b6a');\n",
       "var x = new MutationObserver(function (mutations, observer) {{\n",
       "        var display = window.getComputedStyle(gd).display;\n",
       "        if (!display || display === 'none') {{\n",
       "            console.log([gd, 'removed!']);\n",
       "            Plotly.purge(gd);\n",
       "            observer.disconnect();\n",
       "        }}\n",
       "}});\n",
       "\n",
       "// Listen for the removal of the full notebook cells\n",
       "var notebookContainer = gd.closest('#notebook-container');\n",
       "if (notebookContainer) {{\n",
       "    x.observe(notebookContainer, {childList: true});\n",
       "}}\n",
       "\n",
       "// Listen for the clearing of the current output cell\n",
       "var outputEl = gd.closest('.output');\n",
       "if (outputEl) {{\n",
       "    x.observe(outputEl, {childList: true});\n",
       "}}\n",
       "\n",
       "                        })                };                });            </script>        </div>"
      ]
     },
     "metadata": {},
     "output_type": "display_data"
    }
   ],
   "source": [
    "df.iplot(kind='bubble',x='A',y='B',size='C')"
   ]
  },
  {
   "cell_type": "code",
   "execution_count": 46,
   "metadata": {},
   "outputs": [
    {
     "data": {
      "application/vnd.plotly.v1+json": {
       "config": {
        "linkText": "Export to plot.ly",
        "plotlyServerURL": "https://plot.ly",
        "showLink": true
       },
       "data": [
        {
         "histfunc": "count",
         "histnorm": "",
         "marker": {
          "color": "rgba(255, 153, 51, 1.0)",
          "line": {
           "color": "#4D5663",
           "width": 1.3
          }
         },
         "name": "A",
         "nbinsx": 10,
         "opacity": 0.8,
         "orientation": "v",
         "type": "histogram",
         "x": [
          -0.3155077874583621,
          0.3797030900663316,
          0.13082536129896652,
          -2.2125362027707243,
          0.6959899932604471,
          -0.6651688342182054,
          0.3392751939560983,
          -0.06426101581698589,
          0.9363722872087246,
          1.2876798208715128,
          -0.8196844023398393,
          0.10550574634716345,
          0.984281215420857,
          -0.6480877371964813,
          -1.0196895799590036,
          0.03905274891226861,
          1.5089599192845327,
          1.3158362494688813,
          -0.3925680163977808,
          2.1593895399262033,
          -0.9277739001087258,
          -1.8101984688606385,
          1.1051035037837664,
          -1.9118969941429562,
          0.5506036681161965,
          -2.0808993092408583,
          -0.17650866762141137,
          0.2632788163547951,
          -0.6182340559844405,
          1.7529663918088312,
          1.1406246805389066,
          0.7590908403416821,
          -1.4817193890130869,
          0.16014759977799178,
          -1.1411833455404845,
          -0.27451731196969403,
          0.9712894693061355,
          0.8776435538970953,
          -0.9255622764713449,
          -0.15646200077681197,
          0.12895762865690136,
          0.013382331274075478,
          0.008946199293052778,
          1.0855960400891453,
          -0.9989079444164698,
          -0.9197301339026103,
          -0.510708790885548,
          -0.5881182748390118,
          -0.870030337560292,
          -1.855747922112066,
          -0.39039164081373884,
          1.1694539604739602,
          -1.3832385950425616,
          -0.5338808546528805,
          0.6274205428990312,
          0.7377221968558098,
          0.2104629902769848,
          1.0332701707296545,
          1.1773014071136858,
          -3.003363732106316,
          -0.6367581114030771,
          -0.9849507362072155,
          1.172889971084506,
          1.4049919559413808,
          -1.0665120136345716,
          -0.4927786792902122,
          -0.4287735889544915,
          2.1301691553569584,
          0.10248865395219325,
          -0.673713112327333,
          -0.2774788826539322,
          -0.9845092147425413,
          -1.494775948560315,
          -0.1590858026848481,
          0.4245146132867722,
          -1.0527070551758853,
          -0.6271225927724591,
          -0.0932018672644432,
          -1.688083990261239,
          -0.1782681183091389,
          -0.47899491072394434,
          0.6428012794627598,
          1.4776959120729736,
          -0.6652938373848085,
          1.352182236487618,
          -0.7313750627525646,
          0.14174316018181848,
          1.6692898036380026,
          1.2245434297403823,
          -0.7160280045468996,
          1.8260580823033306,
          1.6250393454014014,
          -1.498852738752117,
          0.527366459397921,
          -0.37994599350941144,
          -0.889761094168913,
          -0.6175950575590283,
          0.8291700376647222,
          0.052524725240034126,
          -0.38017490909113333
         ],
         "xaxis": "x",
         "yaxis": "y"
        },
        {
         "line": {
          "color": "rgba(128, 128, 128, 1.0)",
          "dash": "solid",
          "shape": "linear",
          "width": 1.3
         },
         "marker": {
          "size": 2,
          "symbol": "circle"
         },
         "mode": "markers",
         "name": "A",
         "text": "",
         "type": "scatter",
         "x": [
          -0.742187179415621,
          1.2134107925533075,
          -1.7025709041072157,
          1.1077712761245098,
          0.2450268665699058,
          0.03385606567073771,
          -1.0293155394884315,
          -0.6351817072975786,
          1.208253857927379,
          0.2029117802982394,
          -0.6799122973866606,
          -0.08803443897233985,
          0.5758098646913065,
          2.3902431728879696,
          2.322309790667226,
          -2.053897477260906,
          -0.36181402898944065,
          -0.49557665247321375,
          -0.4951736765103893,
          0.37178527931536326,
          -0.3682043275108212,
          -0.5047798875636234,
          1.379355997986373,
          0.13616493155165393,
          0.49318325140623254,
          -1.5175410018180038,
          1.1547435470274139,
          0.6050117379633767,
          -0.6996344079126486,
          -1.4817646470214914,
          0.18752169065501145,
          0.8066387082368147,
          -1.1959799329299963,
          -1.4170206981119036,
          -0.5800184256741695,
          0.49349150837889405,
          -1.2519802476741586,
          -0.12630538029101265,
          0.5713795406605309,
          0.33842867331585463,
          0.9276612042481814,
          0.004692158094001177,
          0.9607895275269087,
          -0.10436431125521162,
          0.19500506072408932,
          0.143619040803998,
          0.24846269290696457,
          -1.1992336266022514,
          0.7719922880483462,
          -1.7107148568858963,
          -1.1515543208452308,
          -0.4577740846020255,
          0.009834139054455184,
          -0.9013706274525457,
          -1.35055050964298,
          0.2636316222136694,
          -1.2117197793433805,
          0.7298801493900917,
          0.5123712500991467,
          -0.9682940983285426,
          0.4561713613886814,
          -1.005662369358284,
          0.3471944906337027,
          0.1589370880209759,
          0.6209089271516771,
          -0.8626092465711424,
          0.7291717621580838,
          -0.9247316157756699,
          0.048935049402674256,
          -1.1589530826492762,
          -0.11538883632037497,
          -2.5490296011198748,
          -0.40073928870507336,
          1.8938769192769815,
          -0.06177218824813722,
          -0.3126294223162608,
          -1.5306645065803304,
          -0.5912941570519058,
          0.8109286932495376,
          2.1950748662015487,
          -1.2866497815909261,
          -0.04497568412693477,
          1.481450499023565,
          0.663621173996275,
          -0.8882298892774952,
          -2.4824878621979,
          -0.02457183461218704,
          -0.039755112888196234,
          -0.5727714919382593,
          0.6308537624751678,
          0.22301238943458415,
          -0.3747561570544337,
          -1.6649265559053648,
          1.7760400884476781,
          0.09799518810159046,
          0.5757701404841383,
          1.161331427062505,
          0.1137451273646778,
          0.41018929002830706,
          -0.8698503917579509
         ],
         "xaxis": "x2",
         "y": [
          -0.3155077874583621,
          0.3797030900663316,
          0.13082536129896652,
          -2.2125362027707243,
          0.6959899932604471,
          -0.6651688342182054,
          0.3392751939560983,
          -0.06426101581698589,
          0.9363722872087246,
          1.2876798208715128,
          -0.8196844023398393,
          0.10550574634716345,
          0.984281215420857,
          -0.6480877371964813,
          -1.0196895799590036,
          0.03905274891226861,
          1.5089599192845327,
          1.3158362494688813,
          -0.3925680163977808,
          2.1593895399262033,
          -0.9277739001087258,
          -1.8101984688606385,
          1.1051035037837664,
          -1.9118969941429562,
          0.5506036681161965,
          -2.0808993092408583,
          -0.17650866762141137,
          0.2632788163547951,
          -0.6182340559844405,
          1.7529663918088312,
          1.1406246805389066,
          0.7590908403416821,
          -1.4817193890130869,
          0.16014759977799178,
          -1.1411833455404845,
          -0.27451731196969403,
          0.9712894693061355,
          0.8776435538970953,
          -0.9255622764713449,
          -0.15646200077681197,
          0.12895762865690136,
          0.013382331274075478,
          0.008946199293052778,
          1.0855960400891453,
          -0.9989079444164698,
          -0.9197301339026103,
          -0.510708790885548,
          -0.5881182748390118,
          -0.870030337560292,
          -1.855747922112066,
          -0.39039164081373884,
          1.1694539604739602,
          -1.3832385950425616,
          -0.5338808546528805,
          0.6274205428990312,
          0.7377221968558098,
          0.2104629902769848,
          1.0332701707296545,
          1.1773014071136858,
          -3.003363732106316,
          -0.6367581114030771,
          -0.9849507362072155,
          1.172889971084506,
          1.4049919559413808,
          -1.0665120136345716,
          -0.4927786792902122,
          -0.4287735889544915,
          2.1301691553569584,
          0.10248865395219325,
          -0.673713112327333,
          -0.2774788826539322,
          -0.9845092147425413,
          -1.494775948560315,
          -0.1590858026848481,
          0.4245146132867722,
          -1.0527070551758853,
          -0.6271225927724591,
          -0.0932018672644432,
          -1.688083990261239,
          -0.1782681183091389,
          -0.47899491072394434,
          0.6428012794627598,
          1.4776959120729736,
          -0.6652938373848085,
          1.352182236487618,
          -0.7313750627525646,
          0.14174316018181848,
          1.6692898036380026,
          1.2245434297403823,
          -0.7160280045468996,
          1.8260580823033306,
          1.6250393454014014,
          -1.498852738752117,
          0.527366459397921,
          -0.37994599350941144,
          -0.889761094168913,
          -0.6175950575590283,
          0.8291700376647222,
          0.052524725240034126,
          -0.38017490909113333
         ],
         "yaxis": "y2"
        },
        {
         "line": {
          "color": "rgba(128, 128, 128, 1.0)",
          "dash": "solid",
          "shape": "linear",
          "width": 1.3
         },
         "marker": {
          "size": 2,
          "symbol": "circle"
         },
         "mode": "markers",
         "name": "A",
         "text": "",
         "type": "scatter",
         "x": [
          -1.2078524061832343,
          1.647806384601327,
          0.867424872152327,
          0.7669777110713896,
          0.818520999225426,
          -0.48320967186024133,
          0.35396243357211826,
          -0.8479124671901214,
          0.13457107379341118,
          -1.5782654987525453,
          -0.024899038746018128,
          -0.9661302530011148,
          0.10786866146194769,
          -1.029408787668984,
          -0.551551586968485,
          0.7478338033100305,
          0.32212826393082283,
          -0.07981914124646398,
          -1.7345386630444235,
          0.940856042038223,
          -0.893802996297651,
          -1.6838191488701428,
          -0.8193949520436961,
          -0.6986978023236927,
          0.9484716043906775,
          -2.4729774481529536,
          -0.5184931813506506,
          1.2944947036141494,
          1.6518965347606518,
          -0.27097369670413435,
          0.6607100884259512,
          0.38996016296846236,
          0.6894118859018167,
          -0.8632209729940418,
          -0.5171083610114836,
          0.6018600888172007,
          -0.8457311592941562,
          0.59764909067985,
          -0.059718166023163995,
          0.4020361989483813,
          -0.6843729666514186,
          -0.5242962066773789,
          -0.9377796468920861,
          -0.2094071465163398,
          -0.6004287234619048,
          -1.1654165511468466,
          0.552071633160766,
          2.294425554654729,
          0.9840253882237323,
          1.532463975726437,
          -2.0965363642856185,
          -0.027778544002653505,
          -1.2592610118032257,
          -0.4940128214479949,
          -0.9603470186202026,
          -0.8771390346804705,
          1.997699888499699,
          0.6984735539398365,
          -1.5234038797937803,
          -0.40855022070663927,
          0.7077209690843312,
          1.3804789004634803,
          1.0428083128544448,
          0.25439927354969954,
          0.43481566187872217,
          0.5020740992240665,
          1.9118308644715627,
          -1.1631204064945873,
          0.2444948577104291,
          0.30624170731256933,
          -0.646460226151218,
          1.2532514420256606,
          -0.48520205356676244,
          0.4214967889186345,
          0.7229831685011271,
          -0.05929358539847693,
          0.26748616985900747,
          0.2873558919730922,
          0.5109451119502947,
          -1.273673762305818,
          -0.12156207954094937,
          0.665416255241936,
          -0.3855498693882793,
          0.6556997917497112,
          1.083962308875982,
          1.051193036773326,
          -0.16569352007058658,
          1.445267284777046,
          0.7339791857623821,
          -0.8844229099045823,
          0.5934768649818013,
          0.30832968316289466,
          2.6337128110926913,
          0.054701840278038164,
          0.43980988188662745,
          0.54351591766071,
          0.9283251404799931,
          0.09876115894398224,
          -1.2533514262488898,
          2.1524972165590093
         ],
         "xaxis": "x3",
         "y": [
          -0.3155077874583621,
          0.3797030900663316,
          0.13082536129896652,
          -2.2125362027707243,
          0.6959899932604471,
          -0.6651688342182054,
          0.3392751939560983,
          -0.06426101581698589,
          0.9363722872087246,
          1.2876798208715128,
          -0.8196844023398393,
          0.10550574634716345,
          0.984281215420857,
          -0.6480877371964813,
          -1.0196895799590036,
          0.03905274891226861,
          1.5089599192845327,
          1.3158362494688813,
          -0.3925680163977808,
          2.1593895399262033,
          -0.9277739001087258,
          -1.8101984688606385,
          1.1051035037837664,
          -1.9118969941429562,
          0.5506036681161965,
          -2.0808993092408583,
          -0.17650866762141137,
          0.2632788163547951,
          -0.6182340559844405,
          1.7529663918088312,
          1.1406246805389066,
          0.7590908403416821,
          -1.4817193890130869,
          0.16014759977799178,
          -1.1411833455404845,
          -0.27451731196969403,
          0.9712894693061355,
          0.8776435538970953,
          -0.9255622764713449,
          -0.15646200077681197,
          0.12895762865690136,
          0.013382331274075478,
          0.008946199293052778,
          1.0855960400891453,
          -0.9989079444164698,
          -0.9197301339026103,
          -0.510708790885548,
          -0.5881182748390118,
          -0.870030337560292,
          -1.855747922112066,
          -0.39039164081373884,
          1.1694539604739602,
          -1.3832385950425616,
          -0.5338808546528805,
          0.6274205428990312,
          0.7377221968558098,
          0.2104629902769848,
          1.0332701707296545,
          1.1773014071136858,
          -3.003363732106316,
          -0.6367581114030771,
          -0.9849507362072155,
          1.172889971084506,
          1.4049919559413808,
          -1.0665120136345716,
          -0.4927786792902122,
          -0.4287735889544915,
          2.1301691553569584,
          0.10248865395219325,
          -0.673713112327333,
          -0.2774788826539322,
          -0.9845092147425413,
          -1.494775948560315,
          -0.1590858026848481,
          0.4245146132867722,
          -1.0527070551758853,
          -0.6271225927724591,
          -0.0932018672644432,
          -1.688083990261239,
          -0.1782681183091389,
          -0.47899491072394434,
          0.6428012794627598,
          1.4776959120729736,
          -0.6652938373848085,
          1.352182236487618,
          -0.7313750627525646,
          0.14174316018181848,
          1.6692898036380026,
          1.2245434297403823,
          -0.7160280045468996,
          1.8260580823033306,
          1.6250393454014014,
          -1.498852738752117,
          0.527366459397921,
          -0.37994599350941144,
          -0.889761094168913,
          -0.6175950575590283,
          0.8291700376647222,
          0.052524725240034126,
          -0.38017490909113333
         ],
         "yaxis": "y3"
        },
        {
         "line": {
          "color": "rgba(128, 128, 128, 1.0)",
          "dash": "solid",
          "shape": "linear",
          "width": 1.3
         },
         "marker": {
          "size": 2,
          "symbol": "circle"
         },
         "mode": "markers",
         "name": "A",
         "text": "",
         "type": "scatter",
         "x": [
          1.7026558454303116,
          1.5594219269692025,
          1.4403235877899048,
          -2.2390370525507115,
          0.16467710599817323,
          -0.9218258259100182,
          -0.2611907139315378,
          1.0977798698411936,
          0.37977150377533847,
          0.678930562576309,
          0.24027033970707695,
          -1.134130511030025,
          0.28086292437562704,
          0.8503726898773861,
          0.9055947656818857,
          -0.7918153524806373,
          -1.2086934500885222,
          -1.3335624922189502,
          -0.32424765208188006,
          -0.11862208797272265,
          0.07067805408788083,
          -1.0783026149841517,
          1.2151290995336135,
          -1.9090316261587466,
          0.7698743059492738,
          1.4226846925724372,
          -0.38905961689902124,
          -0.3890691908653827,
          -1.138098162318478,
          1.5286657168142626,
          -1.5256697797380405,
          -0.6517541801020447,
          0.6651618792751028,
          0.042148395695265156,
          0.8037912030554389,
          -1.2340590432062606,
          1.1138802032482642,
          0.24272962949614557,
          -1.0897845546442384,
          -0.1861118730117989,
          -0.28506025348328085,
          -0.577405630427034,
          0.9629284792942532,
          0.8642435985066734,
          -2.1158255595742577,
          0.9961250193213448,
          0.559105232995064,
          2.3677036955966857,
          0.30853192592085305,
          0.31965857680337983,
          -0.5789125493559564,
          -0.38674738312959595,
          1.75609531876379,
          -0.3335211959389353,
          -0.09548124952105416,
          -1.5095801851776736,
          -0.50414646443317,
          -0.3874310487330894,
          0.960662750189629,
          -0.42162185528459656,
          -1.1383848115226616,
          0.39497549251283326,
          -1.0588751065242445,
          -1.0819417784228555,
          -1.1208476331280686,
          0.548769582600236,
          -1.4957479220462382,
          -0.9123343605142379,
          -0.5407420132543753,
          -0.0030139030991650174,
          0.9181096233801954,
          -0.3682788361733208,
          -0.2944575717906814,
          -0.44024326113832996,
          0.22636349352905413,
          -0.09082428904754525,
          2.8711765900811588,
          -0.9151438925202213,
          0.3043595561190293,
          0.7625528301828641,
          -0.3890199468582452,
          0.45888215375476715,
          1.5323600237489465,
          -0.3188006834231324,
          -0.7476326812212825,
          0.8562325819537043,
          -1.3959940222047766,
          -0.0861929617313064,
          -0.9274887709992322,
          -1.0259843591608262,
          1.7701086138228979,
          0.5539931463352439,
          -0.735673032801025,
          0.5077288161248946,
          -0.2789899201810933,
          0.5197571423652604,
          2.7190894240091414,
          -0.7411929584172913,
          -0.22795472975730985,
          -0.2906902789780266
         ],
         "xaxis": "x4",
         "y": [
          -0.3155077874583621,
          0.3797030900663316,
          0.13082536129896652,
          -2.2125362027707243,
          0.6959899932604471,
          -0.6651688342182054,
          0.3392751939560983,
          -0.06426101581698589,
          0.9363722872087246,
          1.2876798208715128,
          -0.8196844023398393,
          0.10550574634716345,
          0.984281215420857,
          -0.6480877371964813,
          -1.0196895799590036,
          0.03905274891226861,
          1.5089599192845327,
          1.3158362494688813,
          -0.3925680163977808,
          2.1593895399262033,
          -0.9277739001087258,
          -1.8101984688606385,
          1.1051035037837664,
          -1.9118969941429562,
          0.5506036681161965,
          -2.0808993092408583,
          -0.17650866762141137,
          0.2632788163547951,
          -0.6182340559844405,
          1.7529663918088312,
          1.1406246805389066,
          0.7590908403416821,
          -1.4817193890130869,
          0.16014759977799178,
          -1.1411833455404845,
          -0.27451731196969403,
          0.9712894693061355,
          0.8776435538970953,
          -0.9255622764713449,
          -0.15646200077681197,
          0.12895762865690136,
          0.013382331274075478,
          0.008946199293052778,
          1.0855960400891453,
          -0.9989079444164698,
          -0.9197301339026103,
          -0.510708790885548,
          -0.5881182748390118,
          -0.870030337560292,
          -1.855747922112066,
          -0.39039164081373884,
          1.1694539604739602,
          -1.3832385950425616,
          -0.5338808546528805,
          0.6274205428990312,
          0.7377221968558098,
          0.2104629902769848,
          1.0332701707296545,
          1.1773014071136858,
          -3.003363732106316,
          -0.6367581114030771,
          -0.9849507362072155,
          1.172889971084506,
          1.4049919559413808,
          -1.0665120136345716,
          -0.4927786792902122,
          -0.4287735889544915,
          2.1301691553569584,
          0.10248865395219325,
          -0.673713112327333,
          -0.2774788826539322,
          -0.9845092147425413,
          -1.494775948560315,
          -0.1590858026848481,
          0.4245146132867722,
          -1.0527070551758853,
          -0.6271225927724591,
          -0.0932018672644432,
          -1.688083990261239,
          -0.1782681183091389,
          -0.47899491072394434,
          0.6428012794627598,
          1.4776959120729736,
          -0.6652938373848085,
          1.352182236487618,
          -0.7313750627525646,
          0.14174316018181848,
          1.6692898036380026,
          1.2245434297403823,
          -0.7160280045468996,
          1.8260580823033306,
          1.6250393454014014,
          -1.498852738752117,
          0.527366459397921,
          -0.37994599350941144,
          -0.889761094168913,
          -0.6175950575590283,
          0.8291700376647222,
          0.052524725240034126,
          -0.38017490909113333
         ],
         "yaxis": "y4"
        },
        {
         "line": {
          "color": "rgba(128, 128, 128, 1.0)",
          "dash": "solid",
          "shape": "linear",
          "width": 1.3
         },
         "marker": {
          "size": 2,
          "symbol": "circle"
         },
         "mode": "markers",
         "name": "B",
         "text": "",
         "type": "scatter",
         "x": [
          -0.3155077874583621,
          0.3797030900663316,
          0.13082536129896652,
          -2.2125362027707243,
          0.6959899932604471,
          -0.6651688342182054,
          0.3392751939560983,
          -0.06426101581698589,
          0.9363722872087246,
          1.2876798208715128,
          -0.8196844023398393,
          0.10550574634716345,
          0.984281215420857,
          -0.6480877371964813,
          -1.0196895799590036,
          0.03905274891226861,
          1.5089599192845327,
          1.3158362494688813,
          -0.3925680163977808,
          2.1593895399262033,
          -0.9277739001087258,
          -1.8101984688606385,
          1.1051035037837664,
          -1.9118969941429562,
          0.5506036681161965,
          -2.0808993092408583,
          -0.17650866762141137,
          0.2632788163547951,
          -0.6182340559844405,
          1.7529663918088312,
          1.1406246805389066,
          0.7590908403416821,
          -1.4817193890130869,
          0.16014759977799178,
          -1.1411833455404845,
          -0.27451731196969403,
          0.9712894693061355,
          0.8776435538970953,
          -0.9255622764713449,
          -0.15646200077681197,
          0.12895762865690136,
          0.013382331274075478,
          0.008946199293052778,
          1.0855960400891453,
          -0.9989079444164698,
          -0.9197301339026103,
          -0.510708790885548,
          -0.5881182748390118,
          -0.870030337560292,
          -1.855747922112066,
          -0.39039164081373884,
          1.1694539604739602,
          -1.3832385950425616,
          -0.5338808546528805,
          0.6274205428990312,
          0.7377221968558098,
          0.2104629902769848,
          1.0332701707296545,
          1.1773014071136858,
          -3.003363732106316,
          -0.6367581114030771,
          -0.9849507362072155,
          1.172889971084506,
          1.4049919559413808,
          -1.0665120136345716,
          -0.4927786792902122,
          -0.4287735889544915,
          2.1301691553569584,
          0.10248865395219325,
          -0.673713112327333,
          -0.2774788826539322,
          -0.9845092147425413,
          -1.494775948560315,
          -0.1590858026848481,
          0.4245146132867722,
          -1.0527070551758853,
          -0.6271225927724591,
          -0.0932018672644432,
          -1.688083990261239,
          -0.1782681183091389,
          -0.47899491072394434,
          0.6428012794627598,
          1.4776959120729736,
          -0.6652938373848085,
          1.352182236487618,
          -0.7313750627525646,
          0.14174316018181848,
          1.6692898036380026,
          1.2245434297403823,
          -0.7160280045468996,
          1.8260580823033306,
          1.6250393454014014,
          -1.498852738752117,
          0.527366459397921,
          -0.37994599350941144,
          -0.889761094168913,
          -0.6175950575590283,
          0.8291700376647222,
          0.052524725240034126,
          -0.38017490909113333
         ],
         "xaxis": "x5",
         "y": [
          -0.742187179415621,
          1.2134107925533075,
          -1.7025709041072157,
          1.1077712761245098,
          0.2450268665699058,
          0.03385606567073771,
          -1.0293155394884315,
          -0.6351817072975786,
          1.208253857927379,
          0.2029117802982394,
          -0.6799122973866606,
          -0.08803443897233985,
          0.5758098646913065,
          2.3902431728879696,
          2.322309790667226,
          -2.053897477260906,
          -0.36181402898944065,
          -0.49557665247321375,
          -0.4951736765103893,
          0.37178527931536326,
          -0.3682043275108212,
          -0.5047798875636234,
          1.379355997986373,
          0.13616493155165393,
          0.49318325140623254,
          -1.5175410018180038,
          1.1547435470274139,
          0.6050117379633767,
          -0.6996344079126486,
          -1.4817646470214914,
          0.18752169065501145,
          0.8066387082368147,
          -1.1959799329299963,
          -1.4170206981119036,
          -0.5800184256741695,
          0.49349150837889405,
          -1.2519802476741586,
          -0.12630538029101265,
          0.5713795406605309,
          0.33842867331585463,
          0.9276612042481814,
          0.004692158094001177,
          0.9607895275269087,
          -0.10436431125521162,
          0.19500506072408932,
          0.143619040803998,
          0.24846269290696457,
          -1.1992336266022514,
          0.7719922880483462,
          -1.7107148568858963,
          -1.1515543208452308,
          -0.4577740846020255,
          0.009834139054455184,
          -0.9013706274525457,
          -1.35055050964298,
          0.2636316222136694,
          -1.2117197793433805,
          0.7298801493900917,
          0.5123712500991467,
          -0.9682940983285426,
          0.4561713613886814,
          -1.005662369358284,
          0.3471944906337027,
          0.1589370880209759,
          0.6209089271516771,
          -0.8626092465711424,
          0.7291717621580838,
          -0.9247316157756699,
          0.048935049402674256,
          -1.1589530826492762,
          -0.11538883632037497,
          -2.5490296011198748,
          -0.40073928870507336,
          1.8938769192769815,
          -0.06177218824813722,
          -0.3126294223162608,
          -1.5306645065803304,
          -0.5912941570519058,
          0.8109286932495376,
          2.1950748662015487,
          -1.2866497815909261,
          -0.04497568412693477,
          1.481450499023565,
          0.663621173996275,
          -0.8882298892774952,
          -2.4824878621979,
          -0.02457183461218704,
          -0.039755112888196234,
          -0.5727714919382593,
          0.6308537624751678,
          0.22301238943458415,
          -0.3747561570544337,
          -1.6649265559053648,
          1.7760400884476781,
          0.09799518810159046,
          0.5757701404841383,
          1.161331427062505,
          0.1137451273646778,
          0.41018929002830706,
          -0.8698503917579509
         ],
         "yaxis": "y5"
        },
        {
         "histfunc": "count",
         "histnorm": "",
         "marker": {
          "color": "rgba(55, 128, 191, 1.0)",
          "line": {
           "color": "#4D5663",
           "width": 1.3
          }
         },
         "name": "B",
         "nbinsx": 10,
         "opacity": 0.8,
         "orientation": "v",
         "type": "histogram",
         "x": [
          -0.742187179415621,
          1.2134107925533075,
          -1.7025709041072157,
          1.1077712761245098,
          0.2450268665699058,
          0.03385606567073771,
          -1.0293155394884315,
          -0.6351817072975786,
          1.208253857927379,
          0.2029117802982394,
          -0.6799122973866606,
          -0.08803443897233985,
          0.5758098646913065,
          2.3902431728879696,
          2.322309790667226,
          -2.053897477260906,
          -0.36181402898944065,
          -0.49557665247321375,
          -0.4951736765103893,
          0.37178527931536326,
          -0.3682043275108212,
          -0.5047798875636234,
          1.379355997986373,
          0.13616493155165393,
          0.49318325140623254,
          -1.5175410018180038,
          1.1547435470274139,
          0.6050117379633767,
          -0.6996344079126486,
          -1.4817646470214914,
          0.18752169065501145,
          0.8066387082368147,
          -1.1959799329299963,
          -1.4170206981119036,
          -0.5800184256741695,
          0.49349150837889405,
          -1.2519802476741586,
          -0.12630538029101265,
          0.5713795406605309,
          0.33842867331585463,
          0.9276612042481814,
          0.004692158094001177,
          0.9607895275269087,
          -0.10436431125521162,
          0.19500506072408932,
          0.143619040803998,
          0.24846269290696457,
          -1.1992336266022514,
          0.7719922880483462,
          -1.7107148568858963,
          -1.1515543208452308,
          -0.4577740846020255,
          0.009834139054455184,
          -0.9013706274525457,
          -1.35055050964298,
          0.2636316222136694,
          -1.2117197793433805,
          0.7298801493900917,
          0.5123712500991467,
          -0.9682940983285426,
          0.4561713613886814,
          -1.005662369358284,
          0.3471944906337027,
          0.1589370880209759,
          0.6209089271516771,
          -0.8626092465711424,
          0.7291717621580838,
          -0.9247316157756699,
          0.048935049402674256,
          -1.1589530826492762,
          -0.11538883632037497,
          -2.5490296011198748,
          -0.40073928870507336,
          1.8938769192769815,
          -0.06177218824813722,
          -0.3126294223162608,
          -1.5306645065803304,
          -0.5912941570519058,
          0.8109286932495376,
          2.1950748662015487,
          -1.2866497815909261,
          -0.04497568412693477,
          1.481450499023565,
          0.663621173996275,
          -0.8882298892774952,
          -2.4824878621979,
          -0.02457183461218704,
          -0.039755112888196234,
          -0.5727714919382593,
          0.6308537624751678,
          0.22301238943458415,
          -0.3747561570544337,
          -1.6649265559053648,
          1.7760400884476781,
          0.09799518810159046,
          0.5757701404841383,
          1.161331427062505,
          0.1137451273646778,
          0.41018929002830706,
          -0.8698503917579509
         ],
         "xaxis": "x6",
         "yaxis": "y6"
        },
        {
         "line": {
          "color": "rgba(128, 128, 128, 1.0)",
          "dash": "solid",
          "shape": "linear",
          "width": 1.3
         },
         "marker": {
          "size": 2,
          "symbol": "circle"
         },
         "mode": "markers",
         "name": "B",
         "text": "",
         "type": "scatter",
         "x": [
          -1.2078524061832343,
          1.647806384601327,
          0.867424872152327,
          0.7669777110713896,
          0.818520999225426,
          -0.48320967186024133,
          0.35396243357211826,
          -0.8479124671901214,
          0.13457107379341118,
          -1.5782654987525453,
          -0.024899038746018128,
          -0.9661302530011148,
          0.10786866146194769,
          -1.029408787668984,
          -0.551551586968485,
          0.7478338033100305,
          0.32212826393082283,
          -0.07981914124646398,
          -1.7345386630444235,
          0.940856042038223,
          -0.893802996297651,
          -1.6838191488701428,
          -0.8193949520436961,
          -0.6986978023236927,
          0.9484716043906775,
          -2.4729774481529536,
          -0.5184931813506506,
          1.2944947036141494,
          1.6518965347606518,
          -0.27097369670413435,
          0.6607100884259512,
          0.38996016296846236,
          0.6894118859018167,
          -0.8632209729940418,
          -0.5171083610114836,
          0.6018600888172007,
          -0.8457311592941562,
          0.59764909067985,
          -0.059718166023163995,
          0.4020361989483813,
          -0.6843729666514186,
          -0.5242962066773789,
          -0.9377796468920861,
          -0.2094071465163398,
          -0.6004287234619048,
          -1.1654165511468466,
          0.552071633160766,
          2.294425554654729,
          0.9840253882237323,
          1.532463975726437,
          -2.0965363642856185,
          -0.027778544002653505,
          -1.2592610118032257,
          -0.4940128214479949,
          -0.9603470186202026,
          -0.8771390346804705,
          1.997699888499699,
          0.6984735539398365,
          -1.5234038797937803,
          -0.40855022070663927,
          0.7077209690843312,
          1.3804789004634803,
          1.0428083128544448,
          0.25439927354969954,
          0.43481566187872217,
          0.5020740992240665,
          1.9118308644715627,
          -1.1631204064945873,
          0.2444948577104291,
          0.30624170731256933,
          -0.646460226151218,
          1.2532514420256606,
          -0.48520205356676244,
          0.4214967889186345,
          0.7229831685011271,
          -0.05929358539847693,
          0.26748616985900747,
          0.2873558919730922,
          0.5109451119502947,
          -1.273673762305818,
          -0.12156207954094937,
          0.665416255241936,
          -0.3855498693882793,
          0.6556997917497112,
          1.083962308875982,
          1.051193036773326,
          -0.16569352007058658,
          1.445267284777046,
          0.7339791857623821,
          -0.8844229099045823,
          0.5934768649818013,
          0.30832968316289466,
          2.6337128110926913,
          0.054701840278038164,
          0.43980988188662745,
          0.54351591766071,
          0.9283251404799931,
          0.09876115894398224,
          -1.2533514262488898,
          2.1524972165590093
         ],
         "xaxis": "x7",
         "y": [
          -0.742187179415621,
          1.2134107925533075,
          -1.7025709041072157,
          1.1077712761245098,
          0.2450268665699058,
          0.03385606567073771,
          -1.0293155394884315,
          -0.6351817072975786,
          1.208253857927379,
          0.2029117802982394,
          -0.6799122973866606,
          -0.08803443897233985,
          0.5758098646913065,
          2.3902431728879696,
          2.322309790667226,
          -2.053897477260906,
          -0.36181402898944065,
          -0.49557665247321375,
          -0.4951736765103893,
          0.37178527931536326,
          -0.3682043275108212,
          -0.5047798875636234,
          1.379355997986373,
          0.13616493155165393,
          0.49318325140623254,
          -1.5175410018180038,
          1.1547435470274139,
          0.6050117379633767,
          -0.6996344079126486,
          -1.4817646470214914,
          0.18752169065501145,
          0.8066387082368147,
          -1.1959799329299963,
          -1.4170206981119036,
          -0.5800184256741695,
          0.49349150837889405,
          -1.2519802476741586,
          -0.12630538029101265,
          0.5713795406605309,
          0.33842867331585463,
          0.9276612042481814,
          0.004692158094001177,
          0.9607895275269087,
          -0.10436431125521162,
          0.19500506072408932,
          0.143619040803998,
          0.24846269290696457,
          -1.1992336266022514,
          0.7719922880483462,
          -1.7107148568858963,
          -1.1515543208452308,
          -0.4577740846020255,
          0.009834139054455184,
          -0.9013706274525457,
          -1.35055050964298,
          0.2636316222136694,
          -1.2117197793433805,
          0.7298801493900917,
          0.5123712500991467,
          -0.9682940983285426,
          0.4561713613886814,
          -1.005662369358284,
          0.3471944906337027,
          0.1589370880209759,
          0.6209089271516771,
          -0.8626092465711424,
          0.7291717621580838,
          -0.9247316157756699,
          0.048935049402674256,
          -1.1589530826492762,
          -0.11538883632037497,
          -2.5490296011198748,
          -0.40073928870507336,
          1.8938769192769815,
          -0.06177218824813722,
          -0.3126294223162608,
          -1.5306645065803304,
          -0.5912941570519058,
          0.8109286932495376,
          2.1950748662015487,
          -1.2866497815909261,
          -0.04497568412693477,
          1.481450499023565,
          0.663621173996275,
          -0.8882298892774952,
          -2.4824878621979,
          -0.02457183461218704,
          -0.039755112888196234,
          -0.5727714919382593,
          0.6308537624751678,
          0.22301238943458415,
          -0.3747561570544337,
          -1.6649265559053648,
          1.7760400884476781,
          0.09799518810159046,
          0.5757701404841383,
          1.161331427062505,
          0.1137451273646778,
          0.41018929002830706,
          -0.8698503917579509
         ],
         "yaxis": "y7"
        },
        {
         "line": {
          "color": "rgba(128, 128, 128, 1.0)",
          "dash": "solid",
          "shape": "linear",
          "width": 1.3
         },
         "marker": {
          "size": 2,
          "symbol": "circle"
         },
         "mode": "markers",
         "name": "B",
         "text": "",
         "type": "scatter",
         "x": [
          1.7026558454303116,
          1.5594219269692025,
          1.4403235877899048,
          -2.2390370525507115,
          0.16467710599817323,
          -0.9218258259100182,
          -0.2611907139315378,
          1.0977798698411936,
          0.37977150377533847,
          0.678930562576309,
          0.24027033970707695,
          -1.134130511030025,
          0.28086292437562704,
          0.8503726898773861,
          0.9055947656818857,
          -0.7918153524806373,
          -1.2086934500885222,
          -1.3335624922189502,
          -0.32424765208188006,
          -0.11862208797272265,
          0.07067805408788083,
          -1.0783026149841517,
          1.2151290995336135,
          -1.9090316261587466,
          0.7698743059492738,
          1.4226846925724372,
          -0.38905961689902124,
          -0.3890691908653827,
          -1.138098162318478,
          1.5286657168142626,
          -1.5256697797380405,
          -0.6517541801020447,
          0.6651618792751028,
          0.042148395695265156,
          0.8037912030554389,
          -1.2340590432062606,
          1.1138802032482642,
          0.24272962949614557,
          -1.0897845546442384,
          -0.1861118730117989,
          -0.28506025348328085,
          -0.577405630427034,
          0.9629284792942532,
          0.8642435985066734,
          -2.1158255595742577,
          0.9961250193213448,
          0.559105232995064,
          2.3677036955966857,
          0.30853192592085305,
          0.31965857680337983,
          -0.5789125493559564,
          -0.38674738312959595,
          1.75609531876379,
          -0.3335211959389353,
          -0.09548124952105416,
          -1.5095801851776736,
          -0.50414646443317,
          -0.3874310487330894,
          0.960662750189629,
          -0.42162185528459656,
          -1.1383848115226616,
          0.39497549251283326,
          -1.0588751065242445,
          -1.0819417784228555,
          -1.1208476331280686,
          0.548769582600236,
          -1.4957479220462382,
          -0.9123343605142379,
          -0.5407420132543753,
          -0.0030139030991650174,
          0.9181096233801954,
          -0.3682788361733208,
          -0.2944575717906814,
          -0.44024326113832996,
          0.22636349352905413,
          -0.09082428904754525,
          2.8711765900811588,
          -0.9151438925202213,
          0.3043595561190293,
          0.7625528301828641,
          -0.3890199468582452,
          0.45888215375476715,
          1.5323600237489465,
          -0.3188006834231324,
          -0.7476326812212825,
          0.8562325819537043,
          -1.3959940222047766,
          -0.0861929617313064,
          -0.9274887709992322,
          -1.0259843591608262,
          1.7701086138228979,
          0.5539931463352439,
          -0.735673032801025,
          0.5077288161248946,
          -0.2789899201810933,
          0.5197571423652604,
          2.7190894240091414,
          -0.7411929584172913,
          -0.22795472975730985,
          -0.2906902789780266
         ],
         "xaxis": "x8",
         "y": [
          -0.742187179415621,
          1.2134107925533075,
          -1.7025709041072157,
          1.1077712761245098,
          0.2450268665699058,
          0.03385606567073771,
          -1.0293155394884315,
          -0.6351817072975786,
          1.208253857927379,
          0.2029117802982394,
          -0.6799122973866606,
          -0.08803443897233985,
          0.5758098646913065,
          2.3902431728879696,
          2.322309790667226,
          -2.053897477260906,
          -0.36181402898944065,
          -0.49557665247321375,
          -0.4951736765103893,
          0.37178527931536326,
          -0.3682043275108212,
          -0.5047798875636234,
          1.379355997986373,
          0.13616493155165393,
          0.49318325140623254,
          -1.5175410018180038,
          1.1547435470274139,
          0.6050117379633767,
          -0.6996344079126486,
          -1.4817646470214914,
          0.18752169065501145,
          0.8066387082368147,
          -1.1959799329299963,
          -1.4170206981119036,
          -0.5800184256741695,
          0.49349150837889405,
          -1.2519802476741586,
          -0.12630538029101265,
          0.5713795406605309,
          0.33842867331585463,
          0.9276612042481814,
          0.004692158094001177,
          0.9607895275269087,
          -0.10436431125521162,
          0.19500506072408932,
          0.143619040803998,
          0.24846269290696457,
          -1.1992336266022514,
          0.7719922880483462,
          -1.7107148568858963,
          -1.1515543208452308,
          -0.4577740846020255,
          0.009834139054455184,
          -0.9013706274525457,
          -1.35055050964298,
          0.2636316222136694,
          -1.2117197793433805,
          0.7298801493900917,
          0.5123712500991467,
          -0.9682940983285426,
          0.4561713613886814,
          -1.005662369358284,
          0.3471944906337027,
          0.1589370880209759,
          0.6209089271516771,
          -0.8626092465711424,
          0.7291717621580838,
          -0.9247316157756699,
          0.048935049402674256,
          -1.1589530826492762,
          -0.11538883632037497,
          -2.5490296011198748,
          -0.40073928870507336,
          1.8938769192769815,
          -0.06177218824813722,
          -0.3126294223162608,
          -1.5306645065803304,
          -0.5912941570519058,
          0.8109286932495376,
          2.1950748662015487,
          -1.2866497815909261,
          -0.04497568412693477,
          1.481450499023565,
          0.663621173996275,
          -0.8882298892774952,
          -2.4824878621979,
          -0.02457183461218704,
          -0.039755112888196234,
          -0.5727714919382593,
          0.6308537624751678,
          0.22301238943458415,
          -0.3747561570544337,
          -1.6649265559053648,
          1.7760400884476781,
          0.09799518810159046,
          0.5757701404841383,
          1.161331427062505,
          0.1137451273646778,
          0.41018929002830706,
          -0.8698503917579509
         ],
         "yaxis": "y8"
        },
        {
         "line": {
          "color": "rgba(128, 128, 128, 1.0)",
          "dash": "solid",
          "shape": "linear",
          "width": 1.3
         },
         "marker": {
          "size": 2,
          "symbol": "circle"
         },
         "mode": "markers",
         "name": "C",
         "text": "",
         "type": "scatter",
         "x": [
          -0.3155077874583621,
          0.3797030900663316,
          0.13082536129896652,
          -2.2125362027707243,
          0.6959899932604471,
          -0.6651688342182054,
          0.3392751939560983,
          -0.06426101581698589,
          0.9363722872087246,
          1.2876798208715128,
          -0.8196844023398393,
          0.10550574634716345,
          0.984281215420857,
          -0.6480877371964813,
          -1.0196895799590036,
          0.03905274891226861,
          1.5089599192845327,
          1.3158362494688813,
          -0.3925680163977808,
          2.1593895399262033,
          -0.9277739001087258,
          -1.8101984688606385,
          1.1051035037837664,
          -1.9118969941429562,
          0.5506036681161965,
          -2.0808993092408583,
          -0.17650866762141137,
          0.2632788163547951,
          -0.6182340559844405,
          1.7529663918088312,
          1.1406246805389066,
          0.7590908403416821,
          -1.4817193890130869,
          0.16014759977799178,
          -1.1411833455404845,
          -0.27451731196969403,
          0.9712894693061355,
          0.8776435538970953,
          -0.9255622764713449,
          -0.15646200077681197,
          0.12895762865690136,
          0.013382331274075478,
          0.008946199293052778,
          1.0855960400891453,
          -0.9989079444164698,
          -0.9197301339026103,
          -0.510708790885548,
          -0.5881182748390118,
          -0.870030337560292,
          -1.855747922112066,
          -0.39039164081373884,
          1.1694539604739602,
          -1.3832385950425616,
          -0.5338808546528805,
          0.6274205428990312,
          0.7377221968558098,
          0.2104629902769848,
          1.0332701707296545,
          1.1773014071136858,
          -3.003363732106316,
          -0.6367581114030771,
          -0.9849507362072155,
          1.172889971084506,
          1.4049919559413808,
          -1.0665120136345716,
          -0.4927786792902122,
          -0.4287735889544915,
          2.1301691553569584,
          0.10248865395219325,
          -0.673713112327333,
          -0.2774788826539322,
          -0.9845092147425413,
          -1.494775948560315,
          -0.1590858026848481,
          0.4245146132867722,
          -1.0527070551758853,
          -0.6271225927724591,
          -0.0932018672644432,
          -1.688083990261239,
          -0.1782681183091389,
          -0.47899491072394434,
          0.6428012794627598,
          1.4776959120729736,
          -0.6652938373848085,
          1.352182236487618,
          -0.7313750627525646,
          0.14174316018181848,
          1.6692898036380026,
          1.2245434297403823,
          -0.7160280045468996,
          1.8260580823033306,
          1.6250393454014014,
          -1.498852738752117,
          0.527366459397921,
          -0.37994599350941144,
          -0.889761094168913,
          -0.6175950575590283,
          0.8291700376647222,
          0.052524725240034126,
          -0.38017490909113333
         ],
         "xaxis": "x9",
         "y": [
          -1.2078524061832343,
          1.647806384601327,
          0.867424872152327,
          0.7669777110713896,
          0.818520999225426,
          -0.48320967186024133,
          0.35396243357211826,
          -0.8479124671901214,
          0.13457107379341118,
          -1.5782654987525453,
          -0.024899038746018128,
          -0.9661302530011148,
          0.10786866146194769,
          -1.029408787668984,
          -0.551551586968485,
          0.7478338033100305,
          0.32212826393082283,
          -0.07981914124646398,
          -1.7345386630444235,
          0.940856042038223,
          -0.893802996297651,
          -1.6838191488701428,
          -0.8193949520436961,
          -0.6986978023236927,
          0.9484716043906775,
          -2.4729774481529536,
          -0.5184931813506506,
          1.2944947036141494,
          1.6518965347606518,
          -0.27097369670413435,
          0.6607100884259512,
          0.38996016296846236,
          0.6894118859018167,
          -0.8632209729940418,
          -0.5171083610114836,
          0.6018600888172007,
          -0.8457311592941562,
          0.59764909067985,
          -0.059718166023163995,
          0.4020361989483813,
          -0.6843729666514186,
          -0.5242962066773789,
          -0.9377796468920861,
          -0.2094071465163398,
          -0.6004287234619048,
          -1.1654165511468466,
          0.552071633160766,
          2.294425554654729,
          0.9840253882237323,
          1.532463975726437,
          -2.0965363642856185,
          -0.027778544002653505,
          -1.2592610118032257,
          -0.4940128214479949,
          -0.9603470186202026,
          -0.8771390346804705,
          1.997699888499699,
          0.6984735539398365,
          -1.5234038797937803,
          -0.40855022070663927,
          0.7077209690843312,
          1.3804789004634803,
          1.0428083128544448,
          0.25439927354969954,
          0.43481566187872217,
          0.5020740992240665,
          1.9118308644715627,
          -1.1631204064945873,
          0.2444948577104291,
          0.30624170731256933,
          -0.646460226151218,
          1.2532514420256606,
          -0.48520205356676244,
          0.4214967889186345,
          0.7229831685011271,
          -0.05929358539847693,
          0.26748616985900747,
          0.2873558919730922,
          0.5109451119502947,
          -1.273673762305818,
          -0.12156207954094937,
          0.665416255241936,
          -0.3855498693882793,
          0.6556997917497112,
          1.083962308875982,
          1.051193036773326,
          -0.16569352007058658,
          1.445267284777046,
          0.7339791857623821,
          -0.8844229099045823,
          0.5934768649818013,
          0.30832968316289466,
          2.6337128110926913,
          0.054701840278038164,
          0.43980988188662745,
          0.54351591766071,
          0.9283251404799931,
          0.09876115894398224,
          -1.2533514262488898,
          2.1524972165590093
         ],
         "yaxis": "y9"
        },
        {
         "line": {
          "color": "rgba(128, 128, 128, 1.0)",
          "dash": "solid",
          "shape": "linear",
          "width": 1.3
         },
         "marker": {
          "size": 2,
          "symbol": "circle"
         },
         "mode": "markers",
         "name": "C",
         "text": "",
         "type": "scatter",
         "x": [
          -0.742187179415621,
          1.2134107925533075,
          -1.7025709041072157,
          1.1077712761245098,
          0.2450268665699058,
          0.03385606567073771,
          -1.0293155394884315,
          -0.6351817072975786,
          1.208253857927379,
          0.2029117802982394,
          -0.6799122973866606,
          -0.08803443897233985,
          0.5758098646913065,
          2.3902431728879696,
          2.322309790667226,
          -2.053897477260906,
          -0.36181402898944065,
          -0.49557665247321375,
          -0.4951736765103893,
          0.37178527931536326,
          -0.3682043275108212,
          -0.5047798875636234,
          1.379355997986373,
          0.13616493155165393,
          0.49318325140623254,
          -1.5175410018180038,
          1.1547435470274139,
          0.6050117379633767,
          -0.6996344079126486,
          -1.4817646470214914,
          0.18752169065501145,
          0.8066387082368147,
          -1.1959799329299963,
          -1.4170206981119036,
          -0.5800184256741695,
          0.49349150837889405,
          -1.2519802476741586,
          -0.12630538029101265,
          0.5713795406605309,
          0.33842867331585463,
          0.9276612042481814,
          0.004692158094001177,
          0.9607895275269087,
          -0.10436431125521162,
          0.19500506072408932,
          0.143619040803998,
          0.24846269290696457,
          -1.1992336266022514,
          0.7719922880483462,
          -1.7107148568858963,
          -1.1515543208452308,
          -0.4577740846020255,
          0.009834139054455184,
          -0.9013706274525457,
          -1.35055050964298,
          0.2636316222136694,
          -1.2117197793433805,
          0.7298801493900917,
          0.5123712500991467,
          -0.9682940983285426,
          0.4561713613886814,
          -1.005662369358284,
          0.3471944906337027,
          0.1589370880209759,
          0.6209089271516771,
          -0.8626092465711424,
          0.7291717621580838,
          -0.9247316157756699,
          0.048935049402674256,
          -1.1589530826492762,
          -0.11538883632037497,
          -2.5490296011198748,
          -0.40073928870507336,
          1.8938769192769815,
          -0.06177218824813722,
          -0.3126294223162608,
          -1.5306645065803304,
          -0.5912941570519058,
          0.8109286932495376,
          2.1950748662015487,
          -1.2866497815909261,
          -0.04497568412693477,
          1.481450499023565,
          0.663621173996275,
          -0.8882298892774952,
          -2.4824878621979,
          -0.02457183461218704,
          -0.039755112888196234,
          -0.5727714919382593,
          0.6308537624751678,
          0.22301238943458415,
          -0.3747561570544337,
          -1.6649265559053648,
          1.7760400884476781,
          0.09799518810159046,
          0.5757701404841383,
          1.161331427062505,
          0.1137451273646778,
          0.41018929002830706,
          -0.8698503917579509
         ],
         "xaxis": "x10",
         "y": [
          -1.2078524061832343,
          1.647806384601327,
          0.867424872152327,
          0.7669777110713896,
          0.818520999225426,
          -0.48320967186024133,
          0.35396243357211826,
          -0.8479124671901214,
          0.13457107379341118,
          -1.5782654987525453,
          -0.024899038746018128,
          -0.9661302530011148,
          0.10786866146194769,
          -1.029408787668984,
          -0.551551586968485,
          0.7478338033100305,
          0.32212826393082283,
          -0.07981914124646398,
          -1.7345386630444235,
          0.940856042038223,
          -0.893802996297651,
          -1.6838191488701428,
          -0.8193949520436961,
          -0.6986978023236927,
          0.9484716043906775,
          -2.4729774481529536,
          -0.5184931813506506,
          1.2944947036141494,
          1.6518965347606518,
          -0.27097369670413435,
          0.6607100884259512,
          0.38996016296846236,
          0.6894118859018167,
          -0.8632209729940418,
          -0.5171083610114836,
          0.6018600888172007,
          -0.8457311592941562,
          0.59764909067985,
          -0.059718166023163995,
          0.4020361989483813,
          -0.6843729666514186,
          -0.5242962066773789,
          -0.9377796468920861,
          -0.2094071465163398,
          -0.6004287234619048,
          -1.1654165511468466,
          0.552071633160766,
          2.294425554654729,
          0.9840253882237323,
          1.532463975726437,
          -2.0965363642856185,
          -0.027778544002653505,
          -1.2592610118032257,
          -0.4940128214479949,
          -0.9603470186202026,
          -0.8771390346804705,
          1.997699888499699,
          0.6984735539398365,
          -1.5234038797937803,
          -0.40855022070663927,
          0.7077209690843312,
          1.3804789004634803,
          1.0428083128544448,
          0.25439927354969954,
          0.43481566187872217,
          0.5020740992240665,
          1.9118308644715627,
          -1.1631204064945873,
          0.2444948577104291,
          0.30624170731256933,
          -0.646460226151218,
          1.2532514420256606,
          -0.48520205356676244,
          0.4214967889186345,
          0.7229831685011271,
          -0.05929358539847693,
          0.26748616985900747,
          0.2873558919730922,
          0.5109451119502947,
          -1.273673762305818,
          -0.12156207954094937,
          0.665416255241936,
          -0.3855498693882793,
          0.6556997917497112,
          1.083962308875982,
          1.051193036773326,
          -0.16569352007058658,
          1.445267284777046,
          0.7339791857623821,
          -0.8844229099045823,
          0.5934768649818013,
          0.30832968316289466,
          2.6337128110926913,
          0.054701840278038164,
          0.43980988188662745,
          0.54351591766071,
          0.9283251404799931,
          0.09876115894398224,
          -1.2533514262488898,
          2.1524972165590093
         ],
         "yaxis": "y10"
        },
        {
         "histfunc": "count",
         "histnorm": "",
         "marker": {
          "color": "rgba(50, 171, 96, 1.0)",
          "line": {
           "color": "#4D5663",
           "width": 1.3
          }
         },
         "name": "C",
         "nbinsx": 10,
         "opacity": 0.8,
         "orientation": "v",
         "type": "histogram",
         "x": [
          -1.2078524061832343,
          1.647806384601327,
          0.867424872152327,
          0.7669777110713896,
          0.818520999225426,
          -0.48320967186024133,
          0.35396243357211826,
          -0.8479124671901214,
          0.13457107379341118,
          -1.5782654987525453,
          -0.024899038746018128,
          -0.9661302530011148,
          0.10786866146194769,
          -1.029408787668984,
          -0.551551586968485,
          0.7478338033100305,
          0.32212826393082283,
          -0.07981914124646398,
          -1.7345386630444235,
          0.940856042038223,
          -0.893802996297651,
          -1.6838191488701428,
          -0.8193949520436961,
          -0.6986978023236927,
          0.9484716043906775,
          -2.4729774481529536,
          -0.5184931813506506,
          1.2944947036141494,
          1.6518965347606518,
          -0.27097369670413435,
          0.6607100884259512,
          0.38996016296846236,
          0.6894118859018167,
          -0.8632209729940418,
          -0.5171083610114836,
          0.6018600888172007,
          -0.8457311592941562,
          0.59764909067985,
          -0.059718166023163995,
          0.4020361989483813,
          -0.6843729666514186,
          -0.5242962066773789,
          -0.9377796468920861,
          -0.2094071465163398,
          -0.6004287234619048,
          -1.1654165511468466,
          0.552071633160766,
          2.294425554654729,
          0.9840253882237323,
          1.532463975726437,
          -2.0965363642856185,
          -0.027778544002653505,
          -1.2592610118032257,
          -0.4940128214479949,
          -0.9603470186202026,
          -0.8771390346804705,
          1.997699888499699,
          0.6984735539398365,
          -1.5234038797937803,
          -0.40855022070663927,
          0.7077209690843312,
          1.3804789004634803,
          1.0428083128544448,
          0.25439927354969954,
          0.43481566187872217,
          0.5020740992240665,
          1.9118308644715627,
          -1.1631204064945873,
          0.2444948577104291,
          0.30624170731256933,
          -0.646460226151218,
          1.2532514420256606,
          -0.48520205356676244,
          0.4214967889186345,
          0.7229831685011271,
          -0.05929358539847693,
          0.26748616985900747,
          0.2873558919730922,
          0.5109451119502947,
          -1.273673762305818,
          -0.12156207954094937,
          0.665416255241936,
          -0.3855498693882793,
          0.6556997917497112,
          1.083962308875982,
          1.051193036773326,
          -0.16569352007058658,
          1.445267284777046,
          0.7339791857623821,
          -0.8844229099045823,
          0.5934768649818013,
          0.30832968316289466,
          2.6337128110926913,
          0.054701840278038164,
          0.43980988188662745,
          0.54351591766071,
          0.9283251404799931,
          0.09876115894398224,
          -1.2533514262488898,
          2.1524972165590093
         ],
         "xaxis": "x11",
         "yaxis": "y11"
        },
        {
         "line": {
          "color": "rgba(128, 128, 128, 1.0)",
          "dash": "solid",
          "shape": "linear",
          "width": 1.3
         },
         "marker": {
          "size": 2,
          "symbol": "circle"
         },
         "mode": "markers",
         "name": "C",
         "text": "",
         "type": "scatter",
         "x": [
          1.7026558454303116,
          1.5594219269692025,
          1.4403235877899048,
          -2.2390370525507115,
          0.16467710599817323,
          -0.9218258259100182,
          -0.2611907139315378,
          1.0977798698411936,
          0.37977150377533847,
          0.678930562576309,
          0.24027033970707695,
          -1.134130511030025,
          0.28086292437562704,
          0.8503726898773861,
          0.9055947656818857,
          -0.7918153524806373,
          -1.2086934500885222,
          -1.3335624922189502,
          -0.32424765208188006,
          -0.11862208797272265,
          0.07067805408788083,
          -1.0783026149841517,
          1.2151290995336135,
          -1.9090316261587466,
          0.7698743059492738,
          1.4226846925724372,
          -0.38905961689902124,
          -0.3890691908653827,
          -1.138098162318478,
          1.5286657168142626,
          -1.5256697797380405,
          -0.6517541801020447,
          0.6651618792751028,
          0.042148395695265156,
          0.8037912030554389,
          -1.2340590432062606,
          1.1138802032482642,
          0.24272962949614557,
          -1.0897845546442384,
          -0.1861118730117989,
          -0.28506025348328085,
          -0.577405630427034,
          0.9629284792942532,
          0.8642435985066734,
          -2.1158255595742577,
          0.9961250193213448,
          0.559105232995064,
          2.3677036955966857,
          0.30853192592085305,
          0.31965857680337983,
          -0.5789125493559564,
          -0.38674738312959595,
          1.75609531876379,
          -0.3335211959389353,
          -0.09548124952105416,
          -1.5095801851776736,
          -0.50414646443317,
          -0.3874310487330894,
          0.960662750189629,
          -0.42162185528459656,
          -1.1383848115226616,
          0.39497549251283326,
          -1.0588751065242445,
          -1.0819417784228555,
          -1.1208476331280686,
          0.548769582600236,
          -1.4957479220462382,
          -0.9123343605142379,
          -0.5407420132543753,
          -0.0030139030991650174,
          0.9181096233801954,
          -0.3682788361733208,
          -0.2944575717906814,
          -0.44024326113832996,
          0.22636349352905413,
          -0.09082428904754525,
          2.8711765900811588,
          -0.9151438925202213,
          0.3043595561190293,
          0.7625528301828641,
          -0.3890199468582452,
          0.45888215375476715,
          1.5323600237489465,
          -0.3188006834231324,
          -0.7476326812212825,
          0.8562325819537043,
          -1.3959940222047766,
          -0.0861929617313064,
          -0.9274887709992322,
          -1.0259843591608262,
          1.7701086138228979,
          0.5539931463352439,
          -0.735673032801025,
          0.5077288161248946,
          -0.2789899201810933,
          0.5197571423652604,
          2.7190894240091414,
          -0.7411929584172913,
          -0.22795472975730985,
          -0.2906902789780266
         ],
         "xaxis": "x12",
         "y": [
          -1.2078524061832343,
          1.647806384601327,
          0.867424872152327,
          0.7669777110713896,
          0.818520999225426,
          -0.48320967186024133,
          0.35396243357211826,
          -0.8479124671901214,
          0.13457107379341118,
          -1.5782654987525453,
          -0.024899038746018128,
          -0.9661302530011148,
          0.10786866146194769,
          -1.029408787668984,
          -0.551551586968485,
          0.7478338033100305,
          0.32212826393082283,
          -0.07981914124646398,
          -1.7345386630444235,
          0.940856042038223,
          -0.893802996297651,
          -1.6838191488701428,
          -0.8193949520436961,
          -0.6986978023236927,
          0.9484716043906775,
          -2.4729774481529536,
          -0.5184931813506506,
          1.2944947036141494,
          1.6518965347606518,
          -0.27097369670413435,
          0.6607100884259512,
          0.38996016296846236,
          0.6894118859018167,
          -0.8632209729940418,
          -0.5171083610114836,
          0.6018600888172007,
          -0.8457311592941562,
          0.59764909067985,
          -0.059718166023163995,
          0.4020361989483813,
          -0.6843729666514186,
          -0.5242962066773789,
          -0.9377796468920861,
          -0.2094071465163398,
          -0.6004287234619048,
          -1.1654165511468466,
          0.552071633160766,
          2.294425554654729,
          0.9840253882237323,
          1.532463975726437,
          -2.0965363642856185,
          -0.027778544002653505,
          -1.2592610118032257,
          -0.4940128214479949,
          -0.9603470186202026,
          -0.8771390346804705,
          1.997699888499699,
          0.6984735539398365,
          -1.5234038797937803,
          -0.40855022070663927,
          0.7077209690843312,
          1.3804789004634803,
          1.0428083128544448,
          0.25439927354969954,
          0.43481566187872217,
          0.5020740992240665,
          1.9118308644715627,
          -1.1631204064945873,
          0.2444948577104291,
          0.30624170731256933,
          -0.646460226151218,
          1.2532514420256606,
          -0.48520205356676244,
          0.4214967889186345,
          0.7229831685011271,
          -0.05929358539847693,
          0.26748616985900747,
          0.2873558919730922,
          0.5109451119502947,
          -1.273673762305818,
          -0.12156207954094937,
          0.665416255241936,
          -0.3855498693882793,
          0.6556997917497112,
          1.083962308875982,
          1.051193036773326,
          -0.16569352007058658,
          1.445267284777046,
          0.7339791857623821,
          -0.8844229099045823,
          0.5934768649818013,
          0.30832968316289466,
          2.6337128110926913,
          0.054701840278038164,
          0.43980988188662745,
          0.54351591766071,
          0.9283251404799931,
          0.09876115894398224,
          -1.2533514262488898,
          2.1524972165590093
         ],
         "yaxis": "y12"
        },
        {
         "line": {
          "color": "rgba(128, 128, 128, 1.0)",
          "dash": "solid",
          "shape": "linear",
          "width": 1.3
         },
         "marker": {
          "size": 2,
          "symbol": "circle"
         },
         "mode": "markers",
         "name": "D",
         "text": "",
         "type": "scatter",
         "x": [
          -0.3155077874583621,
          0.3797030900663316,
          0.13082536129896652,
          -2.2125362027707243,
          0.6959899932604471,
          -0.6651688342182054,
          0.3392751939560983,
          -0.06426101581698589,
          0.9363722872087246,
          1.2876798208715128,
          -0.8196844023398393,
          0.10550574634716345,
          0.984281215420857,
          -0.6480877371964813,
          -1.0196895799590036,
          0.03905274891226861,
          1.5089599192845327,
          1.3158362494688813,
          -0.3925680163977808,
          2.1593895399262033,
          -0.9277739001087258,
          -1.8101984688606385,
          1.1051035037837664,
          -1.9118969941429562,
          0.5506036681161965,
          -2.0808993092408583,
          -0.17650866762141137,
          0.2632788163547951,
          -0.6182340559844405,
          1.7529663918088312,
          1.1406246805389066,
          0.7590908403416821,
          -1.4817193890130869,
          0.16014759977799178,
          -1.1411833455404845,
          -0.27451731196969403,
          0.9712894693061355,
          0.8776435538970953,
          -0.9255622764713449,
          -0.15646200077681197,
          0.12895762865690136,
          0.013382331274075478,
          0.008946199293052778,
          1.0855960400891453,
          -0.9989079444164698,
          -0.9197301339026103,
          -0.510708790885548,
          -0.5881182748390118,
          -0.870030337560292,
          -1.855747922112066,
          -0.39039164081373884,
          1.1694539604739602,
          -1.3832385950425616,
          -0.5338808546528805,
          0.6274205428990312,
          0.7377221968558098,
          0.2104629902769848,
          1.0332701707296545,
          1.1773014071136858,
          -3.003363732106316,
          -0.6367581114030771,
          -0.9849507362072155,
          1.172889971084506,
          1.4049919559413808,
          -1.0665120136345716,
          -0.4927786792902122,
          -0.4287735889544915,
          2.1301691553569584,
          0.10248865395219325,
          -0.673713112327333,
          -0.2774788826539322,
          -0.9845092147425413,
          -1.494775948560315,
          -0.1590858026848481,
          0.4245146132867722,
          -1.0527070551758853,
          -0.6271225927724591,
          -0.0932018672644432,
          -1.688083990261239,
          -0.1782681183091389,
          -0.47899491072394434,
          0.6428012794627598,
          1.4776959120729736,
          -0.6652938373848085,
          1.352182236487618,
          -0.7313750627525646,
          0.14174316018181848,
          1.6692898036380026,
          1.2245434297403823,
          -0.7160280045468996,
          1.8260580823033306,
          1.6250393454014014,
          -1.498852738752117,
          0.527366459397921,
          -0.37994599350941144,
          -0.889761094168913,
          -0.6175950575590283,
          0.8291700376647222,
          0.052524725240034126,
          -0.38017490909113333
         ],
         "xaxis": "x13",
         "y": [
          1.7026558454303116,
          1.5594219269692025,
          1.4403235877899048,
          -2.2390370525507115,
          0.16467710599817323,
          -0.9218258259100182,
          -0.2611907139315378,
          1.0977798698411936,
          0.37977150377533847,
          0.678930562576309,
          0.24027033970707695,
          -1.134130511030025,
          0.28086292437562704,
          0.8503726898773861,
          0.9055947656818857,
          -0.7918153524806373,
          -1.2086934500885222,
          -1.3335624922189502,
          -0.32424765208188006,
          -0.11862208797272265,
          0.07067805408788083,
          -1.0783026149841517,
          1.2151290995336135,
          -1.9090316261587466,
          0.7698743059492738,
          1.4226846925724372,
          -0.38905961689902124,
          -0.3890691908653827,
          -1.138098162318478,
          1.5286657168142626,
          -1.5256697797380405,
          -0.6517541801020447,
          0.6651618792751028,
          0.042148395695265156,
          0.8037912030554389,
          -1.2340590432062606,
          1.1138802032482642,
          0.24272962949614557,
          -1.0897845546442384,
          -0.1861118730117989,
          -0.28506025348328085,
          -0.577405630427034,
          0.9629284792942532,
          0.8642435985066734,
          -2.1158255595742577,
          0.9961250193213448,
          0.559105232995064,
          2.3677036955966857,
          0.30853192592085305,
          0.31965857680337983,
          -0.5789125493559564,
          -0.38674738312959595,
          1.75609531876379,
          -0.3335211959389353,
          -0.09548124952105416,
          -1.5095801851776736,
          -0.50414646443317,
          -0.3874310487330894,
          0.960662750189629,
          -0.42162185528459656,
          -1.1383848115226616,
          0.39497549251283326,
          -1.0588751065242445,
          -1.0819417784228555,
          -1.1208476331280686,
          0.548769582600236,
          -1.4957479220462382,
          -0.9123343605142379,
          -0.5407420132543753,
          -0.0030139030991650174,
          0.9181096233801954,
          -0.3682788361733208,
          -0.2944575717906814,
          -0.44024326113832996,
          0.22636349352905413,
          -0.09082428904754525,
          2.8711765900811588,
          -0.9151438925202213,
          0.3043595561190293,
          0.7625528301828641,
          -0.3890199468582452,
          0.45888215375476715,
          1.5323600237489465,
          -0.3188006834231324,
          -0.7476326812212825,
          0.8562325819537043,
          -1.3959940222047766,
          -0.0861929617313064,
          -0.9274887709992322,
          -1.0259843591608262,
          1.7701086138228979,
          0.5539931463352439,
          -0.735673032801025,
          0.5077288161248946,
          -0.2789899201810933,
          0.5197571423652604,
          2.7190894240091414,
          -0.7411929584172913,
          -0.22795472975730985,
          -0.2906902789780266
         ],
         "yaxis": "y13"
        },
        {
         "line": {
          "color": "rgba(128, 128, 128, 1.0)",
          "dash": "solid",
          "shape": "linear",
          "width": 1.3
         },
         "marker": {
          "size": 2,
          "symbol": "circle"
         },
         "mode": "markers",
         "name": "D",
         "text": "",
         "type": "scatter",
         "x": [
          -0.742187179415621,
          1.2134107925533075,
          -1.7025709041072157,
          1.1077712761245098,
          0.2450268665699058,
          0.03385606567073771,
          -1.0293155394884315,
          -0.6351817072975786,
          1.208253857927379,
          0.2029117802982394,
          -0.6799122973866606,
          -0.08803443897233985,
          0.5758098646913065,
          2.3902431728879696,
          2.322309790667226,
          -2.053897477260906,
          -0.36181402898944065,
          -0.49557665247321375,
          -0.4951736765103893,
          0.37178527931536326,
          -0.3682043275108212,
          -0.5047798875636234,
          1.379355997986373,
          0.13616493155165393,
          0.49318325140623254,
          -1.5175410018180038,
          1.1547435470274139,
          0.6050117379633767,
          -0.6996344079126486,
          -1.4817646470214914,
          0.18752169065501145,
          0.8066387082368147,
          -1.1959799329299963,
          -1.4170206981119036,
          -0.5800184256741695,
          0.49349150837889405,
          -1.2519802476741586,
          -0.12630538029101265,
          0.5713795406605309,
          0.33842867331585463,
          0.9276612042481814,
          0.004692158094001177,
          0.9607895275269087,
          -0.10436431125521162,
          0.19500506072408932,
          0.143619040803998,
          0.24846269290696457,
          -1.1992336266022514,
          0.7719922880483462,
          -1.7107148568858963,
          -1.1515543208452308,
          -0.4577740846020255,
          0.009834139054455184,
          -0.9013706274525457,
          -1.35055050964298,
          0.2636316222136694,
          -1.2117197793433805,
          0.7298801493900917,
          0.5123712500991467,
          -0.9682940983285426,
          0.4561713613886814,
          -1.005662369358284,
          0.3471944906337027,
          0.1589370880209759,
          0.6209089271516771,
          -0.8626092465711424,
          0.7291717621580838,
          -0.9247316157756699,
          0.048935049402674256,
          -1.1589530826492762,
          -0.11538883632037497,
          -2.5490296011198748,
          -0.40073928870507336,
          1.8938769192769815,
          -0.06177218824813722,
          -0.3126294223162608,
          -1.5306645065803304,
          -0.5912941570519058,
          0.8109286932495376,
          2.1950748662015487,
          -1.2866497815909261,
          -0.04497568412693477,
          1.481450499023565,
          0.663621173996275,
          -0.8882298892774952,
          -2.4824878621979,
          -0.02457183461218704,
          -0.039755112888196234,
          -0.5727714919382593,
          0.6308537624751678,
          0.22301238943458415,
          -0.3747561570544337,
          -1.6649265559053648,
          1.7760400884476781,
          0.09799518810159046,
          0.5757701404841383,
          1.161331427062505,
          0.1137451273646778,
          0.41018929002830706,
          -0.8698503917579509
         ],
         "xaxis": "x14",
         "y": [
          1.7026558454303116,
          1.5594219269692025,
          1.4403235877899048,
          -2.2390370525507115,
          0.16467710599817323,
          -0.9218258259100182,
          -0.2611907139315378,
          1.0977798698411936,
          0.37977150377533847,
          0.678930562576309,
          0.24027033970707695,
          -1.134130511030025,
          0.28086292437562704,
          0.8503726898773861,
          0.9055947656818857,
          -0.7918153524806373,
          -1.2086934500885222,
          -1.3335624922189502,
          -0.32424765208188006,
          -0.11862208797272265,
          0.07067805408788083,
          -1.0783026149841517,
          1.2151290995336135,
          -1.9090316261587466,
          0.7698743059492738,
          1.4226846925724372,
          -0.38905961689902124,
          -0.3890691908653827,
          -1.138098162318478,
          1.5286657168142626,
          -1.5256697797380405,
          -0.6517541801020447,
          0.6651618792751028,
          0.042148395695265156,
          0.8037912030554389,
          -1.2340590432062606,
          1.1138802032482642,
          0.24272962949614557,
          -1.0897845546442384,
          -0.1861118730117989,
          -0.28506025348328085,
          -0.577405630427034,
          0.9629284792942532,
          0.8642435985066734,
          -2.1158255595742577,
          0.9961250193213448,
          0.559105232995064,
          2.3677036955966857,
          0.30853192592085305,
          0.31965857680337983,
          -0.5789125493559564,
          -0.38674738312959595,
          1.75609531876379,
          -0.3335211959389353,
          -0.09548124952105416,
          -1.5095801851776736,
          -0.50414646443317,
          -0.3874310487330894,
          0.960662750189629,
          -0.42162185528459656,
          -1.1383848115226616,
          0.39497549251283326,
          -1.0588751065242445,
          -1.0819417784228555,
          -1.1208476331280686,
          0.548769582600236,
          -1.4957479220462382,
          -0.9123343605142379,
          -0.5407420132543753,
          -0.0030139030991650174,
          0.9181096233801954,
          -0.3682788361733208,
          -0.2944575717906814,
          -0.44024326113832996,
          0.22636349352905413,
          -0.09082428904754525,
          2.8711765900811588,
          -0.9151438925202213,
          0.3043595561190293,
          0.7625528301828641,
          -0.3890199468582452,
          0.45888215375476715,
          1.5323600237489465,
          -0.3188006834231324,
          -0.7476326812212825,
          0.8562325819537043,
          -1.3959940222047766,
          -0.0861929617313064,
          -0.9274887709992322,
          -1.0259843591608262,
          1.7701086138228979,
          0.5539931463352439,
          -0.735673032801025,
          0.5077288161248946,
          -0.2789899201810933,
          0.5197571423652604,
          2.7190894240091414,
          -0.7411929584172913,
          -0.22795472975730985,
          -0.2906902789780266
         ],
         "yaxis": "y14"
        },
        {
         "line": {
          "color": "rgba(128, 128, 128, 1.0)",
          "dash": "solid",
          "shape": "linear",
          "width": 1.3
         },
         "marker": {
          "size": 2,
          "symbol": "circle"
         },
         "mode": "markers",
         "name": "D",
         "text": "",
         "type": "scatter",
         "x": [
          -1.2078524061832343,
          1.647806384601327,
          0.867424872152327,
          0.7669777110713896,
          0.818520999225426,
          -0.48320967186024133,
          0.35396243357211826,
          -0.8479124671901214,
          0.13457107379341118,
          -1.5782654987525453,
          -0.024899038746018128,
          -0.9661302530011148,
          0.10786866146194769,
          -1.029408787668984,
          -0.551551586968485,
          0.7478338033100305,
          0.32212826393082283,
          -0.07981914124646398,
          -1.7345386630444235,
          0.940856042038223,
          -0.893802996297651,
          -1.6838191488701428,
          -0.8193949520436961,
          -0.6986978023236927,
          0.9484716043906775,
          -2.4729774481529536,
          -0.5184931813506506,
          1.2944947036141494,
          1.6518965347606518,
          -0.27097369670413435,
          0.6607100884259512,
          0.38996016296846236,
          0.6894118859018167,
          -0.8632209729940418,
          -0.5171083610114836,
          0.6018600888172007,
          -0.8457311592941562,
          0.59764909067985,
          -0.059718166023163995,
          0.4020361989483813,
          -0.6843729666514186,
          -0.5242962066773789,
          -0.9377796468920861,
          -0.2094071465163398,
          -0.6004287234619048,
          -1.1654165511468466,
          0.552071633160766,
          2.294425554654729,
          0.9840253882237323,
          1.532463975726437,
          -2.0965363642856185,
          -0.027778544002653505,
          -1.2592610118032257,
          -0.4940128214479949,
          -0.9603470186202026,
          -0.8771390346804705,
          1.997699888499699,
          0.6984735539398365,
          -1.5234038797937803,
          -0.40855022070663927,
          0.7077209690843312,
          1.3804789004634803,
          1.0428083128544448,
          0.25439927354969954,
          0.43481566187872217,
          0.5020740992240665,
          1.9118308644715627,
          -1.1631204064945873,
          0.2444948577104291,
          0.30624170731256933,
          -0.646460226151218,
          1.2532514420256606,
          -0.48520205356676244,
          0.4214967889186345,
          0.7229831685011271,
          -0.05929358539847693,
          0.26748616985900747,
          0.2873558919730922,
          0.5109451119502947,
          -1.273673762305818,
          -0.12156207954094937,
          0.665416255241936,
          -0.3855498693882793,
          0.6556997917497112,
          1.083962308875982,
          1.051193036773326,
          -0.16569352007058658,
          1.445267284777046,
          0.7339791857623821,
          -0.8844229099045823,
          0.5934768649818013,
          0.30832968316289466,
          2.6337128110926913,
          0.054701840278038164,
          0.43980988188662745,
          0.54351591766071,
          0.9283251404799931,
          0.09876115894398224,
          -1.2533514262488898,
          2.1524972165590093
         ],
         "xaxis": "x15",
         "y": [
          1.7026558454303116,
          1.5594219269692025,
          1.4403235877899048,
          -2.2390370525507115,
          0.16467710599817323,
          -0.9218258259100182,
          -0.2611907139315378,
          1.0977798698411936,
          0.37977150377533847,
          0.678930562576309,
          0.24027033970707695,
          -1.134130511030025,
          0.28086292437562704,
          0.8503726898773861,
          0.9055947656818857,
          -0.7918153524806373,
          -1.2086934500885222,
          -1.3335624922189502,
          -0.32424765208188006,
          -0.11862208797272265,
          0.07067805408788083,
          -1.0783026149841517,
          1.2151290995336135,
          -1.9090316261587466,
          0.7698743059492738,
          1.4226846925724372,
          -0.38905961689902124,
          -0.3890691908653827,
          -1.138098162318478,
          1.5286657168142626,
          -1.5256697797380405,
          -0.6517541801020447,
          0.6651618792751028,
          0.042148395695265156,
          0.8037912030554389,
          -1.2340590432062606,
          1.1138802032482642,
          0.24272962949614557,
          -1.0897845546442384,
          -0.1861118730117989,
          -0.28506025348328085,
          -0.577405630427034,
          0.9629284792942532,
          0.8642435985066734,
          -2.1158255595742577,
          0.9961250193213448,
          0.559105232995064,
          2.3677036955966857,
          0.30853192592085305,
          0.31965857680337983,
          -0.5789125493559564,
          -0.38674738312959595,
          1.75609531876379,
          -0.3335211959389353,
          -0.09548124952105416,
          -1.5095801851776736,
          -0.50414646443317,
          -0.3874310487330894,
          0.960662750189629,
          -0.42162185528459656,
          -1.1383848115226616,
          0.39497549251283326,
          -1.0588751065242445,
          -1.0819417784228555,
          -1.1208476331280686,
          0.548769582600236,
          -1.4957479220462382,
          -0.9123343605142379,
          -0.5407420132543753,
          -0.0030139030991650174,
          0.9181096233801954,
          -0.3682788361733208,
          -0.2944575717906814,
          -0.44024326113832996,
          0.22636349352905413,
          -0.09082428904754525,
          2.8711765900811588,
          -0.9151438925202213,
          0.3043595561190293,
          0.7625528301828641,
          -0.3890199468582452,
          0.45888215375476715,
          1.5323600237489465,
          -0.3188006834231324,
          -0.7476326812212825,
          0.8562325819537043,
          -1.3959940222047766,
          -0.0861929617313064,
          -0.9274887709992322,
          -1.0259843591608262,
          1.7701086138228979,
          0.5539931463352439,
          -0.735673032801025,
          0.5077288161248946,
          -0.2789899201810933,
          0.5197571423652604,
          2.7190894240091414,
          -0.7411929584172913,
          -0.22795472975730985,
          -0.2906902789780266
         ],
         "yaxis": "y15"
        },
        {
         "histfunc": "count",
         "histnorm": "",
         "marker": {
          "color": "rgba(128, 0, 128, 1.0)",
          "line": {
           "color": "#4D5663",
           "width": 1.3
          }
         },
         "name": "D",
         "nbinsx": 10,
         "opacity": 0.8,
         "orientation": "v",
         "type": "histogram",
         "x": [
          1.7026558454303116,
          1.5594219269692025,
          1.4403235877899048,
          -2.2390370525507115,
          0.16467710599817323,
          -0.9218258259100182,
          -0.2611907139315378,
          1.0977798698411936,
          0.37977150377533847,
          0.678930562576309,
          0.24027033970707695,
          -1.134130511030025,
          0.28086292437562704,
          0.8503726898773861,
          0.9055947656818857,
          -0.7918153524806373,
          -1.2086934500885222,
          -1.3335624922189502,
          -0.32424765208188006,
          -0.11862208797272265,
          0.07067805408788083,
          -1.0783026149841517,
          1.2151290995336135,
          -1.9090316261587466,
          0.7698743059492738,
          1.4226846925724372,
          -0.38905961689902124,
          -0.3890691908653827,
          -1.138098162318478,
          1.5286657168142626,
          -1.5256697797380405,
          -0.6517541801020447,
          0.6651618792751028,
          0.042148395695265156,
          0.8037912030554389,
          -1.2340590432062606,
          1.1138802032482642,
          0.24272962949614557,
          -1.0897845546442384,
          -0.1861118730117989,
          -0.28506025348328085,
          -0.577405630427034,
          0.9629284792942532,
          0.8642435985066734,
          -2.1158255595742577,
          0.9961250193213448,
          0.559105232995064,
          2.3677036955966857,
          0.30853192592085305,
          0.31965857680337983,
          -0.5789125493559564,
          -0.38674738312959595,
          1.75609531876379,
          -0.3335211959389353,
          -0.09548124952105416,
          -1.5095801851776736,
          -0.50414646443317,
          -0.3874310487330894,
          0.960662750189629,
          -0.42162185528459656,
          -1.1383848115226616,
          0.39497549251283326,
          -1.0588751065242445,
          -1.0819417784228555,
          -1.1208476331280686,
          0.548769582600236,
          -1.4957479220462382,
          -0.9123343605142379,
          -0.5407420132543753,
          -0.0030139030991650174,
          0.9181096233801954,
          -0.3682788361733208,
          -0.2944575717906814,
          -0.44024326113832996,
          0.22636349352905413,
          -0.09082428904754525,
          2.8711765900811588,
          -0.9151438925202213,
          0.3043595561190293,
          0.7625528301828641,
          -0.3890199468582452,
          0.45888215375476715,
          1.5323600237489465,
          -0.3188006834231324,
          -0.7476326812212825,
          0.8562325819537043,
          -1.3959940222047766,
          -0.0861929617313064,
          -0.9274887709992322,
          -1.0259843591608262,
          1.7701086138228979,
          0.5539931463352439,
          -0.735673032801025,
          0.5077288161248946,
          -0.2789899201810933,
          0.5197571423652604,
          2.7190894240091414,
          -0.7411929584172913,
          -0.22795472975730985,
          -0.2906902789780266
         ],
         "xaxis": "x16",
         "yaxis": "y16"
        }
       ],
       "layout": {
        "bargap": 0.02,
        "legend": {
         "bgcolor": "#F5F6F9",
         "font": {
          "color": "#4D5663"
         }
        },
        "paper_bgcolor": "#F5F6F9",
        "plot_bgcolor": "#F5F6F9",
        "showlegend": false,
        "template": {
         "data": {
          "bar": [
           {
            "error_x": {
             "color": "#2a3f5f"
            },
            "error_y": {
             "color": "#2a3f5f"
            },
            "marker": {
             "line": {
              "color": "#E5ECF6",
              "width": 0.5
             }
            },
            "type": "bar"
           }
          ],
          "barpolar": [
           {
            "marker": {
             "line": {
              "color": "#E5ECF6",
              "width": 0.5
             }
            },
            "type": "barpolar"
           }
          ],
          "carpet": [
           {
            "aaxis": {
             "endlinecolor": "#2a3f5f",
             "gridcolor": "white",
             "linecolor": "white",
             "minorgridcolor": "white",
             "startlinecolor": "#2a3f5f"
            },
            "baxis": {
             "endlinecolor": "#2a3f5f",
             "gridcolor": "white",
             "linecolor": "white",
             "minorgridcolor": "white",
             "startlinecolor": "#2a3f5f"
            },
            "type": "carpet"
           }
          ],
          "choropleth": [
           {
            "colorbar": {
             "outlinewidth": 0,
             "ticks": ""
            },
            "type": "choropleth"
           }
          ],
          "contour": [
           {
            "colorbar": {
             "outlinewidth": 0,
             "ticks": ""
            },
            "colorscale": [
             [
              0,
              "#0d0887"
             ],
             [
              0.1111111111111111,
              "#46039f"
             ],
             [
              0.2222222222222222,
              "#7201a8"
             ],
             [
              0.3333333333333333,
              "#9c179e"
             ],
             [
              0.4444444444444444,
              "#bd3786"
             ],
             [
              0.5555555555555556,
              "#d8576b"
             ],
             [
              0.6666666666666666,
              "#ed7953"
             ],
             [
              0.7777777777777778,
              "#fb9f3a"
             ],
             [
              0.8888888888888888,
              "#fdca26"
             ],
             [
              1,
              "#f0f921"
             ]
            ],
            "type": "contour"
           }
          ],
          "contourcarpet": [
           {
            "colorbar": {
             "outlinewidth": 0,
             "ticks": ""
            },
            "type": "contourcarpet"
           }
          ],
          "heatmap": [
           {
            "colorbar": {
             "outlinewidth": 0,
             "ticks": ""
            },
            "colorscale": [
             [
              0,
              "#0d0887"
             ],
             [
              0.1111111111111111,
              "#46039f"
             ],
             [
              0.2222222222222222,
              "#7201a8"
             ],
             [
              0.3333333333333333,
              "#9c179e"
             ],
             [
              0.4444444444444444,
              "#bd3786"
             ],
             [
              0.5555555555555556,
              "#d8576b"
             ],
             [
              0.6666666666666666,
              "#ed7953"
             ],
             [
              0.7777777777777778,
              "#fb9f3a"
             ],
             [
              0.8888888888888888,
              "#fdca26"
             ],
             [
              1,
              "#f0f921"
             ]
            ],
            "type": "heatmap"
           }
          ],
          "heatmapgl": [
           {
            "colorbar": {
             "outlinewidth": 0,
             "ticks": ""
            },
            "colorscale": [
             [
              0,
              "#0d0887"
             ],
             [
              0.1111111111111111,
              "#46039f"
             ],
             [
              0.2222222222222222,
              "#7201a8"
             ],
             [
              0.3333333333333333,
              "#9c179e"
             ],
             [
              0.4444444444444444,
              "#bd3786"
             ],
             [
              0.5555555555555556,
              "#d8576b"
             ],
             [
              0.6666666666666666,
              "#ed7953"
             ],
             [
              0.7777777777777778,
              "#fb9f3a"
             ],
             [
              0.8888888888888888,
              "#fdca26"
             ],
             [
              1,
              "#f0f921"
             ]
            ],
            "type": "heatmapgl"
           }
          ],
          "histogram": [
           {
            "marker": {
             "colorbar": {
              "outlinewidth": 0,
              "ticks": ""
             }
            },
            "type": "histogram"
           }
          ],
          "histogram2d": [
           {
            "colorbar": {
             "outlinewidth": 0,
             "ticks": ""
            },
            "colorscale": [
             [
              0,
              "#0d0887"
             ],
             [
              0.1111111111111111,
              "#46039f"
             ],
             [
              0.2222222222222222,
              "#7201a8"
             ],
             [
              0.3333333333333333,
              "#9c179e"
             ],
             [
              0.4444444444444444,
              "#bd3786"
             ],
             [
              0.5555555555555556,
              "#d8576b"
             ],
             [
              0.6666666666666666,
              "#ed7953"
             ],
             [
              0.7777777777777778,
              "#fb9f3a"
             ],
             [
              0.8888888888888888,
              "#fdca26"
             ],
             [
              1,
              "#f0f921"
             ]
            ],
            "type": "histogram2d"
           }
          ],
          "histogram2dcontour": [
           {
            "colorbar": {
             "outlinewidth": 0,
             "ticks": ""
            },
            "colorscale": [
             [
              0,
              "#0d0887"
             ],
             [
              0.1111111111111111,
              "#46039f"
             ],
             [
              0.2222222222222222,
              "#7201a8"
             ],
             [
              0.3333333333333333,
              "#9c179e"
             ],
             [
              0.4444444444444444,
              "#bd3786"
             ],
             [
              0.5555555555555556,
              "#d8576b"
             ],
             [
              0.6666666666666666,
              "#ed7953"
             ],
             [
              0.7777777777777778,
              "#fb9f3a"
             ],
             [
              0.8888888888888888,
              "#fdca26"
             ],
             [
              1,
              "#f0f921"
             ]
            ],
            "type": "histogram2dcontour"
           }
          ],
          "mesh3d": [
           {
            "colorbar": {
             "outlinewidth": 0,
             "ticks": ""
            },
            "type": "mesh3d"
           }
          ],
          "parcoords": [
           {
            "line": {
             "colorbar": {
              "outlinewidth": 0,
              "ticks": ""
             }
            },
            "type": "parcoords"
           }
          ],
          "pie": [
           {
            "automargin": true,
            "type": "pie"
           }
          ],
          "scatter": [
           {
            "marker": {
             "colorbar": {
              "outlinewidth": 0,
              "ticks": ""
             }
            },
            "type": "scatter"
           }
          ],
          "scatter3d": [
           {
            "line": {
             "colorbar": {
              "outlinewidth": 0,
              "ticks": ""
             }
            },
            "marker": {
             "colorbar": {
              "outlinewidth": 0,
              "ticks": ""
             }
            },
            "type": "scatter3d"
           }
          ],
          "scattercarpet": [
           {
            "marker": {
             "colorbar": {
              "outlinewidth": 0,
              "ticks": ""
             }
            },
            "type": "scattercarpet"
           }
          ],
          "scattergeo": [
           {
            "marker": {
             "colorbar": {
              "outlinewidth": 0,
              "ticks": ""
             }
            },
            "type": "scattergeo"
           }
          ],
          "scattergl": [
           {
            "marker": {
             "colorbar": {
              "outlinewidth": 0,
              "ticks": ""
             }
            },
            "type": "scattergl"
           }
          ],
          "scattermapbox": [
           {
            "marker": {
             "colorbar": {
              "outlinewidth": 0,
              "ticks": ""
             }
            },
            "type": "scattermapbox"
           }
          ],
          "scatterpolar": [
           {
            "marker": {
             "colorbar": {
              "outlinewidth": 0,
              "ticks": ""
             }
            },
            "type": "scatterpolar"
           }
          ],
          "scatterpolargl": [
           {
            "marker": {
             "colorbar": {
              "outlinewidth": 0,
              "ticks": ""
             }
            },
            "type": "scatterpolargl"
           }
          ],
          "scatterternary": [
           {
            "marker": {
             "colorbar": {
              "outlinewidth": 0,
              "ticks": ""
             }
            },
            "type": "scatterternary"
           }
          ],
          "surface": [
           {
            "colorbar": {
             "outlinewidth": 0,
             "ticks": ""
            },
            "colorscale": [
             [
              0,
              "#0d0887"
             ],
             [
              0.1111111111111111,
              "#46039f"
             ],
             [
              0.2222222222222222,
              "#7201a8"
             ],
             [
              0.3333333333333333,
              "#9c179e"
             ],
             [
              0.4444444444444444,
              "#bd3786"
             ],
             [
              0.5555555555555556,
              "#d8576b"
             ],
             [
              0.6666666666666666,
              "#ed7953"
             ],
             [
              0.7777777777777778,
              "#fb9f3a"
             ],
             [
              0.8888888888888888,
              "#fdca26"
             ],
             [
              1,
              "#f0f921"
             ]
            ],
            "type": "surface"
           }
          ],
          "table": [
           {
            "cells": {
             "fill": {
              "color": "#EBF0F8"
             },
             "line": {
              "color": "white"
             }
            },
            "header": {
             "fill": {
              "color": "#C8D4E3"
             },
             "line": {
              "color": "white"
             }
            },
            "type": "table"
           }
          ]
         },
         "layout": {
          "annotationdefaults": {
           "arrowcolor": "#2a3f5f",
           "arrowhead": 0,
           "arrowwidth": 1
          },
          "autotypenumbers": "strict",
          "coloraxis": {
           "colorbar": {
            "outlinewidth": 0,
            "ticks": ""
           }
          },
          "colorscale": {
           "diverging": [
            [
             0,
             "#8e0152"
            ],
            [
             0.1,
             "#c51b7d"
            ],
            [
             0.2,
             "#de77ae"
            ],
            [
             0.3,
             "#f1b6da"
            ],
            [
             0.4,
             "#fde0ef"
            ],
            [
             0.5,
             "#f7f7f7"
            ],
            [
             0.6,
             "#e6f5d0"
            ],
            [
             0.7,
             "#b8e186"
            ],
            [
             0.8,
             "#7fbc41"
            ],
            [
             0.9,
             "#4d9221"
            ],
            [
             1,
             "#276419"
            ]
           ],
           "sequential": [
            [
             0,
             "#0d0887"
            ],
            [
             0.1111111111111111,
             "#46039f"
            ],
            [
             0.2222222222222222,
             "#7201a8"
            ],
            [
             0.3333333333333333,
             "#9c179e"
            ],
            [
             0.4444444444444444,
             "#bd3786"
            ],
            [
             0.5555555555555556,
             "#d8576b"
            ],
            [
             0.6666666666666666,
             "#ed7953"
            ],
            [
             0.7777777777777778,
             "#fb9f3a"
            ],
            [
             0.8888888888888888,
             "#fdca26"
            ],
            [
             1,
             "#f0f921"
            ]
           ],
           "sequentialminus": [
            [
             0,
             "#0d0887"
            ],
            [
             0.1111111111111111,
             "#46039f"
            ],
            [
             0.2222222222222222,
             "#7201a8"
            ],
            [
             0.3333333333333333,
             "#9c179e"
            ],
            [
             0.4444444444444444,
             "#bd3786"
            ],
            [
             0.5555555555555556,
             "#d8576b"
            ],
            [
             0.6666666666666666,
             "#ed7953"
            ],
            [
             0.7777777777777778,
             "#fb9f3a"
            ],
            [
             0.8888888888888888,
             "#fdca26"
            ],
            [
             1,
             "#f0f921"
            ]
           ]
          },
          "colorway": [
           "#636efa",
           "#EF553B",
           "#00cc96",
           "#ab63fa",
           "#FFA15A",
           "#19d3f3",
           "#FF6692",
           "#B6E880",
           "#FF97FF",
           "#FECB52"
          ],
          "font": {
           "color": "#2a3f5f"
          },
          "geo": {
           "bgcolor": "white",
           "lakecolor": "white",
           "landcolor": "#E5ECF6",
           "showlakes": true,
           "showland": true,
           "subunitcolor": "white"
          },
          "hoverlabel": {
           "align": "left"
          },
          "hovermode": "closest",
          "mapbox": {
           "style": "light"
          },
          "paper_bgcolor": "white",
          "plot_bgcolor": "#E5ECF6",
          "polar": {
           "angularaxis": {
            "gridcolor": "white",
            "linecolor": "white",
            "ticks": ""
           },
           "bgcolor": "#E5ECF6",
           "radialaxis": {
            "gridcolor": "white",
            "linecolor": "white",
            "ticks": ""
           }
          },
          "scene": {
           "xaxis": {
            "backgroundcolor": "#E5ECF6",
            "gridcolor": "white",
            "gridwidth": 2,
            "linecolor": "white",
            "showbackground": true,
            "ticks": "",
            "zerolinecolor": "white"
           },
           "yaxis": {
            "backgroundcolor": "#E5ECF6",
            "gridcolor": "white",
            "gridwidth": 2,
            "linecolor": "white",
            "showbackground": true,
            "ticks": "",
            "zerolinecolor": "white"
           },
           "zaxis": {
            "backgroundcolor": "#E5ECF6",
            "gridcolor": "white",
            "gridwidth": 2,
            "linecolor": "white",
            "showbackground": true,
            "ticks": "",
            "zerolinecolor": "white"
           }
          },
          "shapedefaults": {
           "line": {
            "color": "#2a3f5f"
           }
          },
          "ternary": {
           "aaxis": {
            "gridcolor": "white",
            "linecolor": "white",
            "ticks": ""
           },
           "baxis": {
            "gridcolor": "white",
            "linecolor": "white",
            "ticks": ""
           },
           "bgcolor": "#E5ECF6",
           "caxis": {
            "gridcolor": "white",
            "linecolor": "white",
            "ticks": ""
           }
          },
          "title": {
           "x": 0.05
          },
          "xaxis": {
           "automargin": true,
           "gridcolor": "white",
           "linecolor": "white",
           "ticks": "",
           "title": {
            "standoff": 15
           },
           "zerolinecolor": "white",
           "zerolinewidth": 2
          },
          "yaxis": {
           "automargin": true,
           "gridcolor": "white",
           "linecolor": "white",
           "ticks": "",
           "title": {
            "standoff": 15
           },
           "zerolinecolor": "white",
           "zerolinewidth": 2
          }
         }
        },
        "title": {
         "font": {
          "color": "#4D5663"
         }
        },
        "xaxis": {
         "anchor": "y",
         "domain": [
          0,
          0.2125
         ],
         "gridcolor": "#E1E5ED",
         "showgrid": false,
         "tickfont": {
          "color": "#4D5663"
         },
         "title": {
          "font": {
           "color": "#4D5663"
          },
          "text": ""
         },
         "zerolinecolor": "#E1E5ED"
        },
        "xaxis10": {
         "anchor": "y10",
         "domain": [
          0.2625,
          0.475
         ],
         "gridcolor": "#E1E5ED",
         "showgrid": false,
         "tickfont": {
          "color": "#4D5663"
         },
         "title": {
          "font": {
           "color": "#4D5663"
          },
          "text": ""
         },
         "zerolinecolor": "#E1E5ED"
        },
        "xaxis11": {
         "anchor": "y11",
         "domain": [
          0.525,
          0.7375
         ],
         "gridcolor": "#E1E5ED",
         "showgrid": false,
         "tickfont": {
          "color": "#4D5663"
         },
         "title": {
          "font": {
           "color": "#4D5663"
          },
          "text": ""
         },
         "zerolinecolor": "#E1E5ED"
        },
        "xaxis12": {
         "anchor": "y12",
         "domain": [
          0.7875,
          1
         ],
         "gridcolor": "#E1E5ED",
         "showgrid": false,
         "tickfont": {
          "color": "#4D5663"
         },
         "title": {
          "font": {
           "color": "#4D5663"
          },
          "text": ""
         },
         "zerolinecolor": "#E1E5ED"
        },
        "xaxis13": {
         "anchor": "y13",
         "domain": [
          0,
          0.2125
         ],
         "gridcolor": "#E1E5ED",
         "showgrid": false,
         "tickfont": {
          "color": "#4D5663"
         },
         "title": {
          "font": {
           "color": "#4D5663"
          },
          "text": ""
         },
         "zerolinecolor": "#E1E5ED"
        },
        "xaxis14": {
         "anchor": "y14",
         "domain": [
          0.2625,
          0.475
         ],
         "gridcolor": "#E1E5ED",
         "showgrid": false,
         "tickfont": {
          "color": "#4D5663"
         },
         "title": {
          "font": {
           "color": "#4D5663"
          },
          "text": ""
         },
         "zerolinecolor": "#E1E5ED"
        },
        "xaxis15": {
         "anchor": "y15",
         "domain": [
          0.525,
          0.7375
         ],
         "gridcolor": "#E1E5ED",
         "showgrid": false,
         "tickfont": {
          "color": "#4D5663"
         },
         "title": {
          "font": {
           "color": "#4D5663"
          },
          "text": ""
         },
         "zerolinecolor": "#E1E5ED"
        },
        "xaxis16": {
         "anchor": "y16",
         "domain": [
          0.7875,
          1
         ],
         "gridcolor": "#E1E5ED",
         "showgrid": false,
         "tickfont": {
          "color": "#4D5663"
         },
         "title": {
          "font": {
           "color": "#4D5663"
          },
          "text": ""
         },
         "zerolinecolor": "#E1E5ED"
        },
        "xaxis2": {
         "anchor": "y2",
         "domain": [
          0.2625,
          0.475
         ],
         "gridcolor": "#E1E5ED",
         "showgrid": false,
         "tickfont": {
          "color": "#4D5663"
         },
         "title": {
          "font": {
           "color": "#4D5663"
          },
          "text": ""
         },
         "zerolinecolor": "#E1E5ED"
        },
        "xaxis3": {
         "anchor": "y3",
         "domain": [
          0.525,
          0.7375
         ],
         "gridcolor": "#E1E5ED",
         "showgrid": false,
         "tickfont": {
          "color": "#4D5663"
         },
         "title": {
          "font": {
           "color": "#4D5663"
          },
          "text": ""
         },
         "zerolinecolor": "#E1E5ED"
        },
        "xaxis4": {
         "anchor": "y4",
         "domain": [
          0.7875,
          1
         ],
         "gridcolor": "#E1E5ED",
         "showgrid": false,
         "tickfont": {
          "color": "#4D5663"
         },
         "title": {
          "font": {
           "color": "#4D5663"
          },
          "text": ""
         },
         "zerolinecolor": "#E1E5ED"
        },
        "xaxis5": {
         "anchor": "y5",
         "domain": [
          0,
          0.2125
         ],
         "gridcolor": "#E1E5ED",
         "showgrid": false,
         "tickfont": {
          "color": "#4D5663"
         },
         "title": {
          "font": {
           "color": "#4D5663"
          },
          "text": ""
         },
         "zerolinecolor": "#E1E5ED"
        },
        "xaxis6": {
         "anchor": "y6",
         "domain": [
          0.2625,
          0.475
         ],
         "gridcolor": "#E1E5ED",
         "showgrid": false,
         "tickfont": {
          "color": "#4D5663"
         },
         "title": {
          "font": {
           "color": "#4D5663"
          },
          "text": ""
         },
         "zerolinecolor": "#E1E5ED"
        },
        "xaxis7": {
         "anchor": "y7",
         "domain": [
          0.525,
          0.7375
         ],
         "gridcolor": "#E1E5ED",
         "showgrid": false,
         "tickfont": {
          "color": "#4D5663"
         },
         "title": {
          "font": {
           "color": "#4D5663"
          },
          "text": ""
         },
         "zerolinecolor": "#E1E5ED"
        },
        "xaxis8": {
         "anchor": "y8",
         "domain": [
          0.7875,
          1
         ],
         "gridcolor": "#E1E5ED",
         "showgrid": false,
         "tickfont": {
          "color": "#4D5663"
         },
         "title": {
          "font": {
           "color": "#4D5663"
          },
          "text": ""
         },
         "zerolinecolor": "#E1E5ED"
        },
        "xaxis9": {
         "anchor": "y9",
         "domain": [
          0,
          0.2125
         ],
         "gridcolor": "#E1E5ED",
         "showgrid": false,
         "tickfont": {
          "color": "#4D5663"
         },
         "title": {
          "font": {
           "color": "#4D5663"
          },
          "text": ""
         },
         "zerolinecolor": "#E1E5ED"
        },
        "yaxis": {
         "anchor": "x",
         "domain": [
          0.8025,
          1
         ],
         "gridcolor": "#E1E5ED",
         "showgrid": false,
         "tickfont": {
          "color": "#4D5663"
         },
         "title": {
          "font": {
           "color": "#4D5663"
          },
          "text": ""
         },
         "zerolinecolor": "#E1E5ED"
        },
        "yaxis10": {
         "anchor": "x10",
         "domain": [
          0.2675,
          0.465
         ],
         "gridcolor": "#E1E5ED",
         "showgrid": false,
         "tickfont": {
          "color": "#4D5663"
         },
         "title": {
          "font": {
           "color": "#4D5663"
          },
          "text": ""
         },
         "zerolinecolor": "#E1E5ED"
        },
        "yaxis11": {
         "anchor": "x11",
         "domain": [
          0.2675,
          0.465
         ],
         "gridcolor": "#E1E5ED",
         "showgrid": false,
         "tickfont": {
          "color": "#4D5663"
         },
         "title": {
          "font": {
           "color": "#4D5663"
          },
          "text": ""
         },
         "zerolinecolor": "#E1E5ED"
        },
        "yaxis12": {
         "anchor": "x12",
         "domain": [
          0.2675,
          0.465
         ],
         "gridcolor": "#E1E5ED",
         "showgrid": false,
         "tickfont": {
          "color": "#4D5663"
         },
         "title": {
          "font": {
           "color": "#4D5663"
          },
          "text": ""
         },
         "zerolinecolor": "#E1E5ED"
        },
        "yaxis13": {
         "anchor": "x13",
         "domain": [
          0,
          0.1975
         ],
         "gridcolor": "#E1E5ED",
         "showgrid": false,
         "tickfont": {
          "color": "#4D5663"
         },
         "title": {
          "font": {
           "color": "#4D5663"
          },
          "text": ""
         },
         "zerolinecolor": "#E1E5ED"
        },
        "yaxis14": {
         "anchor": "x14",
         "domain": [
          0,
          0.1975
         ],
         "gridcolor": "#E1E5ED",
         "showgrid": false,
         "tickfont": {
          "color": "#4D5663"
         },
         "title": {
          "font": {
           "color": "#4D5663"
          },
          "text": ""
         },
         "zerolinecolor": "#E1E5ED"
        },
        "yaxis15": {
         "anchor": "x15",
         "domain": [
          0,
          0.1975
         ],
         "gridcolor": "#E1E5ED",
         "showgrid": false,
         "tickfont": {
          "color": "#4D5663"
         },
         "title": {
          "font": {
           "color": "#4D5663"
          },
          "text": ""
         },
         "zerolinecolor": "#E1E5ED"
        },
        "yaxis16": {
         "anchor": "x16",
         "domain": [
          0,
          0.1975
         ],
         "gridcolor": "#E1E5ED",
         "showgrid": false,
         "tickfont": {
          "color": "#4D5663"
         },
         "title": {
          "font": {
           "color": "#4D5663"
          },
          "text": ""
         },
         "zerolinecolor": "#E1E5ED"
        },
        "yaxis2": {
         "anchor": "x2",
         "domain": [
          0.8025,
          1
         ],
         "gridcolor": "#E1E5ED",
         "showgrid": false,
         "tickfont": {
          "color": "#4D5663"
         },
         "title": {
          "font": {
           "color": "#4D5663"
          },
          "text": ""
         },
         "zerolinecolor": "#E1E5ED"
        },
        "yaxis3": {
         "anchor": "x3",
         "domain": [
          0.8025,
          1
         ],
         "gridcolor": "#E1E5ED",
         "showgrid": false,
         "tickfont": {
          "color": "#4D5663"
         },
         "title": {
          "font": {
           "color": "#4D5663"
          },
          "text": ""
         },
         "zerolinecolor": "#E1E5ED"
        },
        "yaxis4": {
         "anchor": "x4",
         "domain": [
          0.8025,
          1
         ],
         "gridcolor": "#E1E5ED",
         "showgrid": false,
         "tickfont": {
          "color": "#4D5663"
         },
         "title": {
          "font": {
           "color": "#4D5663"
          },
          "text": ""
         },
         "zerolinecolor": "#E1E5ED"
        },
        "yaxis5": {
         "anchor": "x5",
         "domain": [
          0.535,
          0.7325
         ],
         "gridcolor": "#E1E5ED",
         "showgrid": false,
         "tickfont": {
          "color": "#4D5663"
         },
         "title": {
          "font": {
           "color": "#4D5663"
          },
          "text": ""
         },
         "zerolinecolor": "#E1E5ED"
        },
        "yaxis6": {
         "anchor": "x6",
         "domain": [
          0.535,
          0.7325
         ],
         "gridcolor": "#E1E5ED",
         "showgrid": false,
         "tickfont": {
          "color": "#4D5663"
         },
         "title": {
          "font": {
           "color": "#4D5663"
          },
          "text": ""
         },
         "zerolinecolor": "#E1E5ED"
        },
        "yaxis7": {
         "anchor": "x7",
         "domain": [
          0.535,
          0.7325
         ],
         "gridcolor": "#E1E5ED",
         "showgrid": false,
         "tickfont": {
          "color": "#4D5663"
         },
         "title": {
          "font": {
           "color": "#4D5663"
          },
          "text": ""
         },
         "zerolinecolor": "#E1E5ED"
        },
        "yaxis8": {
         "anchor": "x8",
         "domain": [
          0.535,
          0.7325
         ],
         "gridcolor": "#E1E5ED",
         "showgrid": false,
         "tickfont": {
          "color": "#4D5663"
         },
         "title": {
          "font": {
           "color": "#4D5663"
          },
          "text": ""
         },
         "zerolinecolor": "#E1E5ED"
        },
        "yaxis9": {
         "anchor": "x9",
         "domain": [
          0.2675,
          0.465
         ],
         "gridcolor": "#E1E5ED",
         "showgrid": false,
         "tickfont": {
          "color": "#4D5663"
         },
         "title": {
          "font": {
           "color": "#4D5663"
          },
          "text": ""
         },
         "zerolinecolor": "#E1E5ED"
        }
       }
      },
      "text/html": [
       "<div>                            <div id=\"e9ed29c4-8e49-49f5-87d9-d3ff2ea51804\" class=\"plotly-graph-div\" style=\"height:525px; width:100%;\"></div>            <script type=\"text/javascript\">                require([\"plotly\"], function(Plotly) {                    window.PLOTLYENV=window.PLOTLYENV || {};\n",
       "                    window.PLOTLYENV.BASE_URL='https://plot.ly';                                    if (document.getElementById(\"e9ed29c4-8e49-49f5-87d9-d3ff2ea51804\")) {                    Plotly.newPlot(                        \"e9ed29c4-8e49-49f5-87d9-d3ff2ea51804\",                        [{\"histfunc\": \"count\", \"histnorm\": \"\", \"marker\": {\"color\": \"rgba(255, 153, 51, 1.0)\", \"line\": {\"color\": \"#4D5663\", \"width\": 1.3}}, \"name\": \"A\", \"nbinsx\": 10, \"opacity\": 0.8, \"orientation\": \"v\", \"type\": \"histogram\", \"x\": [-0.3155077874583621, 0.3797030900663316, 0.13082536129896652, -2.2125362027707243, 0.6959899932604471, -0.6651688342182054, 0.3392751939560983, -0.06426101581698589, 0.9363722872087246, 1.2876798208715128, -0.8196844023398393, 0.10550574634716345, 0.984281215420857, -0.6480877371964813, -1.0196895799590036, 0.03905274891226861, 1.5089599192845327, 1.3158362494688813, -0.3925680163977808, 2.1593895399262033, -0.9277739001087258, -1.8101984688606385, 1.1051035037837664, -1.9118969941429562, 0.5506036681161965, -2.0808993092408583, -0.17650866762141137, 0.2632788163547951, -0.6182340559844405, 1.7529663918088312, 1.1406246805389066, 0.7590908403416821, -1.4817193890130869, 0.16014759977799178, -1.1411833455404845, -0.27451731196969403, 0.9712894693061355, 0.8776435538970953, -0.9255622764713449, -0.15646200077681197, 0.12895762865690136, 0.013382331274075478, 0.008946199293052778, 1.0855960400891453, -0.9989079444164698, -0.9197301339026103, -0.510708790885548, -0.5881182748390118, -0.870030337560292, -1.855747922112066, -0.39039164081373884, 1.1694539604739602, -1.3832385950425616, -0.5338808546528805, 0.6274205428990312, 0.7377221968558098, 0.2104629902769848, 1.0332701707296545, 1.1773014071136858, -3.003363732106316, -0.6367581114030771, -0.9849507362072155, 1.172889971084506, 1.4049919559413808, -1.0665120136345716, -0.4927786792902122, -0.4287735889544915, 2.1301691553569584, 0.10248865395219325, -0.673713112327333, -0.2774788826539322, -0.9845092147425413, -1.494775948560315, -0.1590858026848481, 0.4245146132867722, -1.0527070551758853, -0.6271225927724591, -0.0932018672644432, -1.688083990261239, -0.1782681183091389, -0.47899491072394434, 0.6428012794627598, 1.4776959120729736, -0.6652938373848085, 1.352182236487618, -0.7313750627525646, 0.14174316018181848, 1.6692898036380026, 1.2245434297403823, -0.7160280045468996, 1.8260580823033306, 1.6250393454014014, -1.498852738752117, 0.527366459397921, -0.37994599350941144, -0.889761094168913, -0.6175950575590283, 0.8291700376647222, 0.052524725240034126, -0.38017490909113333], \"xaxis\": \"x\", \"yaxis\": \"y\"}, {\"line\": {\"color\": \"rgba(128, 128, 128, 1.0)\", \"dash\": \"solid\", \"shape\": \"linear\", \"width\": 1.3}, \"marker\": {\"size\": 2, \"symbol\": \"circle\"}, \"mode\": \"markers\", \"name\": \"A\", \"text\": \"\", \"type\": \"scatter\", \"x\": [-0.742187179415621, 1.2134107925533075, -1.7025709041072157, 1.1077712761245098, 0.2450268665699058, 0.03385606567073771, -1.0293155394884315, -0.6351817072975786, 1.208253857927379, 0.2029117802982394, -0.6799122973866606, -0.08803443897233985, 0.5758098646913065, 2.3902431728879696, 2.322309790667226, -2.053897477260906, -0.36181402898944065, -0.49557665247321375, -0.4951736765103893, 0.37178527931536326, -0.3682043275108212, -0.5047798875636234, 1.379355997986373, 0.13616493155165393, 0.49318325140623254, -1.5175410018180038, 1.1547435470274139, 0.6050117379633767, -0.6996344079126486, -1.4817646470214914, 0.18752169065501145, 0.8066387082368147, -1.1959799329299963, -1.4170206981119036, -0.5800184256741695, 0.49349150837889405, -1.2519802476741586, -0.12630538029101265, 0.5713795406605309, 0.33842867331585463, 0.9276612042481814, 0.004692158094001177, 0.9607895275269087, -0.10436431125521162, 0.19500506072408932, 0.143619040803998, 0.24846269290696457, -1.1992336266022514, 0.7719922880483462, -1.7107148568858963, -1.1515543208452308, -0.4577740846020255, 0.009834139054455184, -0.9013706274525457, -1.35055050964298, 0.2636316222136694, -1.2117197793433805, 0.7298801493900917, 0.5123712500991467, -0.9682940983285426, 0.4561713613886814, -1.005662369358284, 0.3471944906337027, 0.1589370880209759, 0.6209089271516771, -0.8626092465711424, 0.7291717621580838, -0.9247316157756699, 0.048935049402674256, -1.1589530826492762, -0.11538883632037497, -2.5490296011198748, -0.40073928870507336, 1.8938769192769815, -0.06177218824813722, -0.3126294223162608, -1.5306645065803304, -0.5912941570519058, 0.8109286932495376, 2.1950748662015487, -1.2866497815909261, -0.04497568412693477, 1.481450499023565, 0.663621173996275, -0.8882298892774952, -2.4824878621979, -0.02457183461218704, -0.039755112888196234, -0.5727714919382593, 0.6308537624751678, 0.22301238943458415, -0.3747561570544337, -1.6649265559053648, 1.7760400884476781, 0.09799518810159046, 0.5757701404841383, 1.161331427062505, 0.1137451273646778, 0.41018929002830706, -0.8698503917579509], \"xaxis\": \"x2\", \"y\": [-0.3155077874583621, 0.3797030900663316, 0.13082536129896652, -2.2125362027707243, 0.6959899932604471, -0.6651688342182054, 0.3392751939560983, -0.06426101581698589, 0.9363722872087246, 1.2876798208715128, -0.8196844023398393, 0.10550574634716345, 0.984281215420857, -0.6480877371964813, -1.0196895799590036, 0.03905274891226861, 1.5089599192845327, 1.3158362494688813, -0.3925680163977808, 2.1593895399262033, -0.9277739001087258, -1.8101984688606385, 1.1051035037837664, -1.9118969941429562, 0.5506036681161965, -2.0808993092408583, -0.17650866762141137, 0.2632788163547951, -0.6182340559844405, 1.7529663918088312, 1.1406246805389066, 0.7590908403416821, -1.4817193890130869, 0.16014759977799178, -1.1411833455404845, -0.27451731196969403, 0.9712894693061355, 0.8776435538970953, -0.9255622764713449, -0.15646200077681197, 0.12895762865690136, 0.013382331274075478, 0.008946199293052778, 1.0855960400891453, -0.9989079444164698, -0.9197301339026103, -0.510708790885548, -0.5881182748390118, -0.870030337560292, -1.855747922112066, -0.39039164081373884, 1.1694539604739602, -1.3832385950425616, -0.5338808546528805, 0.6274205428990312, 0.7377221968558098, 0.2104629902769848, 1.0332701707296545, 1.1773014071136858, -3.003363732106316, -0.6367581114030771, -0.9849507362072155, 1.172889971084506, 1.4049919559413808, -1.0665120136345716, -0.4927786792902122, -0.4287735889544915, 2.1301691553569584, 0.10248865395219325, -0.673713112327333, -0.2774788826539322, -0.9845092147425413, -1.494775948560315, -0.1590858026848481, 0.4245146132867722, -1.0527070551758853, -0.6271225927724591, -0.0932018672644432, -1.688083990261239, -0.1782681183091389, -0.47899491072394434, 0.6428012794627598, 1.4776959120729736, -0.6652938373848085, 1.352182236487618, -0.7313750627525646, 0.14174316018181848, 1.6692898036380026, 1.2245434297403823, -0.7160280045468996, 1.8260580823033306, 1.6250393454014014, -1.498852738752117, 0.527366459397921, -0.37994599350941144, -0.889761094168913, -0.6175950575590283, 0.8291700376647222, 0.052524725240034126, -0.38017490909113333], \"yaxis\": \"y2\"}, {\"line\": {\"color\": \"rgba(128, 128, 128, 1.0)\", \"dash\": \"solid\", \"shape\": \"linear\", \"width\": 1.3}, \"marker\": {\"size\": 2, \"symbol\": \"circle\"}, \"mode\": \"markers\", \"name\": \"A\", \"text\": \"\", \"type\": \"scatter\", \"x\": [-1.2078524061832343, 1.647806384601327, 0.867424872152327, 0.7669777110713896, 0.818520999225426, -0.48320967186024133, 0.35396243357211826, -0.8479124671901214, 0.13457107379341118, -1.5782654987525453, -0.024899038746018128, -0.9661302530011148, 0.10786866146194769, -1.029408787668984, -0.551551586968485, 0.7478338033100305, 0.32212826393082283, -0.07981914124646398, -1.7345386630444235, 0.940856042038223, -0.893802996297651, -1.6838191488701428, -0.8193949520436961, -0.6986978023236927, 0.9484716043906775, -2.4729774481529536, -0.5184931813506506, 1.2944947036141494, 1.6518965347606518, -0.27097369670413435, 0.6607100884259512, 0.38996016296846236, 0.6894118859018167, -0.8632209729940418, -0.5171083610114836, 0.6018600888172007, -0.8457311592941562, 0.59764909067985, -0.059718166023163995, 0.4020361989483813, -0.6843729666514186, -0.5242962066773789, -0.9377796468920861, -0.2094071465163398, -0.6004287234619048, -1.1654165511468466, 0.552071633160766, 2.294425554654729, 0.9840253882237323, 1.532463975726437, -2.0965363642856185, -0.027778544002653505, -1.2592610118032257, -0.4940128214479949, -0.9603470186202026, -0.8771390346804705, 1.997699888499699, 0.6984735539398365, -1.5234038797937803, -0.40855022070663927, 0.7077209690843312, 1.3804789004634803, 1.0428083128544448, 0.25439927354969954, 0.43481566187872217, 0.5020740992240665, 1.9118308644715627, -1.1631204064945873, 0.2444948577104291, 0.30624170731256933, -0.646460226151218, 1.2532514420256606, -0.48520205356676244, 0.4214967889186345, 0.7229831685011271, -0.05929358539847693, 0.26748616985900747, 0.2873558919730922, 0.5109451119502947, -1.273673762305818, -0.12156207954094937, 0.665416255241936, -0.3855498693882793, 0.6556997917497112, 1.083962308875982, 1.051193036773326, -0.16569352007058658, 1.445267284777046, 0.7339791857623821, -0.8844229099045823, 0.5934768649818013, 0.30832968316289466, 2.6337128110926913, 0.054701840278038164, 0.43980988188662745, 0.54351591766071, 0.9283251404799931, 0.09876115894398224, -1.2533514262488898, 2.1524972165590093], \"xaxis\": \"x3\", \"y\": [-0.3155077874583621, 0.3797030900663316, 0.13082536129896652, -2.2125362027707243, 0.6959899932604471, -0.6651688342182054, 0.3392751939560983, -0.06426101581698589, 0.9363722872087246, 1.2876798208715128, -0.8196844023398393, 0.10550574634716345, 0.984281215420857, -0.6480877371964813, -1.0196895799590036, 0.03905274891226861, 1.5089599192845327, 1.3158362494688813, -0.3925680163977808, 2.1593895399262033, -0.9277739001087258, -1.8101984688606385, 1.1051035037837664, -1.9118969941429562, 0.5506036681161965, -2.0808993092408583, -0.17650866762141137, 0.2632788163547951, -0.6182340559844405, 1.7529663918088312, 1.1406246805389066, 0.7590908403416821, -1.4817193890130869, 0.16014759977799178, -1.1411833455404845, -0.27451731196969403, 0.9712894693061355, 0.8776435538970953, -0.9255622764713449, -0.15646200077681197, 0.12895762865690136, 0.013382331274075478, 0.008946199293052778, 1.0855960400891453, -0.9989079444164698, -0.9197301339026103, -0.510708790885548, -0.5881182748390118, -0.870030337560292, -1.855747922112066, -0.39039164081373884, 1.1694539604739602, -1.3832385950425616, -0.5338808546528805, 0.6274205428990312, 0.7377221968558098, 0.2104629902769848, 1.0332701707296545, 1.1773014071136858, -3.003363732106316, -0.6367581114030771, -0.9849507362072155, 1.172889971084506, 1.4049919559413808, -1.0665120136345716, -0.4927786792902122, -0.4287735889544915, 2.1301691553569584, 0.10248865395219325, -0.673713112327333, -0.2774788826539322, -0.9845092147425413, -1.494775948560315, -0.1590858026848481, 0.4245146132867722, -1.0527070551758853, -0.6271225927724591, -0.0932018672644432, -1.688083990261239, -0.1782681183091389, -0.47899491072394434, 0.6428012794627598, 1.4776959120729736, -0.6652938373848085, 1.352182236487618, -0.7313750627525646, 0.14174316018181848, 1.6692898036380026, 1.2245434297403823, -0.7160280045468996, 1.8260580823033306, 1.6250393454014014, -1.498852738752117, 0.527366459397921, -0.37994599350941144, -0.889761094168913, -0.6175950575590283, 0.8291700376647222, 0.052524725240034126, -0.38017490909113333], \"yaxis\": \"y3\"}, {\"line\": {\"color\": \"rgba(128, 128, 128, 1.0)\", \"dash\": \"solid\", \"shape\": \"linear\", \"width\": 1.3}, \"marker\": {\"size\": 2, \"symbol\": \"circle\"}, \"mode\": \"markers\", \"name\": \"A\", \"text\": \"\", \"type\": \"scatter\", \"x\": [1.7026558454303116, 1.5594219269692025, 1.4403235877899048, -2.2390370525507115, 0.16467710599817323, -0.9218258259100182, -0.2611907139315378, 1.0977798698411936, 0.37977150377533847, 0.678930562576309, 0.24027033970707695, -1.134130511030025, 0.28086292437562704, 0.8503726898773861, 0.9055947656818857, -0.7918153524806373, -1.2086934500885222, -1.3335624922189502, -0.32424765208188006, -0.11862208797272265, 0.07067805408788083, -1.0783026149841517, 1.2151290995336135, -1.9090316261587466, 0.7698743059492738, 1.4226846925724372, -0.38905961689902124, -0.3890691908653827, -1.138098162318478, 1.5286657168142626, -1.5256697797380405, -0.6517541801020447, 0.6651618792751028, 0.042148395695265156, 0.8037912030554389, -1.2340590432062606, 1.1138802032482642, 0.24272962949614557, -1.0897845546442384, -0.1861118730117989, -0.28506025348328085, -0.577405630427034, 0.9629284792942532, 0.8642435985066734, -2.1158255595742577, 0.9961250193213448, 0.559105232995064, 2.3677036955966857, 0.30853192592085305, 0.31965857680337983, -0.5789125493559564, -0.38674738312959595, 1.75609531876379, -0.3335211959389353, -0.09548124952105416, -1.5095801851776736, -0.50414646443317, -0.3874310487330894, 0.960662750189629, -0.42162185528459656, -1.1383848115226616, 0.39497549251283326, -1.0588751065242445, -1.0819417784228555, -1.1208476331280686, 0.548769582600236, -1.4957479220462382, -0.9123343605142379, -0.5407420132543753, -0.0030139030991650174, 0.9181096233801954, -0.3682788361733208, -0.2944575717906814, -0.44024326113832996, 0.22636349352905413, -0.09082428904754525, 2.8711765900811588, -0.9151438925202213, 0.3043595561190293, 0.7625528301828641, -0.3890199468582452, 0.45888215375476715, 1.5323600237489465, -0.3188006834231324, -0.7476326812212825, 0.8562325819537043, -1.3959940222047766, -0.0861929617313064, -0.9274887709992322, -1.0259843591608262, 1.7701086138228979, 0.5539931463352439, -0.735673032801025, 0.5077288161248946, -0.2789899201810933, 0.5197571423652604, 2.7190894240091414, -0.7411929584172913, -0.22795472975730985, -0.2906902789780266], \"xaxis\": \"x4\", \"y\": [-0.3155077874583621, 0.3797030900663316, 0.13082536129896652, -2.2125362027707243, 0.6959899932604471, -0.6651688342182054, 0.3392751939560983, -0.06426101581698589, 0.9363722872087246, 1.2876798208715128, -0.8196844023398393, 0.10550574634716345, 0.984281215420857, -0.6480877371964813, -1.0196895799590036, 0.03905274891226861, 1.5089599192845327, 1.3158362494688813, -0.3925680163977808, 2.1593895399262033, -0.9277739001087258, -1.8101984688606385, 1.1051035037837664, -1.9118969941429562, 0.5506036681161965, -2.0808993092408583, -0.17650866762141137, 0.2632788163547951, -0.6182340559844405, 1.7529663918088312, 1.1406246805389066, 0.7590908403416821, -1.4817193890130869, 0.16014759977799178, -1.1411833455404845, -0.27451731196969403, 0.9712894693061355, 0.8776435538970953, -0.9255622764713449, -0.15646200077681197, 0.12895762865690136, 0.013382331274075478, 0.008946199293052778, 1.0855960400891453, -0.9989079444164698, -0.9197301339026103, -0.510708790885548, -0.5881182748390118, -0.870030337560292, -1.855747922112066, -0.39039164081373884, 1.1694539604739602, -1.3832385950425616, -0.5338808546528805, 0.6274205428990312, 0.7377221968558098, 0.2104629902769848, 1.0332701707296545, 1.1773014071136858, -3.003363732106316, -0.6367581114030771, -0.9849507362072155, 1.172889971084506, 1.4049919559413808, -1.0665120136345716, -0.4927786792902122, -0.4287735889544915, 2.1301691553569584, 0.10248865395219325, -0.673713112327333, -0.2774788826539322, -0.9845092147425413, -1.494775948560315, -0.1590858026848481, 0.4245146132867722, -1.0527070551758853, -0.6271225927724591, -0.0932018672644432, -1.688083990261239, -0.1782681183091389, -0.47899491072394434, 0.6428012794627598, 1.4776959120729736, -0.6652938373848085, 1.352182236487618, -0.7313750627525646, 0.14174316018181848, 1.6692898036380026, 1.2245434297403823, -0.7160280045468996, 1.8260580823033306, 1.6250393454014014, -1.498852738752117, 0.527366459397921, -0.37994599350941144, -0.889761094168913, -0.6175950575590283, 0.8291700376647222, 0.052524725240034126, -0.38017490909113333], \"yaxis\": \"y4\"}, {\"line\": {\"color\": \"rgba(128, 128, 128, 1.0)\", \"dash\": \"solid\", \"shape\": \"linear\", \"width\": 1.3}, \"marker\": {\"size\": 2, \"symbol\": \"circle\"}, \"mode\": \"markers\", \"name\": \"B\", \"text\": \"\", \"type\": \"scatter\", \"x\": [-0.3155077874583621, 0.3797030900663316, 0.13082536129896652, -2.2125362027707243, 0.6959899932604471, -0.6651688342182054, 0.3392751939560983, -0.06426101581698589, 0.9363722872087246, 1.2876798208715128, -0.8196844023398393, 0.10550574634716345, 0.984281215420857, -0.6480877371964813, -1.0196895799590036, 0.03905274891226861, 1.5089599192845327, 1.3158362494688813, -0.3925680163977808, 2.1593895399262033, -0.9277739001087258, -1.8101984688606385, 1.1051035037837664, -1.9118969941429562, 0.5506036681161965, -2.0808993092408583, -0.17650866762141137, 0.2632788163547951, -0.6182340559844405, 1.7529663918088312, 1.1406246805389066, 0.7590908403416821, -1.4817193890130869, 0.16014759977799178, -1.1411833455404845, -0.27451731196969403, 0.9712894693061355, 0.8776435538970953, -0.9255622764713449, -0.15646200077681197, 0.12895762865690136, 0.013382331274075478, 0.008946199293052778, 1.0855960400891453, -0.9989079444164698, -0.9197301339026103, -0.510708790885548, -0.5881182748390118, -0.870030337560292, -1.855747922112066, -0.39039164081373884, 1.1694539604739602, -1.3832385950425616, -0.5338808546528805, 0.6274205428990312, 0.7377221968558098, 0.2104629902769848, 1.0332701707296545, 1.1773014071136858, -3.003363732106316, -0.6367581114030771, -0.9849507362072155, 1.172889971084506, 1.4049919559413808, -1.0665120136345716, -0.4927786792902122, -0.4287735889544915, 2.1301691553569584, 0.10248865395219325, -0.673713112327333, -0.2774788826539322, -0.9845092147425413, -1.494775948560315, -0.1590858026848481, 0.4245146132867722, -1.0527070551758853, -0.6271225927724591, -0.0932018672644432, -1.688083990261239, -0.1782681183091389, -0.47899491072394434, 0.6428012794627598, 1.4776959120729736, -0.6652938373848085, 1.352182236487618, -0.7313750627525646, 0.14174316018181848, 1.6692898036380026, 1.2245434297403823, -0.7160280045468996, 1.8260580823033306, 1.6250393454014014, -1.498852738752117, 0.527366459397921, -0.37994599350941144, -0.889761094168913, -0.6175950575590283, 0.8291700376647222, 0.052524725240034126, -0.38017490909113333], \"xaxis\": \"x5\", \"y\": [-0.742187179415621, 1.2134107925533075, -1.7025709041072157, 1.1077712761245098, 0.2450268665699058, 0.03385606567073771, -1.0293155394884315, -0.6351817072975786, 1.208253857927379, 0.2029117802982394, -0.6799122973866606, -0.08803443897233985, 0.5758098646913065, 2.3902431728879696, 2.322309790667226, -2.053897477260906, -0.36181402898944065, -0.49557665247321375, -0.4951736765103893, 0.37178527931536326, -0.3682043275108212, -0.5047798875636234, 1.379355997986373, 0.13616493155165393, 0.49318325140623254, -1.5175410018180038, 1.1547435470274139, 0.6050117379633767, -0.6996344079126486, -1.4817646470214914, 0.18752169065501145, 0.8066387082368147, -1.1959799329299963, -1.4170206981119036, -0.5800184256741695, 0.49349150837889405, -1.2519802476741586, -0.12630538029101265, 0.5713795406605309, 0.33842867331585463, 0.9276612042481814, 0.004692158094001177, 0.9607895275269087, -0.10436431125521162, 0.19500506072408932, 0.143619040803998, 0.24846269290696457, -1.1992336266022514, 0.7719922880483462, -1.7107148568858963, -1.1515543208452308, -0.4577740846020255, 0.009834139054455184, -0.9013706274525457, -1.35055050964298, 0.2636316222136694, -1.2117197793433805, 0.7298801493900917, 0.5123712500991467, -0.9682940983285426, 0.4561713613886814, -1.005662369358284, 0.3471944906337027, 0.1589370880209759, 0.6209089271516771, -0.8626092465711424, 0.7291717621580838, -0.9247316157756699, 0.048935049402674256, -1.1589530826492762, -0.11538883632037497, -2.5490296011198748, -0.40073928870507336, 1.8938769192769815, -0.06177218824813722, -0.3126294223162608, -1.5306645065803304, -0.5912941570519058, 0.8109286932495376, 2.1950748662015487, -1.2866497815909261, -0.04497568412693477, 1.481450499023565, 0.663621173996275, -0.8882298892774952, -2.4824878621979, -0.02457183461218704, -0.039755112888196234, -0.5727714919382593, 0.6308537624751678, 0.22301238943458415, -0.3747561570544337, -1.6649265559053648, 1.7760400884476781, 0.09799518810159046, 0.5757701404841383, 1.161331427062505, 0.1137451273646778, 0.41018929002830706, -0.8698503917579509], \"yaxis\": \"y5\"}, {\"histfunc\": \"count\", \"histnorm\": \"\", \"marker\": {\"color\": \"rgba(55, 128, 191, 1.0)\", \"line\": {\"color\": \"#4D5663\", \"width\": 1.3}}, \"name\": \"B\", \"nbinsx\": 10, \"opacity\": 0.8, \"orientation\": \"v\", \"type\": \"histogram\", \"x\": [-0.742187179415621, 1.2134107925533075, -1.7025709041072157, 1.1077712761245098, 0.2450268665699058, 0.03385606567073771, -1.0293155394884315, -0.6351817072975786, 1.208253857927379, 0.2029117802982394, -0.6799122973866606, -0.08803443897233985, 0.5758098646913065, 2.3902431728879696, 2.322309790667226, -2.053897477260906, -0.36181402898944065, -0.49557665247321375, -0.4951736765103893, 0.37178527931536326, -0.3682043275108212, -0.5047798875636234, 1.379355997986373, 0.13616493155165393, 0.49318325140623254, -1.5175410018180038, 1.1547435470274139, 0.6050117379633767, -0.6996344079126486, -1.4817646470214914, 0.18752169065501145, 0.8066387082368147, -1.1959799329299963, -1.4170206981119036, -0.5800184256741695, 0.49349150837889405, -1.2519802476741586, -0.12630538029101265, 0.5713795406605309, 0.33842867331585463, 0.9276612042481814, 0.004692158094001177, 0.9607895275269087, -0.10436431125521162, 0.19500506072408932, 0.143619040803998, 0.24846269290696457, -1.1992336266022514, 0.7719922880483462, -1.7107148568858963, -1.1515543208452308, -0.4577740846020255, 0.009834139054455184, -0.9013706274525457, -1.35055050964298, 0.2636316222136694, -1.2117197793433805, 0.7298801493900917, 0.5123712500991467, -0.9682940983285426, 0.4561713613886814, -1.005662369358284, 0.3471944906337027, 0.1589370880209759, 0.6209089271516771, -0.8626092465711424, 0.7291717621580838, -0.9247316157756699, 0.048935049402674256, -1.1589530826492762, -0.11538883632037497, -2.5490296011198748, -0.40073928870507336, 1.8938769192769815, -0.06177218824813722, -0.3126294223162608, -1.5306645065803304, -0.5912941570519058, 0.8109286932495376, 2.1950748662015487, -1.2866497815909261, -0.04497568412693477, 1.481450499023565, 0.663621173996275, -0.8882298892774952, -2.4824878621979, -0.02457183461218704, -0.039755112888196234, -0.5727714919382593, 0.6308537624751678, 0.22301238943458415, -0.3747561570544337, -1.6649265559053648, 1.7760400884476781, 0.09799518810159046, 0.5757701404841383, 1.161331427062505, 0.1137451273646778, 0.41018929002830706, -0.8698503917579509], \"xaxis\": \"x6\", \"yaxis\": \"y6\"}, {\"line\": {\"color\": \"rgba(128, 128, 128, 1.0)\", \"dash\": \"solid\", \"shape\": \"linear\", \"width\": 1.3}, \"marker\": {\"size\": 2, \"symbol\": \"circle\"}, \"mode\": \"markers\", \"name\": \"B\", \"text\": \"\", \"type\": \"scatter\", \"x\": [-1.2078524061832343, 1.647806384601327, 0.867424872152327, 0.7669777110713896, 0.818520999225426, -0.48320967186024133, 0.35396243357211826, -0.8479124671901214, 0.13457107379341118, -1.5782654987525453, -0.024899038746018128, -0.9661302530011148, 0.10786866146194769, -1.029408787668984, -0.551551586968485, 0.7478338033100305, 0.32212826393082283, -0.07981914124646398, -1.7345386630444235, 0.940856042038223, -0.893802996297651, -1.6838191488701428, -0.8193949520436961, -0.6986978023236927, 0.9484716043906775, -2.4729774481529536, -0.5184931813506506, 1.2944947036141494, 1.6518965347606518, -0.27097369670413435, 0.6607100884259512, 0.38996016296846236, 0.6894118859018167, -0.8632209729940418, -0.5171083610114836, 0.6018600888172007, -0.8457311592941562, 0.59764909067985, -0.059718166023163995, 0.4020361989483813, -0.6843729666514186, -0.5242962066773789, -0.9377796468920861, -0.2094071465163398, -0.6004287234619048, -1.1654165511468466, 0.552071633160766, 2.294425554654729, 0.9840253882237323, 1.532463975726437, -2.0965363642856185, -0.027778544002653505, -1.2592610118032257, -0.4940128214479949, -0.9603470186202026, -0.8771390346804705, 1.997699888499699, 0.6984735539398365, -1.5234038797937803, -0.40855022070663927, 0.7077209690843312, 1.3804789004634803, 1.0428083128544448, 0.25439927354969954, 0.43481566187872217, 0.5020740992240665, 1.9118308644715627, -1.1631204064945873, 0.2444948577104291, 0.30624170731256933, -0.646460226151218, 1.2532514420256606, -0.48520205356676244, 0.4214967889186345, 0.7229831685011271, -0.05929358539847693, 0.26748616985900747, 0.2873558919730922, 0.5109451119502947, -1.273673762305818, -0.12156207954094937, 0.665416255241936, -0.3855498693882793, 0.6556997917497112, 1.083962308875982, 1.051193036773326, -0.16569352007058658, 1.445267284777046, 0.7339791857623821, -0.8844229099045823, 0.5934768649818013, 0.30832968316289466, 2.6337128110926913, 0.054701840278038164, 0.43980988188662745, 0.54351591766071, 0.9283251404799931, 0.09876115894398224, -1.2533514262488898, 2.1524972165590093], \"xaxis\": \"x7\", \"y\": [-0.742187179415621, 1.2134107925533075, -1.7025709041072157, 1.1077712761245098, 0.2450268665699058, 0.03385606567073771, -1.0293155394884315, -0.6351817072975786, 1.208253857927379, 0.2029117802982394, -0.6799122973866606, -0.08803443897233985, 0.5758098646913065, 2.3902431728879696, 2.322309790667226, -2.053897477260906, -0.36181402898944065, -0.49557665247321375, -0.4951736765103893, 0.37178527931536326, -0.3682043275108212, -0.5047798875636234, 1.379355997986373, 0.13616493155165393, 0.49318325140623254, -1.5175410018180038, 1.1547435470274139, 0.6050117379633767, -0.6996344079126486, -1.4817646470214914, 0.18752169065501145, 0.8066387082368147, -1.1959799329299963, -1.4170206981119036, -0.5800184256741695, 0.49349150837889405, -1.2519802476741586, -0.12630538029101265, 0.5713795406605309, 0.33842867331585463, 0.9276612042481814, 0.004692158094001177, 0.9607895275269087, -0.10436431125521162, 0.19500506072408932, 0.143619040803998, 0.24846269290696457, -1.1992336266022514, 0.7719922880483462, -1.7107148568858963, -1.1515543208452308, -0.4577740846020255, 0.009834139054455184, -0.9013706274525457, -1.35055050964298, 0.2636316222136694, -1.2117197793433805, 0.7298801493900917, 0.5123712500991467, -0.9682940983285426, 0.4561713613886814, -1.005662369358284, 0.3471944906337027, 0.1589370880209759, 0.6209089271516771, -0.8626092465711424, 0.7291717621580838, -0.9247316157756699, 0.048935049402674256, -1.1589530826492762, -0.11538883632037497, -2.5490296011198748, -0.40073928870507336, 1.8938769192769815, -0.06177218824813722, -0.3126294223162608, -1.5306645065803304, -0.5912941570519058, 0.8109286932495376, 2.1950748662015487, -1.2866497815909261, -0.04497568412693477, 1.481450499023565, 0.663621173996275, -0.8882298892774952, -2.4824878621979, -0.02457183461218704, -0.039755112888196234, -0.5727714919382593, 0.6308537624751678, 0.22301238943458415, -0.3747561570544337, -1.6649265559053648, 1.7760400884476781, 0.09799518810159046, 0.5757701404841383, 1.161331427062505, 0.1137451273646778, 0.41018929002830706, -0.8698503917579509], \"yaxis\": \"y7\"}, {\"line\": {\"color\": \"rgba(128, 128, 128, 1.0)\", \"dash\": \"solid\", \"shape\": \"linear\", \"width\": 1.3}, \"marker\": {\"size\": 2, \"symbol\": \"circle\"}, \"mode\": \"markers\", \"name\": \"B\", \"text\": \"\", \"type\": \"scatter\", \"x\": [1.7026558454303116, 1.5594219269692025, 1.4403235877899048, -2.2390370525507115, 0.16467710599817323, -0.9218258259100182, -0.2611907139315378, 1.0977798698411936, 0.37977150377533847, 0.678930562576309, 0.24027033970707695, -1.134130511030025, 0.28086292437562704, 0.8503726898773861, 0.9055947656818857, -0.7918153524806373, -1.2086934500885222, -1.3335624922189502, -0.32424765208188006, -0.11862208797272265, 0.07067805408788083, -1.0783026149841517, 1.2151290995336135, -1.9090316261587466, 0.7698743059492738, 1.4226846925724372, -0.38905961689902124, -0.3890691908653827, -1.138098162318478, 1.5286657168142626, -1.5256697797380405, -0.6517541801020447, 0.6651618792751028, 0.042148395695265156, 0.8037912030554389, -1.2340590432062606, 1.1138802032482642, 0.24272962949614557, -1.0897845546442384, -0.1861118730117989, -0.28506025348328085, -0.577405630427034, 0.9629284792942532, 0.8642435985066734, -2.1158255595742577, 0.9961250193213448, 0.559105232995064, 2.3677036955966857, 0.30853192592085305, 0.31965857680337983, -0.5789125493559564, -0.38674738312959595, 1.75609531876379, -0.3335211959389353, -0.09548124952105416, -1.5095801851776736, -0.50414646443317, -0.3874310487330894, 0.960662750189629, -0.42162185528459656, -1.1383848115226616, 0.39497549251283326, -1.0588751065242445, -1.0819417784228555, -1.1208476331280686, 0.548769582600236, -1.4957479220462382, -0.9123343605142379, -0.5407420132543753, -0.0030139030991650174, 0.9181096233801954, -0.3682788361733208, -0.2944575717906814, -0.44024326113832996, 0.22636349352905413, -0.09082428904754525, 2.8711765900811588, -0.9151438925202213, 0.3043595561190293, 0.7625528301828641, -0.3890199468582452, 0.45888215375476715, 1.5323600237489465, -0.3188006834231324, -0.7476326812212825, 0.8562325819537043, -1.3959940222047766, -0.0861929617313064, -0.9274887709992322, -1.0259843591608262, 1.7701086138228979, 0.5539931463352439, -0.735673032801025, 0.5077288161248946, -0.2789899201810933, 0.5197571423652604, 2.7190894240091414, -0.7411929584172913, -0.22795472975730985, -0.2906902789780266], \"xaxis\": \"x8\", \"y\": [-0.742187179415621, 1.2134107925533075, -1.7025709041072157, 1.1077712761245098, 0.2450268665699058, 0.03385606567073771, -1.0293155394884315, -0.6351817072975786, 1.208253857927379, 0.2029117802982394, -0.6799122973866606, -0.08803443897233985, 0.5758098646913065, 2.3902431728879696, 2.322309790667226, -2.053897477260906, -0.36181402898944065, -0.49557665247321375, -0.4951736765103893, 0.37178527931536326, -0.3682043275108212, -0.5047798875636234, 1.379355997986373, 0.13616493155165393, 0.49318325140623254, -1.5175410018180038, 1.1547435470274139, 0.6050117379633767, -0.6996344079126486, -1.4817646470214914, 0.18752169065501145, 0.8066387082368147, -1.1959799329299963, -1.4170206981119036, -0.5800184256741695, 0.49349150837889405, -1.2519802476741586, -0.12630538029101265, 0.5713795406605309, 0.33842867331585463, 0.9276612042481814, 0.004692158094001177, 0.9607895275269087, -0.10436431125521162, 0.19500506072408932, 0.143619040803998, 0.24846269290696457, -1.1992336266022514, 0.7719922880483462, -1.7107148568858963, -1.1515543208452308, -0.4577740846020255, 0.009834139054455184, -0.9013706274525457, -1.35055050964298, 0.2636316222136694, -1.2117197793433805, 0.7298801493900917, 0.5123712500991467, -0.9682940983285426, 0.4561713613886814, -1.005662369358284, 0.3471944906337027, 0.1589370880209759, 0.6209089271516771, -0.8626092465711424, 0.7291717621580838, -0.9247316157756699, 0.048935049402674256, -1.1589530826492762, -0.11538883632037497, -2.5490296011198748, -0.40073928870507336, 1.8938769192769815, -0.06177218824813722, -0.3126294223162608, -1.5306645065803304, -0.5912941570519058, 0.8109286932495376, 2.1950748662015487, -1.2866497815909261, -0.04497568412693477, 1.481450499023565, 0.663621173996275, -0.8882298892774952, -2.4824878621979, -0.02457183461218704, -0.039755112888196234, -0.5727714919382593, 0.6308537624751678, 0.22301238943458415, -0.3747561570544337, -1.6649265559053648, 1.7760400884476781, 0.09799518810159046, 0.5757701404841383, 1.161331427062505, 0.1137451273646778, 0.41018929002830706, -0.8698503917579509], \"yaxis\": \"y8\"}, {\"line\": {\"color\": \"rgba(128, 128, 128, 1.0)\", \"dash\": \"solid\", \"shape\": \"linear\", \"width\": 1.3}, \"marker\": {\"size\": 2, \"symbol\": \"circle\"}, \"mode\": \"markers\", \"name\": \"C\", \"text\": \"\", \"type\": \"scatter\", \"x\": [-0.3155077874583621, 0.3797030900663316, 0.13082536129896652, -2.2125362027707243, 0.6959899932604471, -0.6651688342182054, 0.3392751939560983, -0.06426101581698589, 0.9363722872087246, 1.2876798208715128, -0.8196844023398393, 0.10550574634716345, 0.984281215420857, -0.6480877371964813, -1.0196895799590036, 0.03905274891226861, 1.5089599192845327, 1.3158362494688813, -0.3925680163977808, 2.1593895399262033, -0.9277739001087258, -1.8101984688606385, 1.1051035037837664, -1.9118969941429562, 0.5506036681161965, -2.0808993092408583, -0.17650866762141137, 0.2632788163547951, -0.6182340559844405, 1.7529663918088312, 1.1406246805389066, 0.7590908403416821, -1.4817193890130869, 0.16014759977799178, -1.1411833455404845, -0.27451731196969403, 0.9712894693061355, 0.8776435538970953, -0.9255622764713449, -0.15646200077681197, 0.12895762865690136, 0.013382331274075478, 0.008946199293052778, 1.0855960400891453, -0.9989079444164698, -0.9197301339026103, -0.510708790885548, -0.5881182748390118, -0.870030337560292, -1.855747922112066, -0.39039164081373884, 1.1694539604739602, -1.3832385950425616, -0.5338808546528805, 0.6274205428990312, 0.7377221968558098, 0.2104629902769848, 1.0332701707296545, 1.1773014071136858, -3.003363732106316, -0.6367581114030771, -0.9849507362072155, 1.172889971084506, 1.4049919559413808, -1.0665120136345716, -0.4927786792902122, -0.4287735889544915, 2.1301691553569584, 0.10248865395219325, -0.673713112327333, -0.2774788826539322, -0.9845092147425413, -1.494775948560315, -0.1590858026848481, 0.4245146132867722, -1.0527070551758853, -0.6271225927724591, -0.0932018672644432, -1.688083990261239, -0.1782681183091389, -0.47899491072394434, 0.6428012794627598, 1.4776959120729736, -0.6652938373848085, 1.352182236487618, -0.7313750627525646, 0.14174316018181848, 1.6692898036380026, 1.2245434297403823, -0.7160280045468996, 1.8260580823033306, 1.6250393454014014, -1.498852738752117, 0.527366459397921, -0.37994599350941144, -0.889761094168913, -0.6175950575590283, 0.8291700376647222, 0.052524725240034126, -0.38017490909113333], \"xaxis\": \"x9\", \"y\": [-1.2078524061832343, 1.647806384601327, 0.867424872152327, 0.7669777110713896, 0.818520999225426, -0.48320967186024133, 0.35396243357211826, -0.8479124671901214, 0.13457107379341118, -1.5782654987525453, -0.024899038746018128, -0.9661302530011148, 0.10786866146194769, -1.029408787668984, -0.551551586968485, 0.7478338033100305, 0.32212826393082283, -0.07981914124646398, -1.7345386630444235, 0.940856042038223, -0.893802996297651, -1.6838191488701428, -0.8193949520436961, -0.6986978023236927, 0.9484716043906775, -2.4729774481529536, -0.5184931813506506, 1.2944947036141494, 1.6518965347606518, -0.27097369670413435, 0.6607100884259512, 0.38996016296846236, 0.6894118859018167, -0.8632209729940418, -0.5171083610114836, 0.6018600888172007, -0.8457311592941562, 0.59764909067985, -0.059718166023163995, 0.4020361989483813, -0.6843729666514186, -0.5242962066773789, -0.9377796468920861, -0.2094071465163398, -0.6004287234619048, -1.1654165511468466, 0.552071633160766, 2.294425554654729, 0.9840253882237323, 1.532463975726437, -2.0965363642856185, -0.027778544002653505, -1.2592610118032257, -0.4940128214479949, -0.9603470186202026, -0.8771390346804705, 1.997699888499699, 0.6984735539398365, -1.5234038797937803, -0.40855022070663927, 0.7077209690843312, 1.3804789004634803, 1.0428083128544448, 0.25439927354969954, 0.43481566187872217, 0.5020740992240665, 1.9118308644715627, -1.1631204064945873, 0.2444948577104291, 0.30624170731256933, -0.646460226151218, 1.2532514420256606, -0.48520205356676244, 0.4214967889186345, 0.7229831685011271, -0.05929358539847693, 0.26748616985900747, 0.2873558919730922, 0.5109451119502947, -1.273673762305818, -0.12156207954094937, 0.665416255241936, -0.3855498693882793, 0.6556997917497112, 1.083962308875982, 1.051193036773326, -0.16569352007058658, 1.445267284777046, 0.7339791857623821, -0.8844229099045823, 0.5934768649818013, 0.30832968316289466, 2.6337128110926913, 0.054701840278038164, 0.43980988188662745, 0.54351591766071, 0.9283251404799931, 0.09876115894398224, -1.2533514262488898, 2.1524972165590093], \"yaxis\": \"y9\"}, {\"line\": {\"color\": \"rgba(128, 128, 128, 1.0)\", \"dash\": \"solid\", \"shape\": \"linear\", \"width\": 1.3}, \"marker\": {\"size\": 2, \"symbol\": \"circle\"}, \"mode\": \"markers\", \"name\": \"C\", \"text\": \"\", \"type\": \"scatter\", \"x\": [-0.742187179415621, 1.2134107925533075, -1.7025709041072157, 1.1077712761245098, 0.2450268665699058, 0.03385606567073771, -1.0293155394884315, -0.6351817072975786, 1.208253857927379, 0.2029117802982394, -0.6799122973866606, -0.08803443897233985, 0.5758098646913065, 2.3902431728879696, 2.322309790667226, -2.053897477260906, -0.36181402898944065, -0.49557665247321375, -0.4951736765103893, 0.37178527931536326, -0.3682043275108212, -0.5047798875636234, 1.379355997986373, 0.13616493155165393, 0.49318325140623254, -1.5175410018180038, 1.1547435470274139, 0.6050117379633767, -0.6996344079126486, -1.4817646470214914, 0.18752169065501145, 0.8066387082368147, -1.1959799329299963, -1.4170206981119036, -0.5800184256741695, 0.49349150837889405, -1.2519802476741586, -0.12630538029101265, 0.5713795406605309, 0.33842867331585463, 0.9276612042481814, 0.004692158094001177, 0.9607895275269087, -0.10436431125521162, 0.19500506072408932, 0.143619040803998, 0.24846269290696457, -1.1992336266022514, 0.7719922880483462, -1.7107148568858963, -1.1515543208452308, -0.4577740846020255, 0.009834139054455184, -0.9013706274525457, -1.35055050964298, 0.2636316222136694, -1.2117197793433805, 0.7298801493900917, 0.5123712500991467, -0.9682940983285426, 0.4561713613886814, -1.005662369358284, 0.3471944906337027, 0.1589370880209759, 0.6209089271516771, -0.8626092465711424, 0.7291717621580838, -0.9247316157756699, 0.048935049402674256, -1.1589530826492762, -0.11538883632037497, -2.5490296011198748, -0.40073928870507336, 1.8938769192769815, -0.06177218824813722, -0.3126294223162608, -1.5306645065803304, -0.5912941570519058, 0.8109286932495376, 2.1950748662015487, -1.2866497815909261, -0.04497568412693477, 1.481450499023565, 0.663621173996275, -0.8882298892774952, -2.4824878621979, -0.02457183461218704, -0.039755112888196234, -0.5727714919382593, 0.6308537624751678, 0.22301238943458415, -0.3747561570544337, -1.6649265559053648, 1.7760400884476781, 0.09799518810159046, 0.5757701404841383, 1.161331427062505, 0.1137451273646778, 0.41018929002830706, -0.8698503917579509], \"xaxis\": \"x10\", \"y\": [-1.2078524061832343, 1.647806384601327, 0.867424872152327, 0.7669777110713896, 0.818520999225426, -0.48320967186024133, 0.35396243357211826, -0.8479124671901214, 0.13457107379341118, -1.5782654987525453, -0.024899038746018128, -0.9661302530011148, 0.10786866146194769, -1.029408787668984, -0.551551586968485, 0.7478338033100305, 0.32212826393082283, -0.07981914124646398, -1.7345386630444235, 0.940856042038223, -0.893802996297651, -1.6838191488701428, -0.8193949520436961, -0.6986978023236927, 0.9484716043906775, -2.4729774481529536, -0.5184931813506506, 1.2944947036141494, 1.6518965347606518, -0.27097369670413435, 0.6607100884259512, 0.38996016296846236, 0.6894118859018167, -0.8632209729940418, -0.5171083610114836, 0.6018600888172007, -0.8457311592941562, 0.59764909067985, -0.059718166023163995, 0.4020361989483813, -0.6843729666514186, -0.5242962066773789, -0.9377796468920861, -0.2094071465163398, -0.6004287234619048, -1.1654165511468466, 0.552071633160766, 2.294425554654729, 0.9840253882237323, 1.532463975726437, -2.0965363642856185, -0.027778544002653505, -1.2592610118032257, -0.4940128214479949, -0.9603470186202026, -0.8771390346804705, 1.997699888499699, 0.6984735539398365, -1.5234038797937803, -0.40855022070663927, 0.7077209690843312, 1.3804789004634803, 1.0428083128544448, 0.25439927354969954, 0.43481566187872217, 0.5020740992240665, 1.9118308644715627, -1.1631204064945873, 0.2444948577104291, 0.30624170731256933, -0.646460226151218, 1.2532514420256606, -0.48520205356676244, 0.4214967889186345, 0.7229831685011271, -0.05929358539847693, 0.26748616985900747, 0.2873558919730922, 0.5109451119502947, -1.273673762305818, -0.12156207954094937, 0.665416255241936, -0.3855498693882793, 0.6556997917497112, 1.083962308875982, 1.051193036773326, -0.16569352007058658, 1.445267284777046, 0.7339791857623821, -0.8844229099045823, 0.5934768649818013, 0.30832968316289466, 2.6337128110926913, 0.054701840278038164, 0.43980988188662745, 0.54351591766071, 0.9283251404799931, 0.09876115894398224, -1.2533514262488898, 2.1524972165590093], \"yaxis\": \"y10\"}, {\"histfunc\": \"count\", \"histnorm\": \"\", \"marker\": {\"color\": \"rgba(50, 171, 96, 1.0)\", \"line\": {\"color\": \"#4D5663\", \"width\": 1.3}}, \"name\": \"C\", \"nbinsx\": 10, \"opacity\": 0.8, \"orientation\": \"v\", \"type\": \"histogram\", \"x\": [-1.2078524061832343, 1.647806384601327, 0.867424872152327, 0.7669777110713896, 0.818520999225426, -0.48320967186024133, 0.35396243357211826, -0.8479124671901214, 0.13457107379341118, -1.5782654987525453, -0.024899038746018128, -0.9661302530011148, 0.10786866146194769, -1.029408787668984, -0.551551586968485, 0.7478338033100305, 0.32212826393082283, -0.07981914124646398, -1.7345386630444235, 0.940856042038223, -0.893802996297651, -1.6838191488701428, -0.8193949520436961, -0.6986978023236927, 0.9484716043906775, -2.4729774481529536, -0.5184931813506506, 1.2944947036141494, 1.6518965347606518, -0.27097369670413435, 0.6607100884259512, 0.38996016296846236, 0.6894118859018167, -0.8632209729940418, -0.5171083610114836, 0.6018600888172007, -0.8457311592941562, 0.59764909067985, -0.059718166023163995, 0.4020361989483813, -0.6843729666514186, -0.5242962066773789, -0.9377796468920861, -0.2094071465163398, -0.6004287234619048, -1.1654165511468466, 0.552071633160766, 2.294425554654729, 0.9840253882237323, 1.532463975726437, -2.0965363642856185, -0.027778544002653505, -1.2592610118032257, -0.4940128214479949, -0.9603470186202026, -0.8771390346804705, 1.997699888499699, 0.6984735539398365, -1.5234038797937803, -0.40855022070663927, 0.7077209690843312, 1.3804789004634803, 1.0428083128544448, 0.25439927354969954, 0.43481566187872217, 0.5020740992240665, 1.9118308644715627, -1.1631204064945873, 0.2444948577104291, 0.30624170731256933, -0.646460226151218, 1.2532514420256606, -0.48520205356676244, 0.4214967889186345, 0.7229831685011271, -0.05929358539847693, 0.26748616985900747, 0.2873558919730922, 0.5109451119502947, -1.273673762305818, -0.12156207954094937, 0.665416255241936, -0.3855498693882793, 0.6556997917497112, 1.083962308875982, 1.051193036773326, -0.16569352007058658, 1.445267284777046, 0.7339791857623821, -0.8844229099045823, 0.5934768649818013, 0.30832968316289466, 2.6337128110926913, 0.054701840278038164, 0.43980988188662745, 0.54351591766071, 0.9283251404799931, 0.09876115894398224, -1.2533514262488898, 2.1524972165590093], \"xaxis\": \"x11\", \"yaxis\": \"y11\"}, {\"line\": {\"color\": \"rgba(128, 128, 128, 1.0)\", \"dash\": \"solid\", \"shape\": \"linear\", \"width\": 1.3}, \"marker\": {\"size\": 2, \"symbol\": \"circle\"}, \"mode\": \"markers\", \"name\": \"C\", \"text\": \"\", \"type\": \"scatter\", \"x\": [1.7026558454303116, 1.5594219269692025, 1.4403235877899048, -2.2390370525507115, 0.16467710599817323, -0.9218258259100182, -0.2611907139315378, 1.0977798698411936, 0.37977150377533847, 0.678930562576309, 0.24027033970707695, -1.134130511030025, 0.28086292437562704, 0.8503726898773861, 0.9055947656818857, -0.7918153524806373, -1.2086934500885222, -1.3335624922189502, -0.32424765208188006, -0.11862208797272265, 0.07067805408788083, -1.0783026149841517, 1.2151290995336135, -1.9090316261587466, 0.7698743059492738, 1.4226846925724372, -0.38905961689902124, -0.3890691908653827, -1.138098162318478, 1.5286657168142626, -1.5256697797380405, -0.6517541801020447, 0.6651618792751028, 0.042148395695265156, 0.8037912030554389, -1.2340590432062606, 1.1138802032482642, 0.24272962949614557, -1.0897845546442384, -0.1861118730117989, -0.28506025348328085, -0.577405630427034, 0.9629284792942532, 0.8642435985066734, -2.1158255595742577, 0.9961250193213448, 0.559105232995064, 2.3677036955966857, 0.30853192592085305, 0.31965857680337983, -0.5789125493559564, -0.38674738312959595, 1.75609531876379, -0.3335211959389353, -0.09548124952105416, -1.5095801851776736, -0.50414646443317, -0.3874310487330894, 0.960662750189629, -0.42162185528459656, -1.1383848115226616, 0.39497549251283326, -1.0588751065242445, -1.0819417784228555, -1.1208476331280686, 0.548769582600236, -1.4957479220462382, -0.9123343605142379, -0.5407420132543753, -0.0030139030991650174, 0.9181096233801954, -0.3682788361733208, -0.2944575717906814, -0.44024326113832996, 0.22636349352905413, -0.09082428904754525, 2.8711765900811588, -0.9151438925202213, 0.3043595561190293, 0.7625528301828641, -0.3890199468582452, 0.45888215375476715, 1.5323600237489465, -0.3188006834231324, -0.7476326812212825, 0.8562325819537043, -1.3959940222047766, -0.0861929617313064, -0.9274887709992322, -1.0259843591608262, 1.7701086138228979, 0.5539931463352439, -0.735673032801025, 0.5077288161248946, -0.2789899201810933, 0.5197571423652604, 2.7190894240091414, -0.7411929584172913, -0.22795472975730985, -0.2906902789780266], \"xaxis\": \"x12\", \"y\": [-1.2078524061832343, 1.647806384601327, 0.867424872152327, 0.7669777110713896, 0.818520999225426, -0.48320967186024133, 0.35396243357211826, -0.8479124671901214, 0.13457107379341118, -1.5782654987525453, -0.024899038746018128, -0.9661302530011148, 0.10786866146194769, -1.029408787668984, -0.551551586968485, 0.7478338033100305, 0.32212826393082283, -0.07981914124646398, -1.7345386630444235, 0.940856042038223, -0.893802996297651, -1.6838191488701428, -0.8193949520436961, -0.6986978023236927, 0.9484716043906775, -2.4729774481529536, -0.5184931813506506, 1.2944947036141494, 1.6518965347606518, -0.27097369670413435, 0.6607100884259512, 0.38996016296846236, 0.6894118859018167, -0.8632209729940418, -0.5171083610114836, 0.6018600888172007, -0.8457311592941562, 0.59764909067985, -0.059718166023163995, 0.4020361989483813, -0.6843729666514186, -0.5242962066773789, -0.9377796468920861, -0.2094071465163398, -0.6004287234619048, -1.1654165511468466, 0.552071633160766, 2.294425554654729, 0.9840253882237323, 1.532463975726437, -2.0965363642856185, -0.027778544002653505, -1.2592610118032257, -0.4940128214479949, -0.9603470186202026, -0.8771390346804705, 1.997699888499699, 0.6984735539398365, -1.5234038797937803, -0.40855022070663927, 0.7077209690843312, 1.3804789004634803, 1.0428083128544448, 0.25439927354969954, 0.43481566187872217, 0.5020740992240665, 1.9118308644715627, -1.1631204064945873, 0.2444948577104291, 0.30624170731256933, -0.646460226151218, 1.2532514420256606, -0.48520205356676244, 0.4214967889186345, 0.7229831685011271, -0.05929358539847693, 0.26748616985900747, 0.2873558919730922, 0.5109451119502947, -1.273673762305818, -0.12156207954094937, 0.665416255241936, -0.3855498693882793, 0.6556997917497112, 1.083962308875982, 1.051193036773326, -0.16569352007058658, 1.445267284777046, 0.7339791857623821, -0.8844229099045823, 0.5934768649818013, 0.30832968316289466, 2.6337128110926913, 0.054701840278038164, 0.43980988188662745, 0.54351591766071, 0.9283251404799931, 0.09876115894398224, -1.2533514262488898, 2.1524972165590093], \"yaxis\": \"y12\"}, {\"line\": {\"color\": \"rgba(128, 128, 128, 1.0)\", \"dash\": \"solid\", \"shape\": \"linear\", \"width\": 1.3}, \"marker\": {\"size\": 2, \"symbol\": \"circle\"}, \"mode\": \"markers\", \"name\": \"D\", \"text\": \"\", \"type\": \"scatter\", \"x\": [-0.3155077874583621, 0.3797030900663316, 0.13082536129896652, -2.2125362027707243, 0.6959899932604471, -0.6651688342182054, 0.3392751939560983, -0.06426101581698589, 0.9363722872087246, 1.2876798208715128, -0.8196844023398393, 0.10550574634716345, 0.984281215420857, -0.6480877371964813, -1.0196895799590036, 0.03905274891226861, 1.5089599192845327, 1.3158362494688813, -0.3925680163977808, 2.1593895399262033, -0.9277739001087258, -1.8101984688606385, 1.1051035037837664, -1.9118969941429562, 0.5506036681161965, -2.0808993092408583, -0.17650866762141137, 0.2632788163547951, -0.6182340559844405, 1.7529663918088312, 1.1406246805389066, 0.7590908403416821, -1.4817193890130869, 0.16014759977799178, -1.1411833455404845, -0.27451731196969403, 0.9712894693061355, 0.8776435538970953, -0.9255622764713449, -0.15646200077681197, 0.12895762865690136, 0.013382331274075478, 0.008946199293052778, 1.0855960400891453, -0.9989079444164698, -0.9197301339026103, -0.510708790885548, -0.5881182748390118, -0.870030337560292, -1.855747922112066, -0.39039164081373884, 1.1694539604739602, -1.3832385950425616, -0.5338808546528805, 0.6274205428990312, 0.7377221968558098, 0.2104629902769848, 1.0332701707296545, 1.1773014071136858, -3.003363732106316, -0.6367581114030771, -0.9849507362072155, 1.172889971084506, 1.4049919559413808, -1.0665120136345716, -0.4927786792902122, -0.4287735889544915, 2.1301691553569584, 0.10248865395219325, -0.673713112327333, -0.2774788826539322, -0.9845092147425413, -1.494775948560315, -0.1590858026848481, 0.4245146132867722, -1.0527070551758853, -0.6271225927724591, -0.0932018672644432, -1.688083990261239, -0.1782681183091389, -0.47899491072394434, 0.6428012794627598, 1.4776959120729736, -0.6652938373848085, 1.352182236487618, -0.7313750627525646, 0.14174316018181848, 1.6692898036380026, 1.2245434297403823, -0.7160280045468996, 1.8260580823033306, 1.6250393454014014, -1.498852738752117, 0.527366459397921, -0.37994599350941144, -0.889761094168913, -0.6175950575590283, 0.8291700376647222, 0.052524725240034126, -0.38017490909113333], \"xaxis\": \"x13\", \"y\": [1.7026558454303116, 1.5594219269692025, 1.4403235877899048, -2.2390370525507115, 0.16467710599817323, -0.9218258259100182, -0.2611907139315378, 1.0977798698411936, 0.37977150377533847, 0.678930562576309, 0.24027033970707695, -1.134130511030025, 0.28086292437562704, 0.8503726898773861, 0.9055947656818857, -0.7918153524806373, -1.2086934500885222, -1.3335624922189502, -0.32424765208188006, -0.11862208797272265, 0.07067805408788083, -1.0783026149841517, 1.2151290995336135, -1.9090316261587466, 0.7698743059492738, 1.4226846925724372, -0.38905961689902124, -0.3890691908653827, -1.138098162318478, 1.5286657168142626, -1.5256697797380405, -0.6517541801020447, 0.6651618792751028, 0.042148395695265156, 0.8037912030554389, -1.2340590432062606, 1.1138802032482642, 0.24272962949614557, -1.0897845546442384, -0.1861118730117989, -0.28506025348328085, -0.577405630427034, 0.9629284792942532, 0.8642435985066734, -2.1158255595742577, 0.9961250193213448, 0.559105232995064, 2.3677036955966857, 0.30853192592085305, 0.31965857680337983, -0.5789125493559564, -0.38674738312959595, 1.75609531876379, -0.3335211959389353, -0.09548124952105416, -1.5095801851776736, -0.50414646443317, -0.3874310487330894, 0.960662750189629, -0.42162185528459656, -1.1383848115226616, 0.39497549251283326, -1.0588751065242445, -1.0819417784228555, -1.1208476331280686, 0.548769582600236, -1.4957479220462382, -0.9123343605142379, -0.5407420132543753, -0.0030139030991650174, 0.9181096233801954, -0.3682788361733208, -0.2944575717906814, -0.44024326113832996, 0.22636349352905413, -0.09082428904754525, 2.8711765900811588, -0.9151438925202213, 0.3043595561190293, 0.7625528301828641, -0.3890199468582452, 0.45888215375476715, 1.5323600237489465, -0.3188006834231324, -0.7476326812212825, 0.8562325819537043, -1.3959940222047766, -0.0861929617313064, -0.9274887709992322, -1.0259843591608262, 1.7701086138228979, 0.5539931463352439, -0.735673032801025, 0.5077288161248946, -0.2789899201810933, 0.5197571423652604, 2.7190894240091414, -0.7411929584172913, -0.22795472975730985, -0.2906902789780266], \"yaxis\": \"y13\"}, {\"line\": {\"color\": \"rgba(128, 128, 128, 1.0)\", \"dash\": \"solid\", \"shape\": \"linear\", \"width\": 1.3}, \"marker\": {\"size\": 2, \"symbol\": \"circle\"}, \"mode\": \"markers\", \"name\": \"D\", \"text\": \"\", \"type\": \"scatter\", \"x\": [-0.742187179415621, 1.2134107925533075, -1.7025709041072157, 1.1077712761245098, 0.2450268665699058, 0.03385606567073771, -1.0293155394884315, -0.6351817072975786, 1.208253857927379, 0.2029117802982394, -0.6799122973866606, -0.08803443897233985, 0.5758098646913065, 2.3902431728879696, 2.322309790667226, -2.053897477260906, -0.36181402898944065, -0.49557665247321375, -0.4951736765103893, 0.37178527931536326, -0.3682043275108212, -0.5047798875636234, 1.379355997986373, 0.13616493155165393, 0.49318325140623254, -1.5175410018180038, 1.1547435470274139, 0.6050117379633767, -0.6996344079126486, -1.4817646470214914, 0.18752169065501145, 0.8066387082368147, -1.1959799329299963, -1.4170206981119036, -0.5800184256741695, 0.49349150837889405, -1.2519802476741586, -0.12630538029101265, 0.5713795406605309, 0.33842867331585463, 0.9276612042481814, 0.004692158094001177, 0.9607895275269087, -0.10436431125521162, 0.19500506072408932, 0.143619040803998, 0.24846269290696457, -1.1992336266022514, 0.7719922880483462, -1.7107148568858963, -1.1515543208452308, -0.4577740846020255, 0.009834139054455184, -0.9013706274525457, -1.35055050964298, 0.2636316222136694, -1.2117197793433805, 0.7298801493900917, 0.5123712500991467, -0.9682940983285426, 0.4561713613886814, -1.005662369358284, 0.3471944906337027, 0.1589370880209759, 0.6209089271516771, -0.8626092465711424, 0.7291717621580838, -0.9247316157756699, 0.048935049402674256, -1.1589530826492762, -0.11538883632037497, -2.5490296011198748, -0.40073928870507336, 1.8938769192769815, -0.06177218824813722, -0.3126294223162608, -1.5306645065803304, -0.5912941570519058, 0.8109286932495376, 2.1950748662015487, -1.2866497815909261, -0.04497568412693477, 1.481450499023565, 0.663621173996275, -0.8882298892774952, -2.4824878621979, -0.02457183461218704, -0.039755112888196234, -0.5727714919382593, 0.6308537624751678, 0.22301238943458415, -0.3747561570544337, -1.6649265559053648, 1.7760400884476781, 0.09799518810159046, 0.5757701404841383, 1.161331427062505, 0.1137451273646778, 0.41018929002830706, -0.8698503917579509], \"xaxis\": \"x14\", \"y\": [1.7026558454303116, 1.5594219269692025, 1.4403235877899048, -2.2390370525507115, 0.16467710599817323, -0.9218258259100182, -0.2611907139315378, 1.0977798698411936, 0.37977150377533847, 0.678930562576309, 0.24027033970707695, -1.134130511030025, 0.28086292437562704, 0.8503726898773861, 0.9055947656818857, -0.7918153524806373, -1.2086934500885222, -1.3335624922189502, -0.32424765208188006, -0.11862208797272265, 0.07067805408788083, -1.0783026149841517, 1.2151290995336135, -1.9090316261587466, 0.7698743059492738, 1.4226846925724372, -0.38905961689902124, -0.3890691908653827, -1.138098162318478, 1.5286657168142626, -1.5256697797380405, -0.6517541801020447, 0.6651618792751028, 0.042148395695265156, 0.8037912030554389, -1.2340590432062606, 1.1138802032482642, 0.24272962949614557, -1.0897845546442384, -0.1861118730117989, -0.28506025348328085, -0.577405630427034, 0.9629284792942532, 0.8642435985066734, -2.1158255595742577, 0.9961250193213448, 0.559105232995064, 2.3677036955966857, 0.30853192592085305, 0.31965857680337983, -0.5789125493559564, -0.38674738312959595, 1.75609531876379, -0.3335211959389353, -0.09548124952105416, -1.5095801851776736, -0.50414646443317, -0.3874310487330894, 0.960662750189629, -0.42162185528459656, -1.1383848115226616, 0.39497549251283326, -1.0588751065242445, -1.0819417784228555, -1.1208476331280686, 0.548769582600236, -1.4957479220462382, -0.9123343605142379, -0.5407420132543753, -0.0030139030991650174, 0.9181096233801954, -0.3682788361733208, -0.2944575717906814, -0.44024326113832996, 0.22636349352905413, -0.09082428904754525, 2.8711765900811588, -0.9151438925202213, 0.3043595561190293, 0.7625528301828641, -0.3890199468582452, 0.45888215375476715, 1.5323600237489465, -0.3188006834231324, -0.7476326812212825, 0.8562325819537043, -1.3959940222047766, -0.0861929617313064, -0.9274887709992322, -1.0259843591608262, 1.7701086138228979, 0.5539931463352439, -0.735673032801025, 0.5077288161248946, -0.2789899201810933, 0.5197571423652604, 2.7190894240091414, -0.7411929584172913, -0.22795472975730985, -0.2906902789780266], \"yaxis\": \"y14\"}, {\"line\": {\"color\": \"rgba(128, 128, 128, 1.0)\", \"dash\": \"solid\", \"shape\": \"linear\", \"width\": 1.3}, \"marker\": {\"size\": 2, \"symbol\": \"circle\"}, \"mode\": \"markers\", \"name\": \"D\", \"text\": \"\", \"type\": \"scatter\", \"x\": [-1.2078524061832343, 1.647806384601327, 0.867424872152327, 0.7669777110713896, 0.818520999225426, -0.48320967186024133, 0.35396243357211826, -0.8479124671901214, 0.13457107379341118, -1.5782654987525453, -0.024899038746018128, -0.9661302530011148, 0.10786866146194769, -1.029408787668984, -0.551551586968485, 0.7478338033100305, 0.32212826393082283, -0.07981914124646398, -1.7345386630444235, 0.940856042038223, -0.893802996297651, -1.6838191488701428, -0.8193949520436961, -0.6986978023236927, 0.9484716043906775, -2.4729774481529536, -0.5184931813506506, 1.2944947036141494, 1.6518965347606518, -0.27097369670413435, 0.6607100884259512, 0.38996016296846236, 0.6894118859018167, -0.8632209729940418, -0.5171083610114836, 0.6018600888172007, -0.8457311592941562, 0.59764909067985, -0.059718166023163995, 0.4020361989483813, -0.6843729666514186, -0.5242962066773789, -0.9377796468920861, -0.2094071465163398, -0.6004287234619048, -1.1654165511468466, 0.552071633160766, 2.294425554654729, 0.9840253882237323, 1.532463975726437, -2.0965363642856185, -0.027778544002653505, -1.2592610118032257, -0.4940128214479949, -0.9603470186202026, -0.8771390346804705, 1.997699888499699, 0.6984735539398365, -1.5234038797937803, -0.40855022070663927, 0.7077209690843312, 1.3804789004634803, 1.0428083128544448, 0.25439927354969954, 0.43481566187872217, 0.5020740992240665, 1.9118308644715627, -1.1631204064945873, 0.2444948577104291, 0.30624170731256933, -0.646460226151218, 1.2532514420256606, -0.48520205356676244, 0.4214967889186345, 0.7229831685011271, -0.05929358539847693, 0.26748616985900747, 0.2873558919730922, 0.5109451119502947, -1.273673762305818, -0.12156207954094937, 0.665416255241936, -0.3855498693882793, 0.6556997917497112, 1.083962308875982, 1.051193036773326, -0.16569352007058658, 1.445267284777046, 0.7339791857623821, -0.8844229099045823, 0.5934768649818013, 0.30832968316289466, 2.6337128110926913, 0.054701840278038164, 0.43980988188662745, 0.54351591766071, 0.9283251404799931, 0.09876115894398224, -1.2533514262488898, 2.1524972165590093], \"xaxis\": \"x15\", \"y\": [1.7026558454303116, 1.5594219269692025, 1.4403235877899048, -2.2390370525507115, 0.16467710599817323, -0.9218258259100182, -0.2611907139315378, 1.0977798698411936, 0.37977150377533847, 0.678930562576309, 0.24027033970707695, -1.134130511030025, 0.28086292437562704, 0.8503726898773861, 0.9055947656818857, -0.7918153524806373, -1.2086934500885222, -1.3335624922189502, -0.32424765208188006, -0.11862208797272265, 0.07067805408788083, -1.0783026149841517, 1.2151290995336135, -1.9090316261587466, 0.7698743059492738, 1.4226846925724372, -0.38905961689902124, -0.3890691908653827, -1.138098162318478, 1.5286657168142626, -1.5256697797380405, -0.6517541801020447, 0.6651618792751028, 0.042148395695265156, 0.8037912030554389, -1.2340590432062606, 1.1138802032482642, 0.24272962949614557, -1.0897845546442384, -0.1861118730117989, -0.28506025348328085, -0.577405630427034, 0.9629284792942532, 0.8642435985066734, -2.1158255595742577, 0.9961250193213448, 0.559105232995064, 2.3677036955966857, 0.30853192592085305, 0.31965857680337983, -0.5789125493559564, -0.38674738312959595, 1.75609531876379, -0.3335211959389353, -0.09548124952105416, -1.5095801851776736, -0.50414646443317, -0.3874310487330894, 0.960662750189629, -0.42162185528459656, -1.1383848115226616, 0.39497549251283326, -1.0588751065242445, -1.0819417784228555, -1.1208476331280686, 0.548769582600236, -1.4957479220462382, -0.9123343605142379, -0.5407420132543753, -0.0030139030991650174, 0.9181096233801954, -0.3682788361733208, -0.2944575717906814, -0.44024326113832996, 0.22636349352905413, -0.09082428904754525, 2.8711765900811588, -0.9151438925202213, 0.3043595561190293, 0.7625528301828641, -0.3890199468582452, 0.45888215375476715, 1.5323600237489465, -0.3188006834231324, -0.7476326812212825, 0.8562325819537043, -1.3959940222047766, -0.0861929617313064, -0.9274887709992322, -1.0259843591608262, 1.7701086138228979, 0.5539931463352439, -0.735673032801025, 0.5077288161248946, -0.2789899201810933, 0.5197571423652604, 2.7190894240091414, -0.7411929584172913, -0.22795472975730985, -0.2906902789780266], \"yaxis\": \"y15\"}, {\"histfunc\": \"count\", \"histnorm\": \"\", \"marker\": {\"color\": \"rgba(128, 0, 128, 1.0)\", \"line\": {\"color\": \"#4D5663\", \"width\": 1.3}}, \"name\": \"D\", \"nbinsx\": 10, \"opacity\": 0.8, \"orientation\": \"v\", \"type\": \"histogram\", \"x\": [1.7026558454303116, 1.5594219269692025, 1.4403235877899048, -2.2390370525507115, 0.16467710599817323, -0.9218258259100182, -0.2611907139315378, 1.0977798698411936, 0.37977150377533847, 0.678930562576309, 0.24027033970707695, -1.134130511030025, 0.28086292437562704, 0.8503726898773861, 0.9055947656818857, -0.7918153524806373, -1.2086934500885222, -1.3335624922189502, -0.32424765208188006, -0.11862208797272265, 0.07067805408788083, -1.0783026149841517, 1.2151290995336135, -1.9090316261587466, 0.7698743059492738, 1.4226846925724372, -0.38905961689902124, -0.3890691908653827, -1.138098162318478, 1.5286657168142626, -1.5256697797380405, -0.6517541801020447, 0.6651618792751028, 0.042148395695265156, 0.8037912030554389, -1.2340590432062606, 1.1138802032482642, 0.24272962949614557, -1.0897845546442384, -0.1861118730117989, -0.28506025348328085, -0.577405630427034, 0.9629284792942532, 0.8642435985066734, -2.1158255595742577, 0.9961250193213448, 0.559105232995064, 2.3677036955966857, 0.30853192592085305, 0.31965857680337983, -0.5789125493559564, -0.38674738312959595, 1.75609531876379, -0.3335211959389353, -0.09548124952105416, -1.5095801851776736, -0.50414646443317, -0.3874310487330894, 0.960662750189629, -0.42162185528459656, -1.1383848115226616, 0.39497549251283326, -1.0588751065242445, -1.0819417784228555, -1.1208476331280686, 0.548769582600236, -1.4957479220462382, -0.9123343605142379, -0.5407420132543753, -0.0030139030991650174, 0.9181096233801954, -0.3682788361733208, -0.2944575717906814, -0.44024326113832996, 0.22636349352905413, -0.09082428904754525, 2.8711765900811588, -0.9151438925202213, 0.3043595561190293, 0.7625528301828641, -0.3890199468582452, 0.45888215375476715, 1.5323600237489465, -0.3188006834231324, -0.7476326812212825, 0.8562325819537043, -1.3959940222047766, -0.0861929617313064, -0.9274887709992322, -1.0259843591608262, 1.7701086138228979, 0.5539931463352439, -0.735673032801025, 0.5077288161248946, -0.2789899201810933, 0.5197571423652604, 2.7190894240091414, -0.7411929584172913, -0.22795472975730985, -0.2906902789780266], \"xaxis\": \"x16\", \"yaxis\": \"y16\"}],                        {\"bargap\": 0.02, \"legend\": {\"bgcolor\": \"#F5F6F9\", \"font\": {\"color\": \"#4D5663\"}}, \"paper_bgcolor\": \"#F5F6F9\", \"plot_bgcolor\": \"#F5F6F9\", \"showlegend\": false, \"template\": {\"data\": {\"bar\": [{\"error_x\": {\"color\": \"#2a3f5f\"}, \"error_y\": {\"color\": \"#2a3f5f\"}, \"marker\": {\"line\": {\"color\": \"#E5ECF6\", \"width\": 0.5}}, \"type\": \"bar\"}], \"barpolar\": [{\"marker\": {\"line\": {\"color\": \"#E5ECF6\", \"width\": 0.5}}, \"type\": \"barpolar\"}], \"carpet\": [{\"aaxis\": {\"endlinecolor\": \"#2a3f5f\", \"gridcolor\": \"white\", \"linecolor\": \"white\", \"minorgridcolor\": \"white\", \"startlinecolor\": \"#2a3f5f\"}, \"baxis\": {\"endlinecolor\": \"#2a3f5f\", \"gridcolor\": \"white\", \"linecolor\": \"white\", \"minorgridcolor\": \"white\", \"startlinecolor\": \"#2a3f5f\"}, \"type\": \"carpet\"}], \"choropleth\": [{\"colorbar\": {\"outlinewidth\": 0, \"ticks\": \"\"}, \"type\": \"choropleth\"}], \"contour\": [{\"colorbar\": {\"outlinewidth\": 0, \"ticks\": \"\"}, \"colorscale\": [[0.0, \"#0d0887\"], [0.1111111111111111, \"#46039f\"], [0.2222222222222222, \"#7201a8\"], [0.3333333333333333, \"#9c179e\"], [0.4444444444444444, \"#bd3786\"], [0.5555555555555556, \"#d8576b\"], [0.6666666666666666, \"#ed7953\"], [0.7777777777777778, \"#fb9f3a\"], [0.8888888888888888, \"#fdca26\"], [1.0, \"#f0f921\"]], \"type\": \"contour\"}], \"contourcarpet\": [{\"colorbar\": {\"outlinewidth\": 0, \"ticks\": \"\"}, \"type\": \"contourcarpet\"}], \"heatmap\": [{\"colorbar\": {\"outlinewidth\": 0, \"ticks\": \"\"}, \"colorscale\": [[0.0, \"#0d0887\"], [0.1111111111111111, \"#46039f\"], [0.2222222222222222, \"#7201a8\"], [0.3333333333333333, \"#9c179e\"], [0.4444444444444444, \"#bd3786\"], [0.5555555555555556, \"#d8576b\"], [0.6666666666666666, \"#ed7953\"], [0.7777777777777778, \"#fb9f3a\"], [0.8888888888888888, \"#fdca26\"], [1.0, \"#f0f921\"]], \"type\": \"heatmap\"}], \"heatmapgl\": [{\"colorbar\": {\"outlinewidth\": 0, \"ticks\": \"\"}, \"colorscale\": [[0.0, \"#0d0887\"], [0.1111111111111111, \"#46039f\"], [0.2222222222222222, \"#7201a8\"], [0.3333333333333333, \"#9c179e\"], [0.4444444444444444, \"#bd3786\"], [0.5555555555555556, \"#d8576b\"], [0.6666666666666666, \"#ed7953\"], [0.7777777777777778, \"#fb9f3a\"], [0.8888888888888888, \"#fdca26\"], [1.0, \"#f0f921\"]], \"type\": \"heatmapgl\"}], \"histogram\": [{\"marker\": {\"colorbar\": {\"outlinewidth\": 0, \"ticks\": \"\"}}, \"type\": \"histogram\"}], \"histogram2d\": [{\"colorbar\": {\"outlinewidth\": 0, \"ticks\": \"\"}, \"colorscale\": [[0.0, \"#0d0887\"], [0.1111111111111111, \"#46039f\"], [0.2222222222222222, \"#7201a8\"], [0.3333333333333333, \"#9c179e\"], [0.4444444444444444, \"#bd3786\"], [0.5555555555555556, \"#d8576b\"], [0.6666666666666666, \"#ed7953\"], [0.7777777777777778, \"#fb9f3a\"], [0.8888888888888888, \"#fdca26\"], [1.0, \"#f0f921\"]], \"type\": \"histogram2d\"}], \"histogram2dcontour\": [{\"colorbar\": {\"outlinewidth\": 0, \"ticks\": \"\"}, \"colorscale\": [[0.0, \"#0d0887\"], [0.1111111111111111, \"#46039f\"], [0.2222222222222222, \"#7201a8\"], [0.3333333333333333, \"#9c179e\"], [0.4444444444444444, \"#bd3786\"], [0.5555555555555556, \"#d8576b\"], [0.6666666666666666, \"#ed7953\"], [0.7777777777777778, \"#fb9f3a\"], [0.8888888888888888, \"#fdca26\"], [1.0, \"#f0f921\"]], \"type\": \"histogram2dcontour\"}], \"mesh3d\": [{\"colorbar\": {\"outlinewidth\": 0, \"ticks\": \"\"}, \"type\": \"mesh3d\"}], \"parcoords\": [{\"line\": {\"colorbar\": {\"outlinewidth\": 0, \"ticks\": \"\"}}, \"type\": \"parcoords\"}], \"pie\": [{\"automargin\": true, \"type\": \"pie\"}], \"scatter\": [{\"marker\": {\"colorbar\": {\"outlinewidth\": 0, \"ticks\": \"\"}}, \"type\": \"scatter\"}], \"scatter3d\": [{\"line\": {\"colorbar\": {\"outlinewidth\": 0, \"ticks\": \"\"}}, \"marker\": {\"colorbar\": {\"outlinewidth\": 0, \"ticks\": \"\"}}, \"type\": \"scatter3d\"}], \"scattercarpet\": [{\"marker\": {\"colorbar\": {\"outlinewidth\": 0, \"ticks\": \"\"}}, \"type\": \"scattercarpet\"}], \"scattergeo\": [{\"marker\": {\"colorbar\": {\"outlinewidth\": 0, \"ticks\": \"\"}}, \"type\": \"scattergeo\"}], \"scattergl\": [{\"marker\": {\"colorbar\": {\"outlinewidth\": 0, \"ticks\": \"\"}}, \"type\": \"scattergl\"}], \"scattermapbox\": [{\"marker\": {\"colorbar\": {\"outlinewidth\": 0, \"ticks\": \"\"}}, \"type\": \"scattermapbox\"}], \"scatterpolar\": [{\"marker\": {\"colorbar\": {\"outlinewidth\": 0, \"ticks\": \"\"}}, \"type\": \"scatterpolar\"}], \"scatterpolargl\": [{\"marker\": {\"colorbar\": {\"outlinewidth\": 0, \"ticks\": \"\"}}, \"type\": \"scatterpolargl\"}], \"scatterternary\": [{\"marker\": {\"colorbar\": {\"outlinewidth\": 0, \"ticks\": \"\"}}, \"type\": \"scatterternary\"}], \"surface\": [{\"colorbar\": {\"outlinewidth\": 0, \"ticks\": \"\"}, \"colorscale\": [[0.0, \"#0d0887\"], [0.1111111111111111, \"#46039f\"], [0.2222222222222222, \"#7201a8\"], [0.3333333333333333, \"#9c179e\"], [0.4444444444444444, \"#bd3786\"], [0.5555555555555556, \"#d8576b\"], [0.6666666666666666, \"#ed7953\"], [0.7777777777777778, \"#fb9f3a\"], [0.8888888888888888, \"#fdca26\"], [1.0, \"#f0f921\"]], \"type\": \"surface\"}], \"table\": [{\"cells\": {\"fill\": {\"color\": \"#EBF0F8\"}, \"line\": {\"color\": \"white\"}}, \"header\": {\"fill\": {\"color\": \"#C8D4E3\"}, \"line\": {\"color\": \"white\"}}, \"type\": \"table\"}]}, \"layout\": {\"annotationdefaults\": {\"arrowcolor\": \"#2a3f5f\", \"arrowhead\": 0, \"arrowwidth\": 1}, \"autotypenumbers\": \"strict\", \"coloraxis\": {\"colorbar\": {\"outlinewidth\": 0, \"ticks\": \"\"}}, \"colorscale\": {\"diverging\": [[0, \"#8e0152\"], [0.1, \"#c51b7d\"], [0.2, \"#de77ae\"], [0.3, \"#f1b6da\"], [0.4, \"#fde0ef\"], [0.5, \"#f7f7f7\"], [0.6, \"#e6f5d0\"], [0.7, \"#b8e186\"], [0.8, \"#7fbc41\"], [0.9, \"#4d9221\"], [1, \"#276419\"]], \"sequential\": [[0.0, \"#0d0887\"], [0.1111111111111111, \"#46039f\"], [0.2222222222222222, \"#7201a8\"], [0.3333333333333333, \"#9c179e\"], [0.4444444444444444, \"#bd3786\"], [0.5555555555555556, \"#d8576b\"], [0.6666666666666666, \"#ed7953\"], [0.7777777777777778, \"#fb9f3a\"], [0.8888888888888888, \"#fdca26\"], [1.0, \"#f0f921\"]], \"sequentialminus\": [[0.0, \"#0d0887\"], [0.1111111111111111, \"#46039f\"], [0.2222222222222222, \"#7201a8\"], [0.3333333333333333, \"#9c179e\"], [0.4444444444444444, \"#bd3786\"], [0.5555555555555556, \"#d8576b\"], [0.6666666666666666, \"#ed7953\"], [0.7777777777777778, \"#fb9f3a\"], [0.8888888888888888, \"#fdca26\"], [1.0, \"#f0f921\"]]}, \"colorway\": [\"#636efa\", \"#EF553B\", \"#00cc96\", \"#ab63fa\", \"#FFA15A\", \"#19d3f3\", \"#FF6692\", \"#B6E880\", \"#FF97FF\", \"#FECB52\"], \"font\": {\"color\": \"#2a3f5f\"}, \"geo\": {\"bgcolor\": \"white\", \"lakecolor\": \"white\", \"landcolor\": \"#E5ECF6\", \"showlakes\": true, \"showland\": true, \"subunitcolor\": \"white\"}, \"hoverlabel\": {\"align\": \"left\"}, \"hovermode\": \"closest\", \"mapbox\": {\"style\": \"light\"}, \"paper_bgcolor\": \"white\", \"plot_bgcolor\": \"#E5ECF6\", \"polar\": {\"angularaxis\": {\"gridcolor\": \"white\", \"linecolor\": \"white\", \"ticks\": \"\"}, \"bgcolor\": \"#E5ECF6\", \"radialaxis\": {\"gridcolor\": \"white\", \"linecolor\": \"white\", \"ticks\": \"\"}}, \"scene\": {\"xaxis\": {\"backgroundcolor\": \"#E5ECF6\", \"gridcolor\": \"white\", \"gridwidth\": 2, \"linecolor\": \"white\", \"showbackground\": true, \"ticks\": \"\", \"zerolinecolor\": \"white\"}, \"yaxis\": {\"backgroundcolor\": \"#E5ECF6\", \"gridcolor\": \"white\", \"gridwidth\": 2, \"linecolor\": \"white\", \"showbackground\": true, \"ticks\": \"\", \"zerolinecolor\": \"white\"}, \"zaxis\": {\"backgroundcolor\": \"#E5ECF6\", \"gridcolor\": \"white\", \"gridwidth\": 2, \"linecolor\": \"white\", \"showbackground\": true, \"ticks\": \"\", \"zerolinecolor\": \"white\"}}, \"shapedefaults\": {\"line\": {\"color\": \"#2a3f5f\"}}, \"ternary\": {\"aaxis\": {\"gridcolor\": \"white\", \"linecolor\": \"white\", \"ticks\": \"\"}, \"baxis\": {\"gridcolor\": \"white\", \"linecolor\": \"white\", \"ticks\": \"\"}, \"bgcolor\": \"#E5ECF6\", \"caxis\": {\"gridcolor\": \"white\", \"linecolor\": \"white\", \"ticks\": \"\"}}, \"title\": {\"x\": 0.05}, \"xaxis\": {\"automargin\": true, \"gridcolor\": \"white\", \"linecolor\": \"white\", \"ticks\": \"\", \"title\": {\"standoff\": 15}, \"zerolinecolor\": \"white\", \"zerolinewidth\": 2}, \"yaxis\": {\"automargin\": true, \"gridcolor\": \"white\", \"linecolor\": \"white\", \"ticks\": \"\", \"title\": {\"standoff\": 15}, \"zerolinecolor\": \"white\", \"zerolinewidth\": 2}}}, \"title\": {\"font\": {\"color\": \"#4D5663\"}}, \"xaxis\": {\"anchor\": \"y\", \"domain\": [0.0, 0.2125], \"gridcolor\": \"#E1E5ED\", \"showgrid\": false, \"tickfont\": {\"color\": \"#4D5663\"}, \"title\": {\"font\": {\"color\": \"#4D5663\"}, \"text\": \"\"}, \"zerolinecolor\": \"#E1E5ED\"}, \"xaxis10\": {\"anchor\": \"y10\", \"domain\": [0.2625, 0.475], \"gridcolor\": \"#E1E5ED\", \"showgrid\": false, \"tickfont\": {\"color\": \"#4D5663\"}, \"title\": {\"font\": {\"color\": \"#4D5663\"}, \"text\": \"\"}, \"zerolinecolor\": \"#E1E5ED\"}, \"xaxis11\": {\"anchor\": \"y11\", \"domain\": [0.525, 0.7375], \"gridcolor\": \"#E1E5ED\", \"showgrid\": false, \"tickfont\": {\"color\": \"#4D5663\"}, \"title\": {\"font\": {\"color\": \"#4D5663\"}, \"text\": \"\"}, \"zerolinecolor\": \"#E1E5ED\"}, \"xaxis12\": {\"anchor\": \"y12\", \"domain\": [0.7875, 1.0], \"gridcolor\": \"#E1E5ED\", \"showgrid\": false, \"tickfont\": {\"color\": \"#4D5663\"}, \"title\": {\"font\": {\"color\": \"#4D5663\"}, \"text\": \"\"}, \"zerolinecolor\": \"#E1E5ED\"}, \"xaxis13\": {\"anchor\": \"y13\", \"domain\": [0.0, 0.2125], \"gridcolor\": \"#E1E5ED\", \"showgrid\": false, \"tickfont\": {\"color\": \"#4D5663\"}, \"title\": {\"font\": {\"color\": \"#4D5663\"}, \"text\": \"\"}, \"zerolinecolor\": \"#E1E5ED\"}, \"xaxis14\": {\"anchor\": \"y14\", \"domain\": [0.2625, 0.475], \"gridcolor\": \"#E1E5ED\", \"showgrid\": false, \"tickfont\": {\"color\": \"#4D5663\"}, \"title\": {\"font\": {\"color\": \"#4D5663\"}, \"text\": \"\"}, \"zerolinecolor\": \"#E1E5ED\"}, \"xaxis15\": {\"anchor\": \"y15\", \"domain\": [0.525, 0.7375], \"gridcolor\": \"#E1E5ED\", \"showgrid\": false, \"tickfont\": {\"color\": \"#4D5663\"}, \"title\": {\"font\": {\"color\": \"#4D5663\"}, \"text\": \"\"}, \"zerolinecolor\": \"#E1E5ED\"}, \"xaxis16\": {\"anchor\": \"y16\", \"domain\": [0.7875, 1.0], \"gridcolor\": \"#E1E5ED\", \"showgrid\": false, \"tickfont\": {\"color\": \"#4D5663\"}, \"title\": {\"font\": {\"color\": \"#4D5663\"}, \"text\": \"\"}, \"zerolinecolor\": \"#E1E5ED\"}, \"xaxis2\": {\"anchor\": \"y2\", \"domain\": [0.2625, 0.475], \"gridcolor\": \"#E1E5ED\", \"showgrid\": false, \"tickfont\": {\"color\": \"#4D5663\"}, \"title\": {\"font\": {\"color\": \"#4D5663\"}, \"text\": \"\"}, \"zerolinecolor\": \"#E1E5ED\"}, \"xaxis3\": {\"anchor\": \"y3\", \"domain\": [0.525, 0.7375], \"gridcolor\": \"#E1E5ED\", \"showgrid\": false, \"tickfont\": {\"color\": \"#4D5663\"}, \"title\": {\"font\": {\"color\": \"#4D5663\"}, \"text\": \"\"}, \"zerolinecolor\": \"#E1E5ED\"}, \"xaxis4\": {\"anchor\": \"y4\", \"domain\": [0.7875, 1.0], \"gridcolor\": \"#E1E5ED\", \"showgrid\": false, \"tickfont\": {\"color\": \"#4D5663\"}, \"title\": {\"font\": {\"color\": \"#4D5663\"}, \"text\": \"\"}, \"zerolinecolor\": \"#E1E5ED\"}, \"xaxis5\": {\"anchor\": \"y5\", \"domain\": [0.0, 0.2125], \"gridcolor\": \"#E1E5ED\", \"showgrid\": false, \"tickfont\": {\"color\": \"#4D5663\"}, \"title\": {\"font\": {\"color\": \"#4D5663\"}, \"text\": \"\"}, \"zerolinecolor\": \"#E1E5ED\"}, \"xaxis6\": {\"anchor\": \"y6\", \"domain\": [0.2625, 0.475], \"gridcolor\": \"#E1E5ED\", \"showgrid\": false, \"tickfont\": {\"color\": \"#4D5663\"}, \"title\": {\"font\": {\"color\": \"#4D5663\"}, \"text\": \"\"}, \"zerolinecolor\": \"#E1E5ED\"}, \"xaxis7\": {\"anchor\": \"y7\", \"domain\": [0.525, 0.7375], \"gridcolor\": \"#E1E5ED\", \"showgrid\": false, \"tickfont\": {\"color\": \"#4D5663\"}, \"title\": {\"font\": {\"color\": \"#4D5663\"}, \"text\": \"\"}, \"zerolinecolor\": \"#E1E5ED\"}, \"xaxis8\": {\"anchor\": \"y8\", \"domain\": [0.7875, 1.0], \"gridcolor\": \"#E1E5ED\", \"showgrid\": false, \"tickfont\": {\"color\": \"#4D5663\"}, \"title\": {\"font\": {\"color\": \"#4D5663\"}, \"text\": \"\"}, \"zerolinecolor\": \"#E1E5ED\"}, \"xaxis9\": {\"anchor\": \"y9\", \"domain\": [0.0, 0.2125], \"gridcolor\": \"#E1E5ED\", \"showgrid\": false, \"tickfont\": {\"color\": \"#4D5663\"}, \"title\": {\"font\": {\"color\": \"#4D5663\"}, \"text\": \"\"}, \"zerolinecolor\": \"#E1E5ED\"}, \"yaxis\": {\"anchor\": \"x\", \"domain\": [0.8025, 1.0], \"gridcolor\": \"#E1E5ED\", \"showgrid\": false, \"tickfont\": {\"color\": \"#4D5663\"}, \"title\": {\"font\": {\"color\": \"#4D5663\"}, \"text\": \"\"}, \"zerolinecolor\": \"#E1E5ED\"}, \"yaxis10\": {\"anchor\": \"x10\", \"domain\": [0.2675, 0.465], \"gridcolor\": \"#E1E5ED\", \"showgrid\": false, \"tickfont\": {\"color\": \"#4D5663\"}, \"title\": {\"font\": {\"color\": \"#4D5663\"}, \"text\": \"\"}, \"zerolinecolor\": \"#E1E5ED\"}, \"yaxis11\": {\"anchor\": \"x11\", \"domain\": [0.2675, 0.465], \"gridcolor\": \"#E1E5ED\", \"showgrid\": false, \"tickfont\": {\"color\": \"#4D5663\"}, \"title\": {\"font\": {\"color\": \"#4D5663\"}, \"text\": \"\"}, \"zerolinecolor\": \"#E1E5ED\"}, \"yaxis12\": {\"anchor\": \"x12\", \"domain\": [0.2675, 0.465], \"gridcolor\": \"#E1E5ED\", \"showgrid\": false, \"tickfont\": {\"color\": \"#4D5663\"}, \"title\": {\"font\": {\"color\": \"#4D5663\"}, \"text\": \"\"}, \"zerolinecolor\": \"#E1E5ED\"}, \"yaxis13\": {\"anchor\": \"x13\", \"domain\": [0.0, 0.1975], \"gridcolor\": \"#E1E5ED\", \"showgrid\": false, \"tickfont\": {\"color\": \"#4D5663\"}, \"title\": {\"font\": {\"color\": \"#4D5663\"}, \"text\": \"\"}, \"zerolinecolor\": \"#E1E5ED\"}, \"yaxis14\": {\"anchor\": \"x14\", \"domain\": [0.0, 0.1975], \"gridcolor\": \"#E1E5ED\", \"showgrid\": false, \"tickfont\": {\"color\": \"#4D5663\"}, \"title\": {\"font\": {\"color\": \"#4D5663\"}, \"text\": \"\"}, \"zerolinecolor\": \"#E1E5ED\"}, \"yaxis15\": {\"anchor\": \"x15\", \"domain\": [0.0, 0.1975], \"gridcolor\": \"#E1E5ED\", \"showgrid\": false, \"tickfont\": {\"color\": \"#4D5663\"}, \"title\": {\"font\": {\"color\": \"#4D5663\"}, \"text\": \"\"}, \"zerolinecolor\": \"#E1E5ED\"}, \"yaxis16\": {\"anchor\": \"x16\", \"domain\": [0.0, 0.1975], \"gridcolor\": \"#E1E5ED\", \"showgrid\": false, \"tickfont\": {\"color\": \"#4D5663\"}, \"title\": {\"font\": {\"color\": \"#4D5663\"}, \"text\": \"\"}, \"zerolinecolor\": \"#E1E5ED\"}, \"yaxis2\": {\"anchor\": \"x2\", \"domain\": [0.8025, 1.0], \"gridcolor\": \"#E1E5ED\", \"showgrid\": false, \"tickfont\": {\"color\": \"#4D5663\"}, \"title\": {\"font\": {\"color\": \"#4D5663\"}, \"text\": \"\"}, \"zerolinecolor\": \"#E1E5ED\"}, \"yaxis3\": {\"anchor\": \"x3\", \"domain\": [0.8025, 1.0], \"gridcolor\": \"#E1E5ED\", \"showgrid\": false, \"tickfont\": {\"color\": \"#4D5663\"}, \"title\": {\"font\": {\"color\": \"#4D5663\"}, \"text\": \"\"}, \"zerolinecolor\": \"#E1E5ED\"}, \"yaxis4\": {\"anchor\": \"x4\", \"domain\": [0.8025, 1.0], \"gridcolor\": \"#E1E5ED\", \"showgrid\": false, \"tickfont\": {\"color\": \"#4D5663\"}, \"title\": {\"font\": {\"color\": \"#4D5663\"}, \"text\": \"\"}, \"zerolinecolor\": \"#E1E5ED\"}, \"yaxis5\": {\"anchor\": \"x5\", \"domain\": [0.535, 0.7325], \"gridcolor\": \"#E1E5ED\", \"showgrid\": false, \"tickfont\": {\"color\": \"#4D5663\"}, \"title\": {\"font\": {\"color\": \"#4D5663\"}, \"text\": \"\"}, \"zerolinecolor\": \"#E1E5ED\"}, \"yaxis6\": {\"anchor\": \"x6\", \"domain\": [0.535, 0.7325], \"gridcolor\": \"#E1E5ED\", \"showgrid\": false, \"tickfont\": {\"color\": \"#4D5663\"}, \"title\": {\"font\": {\"color\": \"#4D5663\"}, \"text\": \"\"}, \"zerolinecolor\": \"#E1E5ED\"}, \"yaxis7\": {\"anchor\": \"x7\", \"domain\": [0.535, 0.7325], \"gridcolor\": \"#E1E5ED\", \"showgrid\": false, \"tickfont\": {\"color\": \"#4D5663\"}, \"title\": {\"font\": {\"color\": \"#4D5663\"}, \"text\": \"\"}, \"zerolinecolor\": \"#E1E5ED\"}, \"yaxis8\": {\"anchor\": \"x8\", \"domain\": [0.535, 0.7325], \"gridcolor\": \"#E1E5ED\", \"showgrid\": false, \"tickfont\": {\"color\": \"#4D5663\"}, \"title\": {\"font\": {\"color\": \"#4D5663\"}, \"text\": \"\"}, \"zerolinecolor\": \"#E1E5ED\"}, \"yaxis9\": {\"anchor\": \"x9\", \"domain\": [0.2675, 0.465], \"gridcolor\": \"#E1E5ED\", \"showgrid\": false, \"tickfont\": {\"color\": \"#4D5663\"}, \"title\": {\"font\": {\"color\": \"#4D5663\"}, \"text\": \"\"}, \"zerolinecolor\": \"#E1E5ED\"}},                        {\"showLink\": true, \"linkText\": \"Export to plot.ly\", \"plotlyServerURL\": \"https://plot.ly\", \"responsive\": true}                    ).then(function(){\n",
       "                            \n",
       "var gd = document.getElementById('e9ed29c4-8e49-49f5-87d9-d3ff2ea51804');\n",
       "var x = new MutationObserver(function (mutations, observer) {{\n",
       "        var display = window.getComputedStyle(gd).display;\n",
       "        if (!display || display === 'none') {{\n",
       "            console.log([gd, 'removed!']);\n",
       "            Plotly.purge(gd);\n",
       "            observer.disconnect();\n",
       "        }}\n",
       "}});\n",
       "\n",
       "// Listen for the removal of the full notebook cells\n",
       "var notebookContainer = gd.closest('#notebook-container');\n",
       "if (notebookContainer) {{\n",
       "    x.observe(notebookContainer, {childList: true});\n",
       "}}\n",
       "\n",
       "// Listen for the clearing of the current output cell\n",
       "var outputEl = gd.closest('.output');\n",
       "if (outputEl) {{\n",
       "    x.observe(outputEl, {childList: true});\n",
       "}}\n",
       "\n",
       "                        })                };                });            </script>        </div>"
      ]
     },
     "metadata": {},
     "output_type": "display_data"
    }
   ],
   "source": [
    "df.scatter_matrix()"
   ]
  },
  {
   "cell_type": "code",
   "execution_count": null,
   "metadata": {},
   "outputs": [],
   "source": []
  },
  {
   "cell_type": "code",
   "execution_count": null,
   "metadata": {},
   "outputs": [],
   "source": []
  },
  {
   "cell_type": "code",
   "execution_count": null,
   "metadata": {},
   "outputs": [],
   "source": []
  },
  {
   "cell_type": "code",
   "execution_count": null,
   "metadata": {},
   "outputs": [],
   "source": []
  },
  {
   "cell_type": "code",
   "execution_count": null,
   "metadata": {},
   "outputs": [],
   "source": []
  },
  {
   "cell_type": "code",
   "execution_count": null,
   "metadata": {},
   "outputs": [],
   "source": []
  },
  {
   "cell_type": "code",
   "execution_count": null,
   "metadata": {},
   "outputs": [],
   "source": []
  },
  {
   "cell_type": "code",
   "execution_count": null,
   "metadata": {},
   "outputs": [],
   "source": []
  },
  {
   "cell_type": "code",
   "execution_count": null,
   "metadata": {},
   "outputs": [],
   "source": []
  },
  {
   "cell_type": "code",
   "execution_count": null,
   "metadata": {},
   "outputs": [],
   "source": []
  },
  {
   "cell_type": "code",
   "execution_count": null,
   "metadata": {},
   "outputs": [],
   "source": []
  },
  {
   "cell_type": "code",
   "execution_count": null,
   "metadata": {},
   "outputs": [],
   "source": []
  },
  {
   "cell_type": "code",
   "execution_count": null,
   "metadata": {},
   "outputs": [],
   "source": []
  },
  {
   "cell_type": "code",
   "execution_count": null,
   "metadata": {},
   "outputs": [],
   "source": []
  },
  {
   "cell_type": "code",
   "execution_count": null,
   "metadata": {},
   "outputs": [],
   "source": []
  },
  {
   "cell_type": "code",
   "execution_count": null,
   "metadata": {},
   "outputs": [],
   "source": []
  },
  {
   "cell_type": "code",
   "execution_count": null,
   "metadata": {},
   "outputs": [],
   "source": []
  }
 ],
 "metadata": {
  "kernelspec": {
   "display_name": "Python 3",
   "language": "python",
   "name": "python3"
  },
  "language_info": {
   "codemirror_mode": {
    "name": "ipython",
    "version": 3
   },
   "file_extension": ".py",
   "mimetype": "text/x-python",
   "name": "python",
   "nbconvert_exporter": "python",
   "pygments_lexer": "ipython3",
   "version": "3.8.3"
  }
 },
 "nbformat": 4,
 "nbformat_minor": 4
}
