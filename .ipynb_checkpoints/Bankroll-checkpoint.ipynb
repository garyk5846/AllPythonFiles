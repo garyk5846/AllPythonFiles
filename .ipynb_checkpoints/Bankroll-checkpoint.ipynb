{
 "cells": [
  {
   "cell_type": "code",
   "execution_count": 1,
   "metadata": {},
   "outputs": [
    {
     "data": {
      "text/plain": [
       "1.9644028121996149"
      ]
     },
     "execution_count": 1,
     "metadata": {},
     "output_type": "execute_result"
    }
   ],
   "source": [
    "import numpy\n",
    "import math\n",
    "import statistics\n",
    "#Just making a change here to see if GITHUB picks up on it"
   ]
  },
  {
   "cell_type": "code",
   "execution_count": 2,
   "metadata": {},
   "outputs": [],
   "source": [
    "bankroll = 4000\n",
    "wr200z = 3.45\n",
    "wr100z = 5\n",
    "handsph = 825\n",
    "stdev = 83.2\n",
    "\n",
    "hourly200z = wr200z*handsph/100*2\n",
    "hourly200zstd = stdev*math.sqrt(handsph/100)*2\n",
    "hourly100z = wr100z*handsph/100\n",
    "hourly100zstd = stdev*math.sqrt(handsph/100)"
   ]
  },
  {
   "cell_type": "code",
   "execution_count": 3,
   "metadata": {},
   "outputs": [
    {
     "name": "stdout",
     "output_type": "stream",
     "text": [
      "Your 200z hourly is $57\n",
      "Your 200z hourly standard deviation is $478\n",
      "Your 100z hourly is $41\n",
      "Your 100z hourly standard deviation is $239\n"
     ]
    }
   ],
   "source": [
    "print(f'Your 200z hourly is ${hourly200z:.0f}')\n",
    "print(f'Your 200z hourly standard deviation is ${hourly200zstd:.0f}')\n",
    "print(f'Your 100z hourly is ${hourly100z:.0f}')\n",
    "print(f'Your 100z hourly standard deviation is ${hourly100zstd:.0f}')"
   ]
  },
  {
   "cell_type": "code",
   "execution_count": 48,
   "metadata": {},
   "outputs": [
    {
     "data": {
      "text/plain": [
       "15884.173748837347"
      ]
     },
     "execution_count": 48,
     "metadata": {},
     "output_type": "execute_result"
    }
   ],
   "source": [
    "def play200z(bankroll):\n",
    "    bankroll = bankroll + hourly200z + hourly200zstd*numpy.random.normal()\n",
    "    return bankroll\n",
    "def play100z(bankroll):\n",
    "    bankroll = bankroll + hourly100z + hourly100zstd*numpy.random.normal()\n",
    "    return bankroll\n",
    "\n",
    "bankroll = 4000\n",
    "for i in range(1,100):\n",
    "    if bankroll >4000:\n",
    "        bankroll = play200z(bankroll)\n",
    "    elif bankroll <100:\n",
    "        print(\"You have gone bankrupt\")\n",
    "        break\n",
    "    else:\n",
    "        bankroll = play100z(bankroll)\n",
    "return bankroll"
   ]
  },
  {
   "cell_type": "code",
   "execution_count": 75,
   "metadata": {},
   "outputs": [
    {
     "name": "stdout",
     "output_type": "stream",
     "text": [
      "YOU WENT BANKRUPT!!!\n",
      "Your finishing bankroll is $50.71\n",
      "Your lowest bankroll was $50.71\n",
      "Your highest bankroll was $4717.15\n"
     ]
    }
   ],
   "source": [
    "#Playing only 200z\n",
    "bankroll = 4000\n",
    "bankroll_low= bankroll\n",
    "bankroll_high= bankroll\n",
    "for i in range(1,100):\n",
    "    if bankroll <100:\n",
    "        print(\"YOU WENT BANKRUPT!!!\")\n",
    "        break\n",
    "    else:\n",
    "        bankroll = play200z(bankroll)\n",
    "        if bankroll < bankroll_low:\n",
    "            bankroll_low = bankroll\n",
    "        elif bankroll > bankroll_high:\n",
    "            bankroll_high = bankroll\n",
    "print(f'Your finishing bankroll is ${bankroll:.2f}')\n",
    "print(f'Your lowest bankroll was ${bankroll_low:.2f}')\n",
    "print(f'Your highest bankroll was ${bankroll_high:.2f}')"
   ]
  },
  {
   "cell_type": "code",
   "execution_count": 84,
   "metadata": {},
   "outputs": [
    {
     "name": "stdout",
     "output_type": "stream",
     "text": [
      "Your finishing bankroll is $15476.25\n",
      "You played 71 hours of 200z. You played 29 hours of 100z.\n",
      "Your lowest bankroll was $2910.91\n",
      "Your highest bankroll was $15521.50\n"
     ]
    }
   ],
   "source": [
    "#Playing both 200z and 100z, playing 100z whenever you fall below $4000\n",
    "bankroll = 4000\n",
    "bankroll_low= bankroll\n",
    "bankroll_high= bankroll\n",
    "count200z = 0\n",
    "count100z = 0\n",
    "for i in range(0,100):\n",
    "    if bankroll <100:\n",
    "        print(\"YOU WENT BANKRUPT!!!\")\n",
    "        break\n",
    "    elif bankroll >=4000:\n",
    "        bankroll = play200z(bankroll)\n",
    "        count200z += 1\n",
    "        if bankroll < bankroll_low:\n",
    "            bankroll_low = bankroll\n",
    "        elif bankroll > bankroll_high:\n",
    "            bankroll_high = bankroll\n",
    "    else:\n",
    "        bankroll = play100z(bankroll)\n",
    "        count100z += 1\n",
    "        if bankroll < bankroll_low:\n",
    "            bankroll_low = bankroll\n",
    "        elif bankroll > bankroll_high:\n",
    "            bankroll_high = bankroll\n",
    "print(f'Your finishing bankroll is ${bankroll:.2f}')\n",
    "print(f'You played {count200z} hours of 200z. You played {count100z} hours of 100z.')\n",
    "print(f'Your lowest bankroll was ${bankroll_low:.2f}')\n",
    "print(f'Your highest bankroll was ${bankroll_high:.2f}')"
   ]
  },
  {
   "cell_type": "code",
   "execution_count": 87,
   "metadata": {},
   "outputs": [
    {
     "name": "stdout",
     "output_type": "stream",
     "text": [
      "Probability of going bust = 0.48%\n",
      "Maximum Bankroll = $ 27196.284022298707\n",
      "Average Bankroll = $ 9226.267251297835\n"
     ]
    }
   ],
   "source": [
    "#Iterate 1000 samples of 200z and 100z and show probabillity of going bust, with maximum and average bankroll results\n",
    "results = []\n",
    "for j in range(0,10000):\n",
    "    bankroll = 4000\n",
    "    bankroll_low= bankroll\n",
    "    bankroll_high= bankroll\n",
    "    count200z = 0\n",
    "    count100z = 0\n",
    "    for i in range(0,100):\n",
    "        if bankroll <100:\n",
    "            bankroll = 0\n",
    "            break\n",
    "        elif bankroll >=4000:\n",
    "            bankroll = play200z(bankroll)\n",
    "            count200z += 1\n",
    "            if bankroll < bankroll_low:\n",
    "                bankroll_low = bankroll\n",
    "            elif bankroll > bankroll_high:\n",
    "                bankroll_high = bankroll\n",
    "        else:\n",
    "            bankroll = play100z(bankroll)\n",
    "            count100z += 1\n",
    "            if bankroll < bankroll_low:\n",
    "                bankroll_low = bankroll\n",
    "            elif bankroll > bankroll_high:\n",
    "                bankroll_high = bankroll\n",
    "    results.append(bankroll)\n",
    "print(f'Probability of going bust = {results.count(0)/100}%')\n",
    "print(f'Maximum Bankroll = $ {max(results)}')\n",
    "print(f'Average Bankroll = $ {statistics.mean(results)}')"
   ]
  },
  {
   "cell_type": "code",
   "execution_count": 102,
   "metadata": {},
   "outputs": [
    {
     "name": "stdout",
     "output_type": "stream",
     "text": [
      "Probability of going bust = 9.57%\n",
      "Maximum Bankroll = $ 28166.864546091463\n",
      "Average Bankroll = $ 9408.892652417277\n"
     ]
    }
   ],
   "source": [
    "#Iterate 1000 samples of just 200z\n",
    "results = []\n",
    "for j in range(0,10000):\n",
    "    bankroll = 4000\n",
    "    bankroll_low= bankroll\n",
    "    bankroll_high= bankroll\n",
    "    count200z = 0\n",
    "    count100z = 0\n",
    "    for i in range(0,100):\n",
    "        if bankroll <100:\n",
    "            bankroll = 0\n",
    "            break\n",
    "        else:\n",
    "            bankroll = play200z(bankroll)\n",
    "            count200z += 1\n",
    "            if bankroll < bankroll_low:\n",
    "                bankroll_low = bankroll\n",
    "            elif bankroll > bankroll_high:\n",
    "                bankroll_high = bankroll\n",
    "    results.append(bankroll)\n",
    "print(f'Probability of going bust = {results.count(0)/100}%')\n",
    "print(f'Maximum Bankroll = $ {max(results)}')\n",
    "print(f'Average Bankroll = $ {statistics.mean(results)}')"
   ]
  },
  {
   "cell_type": "code",
   "execution_count": 48,
   "metadata": {},
   "outputs": [],
   "source": [
    "## as you can see, the probablility of bust is negigble iwth 100z in there. 10% or so with only 200z\n",
    "##The max bankrolls are pretty much tne same (both involve the best iteration where we just go on a tear from session one)\n",
    "## the average bankrolls aren't even that different, sugegesting that bankroll management is the key here!!!"
   ]
  },
  {
   "cell_type": "code",
   "execution_count": 49,
   "metadata": {},
   "outputs": [],
   "source": []
  },
  {
   "cell_type": "code",
   "execution_count": 50,
   "metadata": {},
   "outputs": [
    {
     "data": {
      "text/plain": [
       "['hello']"
      ]
     },
     "execution_count": 50,
     "metadata": {},
     "output_type": "execute_result"
    }
   ],
   "source": []
  },
  {
   "cell_type": "code",
   "execution_count": 97,
   "metadata": {},
   "outputs": [],
   "source": []
  },
  {
   "cell_type": "code",
   "execution_count": 71,
   "metadata": {},
   "outputs": [
    {
     "data": {
      "text/plain": [
       "[]"
      ]
     },
     "execution_count": 71,
     "metadata": {},
     "output_type": "execute_result"
    }
   ],
   "source": []
  },
  {
   "cell_type": "code",
   "execution_count": 98,
   "metadata": {},
   "outputs": [
    {
     "data": {
      "text/plain": [
       "[4000]"
      ]
     },
     "execution_count": 98,
     "metadata": {},
     "output_type": "execute_result"
    }
   ],
   "source": []
  },
  {
   "cell_type": "code",
   "execution_count": 37,
   "metadata": {},
   "outputs": [
    {
     "data": {
      "text/plain": [
       "[4000, 4000, 4000, 4000, 4000, 4000, 4000, 4000, 4000, 4000, 4000, 4000]"
      ]
     },
     "execution_count": 37,
     "metadata": {},
     "output_type": "execute_result"
    }
   ],
   "source": []
  },
  {
   "cell_type": "code",
   "execution_count": null,
   "metadata": {},
   "outputs": [],
   "source": []
  }
 ],
 "metadata": {
  "kernelspec": {
   "display_name": "Python 3",
   "language": "python",
   "name": "python3"
  },
  "language_info": {
   "codemirror_mode": {
    "name": "ipython",
    "version": 3
   },
   "file_extension": ".py",
   "mimetype": "text/x-python",
   "name": "python",
   "nbconvert_exporter": "python",
   "pygments_lexer": "ipython3",
   "version": "3.8.3"
  },
  "varInspector": {
   "cols": {
    "lenName": 16,
    "lenType": 16,
    "lenVar": 40
   },
   "kernels_config": {
    "python": {
     "delete_cmd_postfix": "",
     "delete_cmd_prefix": "del ",
     "library": "var_list.py",
     "varRefreshCmd": "print(var_dic_list())"
    },
    "r": {
     "delete_cmd_postfix": ") ",
     "delete_cmd_prefix": "rm(",
     "library": "var_list.r",
     "varRefreshCmd": "cat(var_dic_list()) "
    }
   },
   "types_to_exclude": [
    "module",
    "function",
    "builtin_function_or_method",
    "instance",
    "_Feature"
   ],
   "window_display": false
  }
 },
 "nbformat": 4,
 "nbformat_minor": 2
}
