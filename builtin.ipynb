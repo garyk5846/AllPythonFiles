{
 "cells": [
  {
   "cell_type": "code",
   "execution_count": 81,
   "metadata": {},
   "outputs": [],
   "source": [
    "***********#COLLECTIONS"
   ]
  },
  {
   "cell_type": "code",
   "execution_count": null,
   "metadata": {},
   "outputs": [],
   "source": [
    "from collections import Counter"
   ]
  },
  {
   "cell_type": "code",
   "execution_count": 26,
   "metadata": {},
   "outputs": [
    {
     "data": {
      "text/plain": [
       "Counter({3: 2, 4: 2, 5: 2, 6: 5, 7: 5})"
      ]
     },
     "execution_count": 26,
     "metadata": {},
     "output_type": "execute_result"
    }
   ],
   "source": [
    "mylist=[3,4,5,6,6,6,6,7,7,7,7,3,4,5,6,7]\n",
    "#straight up counting\n",
    "Counter(mylist)"
   ]
  },
  {
   "cell_type": "code",
   "execution_count": 27,
   "metadata": {},
   "outputs": [
    {
     "name": "stdout",
     "output_type": "stream",
     "text": [
      "0\n",
      "2\n",
      "5\n"
     ]
    }
   ],
   "source": [
    "#how many times does 2,4,6 appear\n",
    "cnt=Counter(mylist)\n",
    "print(cnt[2])\n",
    "print(cnt[4])\n",
    "print(cnt[6])"
   ]
  },
  {
   "cell_type": "code",
   "execution_count": 28,
   "metadata": {},
   "outputs": [
    {
     "data": {
      "text/plain": [
       "Counter({1: 3, 2: 4})"
      ]
     },
     "execution_count": 28,
     "metadata": {},
     "output_type": "execute_result"
    }
   ],
   "source": [
    "#can define directly\n",
    "Counter({1:3,2:4})"
   ]
  },
  {
   "cell_type": "code",
   "execution_count": 39,
   "metadata": {},
   "outputs": [
    {
     "name": "stdout",
     "output_type": "stream",
     "text": [
      "[3, 3, 4, 4, 5, 5, 6, 6, 6, 6, 6, 7, 7, 7, 7, 7]\n"
     ]
    }
   ],
   "source": [
    "#elements\n",
    "#note this resorts it\n",
    "cnt=Counter([3,4,5,6,6,6,6,7,7,7,7,3,4,5,6,7])\n",
    "print(list(cnt.elements()))"
   ]
  },
  {
   "cell_type": "code",
   "execution_count": 40,
   "metadata": {},
   "outputs": [
    {
     "data": {
      "text/plain": [
       "[(6, 5), (7, 5), (3, 2), (4, 2), (5, 2)]"
      ]
     },
     "execution_count": 40,
     "metadata": {},
     "output_type": "execute_result"
    }
   ],
   "source": [
    "#akin to before but in order\n",
    "#Counter({3: 2, 4: 2, 5: 2, 6: 5, 7: 5})\n",
    "cnt.most_common()"
   ]
  },
  {
   "cell_type": "code",
   "execution_count": 41,
   "metadata": {},
   "outputs": [
    {
     "name": "stdout",
     "output_type": "stream",
     "text": [
      "Counter({6: 4, 7: 4, 3: 1, 4: 1, 5: 1})\n"
     ]
    }
   ],
   "source": [
    "#subtract a 3, 4, 5, 6 and 7 from countings\n",
    "deduct=Counter([3,4,5,6,7])\n",
    "cnt.subtract(deduct)\n",
    "print (cnt)"
   ]
  },
  {
   "cell_type": "code",
   "execution_count": 42,
   "metadata": {},
   "outputs": [],
   "source": [
    "from collections import defaultdict"
   ]
  },
  {
   "cell_type": "code",
   "execution_count": 92,
   "metadata": {},
   "outputs": [],
   "source": [
    "#have to specify data type\n",
    "nums=defaultdict(int)"
   ]
  },
  {
   "cell_type": "code",
   "execution_count": 93,
   "metadata": {},
   "outputs": [
    {
     "data": {
      "text/plain": [
       "defaultdict(int, {'one': 1, 'two': 2, 'three': 3})"
      ]
     },
     "execution_count": 93,
     "metadata": {},
     "output_type": "execute_result"
    }
   ],
   "source": [
    "##remember, you use = and not :\n",
    "nums['one'] = 1\n",
    "nums['two'] = 2\n",
    "nums['three'] = 3\n",
    "nums"
   ]
  },
  {
   "cell_type": "markdown",
   "metadata": {},
   "source": [
    "nums['two']"
   ]
  },
  {
   "cell_type": "code",
   "execution_count": 95,
   "metadata": {},
   "outputs": [
    {
     "data": {
      "text/plain": [
       "0"
      ]
     },
     "execution_count": 95,
     "metadata": {},
     "output_type": "execute_result"
    }
   ],
   "source": [
    "#no error\n",
    "nums['four']"
   ]
  },
  {
   "cell_type": "code",
   "execution_count": 96,
   "metadata": {},
   "outputs": [
    {
     "name": "stdout",
     "output_type": "stream",
     "text": [
      "one\n",
      "1\n",
      "two\n",
      "2\n",
      "three\n",
      "3\n",
      "four\n",
      "0\n"
     ]
    }
   ],
   "source": [
    "for a,b in nums.items():\n",
    "    print(a)\n",
    "    print(b)"
   ]
  },
  {
   "cell_type": "code",
   "execution_count": 79,
   "metadata": {},
   "outputs": [
    {
     "name": "stdout",
     "output_type": "stream",
     "text": [
      "defaultdict(<class 'int'>, {'Mike': 5, 'John': 3, 'Anna': 2, 'Britney': 1, 'Smith': 2})\n"
     ]
    }
   ],
   "source": [
    "#can count as before into a default dict\n",
    "count = defaultdict(int)\n",
    "names_list = \"Mike John Mike Anna Mike John John Mike Mike Britney Smith Anna Smith\".split()\n",
    "for names in names_list:\n",
    "    count[names] +=1\n",
    "print(count)"
   ]
  },
  {
   "cell_type": "code",
   "execution_count": 80,
   "metadata": {},
   "outputs": [
    {
     "data": {
      "text/plain": [
       "0"
      ]
     },
     "execution_count": 80,
     "metadata": {},
     "output_type": "execute_result"
    }
   ],
   "source": [
    "#no error\n",
    "count['Mary']"
   ]
  },
  {
   "cell_type": "code",
   "execution_count": 83,
   "metadata": {},
   "outputs": [],
   "source": [
    "from collections import OrderedDict"
   ]
  },
  {
   "cell_type": "code",
   "execution_count": 106,
   "metadata": {},
   "outputs": [
    {
     "data": {
      "text/plain": [
       "OrderedDict([('one', 1), ('two', 2), ('three', 3)])"
      ]
     },
     "execution_count": 106,
     "metadata": {},
     "output_type": "execute_result"
    }
   ],
   "source": [
    "od=OrderedDict()\n",
    "od['one'] = 1\n",
    "od['two'] = 2\n",
    "od['three'] = 3\n",
    "od"
   ]
  },
  {
   "cell_type": "code",
   "execution_count": 98,
   "metadata": {},
   "outputs": [
    {
     "name": "stdout",
     "output_type": "stream",
     "text": [
      "one 1\n",
      "two 2\n",
      "three 3\n"
     ]
    }
   ],
   "source": [
    "#can access through a loop an tuple unpacking\n",
    "for a,b in od.items():\n",
    "    print(a,b)"
   ]
  },
  {
   "cell_type": "code",
   "execution_count": 107,
   "metadata": {},
   "outputs": [
    {
     "data": {
      "text/plain": [
       "OrderedDict([('one', 1), ('two', 2), ('three', 3), ('two.2', 2)])"
      ]
     },
     "execution_count": 107,
     "metadata": {},
     "output_type": "execute_result"
    }
   ],
   "source": [
    "#keeps order\n",
    "od['two.2']=od['two']\n",
    "od"
   ]
  },
  {
   "cell_type": "code",
   "execution_count": 108,
   "metadata": {},
   "outputs": [
    {
     "name": "stdout",
     "output_type": "stream",
     "text": [
      "a 4\n",
      "c 3\n",
      "b 2\n"
     ]
    }
   ],
   "source": [
    "#combining with counter\n",
    "list = [\"a\",\"c\",\"c\",\"a\",\"b\",\"a\",\"a\",\"b\",\"c\"]\n",
    "cnt = Counter(list)\n",
    "od = OrderedDict(cnt.most_common())\n",
    "for key, value in od.items():\n",
    "    print(key, value)"
   ]
  },
  {
   "cell_type": "code",
   "execution_count": 112,
   "metadata": {},
   "outputs": [],
   "source": [
    "from collections import deque"
   ]
  },
  {
   "cell_type": "code",
   "execution_count": 116,
   "metadata": {},
   "outputs": [],
   "source": [
    "deq=deque([3,4,5,6,6,6,6,7,7,7,7,3,4,5,6,7])"
   ]
  },
  {
   "cell_type": "code",
   "execution_count": 114,
   "metadata": {},
   "outputs": [
    {
     "data": {
      "text/plain": [
       "deque([3, 4, 5, 6, 6, 6, 6, 7, 7, 7, 7, 3, 4, 5, 6, 7])"
      ]
     },
     "execution_count": 114,
     "metadata": {},
     "output_type": "execute_result"
    }
   ],
   "source": [
    "deq"
   ]
  },
  {
   "cell_type": "code",
   "execution_count": 117,
   "metadata": {},
   "outputs": [],
   "source": [
    "#append and appendleft\n",
    "deq.append(21)\n",
    "deq.appendleft(1.5)"
   ]
  },
  {
   "cell_type": "code",
   "execution_count": 118,
   "metadata": {},
   "outputs": [
    {
     "data": {
      "text/plain": [
       "deque([1.5, 3, 4, 5, 6, 6, 6, 6, 7, 7, 7, 7, 3, 4, 5, 6, 7, 21])"
      ]
     },
     "execution_count": 118,
     "metadata": {},
     "output_type": "execute_result"
    }
   ],
   "source": [
    "deq"
   ]
  },
  {
   "cell_type": "code",
   "execution_count": 119,
   "metadata": {},
   "outputs": [
    {
     "data": {
      "text/plain": [
       "21"
      ]
     },
     "execution_count": 119,
     "metadata": {},
     "output_type": "execute_result"
    }
   ],
   "source": [
    "deq.pop()"
   ]
  },
  {
   "cell_type": "code",
   "execution_count": 120,
   "metadata": {},
   "outputs": [
    {
     "data": {
      "text/plain": [
       "1.5"
      ]
     },
     "execution_count": 120,
     "metadata": {},
     "output_type": "execute_result"
    }
   ],
   "source": [
    "deq.popleft()"
   ]
  },
  {
   "cell_type": "code",
   "execution_count": 121,
   "metadata": {},
   "outputs": [],
   "source": [
    "deq.clear()"
   ]
  },
  {
   "cell_type": "code",
   "execution_count": 122,
   "metadata": {},
   "outputs": [
    {
     "data": {
      "text/plain": [
       "deque([])"
      ]
     },
     "execution_count": 122,
     "metadata": {},
     "output_type": "execute_result"
    }
   ],
   "source": [
    "deq"
   ]
  },
  {
   "cell_type": "code",
   "execution_count": 123,
   "metadata": {},
   "outputs": [
    {
     "data": {
      "text/plain": [
       "5"
      ]
     },
     "execution_count": 123,
     "metadata": {},
     "output_type": "execute_result"
    }
   ],
   "source": [
    "deq=deque([3,4,5,6,6,6,6,7,7,7,7,3,4,5,6,7])\n",
    "deq.count(6)"
   ]
  },
  {
   "cell_type": "code",
   "execution_count": 125,
   "metadata": {},
   "outputs": [],
   "source": [
    "from collections import ChainMap"
   ]
  },
  {
   "cell_type": "code",
   "execution_count": 135,
   "metadata": {},
   "outputs": [
    {
     "data": {
      "text/plain": [
       "ChainMap({'a': 1, 'b': 2}, {'c': 3, 'b': 4})"
      ]
     },
     "execution_count": 135,
     "metadata": {},
     "output_type": "execute_result"
    }
   ],
   "source": [
    "dict1 = { 'a' : 1, 'b' : 2 }\n",
    "dict2 = { 'c' : 3, 'b' : 4 }\n",
    "chain_map = ChainMap(dict1, dict2)\n",
    "chain_map"
   ]
  },
  {
   "cell_type": "code",
   "execution_count": 143,
   "metadata": {},
   "outputs": [
    {
     "data": {
      "text/plain": [
       "[{'a': 1, 'b': 2}, {'c': 3, 'b': 4}]"
      ]
     },
     "execution_count": 143,
     "metadata": {},
     "output_type": "execute_result"
    }
   ],
   "source": [
    "#to return without ChainMap({ etc.. use .maps\n",
    "chain_map.maps"
   ]
  },
  {
   "cell_type": "code",
   "execution_count": 144,
   "metadata": {},
   "outputs": [
    {
     "data": {
      "text/plain": [
       "2"
      ]
     },
     "execution_count": 144,
     "metadata": {},
     "output_type": "execute_result"
    }
   ],
   "source": [
    "#returns b=2 and not b=4\n",
    "chain_map['b']"
   ]
  },
  {
   "cell_type": "code",
   "execution_count": 146,
   "metadata": {},
   "outputs": [],
   "source": [
    "from collections import namedtuple"
   ]
  },
  {
   "cell_type": "code",
   "execution_count": 154,
   "metadata": {},
   "outputs": [
    {
     "name": "stdout",
     "output_type": "stream",
     "text": [
      "John\n",
      "Clarke\n",
      "13\n"
     ]
    }
   ],
   "source": [
    "Student = namedtuple('Student', 'fname, lname, age')\n",
    "#this makes a namedtuple called Student, with inputs fname, lname, and age\n",
    "s1 = Student('John', 'Clarke', '13')\n",
    "#this makes a student of the student tuple, called john clarke who is 13\n",
    "print(s1.fname)\n",
    "print(s1.lname)\n",
    "print(s1.age)"
   ]
  },
  {
   "cell_type": "code",
   "execution_count": 157,
   "metadata": {},
   "outputs": [],
   "source": [
    "#using a list using ._make()\n",
    "mylist= ['brian','smith','27']\n",
    "s2=Student._make(mylist)"
   ]
  },
  {
   "cell_type": "code",
   "execution_count": 163,
   "metadata": {},
   "outputs": [
    {
     "data": {
      "text/plain": [
       "Student(fname='John', lname='Clarke', age='13')"
      ]
     },
     "execution_count": 163,
     "metadata": {},
     "output_type": "execute_result"
    }
   ],
   "source": [
    "s1"
   ]
  },
  {
   "cell_type": "code",
   "execution_count": 164,
   "metadata": {},
   "outputs": [
    {
     "data": {
      "text/plain": [
       "{'fname': 'John', 'lname': 'Clarke', 'age': '13'}"
      ]
     },
     "execution_count": 164,
     "metadata": {},
     "output_type": "execute_result"
    }
   ],
   "source": [
    "s2=s1._asdict()\n",
    "s2"
   ]
  },
  {
   "cell_type": "code",
   "execution_count": 166,
   "metadata": {},
   "outputs": [
    {
     "data": {
      "text/plain": [
       "Student(fname='John', lname='Clarke', age='14')"
      ]
     },
     "execution_count": 166,
     "metadata": {},
     "output_type": "execute_result"
    }
   ],
   "source": [
    "s2 = s1._replace(age='14')\n",
    "s2"
   ]
  },
  {
   "cell_type": "code",
   "execution_count": null,
   "metadata": {},
   "outputs": [],
   "source": [
    "*************#DATETIME"
   ]
  },
  {
   "cell_type": "code",
   "execution_count": 167,
   "metadata": {},
   "outputs": [],
   "source": [
    "from datetime import time,date,datetime"
   ]
  },
  {
   "cell_type": "code",
   "execution_count": 172,
   "metadata": {},
   "outputs": [
    {
     "data": {
      "text/plain": [
       "datetime.date(1991, 8, 28)"
      ]
     },
     "execution_count": 172,
     "metadata": {},
     "output_type": "execute_result"
    }
   ],
   "source": [
    "date(year=1991, month=8, day=28)"
   ]
  },
  {
   "cell_type": "code",
   "execution_count": 173,
   "metadata": {},
   "outputs": [
    {
     "data": {
      "text/plain": [
       "datetime.time(2, 14, 31)"
      ]
     },
     "execution_count": 173,
     "metadata": {},
     "output_type": "execute_result"
    }
   ],
   "source": [
    "time(hour=2, minute=14, second=31)"
   ]
  },
  {
   "cell_type": "code",
   "execution_count": 174,
   "metadata": {},
   "outputs": [
    {
     "data": {
      "text/plain": [
       "datetime.datetime(1991, 8, 28, 2, 14, 31)"
      ]
     },
     "execution_count": 174,
     "metadata": {},
     "output_type": "execute_result"
    }
   ],
   "source": [
    "datetime(year=1991, month=8, day=28, hour=2, minute=14, second=31)"
   ]
  },
  {
   "cell_type": "code",
   "execution_count": 200,
   "metadata": {},
   "outputs": [
    {
     "data": {
      "text/plain": [
       "datetime.date(2021, 4, 15)"
      ]
     },
     "execution_count": 200,
     "metadata": {},
     "output_type": "execute_result"
    }
   ],
   "source": [
    "x=date.today()\n",
    "x"
   ]
  },
  {
   "cell_type": "code",
   "execution_count": 192,
   "metadata": {},
   "outputs": [
    {
     "name": "stdout",
     "output_type": "stream",
     "text": [
      "15\n",
      "4\n",
      "2021\n"
     ]
    }
   ],
   "source": [
    "print(x.day)\n",
    "print(x.month)\n",
    "print(x.year)"
   ]
  },
  {
   "cell_type": "code",
   "execution_count": 193,
   "metadata": {},
   "outputs": [
    {
     "data": {
      "text/plain": [
       "datetime.datetime(2021, 4, 15, 13, 4, 40, 465022)"
      ]
     },
     "execution_count": 193,
     "metadata": {},
     "output_type": "execute_result"
    }
   ],
   "source": [
    "y=datetime.now()\n",
    "y"
   ]
  },
  {
   "cell_type": "code",
   "execution_count": 195,
   "metadata": {},
   "outputs": [
    {
     "name": "stdout",
     "output_type": "stream",
     "text": [
      "15\n",
      "4\n",
      "2021\n",
      "13\n",
      "4\n",
      "40\n"
     ]
    }
   ],
   "source": [
    "print(y.day)\n",
    "print(y.month)\n",
    "print(y.year)\n",
    "print(y.hour)\n",
    "print(y.minute)\n",
    "print(y.second)"
   ]
  },
  {
   "cell_type": "code",
   "execution_count": 202,
   "metadata": {},
   "outputs": [
    {
     "data": {
      "text/plain": [
       "datetime.time(13, 7, 25)"
      ]
     },
     "execution_count": 202,
     "metadata": {},
     "output_type": "execute_result"
    }
   ],
   "source": [
    "now= datetime.now()\n",
    "currenttime=time(now.hour,now.minute,now.second)\n",
    "currenttime"
   ]
  },
  {
   "cell_type": "code",
   "execution_count": 203,
   "metadata": {},
   "outputs": [
    {
     "data": {
      "text/plain": [
       "datetime.datetime(2021, 4, 15, 13, 7, 25)"
      ]
     },
     "execution_count": 203,
     "metadata": {},
     "output_type": "execute_result"
    }
   ],
   "source": [
    "datetime.combine(x,currenttime)"
   ]
  },
  {
   "cell_type": "code",
   "execution_count": 205,
   "metadata": {},
   "outputs": [
    {
     "data": {
      "text/plain": [
       "datetime.date(1991, 8, 28)"
      ]
     },
     "execution_count": 205,
     "metadata": {},
     "output_type": "execute_result"
    }
   ],
   "source": [
    "string= '1991-08-28'\n",
    "date.fromisoformat(string)"
   ]
  },
  {
   "cell_type": "code",
   "execution_count": 206,
   "metadata": {},
   "outputs": [],
   "source": [
    "date_string = \"08-28-1991 14:45:37\"\n",
    "format_string = \"%m-%d-%Y %H:%M:%S\""
   ]
  },
  {
   "cell_type": "code",
   "execution_count": 207,
   "metadata": {},
   "outputs": [
    {
     "data": {
      "text/plain": [
       "datetime.datetime(1991, 8, 28, 14, 45, 37)"
      ]
     },
     "execution_count": 207,
     "metadata": {},
     "output_type": "execute_result"
    }
   ],
   "source": [
    "datetime.strptime(date_string, format_string)"
   ]
  },
  {
   "cell_type": "code",
   "execution_count": null,
   "metadata": {},
   "outputs": [],
   "source": [
    "*********#OS"
   ]
  },
  {
   "cell_type": "code",
   "execution_count": 209,
   "metadata": {},
   "outputs": [],
   "source": [
    "import os"
   ]
  },
  {
   "cell_type": "code",
   "execution_count": 211,
   "metadata": {},
   "outputs": [
    {
     "data": {
      "text/plain": [
       "'C:\\\\Users\\\\garyp\\\\Desktop\\\\Python'"
      ]
     },
     "execution_count": 211,
     "metadata": {},
     "output_type": "execute_result"
    }
   ],
   "source": [
    "os.getcwd()"
   ]
  },
  {
   "cell_type": "code",
   "execution_count": 212,
   "metadata": {},
   "outputs": [],
   "source": [
    "#if you dont give a full file path it iwll just make it where you are\n",
    "os.mkdir(\"MYNEWDIRECTORY\")"
   ]
  },
  {
   "cell_type": "code",
   "execution_count": 216,
   "metadata": {},
   "outputs": [
    {
     "data": {
      "text/plain": [
       "'C:\\\\Users\\\\garyp\\\\Desktop'"
      ]
     },
     "execution_count": 216,
     "metadata": {},
     "output_type": "execute_result"
    }
   ],
   "source": [
    "os.chdir(\"C://Users//garyp//Desktop\")\n",
    "os.getcwd()"
   ]
  },
  {
   "cell_type": "code",
   "execution_count": 220,
   "metadata": {},
   "outputs": [
    {
     "data": {
      "text/plain": [
       "['.ipynb',\n",
       " '.ipynb_checkpoints',\n",
       " 'All Coding Puzzles.xlsx',\n",
       " 'Bankroll.ipynb',\n",
       " 'builtin.ipynb',\n",
       " 'Codilityjupyter.ipynb',\n",
       " 'Complete-Python-3-Bootcamp-master',\n",
       " 'Complete-Python-My-Work',\n",
       " 'Data_02.csv',\n",
       " 'Data_03.xlsx',\n",
       " 'example_01.xlsx',\n",
       " 'Fideres.ipynb',\n",
       " 'garymerge.xlsx',\n",
       " 'greenspark.ipynb',\n",
       " 'HeadsupPoker.ipynb',\n",
       " 'HeightWeight.xlsx',\n",
       " 'hello.xlsx',\n",
       " 'Housing.xlsx',\n",
       " 'Leetcode Interview Questions.xlsx',\n",
       " 'MachineLearning.ipynb',\n",
       " 'Matplotlib',\n",
       " 'mycals.csv',\n",
       " 'myfile.txt',\n",
       " 'MYNEWDIRECTORY',\n",
       " 'MyStocks.ipynb',\n",
       " 'my_picture.png',\n",
       " 'numpyyy.ipynb',\n",
       " 'Optimisation.ipynb',\n",
       " 'Pandas All.ipynb',\n",
       " 'path_to_file.xlsx',\n",
       " 'Pics',\n",
       " 'Poker.ipynb',\n",
       " 'Poker.xlsx',\n",
       " 'Pokerdaycsv.csv',\n",
       " 'PPTask.ipynb',\n",
       " 'Python Finance - Shortcut.lnk',\n",
       " 'Python Hackerrank.xlsx',\n",
       " 'Python Interview Q and A.docx',\n",
       " 'Python Notes - Shortcut.lnk',\n",
       " 'Python Notes.txt',\n",
       " 'Python Packages',\n",
       " 'Python-for-Finance-Repo-master',\n",
       " 'Regression.ipynb',\n",
       " 'Regressiondata.xlsx',\n",
       " 'Stock Files',\n",
       " 'Stockdataanalysis.ipynb',\n",
       " 'Sublime',\n",
       " 'Untitled.ipynb',\n",
       " 'Untitled1.ipynb',\n",
       " 'Untitled2.ipynb',\n",
       " 'Untitled3.ipynb',\n",
       " 'Untitled4.ipynb',\n",
       " 'Untitled5.ipynb',\n",
       " '“hello_world_binder.ipynb”.ipynb']"
      ]
     },
     "execution_count": 220,
     "metadata": {},
     "output_type": "execute_result"
    }
   ],
   "source": [
    "#we can see mynewdirectory was added\n",
    "os.chdir(\"C:\\\\Users\\\\garyp\\\\Desktop\\\\Python\")\n",
    "os.listdir()"
   ]
  },
  {
   "cell_type": "code",
   "execution_count": 221,
   "metadata": {},
   "outputs": [],
   "source": [
    "#remove it\n",
    "os.rmdir(\"C:\\\\Users\\\\garyp\\\\Desktop\\\\Python\\\\MYNEWDIRECTORY\")"
   ]
  },
  {
   "cell_type": "code",
   "execution_count": 222,
   "metadata": {},
   "outputs": [
    {
     "data": {
      "text/plain": [
       "['.ipynb',\n",
       " '.ipynb_checkpoints',\n",
       " 'All Coding Puzzles.xlsx',\n",
       " 'Bankroll.ipynb',\n",
       " 'builtin.ipynb',\n",
       " 'Codilityjupyter.ipynb',\n",
       " 'Complete-Python-3-Bootcamp-master',\n",
       " 'Complete-Python-My-Work',\n",
       " 'Data_02.csv',\n",
       " 'Data_03.xlsx',\n",
       " 'example_01.xlsx',\n",
       " 'Fideres.ipynb',\n",
       " 'garymerge.xlsx',\n",
       " 'greenspark.ipynb',\n",
       " 'HeadsupPoker.ipynb',\n",
       " 'HeightWeight.xlsx',\n",
       " 'hello.xlsx',\n",
       " 'Housing.xlsx',\n",
       " 'Leetcode Interview Questions.xlsx',\n",
       " 'MachineLearning.ipynb',\n",
       " 'Matplotlib',\n",
       " 'mycals.csv',\n",
       " 'myfile.txt',\n",
       " 'MyStocks.ipynb',\n",
       " 'my_picture.png',\n",
       " 'numpyyy.ipynb',\n",
       " 'Optimisation.ipynb',\n",
       " 'Pandas All.ipynb',\n",
       " 'path_to_file.xlsx',\n",
       " 'Pics',\n",
       " 'Poker.ipynb',\n",
       " 'Poker.xlsx',\n",
       " 'Pokerdaycsv.csv',\n",
       " 'PPTask.ipynb',\n",
       " 'Python Finance - Shortcut.lnk',\n",
       " 'Python Hackerrank.xlsx',\n",
       " 'Python Interview Q and A.docx',\n",
       " 'Python Notes - Shortcut.lnk',\n",
       " 'Python Notes.txt',\n",
       " 'Python Packages',\n",
       " 'Python-for-Finance-Repo-master',\n",
       " 'Regression.ipynb',\n",
       " 'Regressiondata.xlsx',\n",
       " 'Stock Files',\n",
       " 'Stockdataanalysis.ipynb',\n",
       " 'Sublime',\n",
       " 'Untitled.ipynb',\n",
       " 'Untitled1.ipynb',\n",
       " 'Untitled2.ipynb',\n",
       " 'Untitled3.ipynb',\n",
       " 'Untitled4.ipynb',\n",
       " 'Untitled5.ipynb',\n",
       " '“hello_world_binder.ipynb”.ipynb']"
      ]
     },
     "execution_count": 222,
     "metadata": {},
     "output_type": "execute_result"
    }
   ],
   "source": [
    "#its gone\n",
    "os.listdir()"
   ]
  },
  {
   "cell_type": "code",
   "execution_count": null,
   "metadata": {},
   "outputs": [],
   "source": [
    "********#sys"
   ]
  },
  {
   "cell_type": "code",
   "execution_count": 225,
   "metadata": {},
   "outputs": [
    {
     "data": {
      "text/plain": [
       "'C:\\\\Users\\\\garyp\\\\anaconda3\\\\lib\\\\site-packages\\\\ipykernel_launcher.py'"
      ]
     },
     "execution_count": 225,
     "metadata": {},
     "output_type": "execute_result"
    }
   ],
   "source": [
    "import sys\n",
    "sys.argv[0]"
   ]
  },
  {
   "cell_type": "code",
   "execution_count": 226,
   "metadata": {},
   "outputs": [
    {
     "data": {
      "text/plain": [
       "'-f'"
      ]
     },
     "execution_count": 226,
     "metadata": {},
     "output_type": "execute_result"
    }
   ],
   "source": [
    "sys.argv[1]"
   ]
  },
  {
   "cell_type": "code",
   "execution_count": 227,
   "metadata": {},
   "outputs": [
    {
     "data": {
      "text/plain": [
       "'C:\\\\Users\\\\garyp\\\\AppData\\\\Roaming\\\\jupyter\\\\runtime\\\\kernel-3db3678b-8017-4801-b870-1cc4a9fdbc35.json'"
      ]
     },
     "execution_count": 227,
     "metadata": {},
     "output_type": "execute_result"
    }
   ],
   "source": [
    "sys.argv[2]"
   ]
  },
  {
   "cell_type": "code",
   "execution_count": 229,
   "metadata": {},
   "outputs": [
    {
     "data": {
      "text/plain": [
       "9223372036854775807"
      ]
     },
     "execution_count": 229,
     "metadata": {},
     "output_type": "execute_result"
    }
   ],
   "source": [
    "sys.maxsize"
   ]
  },
  {
   "cell_type": "code",
   "execution_count": 230,
   "metadata": {},
   "outputs": [
    {
     "data": {
      "text/plain": [
       "['C:\\\\Users\\\\garyp\\\\Desktop\\\\Python',\n",
       " 'C:\\\\Users\\\\garyp\\\\anaconda3\\\\python38.zip',\n",
       " 'C:\\\\Users\\\\garyp\\\\anaconda3\\\\DLLs',\n",
       " 'C:\\\\Users\\\\garyp\\\\anaconda3\\\\lib',\n",
       " 'C:\\\\Users\\\\garyp\\\\anaconda3',\n",
       " '',\n",
       " 'C:\\\\Users\\\\garyp\\\\anaconda3\\\\lib\\\\site-packages',\n",
       " 'C:\\\\Users\\\\garyp\\\\anaconda3\\\\lib\\\\site-packages\\\\win32',\n",
       " 'C:\\\\Users\\\\garyp\\\\anaconda3\\\\lib\\\\site-packages\\\\win32\\\\lib',\n",
       " 'C:\\\\Users\\\\garyp\\\\anaconda3\\\\lib\\\\site-packages\\\\Pythonwin',\n",
       " 'C:\\\\Users\\\\garyp\\\\anaconda3\\\\lib\\\\site-packages\\\\IPython\\\\extensions',\n",
       " 'C:\\\\Users\\\\garyp\\\\.ipython']"
      ]
     },
     "execution_count": 230,
     "metadata": {},
     "output_type": "execute_result"
    }
   ],
   "source": [
    "sys.path"
   ]
  },
  {
   "cell_type": "code",
   "execution_count": 231,
   "metadata": {},
   "outputs": [
    {
     "data": {
      "text/plain": [
       "'3.8.3 (default, Jul  2 2020, 17:30:36) [MSC v.1916 64 bit (AMD64)]'"
      ]
     },
     "execution_count": 231,
     "metadata": {},
     "output_type": "execute_result"
    }
   ],
   "source": [
    "sys.version"
   ]
  },
  {
   "cell_type": "code",
   "execution_count": null,
   "metadata": {},
   "outputs": [],
   "source": [
    "*******#RE"
   ]
  },
  {
   "cell_type": "code",
   "execution_count": 233,
   "metadata": {},
   "outputs": [],
   "source": [
    "import re"
   ]
  },
  {
   "cell_type": "code",
   "execution_count": 253,
   "metadata": {},
   "outputs": [],
   "source": [
    "x='Hello everyone, my name is Gary Kelleher and I am 29 years old. I love to play Poker'"
   ]
  },
  {
   "cell_type": "code",
   "execution_count": 239,
   "metadata": {},
   "outputs": [
    {
     "data": {
      "text/plain": [
       "['ell', 'ell']"
      ]
     },
     "execution_count": 239,
     "metadata": {},
     "output_type": "execute_result"
    }
   ],
   "source": [
    "#ell is present in hello and kelleher\n",
    "re.findall('ell',x)"
   ]
  },
  {
   "cell_type": "code",
   "execution_count": 242,
   "metadata": {},
   "outputs": [
    {
     "data": {
      "text/plain": [
       "<re.Match object; span=(1, 4), match='ell'>"
      ]
     },
     "execution_count": 242,
     "metadata": {},
     "output_type": "execute_result"
    }
   ],
   "source": [
    "#1 is where it is found, 4 is when it ends\n",
    "re.search('ell',x)"
   ]
  },
  {
   "cell_type": "code",
   "execution_count": 243,
   "metadata": {},
   "outputs": [
    {
     "data": {
      "text/plain": [
       "<re.Match object; span=(41, 52), match='and I am 29'>"
      ]
     },
     "execution_count": 243,
     "metadata": {},
     "output_type": "execute_result"
    }
   ],
   "source": [
    "re.search('and I am 29',x)"
   ]
  },
  {
   "cell_type": "code",
   "execution_count": 246,
   "metadata": {},
   "outputs": [
    {
     "data": {
      "text/plain": [
       "['Hello everyone, my name is G',\n",
       " 'y Kelleher and I am 29 ye',\n",
       " 's old. I love to play Poker']"
      ]
     },
     "execution_count": 246,
     "metadata": {},
     "output_type": "execute_result"
    }
   ],
   "source": [
    "re.split(\"ar\",x)"
   ]
  },
  {
   "cell_type": "code",
   "execution_count": 247,
   "metadata": {},
   "outputs": [
    {
     "data": {
      "text/plain": [
       "'Hello everyone, my name is Goly Kelleher and I am 29 yeols old. I love to play Poker'"
      ]
     },
     "execution_count": 247,
     "metadata": {},
     "output_type": "execute_result"
    }
   ],
   "source": [
    "re.sub(\"ar\",\"ol\",x)"
   ]
  },
  {
   "cell_type": "code",
   "execution_count": 250,
   "metadata": {},
   "outputs": [
    {
     "data": {
      "text/plain": [
       "<re.Match object; span=(0, 5), match='Hello'>"
      ]
     },
     "execution_count": 250,
     "metadata": {},
     "output_type": "execute_result"
    }
   ],
   "source": [
    "re.match(\"Hello\",x)"
   ]
  },
  {
   "cell_type": "code",
   "execution_count": 251,
   "metadata": {},
   "outputs": [],
   "source": [
    "#only works at start of string\n",
    "re.match(\"name\",x)"
   ]
  },
  {
   "cell_type": "code",
   "execution_count": 258,
   "metadata": {},
   "outputs": [
    {
     "data": {
      "text/plain": [
       "('Hello everyone, my name is GLOOOOOLy Kelleher and I am 29 yeLOOOOOLs old. I love to play Poker',\n",
       " 2)"
      ]
     },
     "execution_count": 258,
     "metadata": {},
     "output_type": "execute_result"
    }
   ],
   "source": [
    "#subn is a tuple\n",
    "re.subn('ar','LOOOOOL',x)"
   ]
  },
  {
   "cell_type": "code",
   "execution_count": 257,
   "metadata": {},
   "outputs": [
    {
     "data": {
      "text/plain": [
       "'Hello everyone, my name is GLOOOOOLy Kelleher and I am 29 yeLOOOOOLs old. I love to play Poker'"
      ]
     },
     "execution_count": 257,
     "metadata": {},
     "output_type": "execute_result"
    }
   ],
   "source": [
    "re.sub('ar','LOOOOOL',x)"
   ]
  },
  {
   "cell_type": "code",
   "execution_count": 259,
   "metadata": {},
   "outputs": [
    {
     "data": {
      "text/plain": [
       "tuple"
      ]
     },
     "execution_count": 259,
     "metadata": {},
     "output_type": "execute_result"
    }
   ],
   "source": [
    "type(re.subn('ar','LOOOOOL',x))"
   ]
  },
  {
   "cell_type": "code",
   "execution_count": 260,
   "metadata": {},
   "outputs": [
    {
     "data": {
      "text/plain": [
       "str"
      ]
     },
     "execution_count": 260,
     "metadata": {},
     "output_type": "execute_result"
    }
   ],
   "source": [
    "type(re.sub('ar','LOOOOOL',x))"
   ]
  },
  {
   "cell_type": "code",
   "execution_count": null,
   "metadata": {},
   "outputs": [],
   "source": []
  }
 ],
 "metadata": {
  "kernelspec": {
   "display_name": "Python 3",
   "language": "python",
   "name": "python3"
  },
  "language_info": {
   "codemirror_mode": {
    "name": "ipython",
    "version": 3
   },
   "file_extension": ".py",
   "mimetype": "text/x-python",
   "name": "python",
   "nbconvert_exporter": "python",
   "pygments_lexer": "ipython3",
   "version": "3.8.3"
  }
 },
 "nbformat": 4,
 "nbformat_minor": 4
}
